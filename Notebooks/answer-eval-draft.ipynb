{
  "nbformat": 4,
  "nbformat_minor": 0,
  "metadata": {
    "colab": {
      "provenance": [],
      "gpuType": "T4"
    },
    "kernelspec": {
      "name": "python3",
      "display_name": "Python 3"
    },
    "language_info": {
      "name": "python"
    },
    "accelerator": "GPU",
    "widgets": {
      "application/vnd.jupyter.widget-state+json": {
        "b7388989e3c74a40afc1ba745cc19fb3": {
          "model_module": "@jupyter-widgets/controls",
          "model_name": "HBoxModel",
          "model_module_version": "1.5.0",
          "state": {
            "_dom_classes": [],
            "_model_module": "@jupyter-widgets/controls",
            "_model_module_version": "1.5.0",
            "_model_name": "HBoxModel",
            "_view_count": null,
            "_view_module": "@jupyter-widgets/controls",
            "_view_module_version": "1.5.0",
            "_view_name": "HBoxView",
            "box_style": "",
            "children": [
              "IPY_MODEL_8bc480b940834f5b8bb15f1a52899724",
              "IPY_MODEL_8457373d95934f68887ebcfe3cc6a19e",
              "IPY_MODEL_ec247767c66a41d8a8d2618eb42e6d16"
            ],
            "layout": "IPY_MODEL_2ab9025a63df4b839f0554060ec42412"
          }
        },
        "8bc480b940834f5b8bb15f1a52899724": {
          "model_module": "@jupyter-widgets/controls",
          "model_name": "HTMLModel",
          "model_module_version": "1.5.0",
          "state": {
            "_dom_classes": [],
            "_model_module": "@jupyter-widgets/controls",
            "_model_module_version": "1.5.0",
            "_model_name": "HTMLModel",
            "_view_count": null,
            "_view_module": "@jupyter-widgets/controls",
            "_view_module_version": "1.5.0",
            "_view_name": "HTMLView",
            "description": "",
            "description_tooltip": null,
            "layout": "IPY_MODEL_ebf9d3b11522424098fc2de40ffe20ba",
            "placeholder": "​",
            "style": "IPY_MODEL_181aa1d6ca7c4c0f96e11c410d9a91d7",
            "value": "config.json: 100%"
          }
        },
        "8457373d95934f68887ebcfe3cc6a19e": {
          "model_module": "@jupyter-widgets/controls",
          "model_name": "FloatProgressModel",
          "model_module_version": "1.5.0",
          "state": {
            "_dom_classes": [],
            "_model_module": "@jupyter-widgets/controls",
            "_model_module_version": "1.5.0",
            "_model_name": "FloatProgressModel",
            "_view_count": null,
            "_view_module": "@jupyter-widgets/controls",
            "_view_module_version": "1.5.0",
            "_view_name": "ProgressView",
            "bar_style": "success",
            "description": "",
            "description_tooltip": null,
            "layout": "IPY_MODEL_dbb5d2a61ded43298b2c8feb9d0984ca",
            "max": 571,
            "min": 0,
            "orientation": "horizontal",
            "style": "IPY_MODEL_9217e8f3665544869e35396f62ab8908",
            "value": 571
          }
        },
        "ec247767c66a41d8a8d2618eb42e6d16": {
          "model_module": "@jupyter-widgets/controls",
          "model_name": "HTMLModel",
          "model_module_version": "1.5.0",
          "state": {
            "_dom_classes": [],
            "_model_module": "@jupyter-widgets/controls",
            "_model_module_version": "1.5.0",
            "_model_name": "HTMLModel",
            "_view_count": null,
            "_view_module": "@jupyter-widgets/controls",
            "_view_module_version": "1.5.0",
            "_view_name": "HTMLView",
            "description": "",
            "description_tooltip": null,
            "layout": "IPY_MODEL_577ae95d651e45dfbdafb93c8197e5c0",
            "placeholder": "​",
            "style": "IPY_MODEL_f2f7d61d1465491d9f97108e36684e9a",
            "value": " 571/571 [00:00&lt;00:00, 25.7kB/s]"
          }
        },
        "2ab9025a63df4b839f0554060ec42412": {
          "model_module": "@jupyter-widgets/base",
          "model_name": "LayoutModel",
          "model_module_version": "1.2.0",
          "state": {
            "_model_module": "@jupyter-widgets/base",
            "_model_module_version": "1.2.0",
            "_model_name": "LayoutModel",
            "_view_count": null,
            "_view_module": "@jupyter-widgets/base",
            "_view_module_version": "1.2.0",
            "_view_name": "LayoutView",
            "align_content": null,
            "align_items": null,
            "align_self": null,
            "border": null,
            "bottom": null,
            "display": null,
            "flex": null,
            "flex_flow": null,
            "grid_area": null,
            "grid_auto_columns": null,
            "grid_auto_flow": null,
            "grid_auto_rows": null,
            "grid_column": null,
            "grid_gap": null,
            "grid_row": null,
            "grid_template_areas": null,
            "grid_template_columns": null,
            "grid_template_rows": null,
            "height": null,
            "justify_content": null,
            "justify_items": null,
            "left": null,
            "margin": null,
            "max_height": null,
            "max_width": null,
            "min_height": null,
            "min_width": null,
            "object_fit": null,
            "object_position": null,
            "order": null,
            "overflow": null,
            "overflow_x": null,
            "overflow_y": null,
            "padding": null,
            "right": null,
            "top": null,
            "visibility": null,
            "width": null
          }
        },
        "ebf9d3b11522424098fc2de40ffe20ba": {
          "model_module": "@jupyter-widgets/base",
          "model_name": "LayoutModel",
          "model_module_version": "1.2.0",
          "state": {
            "_model_module": "@jupyter-widgets/base",
            "_model_module_version": "1.2.0",
            "_model_name": "LayoutModel",
            "_view_count": null,
            "_view_module": "@jupyter-widgets/base",
            "_view_module_version": "1.2.0",
            "_view_name": "LayoutView",
            "align_content": null,
            "align_items": null,
            "align_self": null,
            "border": null,
            "bottom": null,
            "display": null,
            "flex": null,
            "flex_flow": null,
            "grid_area": null,
            "grid_auto_columns": null,
            "grid_auto_flow": null,
            "grid_auto_rows": null,
            "grid_column": null,
            "grid_gap": null,
            "grid_row": null,
            "grid_template_areas": null,
            "grid_template_columns": null,
            "grid_template_rows": null,
            "height": null,
            "justify_content": null,
            "justify_items": null,
            "left": null,
            "margin": null,
            "max_height": null,
            "max_width": null,
            "min_height": null,
            "min_width": null,
            "object_fit": null,
            "object_position": null,
            "order": null,
            "overflow": null,
            "overflow_x": null,
            "overflow_y": null,
            "padding": null,
            "right": null,
            "top": null,
            "visibility": null,
            "width": null
          }
        },
        "181aa1d6ca7c4c0f96e11c410d9a91d7": {
          "model_module": "@jupyter-widgets/controls",
          "model_name": "DescriptionStyleModel",
          "model_module_version": "1.5.0",
          "state": {
            "_model_module": "@jupyter-widgets/controls",
            "_model_module_version": "1.5.0",
            "_model_name": "DescriptionStyleModel",
            "_view_count": null,
            "_view_module": "@jupyter-widgets/base",
            "_view_module_version": "1.2.0",
            "_view_name": "StyleView",
            "description_width": ""
          }
        },
        "dbb5d2a61ded43298b2c8feb9d0984ca": {
          "model_module": "@jupyter-widgets/base",
          "model_name": "LayoutModel",
          "model_module_version": "1.2.0",
          "state": {
            "_model_module": "@jupyter-widgets/base",
            "_model_module_version": "1.2.0",
            "_model_name": "LayoutModel",
            "_view_count": null,
            "_view_module": "@jupyter-widgets/base",
            "_view_module_version": "1.2.0",
            "_view_name": "LayoutView",
            "align_content": null,
            "align_items": null,
            "align_self": null,
            "border": null,
            "bottom": null,
            "display": null,
            "flex": null,
            "flex_flow": null,
            "grid_area": null,
            "grid_auto_columns": null,
            "grid_auto_flow": null,
            "grid_auto_rows": null,
            "grid_column": null,
            "grid_gap": null,
            "grid_row": null,
            "grid_template_areas": null,
            "grid_template_columns": null,
            "grid_template_rows": null,
            "height": null,
            "justify_content": null,
            "justify_items": null,
            "left": null,
            "margin": null,
            "max_height": null,
            "max_width": null,
            "min_height": null,
            "min_width": null,
            "object_fit": null,
            "object_position": null,
            "order": null,
            "overflow": null,
            "overflow_x": null,
            "overflow_y": null,
            "padding": null,
            "right": null,
            "top": null,
            "visibility": null,
            "width": null
          }
        },
        "9217e8f3665544869e35396f62ab8908": {
          "model_module": "@jupyter-widgets/controls",
          "model_name": "ProgressStyleModel",
          "model_module_version": "1.5.0",
          "state": {
            "_model_module": "@jupyter-widgets/controls",
            "_model_module_version": "1.5.0",
            "_model_name": "ProgressStyleModel",
            "_view_count": null,
            "_view_module": "@jupyter-widgets/base",
            "_view_module_version": "1.2.0",
            "_view_name": "StyleView",
            "bar_color": null,
            "description_width": ""
          }
        },
        "577ae95d651e45dfbdafb93c8197e5c0": {
          "model_module": "@jupyter-widgets/base",
          "model_name": "LayoutModel",
          "model_module_version": "1.2.0",
          "state": {
            "_model_module": "@jupyter-widgets/base",
            "_model_module_version": "1.2.0",
            "_model_name": "LayoutModel",
            "_view_count": null,
            "_view_module": "@jupyter-widgets/base",
            "_view_module_version": "1.2.0",
            "_view_name": "LayoutView",
            "align_content": null,
            "align_items": null,
            "align_self": null,
            "border": null,
            "bottom": null,
            "display": null,
            "flex": null,
            "flex_flow": null,
            "grid_area": null,
            "grid_auto_columns": null,
            "grid_auto_flow": null,
            "grid_auto_rows": null,
            "grid_column": null,
            "grid_gap": null,
            "grid_row": null,
            "grid_template_areas": null,
            "grid_template_columns": null,
            "grid_template_rows": null,
            "height": null,
            "justify_content": null,
            "justify_items": null,
            "left": null,
            "margin": null,
            "max_height": null,
            "max_width": null,
            "min_height": null,
            "min_width": null,
            "object_fit": null,
            "object_position": null,
            "order": null,
            "overflow": null,
            "overflow_x": null,
            "overflow_y": null,
            "padding": null,
            "right": null,
            "top": null,
            "visibility": null,
            "width": null
          }
        },
        "f2f7d61d1465491d9f97108e36684e9a": {
          "model_module": "@jupyter-widgets/controls",
          "model_name": "DescriptionStyleModel",
          "model_module_version": "1.5.0",
          "state": {
            "_model_module": "@jupyter-widgets/controls",
            "_model_module_version": "1.5.0",
            "_model_name": "DescriptionStyleModel",
            "_view_count": null,
            "_view_module": "@jupyter-widgets/base",
            "_view_module_version": "1.2.0",
            "_view_name": "StyleView",
            "description_width": ""
          }
        },
        "788070a397524ba1bd23184dac598f43": {
          "model_module": "@jupyter-widgets/controls",
          "model_name": "HBoxModel",
          "model_module_version": "1.5.0",
          "state": {
            "_dom_classes": [],
            "_model_module": "@jupyter-widgets/controls",
            "_model_module_version": "1.5.0",
            "_model_name": "HBoxModel",
            "_view_count": null,
            "_view_module": "@jupyter-widgets/controls",
            "_view_module_version": "1.5.0",
            "_view_name": "HBoxView",
            "box_style": "",
            "children": [
              "IPY_MODEL_a23eec2b52584b8785fe3d573e52c647",
              "IPY_MODEL_6a9ef8a9374b4ae58bda6a85ac0c768d",
              "IPY_MODEL_ca28eaf554454cce83cd831e08663dd7"
            ],
            "layout": "IPY_MODEL_f6f1863f740a4256a0cef7f94943f377"
          }
        },
        "a23eec2b52584b8785fe3d573e52c647": {
          "model_module": "@jupyter-widgets/controls",
          "model_name": "HTMLModel",
          "model_module_version": "1.5.0",
          "state": {
            "_dom_classes": [],
            "_model_module": "@jupyter-widgets/controls",
            "_model_module_version": "1.5.0",
            "_model_name": "HTMLModel",
            "_view_count": null,
            "_view_module": "@jupyter-widgets/controls",
            "_view_module_version": "1.5.0",
            "_view_name": "HTMLView",
            "description": "",
            "description_tooltip": null,
            "layout": "IPY_MODEL_3bb5d6b55ac2432eaa9c9b64e063f4b8",
            "placeholder": "​",
            "style": "IPY_MODEL_a85bdb5599f24f87917574098e547723",
            "value": "model.safetensors.index.json: 100%"
          }
        },
        "6a9ef8a9374b4ae58bda6a85ac0c768d": {
          "model_module": "@jupyter-widgets/controls",
          "model_name": "FloatProgressModel",
          "model_module_version": "1.5.0",
          "state": {
            "_dom_classes": [],
            "_model_module": "@jupyter-widgets/controls",
            "_model_module_version": "1.5.0",
            "_model_name": "FloatProgressModel",
            "_view_count": null,
            "_view_module": "@jupyter-widgets/controls",
            "_view_module_version": "1.5.0",
            "_view_name": "ProgressView",
            "bar_style": "success",
            "description": "",
            "description_tooltip": null,
            "layout": "IPY_MODEL_8db393f3c89e444a9c8570d5b040263c",
            "max": 25125,
            "min": 0,
            "orientation": "horizontal",
            "style": "IPY_MODEL_a04aff7831dc4de18a01ad0c0793e185",
            "value": 25125
          }
        },
        "ca28eaf554454cce83cd831e08663dd7": {
          "model_module": "@jupyter-widgets/controls",
          "model_name": "HTMLModel",
          "model_module_version": "1.5.0",
          "state": {
            "_dom_classes": [],
            "_model_module": "@jupyter-widgets/controls",
            "_model_module_version": "1.5.0",
            "_model_name": "HTMLModel",
            "_view_count": null,
            "_view_module": "@jupyter-widgets/controls",
            "_view_module_version": "1.5.0",
            "_view_name": "HTMLView",
            "description": "",
            "description_tooltip": null,
            "layout": "IPY_MODEL_1b009d7b3edb495bafd700a7d2c0080f",
            "placeholder": "​",
            "style": "IPY_MODEL_c337b8387ba14b48a5b703c85205f87c",
            "value": " 25.1k/25.1k [00:00&lt;00:00, 1.65MB/s]"
          }
        },
        "f6f1863f740a4256a0cef7f94943f377": {
          "model_module": "@jupyter-widgets/base",
          "model_name": "LayoutModel",
          "model_module_version": "1.2.0",
          "state": {
            "_model_module": "@jupyter-widgets/base",
            "_model_module_version": "1.2.0",
            "_model_name": "LayoutModel",
            "_view_count": null,
            "_view_module": "@jupyter-widgets/base",
            "_view_module_version": "1.2.0",
            "_view_name": "LayoutView",
            "align_content": null,
            "align_items": null,
            "align_self": null,
            "border": null,
            "bottom": null,
            "display": null,
            "flex": null,
            "flex_flow": null,
            "grid_area": null,
            "grid_auto_columns": null,
            "grid_auto_flow": null,
            "grid_auto_rows": null,
            "grid_column": null,
            "grid_gap": null,
            "grid_row": null,
            "grid_template_areas": null,
            "grid_template_columns": null,
            "grid_template_rows": null,
            "height": null,
            "justify_content": null,
            "justify_items": null,
            "left": null,
            "margin": null,
            "max_height": null,
            "max_width": null,
            "min_height": null,
            "min_width": null,
            "object_fit": null,
            "object_position": null,
            "order": null,
            "overflow": null,
            "overflow_x": null,
            "overflow_y": null,
            "padding": null,
            "right": null,
            "top": null,
            "visibility": null,
            "width": null
          }
        },
        "3bb5d6b55ac2432eaa9c9b64e063f4b8": {
          "model_module": "@jupyter-widgets/base",
          "model_name": "LayoutModel",
          "model_module_version": "1.2.0",
          "state": {
            "_model_module": "@jupyter-widgets/base",
            "_model_module_version": "1.2.0",
            "_model_name": "LayoutModel",
            "_view_count": null,
            "_view_module": "@jupyter-widgets/base",
            "_view_module_version": "1.2.0",
            "_view_name": "LayoutView",
            "align_content": null,
            "align_items": null,
            "align_self": null,
            "border": null,
            "bottom": null,
            "display": null,
            "flex": null,
            "flex_flow": null,
            "grid_area": null,
            "grid_auto_columns": null,
            "grid_auto_flow": null,
            "grid_auto_rows": null,
            "grid_column": null,
            "grid_gap": null,
            "grid_row": null,
            "grid_template_areas": null,
            "grid_template_columns": null,
            "grid_template_rows": null,
            "height": null,
            "justify_content": null,
            "justify_items": null,
            "left": null,
            "margin": null,
            "max_height": null,
            "max_width": null,
            "min_height": null,
            "min_width": null,
            "object_fit": null,
            "object_position": null,
            "order": null,
            "overflow": null,
            "overflow_x": null,
            "overflow_y": null,
            "padding": null,
            "right": null,
            "top": null,
            "visibility": null,
            "width": null
          }
        },
        "a85bdb5599f24f87917574098e547723": {
          "model_module": "@jupyter-widgets/controls",
          "model_name": "DescriptionStyleModel",
          "model_module_version": "1.5.0",
          "state": {
            "_model_module": "@jupyter-widgets/controls",
            "_model_module_version": "1.5.0",
            "_model_name": "DescriptionStyleModel",
            "_view_count": null,
            "_view_module": "@jupyter-widgets/base",
            "_view_module_version": "1.2.0",
            "_view_name": "StyleView",
            "description_width": ""
          }
        },
        "8db393f3c89e444a9c8570d5b040263c": {
          "model_module": "@jupyter-widgets/base",
          "model_name": "LayoutModel",
          "model_module_version": "1.2.0",
          "state": {
            "_model_module": "@jupyter-widgets/base",
            "_model_module_version": "1.2.0",
            "_model_name": "LayoutModel",
            "_view_count": null,
            "_view_module": "@jupyter-widgets/base",
            "_view_module_version": "1.2.0",
            "_view_name": "LayoutView",
            "align_content": null,
            "align_items": null,
            "align_self": null,
            "border": null,
            "bottom": null,
            "display": null,
            "flex": null,
            "flex_flow": null,
            "grid_area": null,
            "grid_auto_columns": null,
            "grid_auto_flow": null,
            "grid_auto_rows": null,
            "grid_column": null,
            "grid_gap": null,
            "grid_row": null,
            "grid_template_areas": null,
            "grid_template_columns": null,
            "grid_template_rows": null,
            "height": null,
            "justify_content": null,
            "justify_items": null,
            "left": null,
            "margin": null,
            "max_height": null,
            "max_width": null,
            "min_height": null,
            "min_width": null,
            "object_fit": null,
            "object_position": null,
            "order": null,
            "overflow": null,
            "overflow_x": null,
            "overflow_y": null,
            "padding": null,
            "right": null,
            "top": null,
            "visibility": null,
            "width": null
          }
        },
        "a04aff7831dc4de18a01ad0c0793e185": {
          "model_module": "@jupyter-widgets/controls",
          "model_name": "ProgressStyleModel",
          "model_module_version": "1.5.0",
          "state": {
            "_model_module": "@jupyter-widgets/controls",
            "_model_module_version": "1.5.0",
            "_model_name": "ProgressStyleModel",
            "_view_count": null,
            "_view_module": "@jupyter-widgets/base",
            "_view_module_version": "1.2.0",
            "_view_name": "StyleView",
            "bar_color": null,
            "description_width": ""
          }
        },
        "1b009d7b3edb495bafd700a7d2c0080f": {
          "model_module": "@jupyter-widgets/base",
          "model_name": "LayoutModel",
          "model_module_version": "1.2.0",
          "state": {
            "_model_module": "@jupyter-widgets/base",
            "_model_module_version": "1.2.0",
            "_model_name": "LayoutModel",
            "_view_count": null,
            "_view_module": "@jupyter-widgets/base",
            "_view_module_version": "1.2.0",
            "_view_name": "LayoutView",
            "align_content": null,
            "align_items": null,
            "align_self": null,
            "border": null,
            "bottom": null,
            "display": null,
            "flex": null,
            "flex_flow": null,
            "grid_area": null,
            "grid_auto_columns": null,
            "grid_auto_flow": null,
            "grid_auto_rows": null,
            "grid_column": null,
            "grid_gap": null,
            "grid_row": null,
            "grid_template_areas": null,
            "grid_template_columns": null,
            "grid_template_rows": null,
            "height": null,
            "justify_content": null,
            "justify_items": null,
            "left": null,
            "margin": null,
            "max_height": null,
            "max_width": null,
            "min_height": null,
            "min_width": null,
            "object_fit": null,
            "object_position": null,
            "order": null,
            "overflow": null,
            "overflow_x": null,
            "overflow_y": null,
            "padding": null,
            "right": null,
            "top": null,
            "visibility": null,
            "width": null
          }
        },
        "c337b8387ba14b48a5b703c85205f87c": {
          "model_module": "@jupyter-widgets/controls",
          "model_name": "DescriptionStyleModel",
          "model_module_version": "1.5.0",
          "state": {
            "_model_module": "@jupyter-widgets/controls",
            "_model_module_version": "1.5.0",
            "_model_name": "DescriptionStyleModel",
            "_view_count": null,
            "_view_module": "@jupyter-widgets/base",
            "_view_module_version": "1.2.0",
            "_view_name": "StyleView",
            "description_width": ""
          }
        },
        "4493f82b5c124c889d764670b70c972c": {
          "model_module": "@jupyter-widgets/controls",
          "model_name": "HBoxModel",
          "model_module_version": "1.5.0",
          "state": {
            "_dom_classes": [],
            "_model_module": "@jupyter-widgets/controls",
            "_model_module_version": "1.5.0",
            "_model_name": "HBoxModel",
            "_view_count": null,
            "_view_module": "@jupyter-widgets/controls",
            "_view_module_version": "1.5.0",
            "_view_name": "HBoxView",
            "box_style": "",
            "children": [
              "IPY_MODEL_a34365e8e1da448cb56f00e01ed6de96",
              "IPY_MODEL_2f2c42616ba249aebd9b70fbee3329c6",
              "IPY_MODEL_33f4ddecea8c453098a665b7b54a7d95"
            ],
            "layout": "IPY_MODEL_e6bb78eee6d64e118b3a739e413f00c8"
          }
        },
        "a34365e8e1da448cb56f00e01ed6de96": {
          "model_module": "@jupyter-widgets/controls",
          "model_name": "HTMLModel",
          "model_module_version": "1.5.0",
          "state": {
            "_dom_classes": [],
            "_model_module": "@jupyter-widgets/controls",
            "_model_module_version": "1.5.0",
            "_model_name": "HTMLModel",
            "_view_count": null,
            "_view_module": "@jupyter-widgets/controls",
            "_view_module_version": "1.5.0",
            "_view_name": "HTMLView",
            "description": "",
            "description_tooltip": null,
            "layout": "IPY_MODEL_be98811d483d496bbc8ab20112605716",
            "placeholder": "​",
            "style": "IPY_MODEL_d2143d856e6d4072a0f77373faa71911",
            "value": "Downloading shards: 100%"
          }
        },
        "2f2c42616ba249aebd9b70fbee3329c6": {
          "model_module": "@jupyter-widgets/controls",
          "model_name": "FloatProgressModel",
          "model_module_version": "1.5.0",
          "state": {
            "_dom_classes": [],
            "_model_module": "@jupyter-widgets/controls",
            "_model_module_version": "1.5.0",
            "_model_name": "FloatProgressModel",
            "_view_count": null,
            "_view_module": "@jupyter-widgets/controls",
            "_view_module_version": "1.5.0",
            "_view_name": "ProgressView",
            "bar_style": "success",
            "description": "",
            "description_tooltip": null,
            "layout": "IPY_MODEL_b9e1799f1d52464188596d37ffe7bef0",
            "max": 2,
            "min": 0,
            "orientation": "horizontal",
            "style": "IPY_MODEL_1b6c531384664afabb193b4b42ac84e6",
            "value": 2
          }
        },
        "33f4ddecea8c453098a665b7b54a7d95": {
          "model_module": "@jupyter-widgets/controls",
          "model_name": "HTMLModel",
          "model_module_version": "1.5.0",
          "state": {
            "_dom_classes": [],
            "_model_module": "@jupyter-widgets/controls",
            "_model_module_version": "1.5.0",
            "_model_name": "HTMLModel",
            "_view_count": null,
            "_view_module": "@jupyter-widgets/controls",
            "_view_module_version": "1.5.0",
            "_view_name": "HTMLView",
            "description": "",
            "description_tooltip": null,
            "layout": "IPY_MODEL_e0334ccdb2554255b7cbc8b240091967",
            "placeholder": "​",
            "style": "IPY_MODEL_374b138eac5542b48837f71691cde685",
            "value": " 2/2 [02:06&lt;00:00, 58.45s/it]"
          }
        },
        "e6bb78eee6d64e118b3a739e413f00c8": {
          "model_module": "@jupyter-widgets/base",
          "model_name": "LayoutModel",
          "model_module_version": "1.2.0",
          "state": {
            "_model_module": "@jupyter-widgets/base",
            "_model_module_version": "1.2.0",
            "_model_name": "LayoutModel",
            "_view_count": null,
            "_view_module": "@jupyter-widgets/base",
            "_view_module_version": "1.2.0",
            "_view_name": "LayoutView",
            "align_content": null,
            "align_items": null,
            "align_self": null,
            "border": null,
            "bottom": null,
            "display": null,
            "flex": null,
            "flex_flow": null,
            "grid_area": null,
            "grid_auto_columns": null,
            "grid_auto_flow": null,
            "grid_auto_rows": null,
            "grid_column": null,
            "grid_gap": null,
            "grid_row": null,
            "grid_template_areas": null,
            "grid_template_columns": null,
            "grid_template_rows": null,
            "height": null,
            "justify_content": null,
            "justify_items": null,
            "left": null,
            "margin": null,
            "max_height": null,
            "max_width": null,
            "min_height": null,
            "min_width": null,
            "object_fit": null,
            "object_position": null,
            "order": null,
            "overflow": null,
            "overflow_x": null,
            "overflow_y": null,
            "padding": null,
            "right": null,
            "top": null,
            "visibility": null,
            "width": null
          }
        },
        "be98811d483d496bbc8ab20112605716": {
          "model_module": "@jupyter-widgets/base",
          "model_name": "LayoutModel",
          "model_module_version": "1.2.0",
          "state": {
            "_model_module": "@jupyter-widgets/base",
            "_model_module_version": "1.2.0",
            "_model_name": "LayoutModel",
            "_view_count": null,
            "_view_module": "@jupyter-widgets/base",
            "_view_module_version": "1.2.0",
            "_view_name": "LayoutView",
            "align_content": null,
            "align_items": null,
            "align_self": null,
            "border": null,
            "bottom": null,
            "display": null,
            "flex": null,
            "flex_flow": null,
            "grid_area": null,
            "grid_auto_columns": null,
            "grid_auto_flow": null,
            "grid_auto_rows": null,
            "grid_column": null,
            "grid_gap": null,
            "grid_row": null,
            "grid_template_areas": null,
            "grid_template_columns": null,
            "grid_template_rows": null,
            "height": null,
            "justify_content": null,
            "justify_items": null,
            "left": null,
            "margin": null,
            "max_height": null,
            "max_width": null,
            "min_height": null,
            "min_width": null,
            "object_fit": null,
            "object_position": null,
            "order": null,
            "overflow": null,
            "overflow_x": null,
            "overflow_y": null,
            "padding": null,
            "right": null,
            "top": null,
            "visibility": null,
            "width": null
          }
        },
        "d2143d856e6d4072a0f77373faa71911": {
          "model_module": "@jupyter-widgets/controls",
          "model_name": "DescriptionStyleModel",
          "model_module_version": "1.5.0",
          "state": {
            "_model_module": "@jupyter-widgets/controls",
            "_model_module_version": "1.5.0",
            "_model_name": "DescriptionStyleModel",
            "_view_count": null,
            "_view_module": "@jupyter-widgets/base",
            "_view_module_version": "1.2.0",
            "_view_name": "StyleView",
            "description_width": ""
          }
        },
        "b9e1799f1d52464188596d37ffe7bef0": {
          "model_module": "@jupyter-widgets/base",
          "model_name": "LayoutModel",
          "model_module_version": "1.2.0",
          "state": {
            "_model_module": "@jupyter-widgets/base",
            "_model_module_version": "1.2.0",
            "_model_name": "LayoutModel",
            "_view_count": null,
            "_view_module": "@jupyter-widgets/base",
            "_view_module_version": "1.2.0",
            "_view_name": "LayoutView",
            "align_content": null,
            "align_items": null,
            "align_self": null,
            "border": null,
            "bottom": null,
            "display": null,
            "flex": null,
            "flex_flow": null,
            "grid_area": null,
            "grid_auto_columns": null,
            "grid_auto_flow": null,
            "grid_auto_rows": null,
            "grid_column": null,
            "grid_gap": null,
            "grid_row": null,
            "grid_template_areas": null,
            "grid_template_columns": null,
            "grid_template_rows": null,
            "height": null,
            "justify_content": null,
            "justify_items": null,
            "left": null,
            "margin": null,
            "max_height": null,
            "max_width": null,
            "min_height": null,
            "min_width": null,
            "object_fit": null,
            "object_position": null,
            "order": null,
            "overflow": null,
            "overflow_x": null,
            "overflow_y": null,
            "padding": null,
            "right": null,
            "top": null,
            "visibility": null,
            "width": null
          }
        },
        "1b6c531384664afabb193b4b42ac84e6": {
          "model_module": "@jupyter-widgets/controls",
          "model_name": "ProgressStyleModel",
          "model_module_version": "1.5.0",
          "state": {
            "_model_module": "@jupyter-widgets/controls",
            "_model_module_version": "1.5.0",
            "_model_name": "ProgressStyleModel",
            "_view_count": null,
            "_view_module": "@jupyter-widgets/base",
            "_view_module_version": "1.2.0",
            "_view_name": "StyleView",
            "bar_color": null,
            "description_width": ""
          }
        },
        "e0334ccdb2554255b7cbc8b240091967": {
          "model_module": "@jupyter-widgets/base",
          "model_name": "LayoutModel",
          "model_module_version": "1.2.0",
          "state": {
            "_model_module": "@jupyter-widgets/base",
            "_model_module_version": "1.2.0",
            "_model_name": "LayoutModel",
            "_view_count": null,
            "_view_module": "@jupyter-widgets/base",
            "_view_module_version": "1.2.0",
            "_view_name": "LayoutView",
            "align_content": null,
            "align_items": null,
            "align_self": null,
            "border": null,
            "bottom": null,
            "display": null,
            "flex": null,
            "flex_flow": null,
            "grid_area": null,
            "grid_auto_columns": null,
            "grid_auto_flow": null,
            "grid_auto_rows": null,
            "grid_column": null,
            "grid_gap": null,
            "grid_row": null,
            "grid_template_areas": null,
            "grid_template_columns": null,
            "grid_template_rows": null,
            "height": null,
            "justify_content": null,
            "justify_items": null,
            "left": null,
            "margin": null,
            "max_height": null,
            "max_width": null,
            "min_height": null,
            "min_width": null,
            "object_fit": null,
            "object_position": null,
            "order": null,
            "overflow": null,
            "overflow_x": null,
            "overflow_y": null,
            "padding": null,
            "right": null,
            "top": null,
            "visibility": null,
            "width": null
          }
        },
        "374b138eac5542b48837f71691cde685": {
          "model_module": "@jupyter-widgets/controls",
          "model_name": "DescriptionStyleModel",
          "model_module_version": "1.5.0",
          "state": {
            "_model_module": "@jupyter-widgets/controls",
            "_model_module_version": "1.5.0",
            "_model_name": "DescriptionStyleModel",
            "_view_count": null,
            "_view_module": "@jupyter-widgets/base",
            "_view_module_version": "1.2.0",
            "_view_name": "StyleView",
            "description_width": ""
          }
        },
        "52559319bb3c479a8b4ba4fb53f81ef0": {
          "model_module": "@jupyter-widgets/controls",
          "model_name": "HBoxModel",
          "model_module_version": "1.5.0",
          "state": {
            "_dom_classes": [],
            "_model_module": "@jupyter-widgets/controls",
            "_model_module_version": "1.5.0",
            "_model_name": "HBoxModel",
            "_view_count": null,
            "_view_module": "@jupyter-widgets/controls",
            "_view_module_version": "1.5.0",
            "_view_name": "HBoxView",
            "box_style": "",
            "children": [
              "IPY_MODEL_152db82b71d246a19624f7d427303e5f",
              "IPY_MODEL_b9e844cef64545a9bc4abf5cd78712e5",
              "IPY_MODEL_7c1cd31d10d644819d0bbb7851a6fbbd"
            ],
            "layout": "IPY_MODEL_30ca4d2a1ab04c18b2686a704e647ae6"
          }
        },
        "152db82b71d246a19624f7d427303e5f": {
          "model_module": "@jupyter-widgets/controls",
          "model_name": "HTMLModel",
          "model_module_version": "1.5.0",
          "state": {
            "_dom_classes": [],
            "_model_module": "@jupyter-widgets/controls",
            "_model_module_version": "1.5.0",
            "_model_name": "HTMLModel",
            "_view_count": null,
            "_view_module": "@jupyter-widgets/controls",
            "_view_module_version": "1.5.0",
            "_view_name": "HTMLView",
            "description": "",
            "description_tooltip": null,
            "layout": "IPY_MODEL_d68d5c1be3654361bf521a40b752c2ac",
            "placeholder": "​",
            "style": "IPY_MODEL_90572510b66b4f55846cbaaf2207f0b0",
            "value": "model-00001-of-00002.safetensors: 100%"
          }
        },
        "b9e844cef64545a9bc4abf5cd78712e5": {
          "model_module": "@jupyter-widgets/controls",
          "model_name": "FloatProgressModel",
          "model_module_version": "1.5.0",
          "state": {
            "_dom_classes": [],
            "_model_module": "@jupyter-widgets/controls",
            "_model_module_version": "1.5.0",
            "_model_name": "FloatProgressModel",
            "_view_count": null,
            "_view_module": "@jupyter-widgets/controls",
            "_view_module_version": "1.5.0",
            "_view_name": "ProgressView",
            "bar_style": "success",
            "description": "",
            "description_tooltip": null,
            "layout": "IPY_MODEL_78d7b2db774b43f1a56294544c6e220c",
            "max": 9942981696,
            "min": 0,
            "orientation": "horizontal",
            "style": "IPY_MODEL_bff95e9ce7464137b8ab2ea78db9d6d9",
            "value": 9942981696
          }
        },
        "7c1cd31d10d644819d0bbb7851a6fbbd": {
          "model_module": "@jupyter-widgets/controls",
          "model_name": "HTMLModel",
          "model_module_version": "1.5.0",
          "state": {
            "_dom_classes": [],
            "_model_module": "@jupyter-widgets/controls",
            "_model_module_version": "1.5.0",
            "_model_name": "HTMLModel",
            "_view_count": null,
            "_view_module": "@jupyter-widgets/controls",
            "_view_module_version": "1.5.0",
            "_view_name": "HTMLView",
            "description": "",
            "description_tooltip": null,
            "layout": "IPY_MODEL_c0118e2fc4d64330b236204482dce84e",
            "placeholder": "​",
            "style": "IPY_MODEL_266fc4c89d574f9c8c0a168f483d7209",
            "value": " 9.94G/9.94G [01:30&lt;00:00, 125MB/s]"
          }
        },
        "30ca4d2a1ab04c18b2686a704e647ae6": {
          "model_module": "@jupyter-widgets/base",
          "model_name": "LayoutModel",
          "model_module_version": "1.2.0",
          "state": {
            "_model_module": "@jupyter-widgets/base",
            "_model_module_version": "1.2.0",
            "_model_name": "LayoutModel",
            "_view_count": null,
            "_view_module": "@jupyter-widgets/base",
            "_view_module_version": "1.2.0",
            "_view_name": "LayoutView",
            "align_content": null,
            "align_items": null,
            "align_self": null,
            "border": null,
            "bottom": null,
            "display": null,
            "flex": null,
            "flex_flow": null,
            "grid_area": null,
            "grid_auto_columns": null,
            "grid_auto_flow": null,
            "grid_auto_rows": null,
            "grid_column": null,
            "grid_gap": null,
            "grid_row": null,
            "grid_template_areas": null,
            "grid_template_columns": null,
            "grid_template_rows": null,
            "height": null,
            "justify_content": null,
            "justify_items": null,
            "left": null,
            "margin": null,
            "max_height": null,
            "max_width": null,
            "min_height": null,
            "min_width": null,
            "object_fit": null,
            "object_position": null,
            "order": null,
            "overflow": null,
            "overflow_x": null,
            "overflow_y": null,
            "padding": null,
            "right": null,
            "top": null,
            "visibility": null,
            "width": null
          }
        },
        "d68d5c1be3654361bf521a40b752c2ac": {
          "model_module": "@jupyter-widgets/base",
          "model_name": "LayoutModel",
          "model_module_version": "1.2.0",
          "state": {
            "_model_module": "@jupyter-widgets/base",
            "_model_module_version": "1.2.0",
            "_model_name": "LayoutModel",
            "_view_count": null,
            "_view_module": "@jupyter-widgets/base",
            "_view_module_version": "1.2.0",
            "_view_name": "LayoutView",
            "align_content": null,
            "align_items": null,
            "align_self": null,
            "border": null,
            "bottom": null,
            "display": null,
            "flex": null,
            "flex_flow": null,
            "grid_area": null,
            "grid_auto_columns": null,
            "grid_auto_flow": null,
            "grid_auto_rows": null,
            "grid_column": null,
            "grid_gap": null,
            "grid_row": null,
            "grid_template_areas": null,
            "grid_template_columns": null,
            "grid_template_rows": null,
            "height": null,
            "justify_content": null,
            "justify_items": null,
            "left": null,
            "margin": null,
            "max_height": null,
            "max_width": null,
            "min_height": null,
            "min_width": null,
            "object_fit": null,
            "object_position": null,
            "order": null,
            "overflow": null,
            "overflow_x": null,
            "overflow_y": null,
            "padding": null,
            "right": null,
            "top": null,
            "visibility": null,
            "width": null
          }
        },
        "90572510b66b4f55846cbaaf2207f0b0": {
          "model_module": "@jupyter-widgets/controls",
          "model_name": "DescriptionStyleModel",
          "model_module_version": "1.5.0",
          "state": {
            "_model_module": "@jupyter-widgets/controls",
            "_model_module_version": "1.5.0",
            "_model_name": "DescriptionStyleModel",
            "_view_count": null,
            "_view_module": "@jupyter-widgets/base",
            "_view_module_version": "1.2.0",
            "_view_name": "StyleView",
            "description_width": ""
          }
        },
        "78d7b2db774b43f1a56294544c6e220c": {
          "model_module": "@jupyter-widgets/base",
          "model_name": "LayoutModel",
          "model_module_version": "1.2.0",
          "state": {
            "_model_module": "@jupyter-widgets/base",
            "_model_module_version": "1.2.0",
            "_model_name": "LayoutModel",
            "_view_count": null,
            "_view_module": "@jupyter-widgets/base",
            "_view_module_version": "1.2.0",
            "_view_name": "LayoutView",
            "align_content": null,
            "align_items": null,
            "align_self": null,
            "border": null,
            "bottom": null,
            "display": null,
            "flex": null,
            "flex_flow": null,
            "grid_area": null,
            "grid_auto_columns": null,
            "grid_auto_flow": null,
            "grid_auto_rows": null,
            "grid_column": null,
            "grid_gap": null,
            "grid_row": null,
            "grid_template_areas": null,
            "grid_template_columns": null,
            "grid_template_rows": null,
            "height": null,
            "justify_content": null,
            "justify_items": null,
            "left": null,
            "margin": null,
            "max_height": null,
            "max_width": null,
            "min_height": null,
            "min_width": null,
            "object_fit": null,
            "object_position": null,
            "order": null,
            "overflow": null,
            "overflow_x": null,
            "overflow_y": null,
            "padding": null,
            "right": null,
            "top": null,
            "visibility": null,
            "width": null
          }
        },
        "bff95e9ce7464137b8ab2ea78db9d6d9": {
          "model_module": "@jupyter-widgets/controls",
          "model_name": "ProgressStyleModel",
          "model_module_version": "1.5.0",
          "state": {
            "_model_module": "@jupyter-widgets/controls",
            "_model_module_version": "1.5.0",
            "_model_name": "ProgressStyleModel",
            "_view_count": null,
            "_view_module": "@jupyter-widgets/base",
            "_view_module_version": "1.2.0",
            "_view_name": "StyleView",
            "bar_color": null,
            "description_width": ""
          }
        },
        "c0118e2fc4d64330b236204482dce84e": {
          "model_module": "@jupyter-widgets/base",
          "model_name": "LayoutModel",
          "model_module_version": "1.2.0",
          "state": {
            "_model_module": "@jupyter-widgets/base",
            "_model_module_version": "1.2.0",
            "_model_name": "LayoutModel",
            "_view_count": null,
            "_view_module": "@jupyter-widgets/base",
            "_view_module_version": "1.2.0",
            "_view_name": "LayoutView",
            "align_content": null,
            "align_items": null,
            "align_self": null,
            "border": null,
            "bottom": null,
            "display": null,
            "flex": null,
            "flex_flow": null,
            "grid_area": null,
            "grid_auto_columns": null,
            "grid_auto_flow": null,
            "grid_auto_rows": null,
            "grid_column": null,
            "grid_gap": null,
            "grid_row": null,
            "grid_template_areas": null,
            "grid_template_columns": null,
            "grid_template_rows": null,
            "height": null,
            "justify_content": null,
            "justify_items": null,
            "left": null,
            "margin": null,
            "max_height": null,
            "max_width": null,
            "min_height": null,
            "min_width": null,
            "object_fit": null,
            "object_position": null,
            "order": null,
            "overflow": null,
            "overflow_x": null,
            "overflow_y": null,
            "padding": null,
            "right": null,
            "top": null,
            "visibility": null,
            "width": null
          }
        },
        "266fc4c89d574f9c8c0a168f483d7209": {
          "model_module": "@jupyter-widgets/controls",
          "model_name": "DescriptionStyleModel",
          "model_module_version": "1.5.0",
          "state": {
            "_model_module": "@jupyter-widgets/controls",
            "_model_module_version": "1.5.0",
            "_model_name": "DescriptionStyleModel",
            "_view_count": null,
            "_view_module": "@jupyter-widgets/base",
            "_view_module_version": "1.2.0",
            "_view_name": "StyleView",
            "description_width": ""
          }
        },
        "0bb67b9baca34ac0b3bb93977c6250a3": {
          "model_module": "@jupyter-widgets/controls",
          "model_name": "HBoxModel",
          "model_module_version": "1.5.0",
          "state": {
            "_dom_classes": [],
            "_model_module": "@jupyter-widgets/controls",
            "_model_module_version": "1.5.0",
            "_model_name": "HBoxModel",
            "_view_count": null,
            "_view_module": "@jupyter-widgets/controls",
            "_view_module_version": "1.5.0",
            "_view_name": "HBoxView",
            "box_style": "",
            "children": [
              "IPY_MODEL_493b93c4ee364679afbe29385379d3bc",
              "IPY_MODEL_bab78b91f8e44f539b9e505db7fabdb4",
              "IPY_MODEL_b0ffde5fff664ffda6bd8e6a04b2bfed"
            ],
            "layout": "IPY_MODEL_2bbf3c914c5241b0a464aa47d4a69490"
          }
        },
        "493b93c4ee364679afbe29385379d3bc": {
          "model_module": "@jupyter-widgets/controls",
          "model_name": "HTMLModel",
          "model_module_version": "1.5.0",
          "state": {
            "_dom_classes": [],
            "_model_module": "@jupyter-widgets/controls",
            "_model_module_version": "1.5.0",
            "_model_name": "HTMLModel",
            "_view_count": null,
            "_view_module": "@jupyter-widgets/controls",
            "_view_module_version": "1.5.0",
            "_view_name": "HTMLView",
            "description": "",
            "description_tooltip": null,
            "layout": "IPY_MODEL_3130d1c81d3b4687ba7198bc26b40bf8",
            "placeholder": "​",
            "style": "IPY_MODEL_0cad5a3556954719865ae4276d3bb00f",
            "value": "model-00002-of-00002.safetensors: 100%"
          }
        },
        "bab78b91f8e44f539b9e505db7fabdb4": {
          "model_module": "@jupyter-widgets/controls",
          "model_name": "FloatProgressModel",
          "model_module_version": "1.5.0",
          "state": {
            "_dom_classes": [],
            "_model_module": "@jupyter-widgets/controls",
            "_model_module_version": "1.5.0",
            "_model_name": "FloatProgressModel",
            "_view_count": null,
            "_view_module": "@jupyter-widgets/controls",
            "_view_module_version": "1.5.0",
            "_view_name": "ProgressView",
            "bar_style": "success",
            "description": "",
            "description_tooltip": null,
            "layout": "IPY_MODEL_62768962e87643ad8e6fa63411b2031d",
            "max": 4540516344,
            "min": 0,
            "orientation": "horizontal",
            "style": "IPY_MODEL_2d315cbd83374907bb0e81c633bf4cc6",
            "value": 4540516344
          }
        },
        "b0ffde5fff664ffda6bd8e6a04b2bfed": {
          "model_module": "@jupyter-widgets/controls",
          "model_name": "HTMLModel",
          "model_module_version": "1.5.0",
          "state": {
            "_dom_classes": [],
            "_model_module": "@jupyter-widgets/controls",
            "_model_module_version": "1.5.0",
            "_model_name": "HTMLModel",
            "_view_count": null,
            "_view_module": "@jupyter-widgets/controls",
            "_view_module_version": "1.5.0",
            "_view_name": "HTMLView",
            "description": "",
            "description_tooltip": null,
            "layout": "IPY_MODEL_c9ce0e15fda7488f8ad143a5c92ad45a",
            "placeholder": "​",
            "style": "IPY_MODEL_1d6d0f1d67af4e889a4e697f65cf8b4e",
            "value": " 4.54G/4.54G [00:35&lt;00:00, 234MB/s]"
          }
        },
        "2bbf3c914c5241b0a464aa47d4a69490": {
          "model_module": "@jupyter-widgets/base",
          "model_name": "LayoutModel",
          "model_module_version": "1.2.0",
          "state": {
            "_model_module": "@jupyter-widgets/base",
            "_model_module_version": "1.2.0",
            "_model_name": "LayoutModel",
            "_view_count": null,
            "_view_module": "@jupyter-widgets/base",
            "_view_module_version": "1.2.0",
            "_view_name": "LayoutView",
            "align_content": null,
            "align_items": null,
            "align_self": null,
            "border": null,
            "bottom": null,
            "display": null,
            "flex": null,
            "flex_flow": null,
            "grid_area": null,
            "grid_auto_columns": null,
            "grid_auto_flow": null,
            "grid_auto_rows": null,
            "grid_column": null,
            "grid_gap": null,
            "grid_row": null,
            "grid_template_areas": null,
            "grid_template_columns": null,
            "grid_template_rows": null,
            "height": null,
            "justify_content": null,
            "justify_items": null,
            "left": null,
            "margin": null,
            "max_height": null,
            "max_width": null,
            "min_height": null,
            "min_width": null,
            "object_fit": null,
            "object_position": null,
            "order": null,
            "overflow": null,
            "overflow_x": null,
            "overflow_y": null,
            "padding": null,
            "right": null,
            "top": null,
            "visibility": null,
            "width": null
          }
        },
        "3130d1c81d3b4687ba7198bc26b40bf8": {
          "model_module": "@jupyter-widgets/base",
          "model_name": "LayoutModel",
          "model_module_version": "1.2.0",
          "state": {
            "_model_module": "@jupyter-widgets/base",
            "_model_module_version": "1.2.0",
            "_model_name": "LayoutModel",
            "_view_count": null,
            "_view_module": "@jupyter-widgets/base",
            "_view_module_version": "1.2.0",
            "_view_name": "LayoutView",
            "align_content": null,
            "align_items": null,
            "align_self": null,
            "border": null,
            "bottom": null,
            "display": null,
            "flex": null,
            "flex_flow": null,
            "grid_area": null,
            "grid_auto_columns": null,
            "grid_auto_flow": null,
            "grid_auto_rows": null,
            "grid_column": null,
            "grid_gap": null,
            "grid_row": null,
            "grid_template_areas": null,
            "grid_template_columns": null,
            "grid_template_rows": null,
            "height": null,
            "justify_content": null,
            "justify_items": null,
            "left": null,
            "margin": null,
            "max_height": null,
            "max_width": null,
            "min_height": null,
            "min_width": null,
            "object_fit": null,
            "object_position": null,
            "order": null,
            "overflow": null,
            "overflow_x": null,
            "overflow_y": null,
            "padding": null,
            "right": null,
            "top": null,
            "visibility": null,
            "width": null
          }
        },
        "0cad5a3556954719865ae4276d3bb00f": {
          "model_module": "@jupyter-widgets/controls",
          "model_name": "DescriptionStyleModel",
          "model_module_version": "1.5.0",
          "state": {
            "_model_module": "@jupyter-widgets/controls",
            "_model_module_version": "1.5.0",
            "_model_name": "DescriptionStyleModel",
            "_view_count": null,
            "_view_module": "@jupyter-widgets/base",
            "_view_module_version": "1.2.0",
            "_view_name": "StyleView",
            "description_width": ""
          }
        },
        "62768962e87643ad8e6fa63411b2031d": {
          "model_module": "@jupyter-widgets/base",
          "model_name": "LayoutModel",
          "model_module_version": "1.2.0",
          "state": {
            "_model_module": "@jupyter-widgets/base",
            "_model_module_version": "1.2.0",
            "_model_name": "LayoutModel",
            "_view_count": null,
            "_view_module": "@jupyter-widgets/base",
            "_view_module_version": "1.2.0",
            "_view_name": "LayoutView",
            "align_content": null,
            "align_items": null,
            "align_self": null,
            "border": null,
            "bottom": null,
            "display": null,
            "flex": null,
            "flex_flow": null,
            "grid_area": null,
            "grid_auto_columns": null,
            "grid_auto_flow": null,
            "grid_auto_rows": null,
            "grid_column": null,
            "grid_gap": null,
            "grid_row": null,
            "grid_template_areas": null,
            "grid_template_columns": null,
            "grid_template_rows": null,
            "height": null,
            "justify_content": null,
            "justify_items": null,
            "left": null,
            "margin": null,
            "max_height": null,
            "max_width": null,
            "min_height": null,
            "min_width": null,
            "object_fit": null,
            "object_position": null,
            "order": null,
            "overflow": null,
            "overflow_x": null,
            "overflow_y": null,
            "padding": null,
            "right": null,
            "top": null,
            "visibility": null,
            "width": null
          }
        },
        "2d315cbd83374907bb0e81c633bf4cc6": {
          "model_module": "@jupyter-widgets/controls",
          "model_name": "ProgressStyleModel",
          "model_module_version": "1.5.0",
          "state": {
            "_model_module": "@jupyter-widgets/controls",
            "_model_module_version": "1.5.0",
            "_model_name": "ProgressStyleModel",
            "_view_count": null,
            "_view_module": "@jupyter-widgets/base",
            "_view_module_version": "1.2.0",
            "_view_name": "StyleView",
            "bar_color": null,
            "description_width": ""
          }
        },
        "c9ce0e15fda7488f8ad143a5c92ad45a": {
          "model_module": "@jupyter-widgets/base",
          "model_name": "LayoutModel",
          "model_module_version": "1.2.0",
          "state": {
            "_model_module": "@jupyter-widgets/base",
            "_model_module_version": "1.2.0",
            "_model_name": "LayoutModel",
            "_view_count": null,
            "_view_module": "@jupyter-widgets/base",
            "_view_module_version": "1.2.0",
            "_view_name": "LayoutView",
            "align_content": null,
            "align_items": null,
            "align_self": null,
            "border": null,
            "bottom": null,
            "display": null,
            "flex": null,
            "flex_flow": null,
            "grid_area": null,
            "grid_auto_columns": null,
            "grid_auto_flow": null,
            "grid_auto_rows": null,
            "grid_column": null,
            "grid_gap": null,
            "grid_row": null,
            "grid_template_areas": null,
            "grid_template_columns": null,
            "grid_template_rows": null,
            "height": null,
            "justify_content": null,
            "justify_items": null,
            "left": null,
            "margin": null,
            "max_height": null,
            "max_width": null,
            "min_height": null,
            "min_width": null,
            "object_fit": null,
            "object_position": null,
            "order": null,
            "overflow": null,
            "overflow_x": null,
            "overflow_y": null,
            "padding": null,
            "right": null,
            "top": null,
            "visibility": null,
            "width": null
          }
        },
        "1d6d0f1d67af4e889a4e697f65cf8b4e": {
          "model_module": "@jupyter-widgets/controls",
          "model_name": "DescriptionStyleModel",
          "model_module_version": "1.5.0",
          "state": {
            "_model_module": "@jupyter-widgets/controls",
            "_model_module_version": "1.5.0",
            "_model_name": "DescriptionStyleModel",
            "_view_count": null,
            "_view_module": "@jupyter-widgets/base",
            "_view_module_version": "1.2.0",
            "_view_name": "StyleView",
            "description_width": ""
          }
        },
        "62d30eb44c4143c8b0ddd3f93a7832c2": {
          "model_module": "@jupyter-widgets/controls",
          "model_name": "HBoxModel",
          "model_module_version": "1.5.0",
          "state": {
            "_dom_classes": [],
            "_model_module": "@jupyter-widgets/controls",
            "_model_module_version": "1.5.0",
            "_model_name": "HBoxModel",
            "_view_count": null,
            "_view_module": "@jupyter-widgets/controls",
            "_view_module_version": "1.5.0",
            "_view_name": "HBoxView",
            "box_style": "",
            "children": [
              "IPY_MODEL_df91d1eb1e0545d5bc7acbe9cb7dbc54",
              "IPY_MODEL_9f39aa731b904ca7b378e1bb6d7ed04b",
              "IPY_MODEL_9625c3cecba04254b29bcd5a2b0e2349"
            ],
            "layout": "IPY_MODEL_ee6822624177496dbd8f163c90b21522"
          }
        },
        "df91d1eb1e0545d5bc7acbe9cb7dbc54": {
          "model_module": "@jupyter-widgets/controls",
          "model_name": "HTMLModel",
          "model_module_version": "1.5.0",
          "state": {
            "_dom_classes": [],
            "_model_module": "@jupyter-widgets/controls",
            "_model_module_version": "1.5.0",
            "_model_name": "HTMLModel",
            "_view_count": null,
            "_view_module": "@jupyter-widgets/controls",
            "_view_module_version": "1.5.0",
            "_view_name": "HTMLView",
            "description": "",
            "description_tooltip": null,
            "layout": "IPY_MODEL_969fbffc90944c0c8eee6b19421e07b0",
            "placeholder": "​",
            "style": "IPY_MODEL_fb563e2ee5a34efba066f4286a59cd63",
            "value": "Loading checkpoint shards: 100%"
          }
        },
        "9f39aa731b904ca7b378e1bb6d7ed04b": {
          "model_module": "@jupyter-widgets/controls",
          "model_name": "FloatProgressModel",
          "model_module_version": "1.5.0",
          "state": {
            "_dom_classes": [],
            "_model_module": "@jupyter-widgets/controls",
            "_model_module_version": "1.5.0",
            "_model_name": "FloatProgressModel",
            "_view_count": null,
            "_view_module": "@jupyter-widgets/controls",
            "_view_module_version": "1.5.0",
            "_view_name": "ProgressView",
            "bar_style": "success",
            "description": "",
            "description_tooltip": null,
            "layout": "IPY_MODEL_868e90757d4b4f7c960b3417827ae443",
            "max": 2,
            "min": 0,
            "orientation": "horizontal",
            "style": "IPY_MODEL_932c642c2f3c41ca8de711800c86f53a",
            "value": 2
          }
        },
        "9625c3cecba04254b29bcd5a2b0e2349": {
          "model_module": "@jupyter-widgets/controls",
          "model_name": "HTMLModel",
          "model_module_version": "1.5.0",
          "state": {
            "_dom_classes": [],
            "_model_module": "@jupyter-widgets/controls",
            "_model_module_version": "1.5.0",
            "_model_name": "HTMLModel",
            "_view_count": null,
            "_view_module": "@jupyter-widgets/controls",
            "_view_module_version": "1.5.0",
            "_view_name": "HTMLView",
            "description": "",
            "description_tooltip": null,
            "layout": "IPY_MODEL_248ea984d24d4bab9dee3ce393218343",
            "placeholder": "​",
            "style": "IPY_MODEL_47699a9f1d1349ecaa9e9c8e84dc4813",
            "value": " 2/2 [01:04&lt;00:00, 30.37s/it]"
          }
        },
        "ee6822624177496dbd8f163c90b21522": {
          "model_module": "@jupyter-widgets/base",
          "model_name": "LayoutModel",
          "model_module_version": "1.2.0",
          "state": {
            "_model_module": "@jupyter-widgets/base",
            "_model_module_version": "1.2.0",
            "_model_name": "LayoutModel",
            "_view_count": null,
            "_view_module": "@jupyter-widgets/base",
            "_view_module_version": "1.2.0",
            "_view_name": "LayoutView",
            "align_content": null,
            "align_items": null,
            "align_self": null,
            "border": null,
            "bottom": null,
            "display": null,
            "flex": null,
            "flex_flow": null,
            "grid_area": null,
            "grid_auto_columns": null,
            "grid_auto_flow": null,
            "grid_auto_rows": null,
            "grid_column": null,
            "grid_gap": null,
            "grid_row": null,
            "grid_template_areas": null,
            "grid_template_columns": null,
            "grid_template_rows": null,
            "height": null,
            "justify_content": null,
            "justify_items": null,
            "left": null,
            "margin": null,
            "max_height": null,
            "max_width": null,
            "min_height": null,
            "min_width": null,
            "object_fit": null,
            "object_position": null,
            "order": null,
            "overflow": null,
            "overflow_x": null,
            "overflow_y": null,
            "padding": null,
            "right": null,
            "top": null,
            "visibility": null,
            "width": null
          }
        },
        "969fbffc90944c0c8eee6b19421e07b0": {
          "model_module": "@jupyter-widgets/base",
          "model_name": "LayoutModel",
          "model_module_version": "1.2.0",
          "state": {
            "_model_module": "@jupyter-widgets/base",
            "_model_module_version": "1.2.0",
            "_model_name": "LayoutModel",
            "_view_count": null,
            "_view_module": "@jupyter-widgets/base",
            "_view_module_version": "1.2.0",
            "_view_name": "LayoutView",
            "align_content": null,
            "align_items": null,
            "align_self": null,
            "border": null,
            "bottom": null,
            "display": null,
            "flex": null,
            "flex_flow": null,
            "grid_area": null,
            "grid_auto_columns": null,
            "grid_auto_flow": null,
            "grid_auto_rows": null,
            "grid_column": null,
            "grid_gap": null,
            "grid_row": null,
            "grid_template_areas": null,
            "grid_template_columns": null,
            "grid_template_rows": null,
            "height": null,
            "justify_content": null,
            "justify_items": null,
            "left": null,
            "margin": null,
            "max_height": null,
            "max_width": null,
            "min_height": null,
            "min_width": null,
            "object_fit": null,
            "object_position": null,
            "order": null,
            "overflow": null,
            "overflow_x": null,
            "overflow_y": null,
            "padding": null,
            "right": null,
            "top": null,
            "visibility": null,
            "width": null
          }
        },
        "fb563e2ee5a34efba066f4286a59cd63": {
          "model_module": "@jupyter-widgets/controls",
          "model_name": "DescriptionStyleModel",
          "model_module_version": "1.5.0",
          "state": {
            "_model_module": "@jupyter-widgets/controls",
            "_model_module_version": "1.5.0",
            "_model_name": "DescriptionStyleModel",
            "_view_count": null,
            "_view_module": "@jupyter-widgets/base",
            "_view_module_version": "1.2.0",
            "_view_name": "StyleView",
            "description_width": ""
          }
        },
        "868e90757d4b4f7c960b3417827ae443": {
          "model_module": "@jupyter-widgets/base",
          "model_name": "LayoutModel",
          "model_module_version": "1.2.0",
          "state": {
            "_model_module": "@jupyter-widgets/base",
            "_model_module_version": "1.2.0",
            "_model_name": "LayoutModel",
            "_view_count": null,
            "_view_module": "@jupyter-widgets/base",
            "_view_module_version": "1.2.0",
            "_view_name": "LayoutView",
            "align_content": null,
            "align_items": null,
            "align_self": null,
            "border": null,
            "bottom": null,
            "display": null,
            "flex": null,
            "flex_flow": null,
            "grid_area": null,
            "grid_auto_columns": null,
            "grid_auto_flow": null,
            "grid_auto_rows": null,
            "grid_column": null,
            "grid_gap": null,
            "grid_row": null,
            "grid_template_areas": null,
            "grid_template_columns": null,
            "grid_template_rows": null,
            "height": null,
            "justify_content": null,
            "justify_items": null,
            "left": null,
            "margin": null,
            "max_height": null,
            "max_width": null,
            "min_height": null,
            "min_width": null,
            "object_fit": null,
            "object_position": null,
            "order": null,
            "overflow": null,
            "overflow_x": null,
            "overflow_y": null,
            "padding": null,
            "right": null,
            "top": null,
            "visibility": null,
            "width": null
          }
        },
        "932c642c2f3c41ca8de711800c86f53a": {
          "model_module": "@jupyter-widgets/controls",
          "model_name": "ProgressStyleModel",
          "model_module_version": "1.5.0",
          "state": {
            "_model_module": "@jupyter-widgets/controls",
            "_model_module_version": "1.5.0",
            "_model_name": "ProgressStyleModel",
            "_view_count": null,
            "_view_module": "@jupyter-widgets/base",
            "_view_module_version": "1.2.0",
            "_view_name": "StyleView",
            "bar_color": null,
            "description_width": ""
          }
        },
        "248ea984d24d4bab9dee3ce393218343": {
          "model_module": "@jupyter-widgets/base",
          "model_name": "LayoutModel",
          "model_module_version": "1.2.0",
          "state": {
            "_model_module": "@jupyter-widgets/base",
            "_model_module_version": "1.2.0",
            "_model_name": "LayoutModel",
            "_view_count": null,
            "_view_module": "@jupyter-widgets/base",
            "_view_module_version": "1.2.0",
            "_view_name": "LayoutView",
            "align_content": null,
            "align_items": null,
            "align_self": null,
            "border": null,
            "bottom": null,
            "display": null,
            "flex": null,
            "flex_flow": null,
            "grid_area": null,
            "grid_auto_columns": null,
            "grid_auto_flow": null,
            "grid_auto_rows": null,
            "grid_column": null,
            "grid_gap": null,
            "grid_row": null,
            "grid_template_areas": null,
            "grid_template_columns": null,
            "grid_template_rows": null,
            "height": null,
            "justify_content": null,
            "justify_items": null,
            "left": null,
            "margin": null,
            "max_height": null,
            "max_width": null,
            "min_height": null,
            "min_width": null,
            "object_fit": null,
            "object_position": null,
            "order": null,
            "overflow": null,
            "overflow_x": null,
            "overflow_y": null,
            "padding": null,
            "right": null,
            "top": null,
            "visibility": null,
            "width": null
          }
        },
        "47699a9f1d1349ecaa9e9c8e84dc4813": {
          "model_module": "@jupyter-widgets/controls",
          "model_name": "DescriptionStyleModel",
          "model_module_version": "1.5.0",
          "state": {
            "_model_module": "@jupyter-widgets/controls",
            "_model_module_version": "1.5.0",
            "_model_name": "DescriptionStyleModel",
            "_view_count": null,
            "_view_module": "@jupyter-widgets/base",
            "_view_module_version": "1.2.0",
            "_view_name": "StyleView",
            "description_width": ""
          }
        },
        "9cb9f4a4c5174467b67835a851b366a7": {
          "model_module": "@jupyter-widgets/controls",
          "model_name": "HBoxModel",
          "model_module_version": "1.5.0",
          "state": {
            "_dom_classes": [],
            "_model_module": "@jupyter-widgets/controls",
            "_model_module_version": "1.5.0",
            "_model_name": "HBoxModel",
            "_view_count": null,
            "_view_module": "@jupyter-widgets/controls",
            "_view_module_version": "1.5.0",
            "_view_name": "HBoxView",
            "box_style": "",
            "children": [
              "IPY_MODEL_3d04aac4e68a4573aee511742af0d144",
              "IPY_MODEL_44ee077b3f374e4ebcb14a46788ea235",
              "IPY_MODEL_21a6ef75019547889c3275dc00c9577c"
            ],
            "layout": "IPY_MODEL_6cd49eae190c4c63a078b6bfefc262e2"
          }
        },
        "3d04aac4e68a4573aee511742af0d144": {
          "model_module": "@jupyter-widgets/controls",
          "model_name": "HTMLModel",
          "model_module_version": "1.5.0",
          "state": {
            "_dom_classes": [],
            "_model_module": "@jupyter-widgets/controls",
            "_model_module_version": "1.5.0",
            "_model_name": "HTMLModel",
            "_view_count": null,
            "_view_module": "@jupyter-widgets/controls",
            "_view_module_version": "1.5.0",
            "_view_name": "HTMLView",
            "description": "",
            "description_tooltip": null,
            "layout": "IPY_MODEL_dd037fc5f77a402888845cbf7d2e0c41",
            "placeholder": "​",
            "style": "IPY_MODEL_42e83bdd115a4f04a0f2e8908a53c521",
            "value": "generation_config.json: 100%"
          }
        },
        "44ee077b3f374e4ebcb14a46788ea235": {
          "model_module": "@jupyter-widgets/controls",
          "model_name": "FloatProgressModel",
          "model_module_version": "1.5.0",
          "state": {
            "_dom_classes": [],
            "_model_module": "@jupyter-widgets/controls",
            "_model_module_version": "1.5.0",
            "_model_name": "FloatProgressModel",
            "_view_count": null,
            "_view_module": "@jupyter-widgets/controls",
            "_view_module_version": "1.5.0",
            "_view_name": "ProgressView",
            "bar_style": "success",
            "description": "",
            "description_tooltip": null,
            "layout": "IPY_MODEL_8b1d4087eb5d4a0ca5b766a983c75944",
            "max": 116,
            "min": 0,
            "orientation": "horizontal",
            "style": "IPY_MODEL_d354457937a0454a97a8346025e431d9",
            "value": 116
          }
        },
        "21a6ef75019547889c3275dc00c9577c": {
          "model_module": "@jupyter-widgets/controls",
          "model_name": "HTMLModel",
          "model_module_version": "1.5.0",
          "state": {
            "_dom_classes": [],
            "_model_module": "@jupyter-widgets/controls",
            "_model_module_version": "1.5.0",
            "_model_name": "HTMLModel",
            "_view_count": null,
            "_view_module": "@jupyter-widgets/controls",
            "_view_module_version": "1.5.0",
            "_view_name": "HTMLView",
            "description": "",
            "description_tooltip": null,
            "layout": "IPY_MODEL_c642c6a6c5a1400d98e57e8948b0d3ce",
            "placeholder": "​",
            "style": "IPY_MODEL_8a70b2a4376249118c2d6aacce0fdf75",
            "value": " 116/116 [00:00&lt;00:00, 7.25kB/s]"
          }
        },
        "6cd49eae190c4c63a078b6bfefc262e2": {
          "model_module": "@jupyter-widgets/base",
          "model_name": "LayoutModel",
          "model_module_version": "1.2.0",
          "state": {
            "_model_module": "@jupyter-widgets/base",
            "_model_module_version": "1.2.0",
            "_model_name": "LayoutModel",
            "_view_count": null,
            "_view_module": "@jupyter-widgets/base",
            "_view_module_version": "1.2.0",
            "_view_name": "LayoutView",
            "align_content": null,
            "align_items": null,
            "align_self": null,
            "border": null,
            "bottom": null,
            "display": null,
            "flex": null,
            "flex_flow": null,
            "grid_area": null,
            "grid_auto_columns": null,
            "grid_auto_flow": null,
            "grid_auto_rows": null,
            "grid_column": null,
            "grid_gap": null,
            "grid_row": null,
            "grid_template_areas": null,
            "grid_template_columns": null,
            "grid_template_rows": null,
            "height": null,
            "justify_content": null,
            "justify_items": null,
            "left": null,
            "margin": null,
            "max_height": null,
            "max_width": null,
            "min_height": null,
            "min_width": null,
            "object_fit": null,
            "object_position": null,
            "order": null,
            "overflow": null,
            "overflow_x": null,
            "overflow_y": null,
            "padding": null,
            "right": null,
            "top": null,
            "visibility": null,
            "width": null
          }
        },
        "dd037fc5f77a402888845cbf7d2e0c41": {
          "model_module": "@jupyter-widgets/base",
          "model_name": "LayoutModel",
          "model_module_version": "1.2.0",
          "state": {
            "_model_module": "@jupyter-widgets/base",
            "_model_module_version": "1.2.0",
            "_model_name": "LayoutModel",
            "_view_count": null,
            "_view_module": "@jupyter-widgets/base",
            "_view_module_version": "1.2.0",
            "_view_name": "LayoutView",
            "align_content": null,
            "align_items": null,
            "align_self": null,
            "border": null,
            "bottom": null,
            "display": null,
            "flex": null,
            "flex_flow": null,
            "grid_area": null,
            "grid_auto_columns": null,
            "grid_auto_flow": null,
            "grid_auto_rows": null,
            "grid_column": null,
            "grid_gap": null,
            "grid_row": null,
            "grid_template_areas": null,
            "grid_template_columns": null,
            "grid_template_rows": null,
            "height": null,
            "justify_content": null,
            "justify_items": null,
            "left": null,
            "margin": null,
            "max_height": null,
            "max_width": null,
            "min_height": null,
            "min_width": null,
            "object_fit": null,
            "object_position": null,
            "order": null,
            "overflow": null,
            "overflow_x": null,
            "overflow_y": null,
            "padding": null,
            "right": null,
            "top": null,
            "visibility": null,
            "width": null
          }
        },
        "42e83bdd115a4f04a0f2e8908a53c521": {
          "model_module": "@jupyter-widgets/controls",
          "model_name": "DescriptionStyleModel",
          "model_module_version": "1.5.0",
          "state": {
            "_model_module": "@jupyter-widgets/controls",
            "_model_module_version": "1.5.0",
            "_model_name": "DescriptionStyleModel",
            "_view_count": null,
            "_view_module": "@jupyter-widgets/base",
            "_view_module_version": "1.2.0",
            "_view_name": "StyleView",
            "description_width": ""
          }
        },
        "8b1d4087eb5d4a0ca5b766a983c75944": {
          "model_module": "@jupyter-widgets/base",
          "model_name": "LayoutModel",
          "model_module_version": "1.2.0",
          "state": {
            "_model_module": "@jupyter-widgets/base",
            "_model_module_version": "1.2.0",
            "_model_name": "LayoutModel",
            "_view_count": null,
            "_view_module": "@jupyter-widgets/base",
            "_view_module_version": "1.2.0",
            "_view_name": "LayoutView",
            "align_content": null,
            "align_items": null,
            "align_self": null,
            "border": null,
            "bottom": null,
            "display": null,
            "flex": null,
            "flex_flow": null,
            "grid_area": null,
            "grid_auto_columns": null,
            "grid_auto_flow": null,
            "grid_auto_rows": null,
            "grid_column": null,
            "grid_gap": null,
            "grid_row": null,
            "grid_template_areas": null,
            "grid_template_columns": null,
            "grid_template_rows": null,
            "height": null,
            "justify_content": null,
            "justify_items": null,
            "left": null,
            "margin": null,
            "max_height": null,
            "max_width": null,
            "min_height": null,
            "min_width": null,
            "object_fit": null,
            "object_position": null,
            "order": null,
            "overflow": null,
            "overflow_x": null,
            "overflow_y": null,
            "padding": null,
            "right": null,
            "top": null,
            "visibility": null,
            "width": null
          }
        },
        "d354457937a0454a97a8346025e431d9": {
          "model_module": "@jupyter-widgets/controls",
          "model_name": "ProgressStyleModel",
          "model_module_version": "1.5.0",
          "state": {
            "_model_module": "@jupyter-widgets/controls",
            "_model_module_version": "1.5.0",
            "_model_name": "ProgressStyleModel",
            "_view_count": null,
            "_view_module": "@jupyter-widgets/base",
            "_view_module_version": "1.2.0",
            "_view_name": "StyleView",
            "bar_color": null,
            "description_width": ""
          }
        },
        "c642c6a6c5a1400d98e57e8948b0d3ce": {
          "model_module": "@jupyter-widgets/base",
          "model_name": "LayoutModel",
          "model_module_version": "1.2.0",
          "state": {
            "_model_module": "@jupyter-widgets/base",
            "_model_module_version": "1.2.0",
            "_model_name": "LayoutModel",
            "_view_count": null,
            "_view_module": "@jupyter-widgets/base",
            "_view_module_version": "1.2.0",
            "_view_name": "LayoutView",
            "align_content": null,
            "align_items": null,
            "align_self": null,
            "border": null,
            "bottom": null,
            "display": null,
            "flex": null,
            "flex_flow": null,
            "grid_area": null,
            "grid_auto_columns": null,
            "grid_auto_flow": null,
            "grid_auto_rows": null,
            "grid_column": null,
            "grid_gap": null,
            "grid_row": null,
            "grid_template_areas": null,
            "grid_template_columns": null,
            "grid_template_rows": null,
            "height": null,
            "justify_content": null,
            "justify_items": null,
            "left": null,
            "margin": null,
            "max_height": null,
            "max_width": null,
            "min_height": null,
            "min_width": null,
            "object_fit": null,
            "object_position": null,
            "order": null,
            "overflow": null,
            "overflow_x": null,
            "overflow_y": null,
            "padding": null,
            "right": null,
            "top": null,
            "visibility": null,
            "width": null
          }
        },
        "8a70b2a4376249118c2d6aacce0fdf75": {
          "model_module": "@jupyter-widgets/controls",
          "model_name": "DescriptionStyleModel",
          "model_module_version": "1.5.0",
          "state": {
            "_model_module": "@jupyter-widgets/controls",
            "_model_module_version": "1.5.0",
            "_model_name": "DescriptionStyleModel",
            "_view_count": null,
            "_view_module": "@jupyter-widgets/base",
            "_view_module_version": "1.2.0",
            "_view_name": "StyleView",
            "description_width": ""
          }
        },
        "632934b3c541492ea0a3340282413267": {
          "model_module": "@jupyter-widgets/controls",
          "model_name": "HBoxModel",
          "model_module_version": "1.5.0",
          "state": {
            "_dom_classes": [],
            "_model_module": "@jupyter-widgets/controls",
            "_model_module_version": "1.5.0",
            "_model_name": "HBoxModel",
            "_view_count": null,
            "_view_module": "@jupyter-widgets/controls",
            "_view_module_version": "1.5.0",
            "_view_name": "HBoxView",
            "box_style": "",
            "children": [
              "IPY_MODEL_d17f8e79ccd4480bba494684bd4377ca",
              "IPY_MODEL_fc97fb62733449e6a0c27a0829da26bc",
              "IPY_MODEL_6eaf82ceeec24144b31d3704bd5d4bf7"
            ],
            "layout": "IPY_MODEL_6a3b0735218a4a5da8ae66eaabc7adce"
          }
        },
        "d17f8e79ccd4480bba494684bd4377ca": {
          "model_module": "@jupyter-widgets/controls",
          "model_name": "HTMLModel",
          "model_module_version": "1.5.0",
          "state": {
            "_dom_classes": [],
            "_model_module": "@jupyter-widgets/controls",
            "_model_module_version": "1.5.0",
            "_model_name": "HTMLModel",
            "_view_count": null,
            "_view_module": "@jupyter-widgets/controls",
            "_view_module_version": "1.5.0",
            "_view_name": "HTMLView",
            "description": "",
            "description_tooltip": null,
            "layout": "IPY_MODEL_85ec69e436ff4c3c983df4b3bc29fcc0",
            "placeholder": "​",
            "style": "IPY_MODEL_a36ae5604d01480f9144e14e9c814595",
            "value": "tokenizer_config.json: 100%"
          }
        },
        "fc97fb62733449e6a0c27a0829da26bc": {
          "model_module": "@jupyter-widgets/controls",
          "model_name": "FloatProgressModel",
          "model_module_version": "1.5.0",
          "state": {
            "_dom_classes": [],
            "_model_module": "@jupyter-widgets/controls",
            "_model_module_version": "1.5.0",
            "_model_name": "FloatProgressModel",
            "_view_count": null,
            "_view_module": "@jupyter-widgets/controls",
            "_view_module_version": "1.5.0",
            "_view_name": "ProgressView",
            "bar_style": "success",
            "description": "",
            "description_tooltip": null,
            "layout": "IPY_MODEL_c2e3d05a77dc42949c850a5f9f638b72",
            "max": 1467,
            "min": 0,
            "orientation": "horizontal",
            "style": "IPY_MODEL_c2ced9cd67974b3289df9ff459b383a0",
            "value": 1467
          }
        },
        "6eaf82ceeec24144b31d3704bd5d4bf7": {
          "model_module": "@jupyter-widgets/controls",
          "model_name": "HTMLModel",
          "model_module_version": "1.5.0",
          "state": {
            "_dom_classes": [],
            "_model_module": "@jupyter-widgets/controls",
            "_model_module_version": "1.5.0",
            "_model_name": "HTMLModel",
            "_view_count": null,
            "_view_module": "@jupyter-widgets/controls",
            "_view_module_version": "1.5.0",
            "_view_name": "HTMLView",
            "description": "",
            "description_tooltip": null,
            "layout": "IPY_MODEL_89db365119aa4c90a9c2e99fd66f0b22",
            "placeholder": "​",
            "style": "IPY_MODEL_210c22c19fa747fab1ad1f4fbabd8d3a",
            "value": " 1.47k/1.47k [00:00&lt;00:00, 108kB/s]"
          }
        },
        "6a3b0735218a4a5da8ae66eaabc7adce": {
          "model_module": "@jupyter-widgets/base",
          "model_name": "LayoutModel",
          "model_module_version": "1.2.0",
          "state": {
            "_model_module": "@jupyter-widgets/base",
            "_model_module_version": "1.2.0",
            "_model_name": "LayoutModel",
            "_view_count": null,
            "_view_module": "@jupyter-widgets/base",
            "_view_module_version": "1.2.0",
            "_view_name": "LayoutView",
            "align_content": null,
            "align_items": null,
            "align_self": null,
            "border": null,
            "bottom": null,
            "display": null,
            "flex": null,
            "flex_flow": null,
            "grid_area": null,
            "grid_auto_columns": null,
            "grid_auto_flow": null,
            "grid_auto_rows": null,
            "grid_column": null,
            "grid_gap": null,
            "grid_row": null,
            "grid_template_areas": null,
            "grid_template_columns": null,
            "grid_template_rows": null,
            "height": null,
            "justify_content": null,
            "justify_items": null,
            "left": null,
            "margin": null,
            "max_height": null,
            "max_width": null,
            "min_height": null,
            "min_width": null,
            "object_fit": null,
            "object_position": null,
            "order": null,
            "overflow": null,
            "overflow_x": null,
            "overflow_y": null,
            "padding": null,
            "right": null,
            "top": null,
            "visibility": null,
            "width": null
          }
        },
        "85ec69e436ff4c3c983df4b3bc29fcc0": {
          "model_module": "@jupyter-widgets/base",
          "model_name": "LayoutModel",
          "model_module_version": "1.2.0",
          "state": {
            "_model_module": "@jupyter-widgets/base",
            "_model_module_version": "1.2.0",
            "_model_name": "LayoutModel",
            "_view_count": null,
            "_view_module": "@jupyter-widgets/base",
            "_view_module_version": "1.2.0",
            "_view_name": "LayoutView",
            "align_content": null,
            "align_items": null,
            "align_self": null,
            "border": null,
            "bottom": null,
            "display": null,
            "flex": null,
            "flex_flow": null,
            "grid_area": null,
            "grid_auto_columns": null,
            "grid_auto_flow": null,
            "grid_auto_rows": null,
            "grid_column": null,
            "grid_gap": null,
            "grid_row": null,
            "grid_template_areas": null,
            "grid_template_columns": null,
            "grid_template_rows": null,
            "height": null,
            "justify_content": null,
            "justify_items": null,
            "left": null,
            "margin": null,
            "max_height": null,
            "max_width": null,
            "min_height": null,
            "min_width": null,
            "object_fit": null,
            "object_position": null,
            "order": null,
            "overflow": null,
            "overflow_x": null,
            "overflow_y": null,
            "padding": null,
            "right": null,
            "top": null,
            "visibility": null,
            "width": null
          }
        },
        "a36ae5604d01480f9144e14e9c814595": {
          "model_module": "@jupyter-widgets/controls",
          "model_name": "DescriptionStyleModel",
          "model_module_version": "1.5.0",
          "state": {
            "_model_module": "@jupyter-widgets/controls",
            "_model_module_version": "1.5.0",
            "_model_name": "DescriptionStyleModel",
            "_view_count": null,
            "_view_module": "@jupyter-widgets/base",
            "_view_module_version": "1.2.0",
            "_view_name": "StyleView",
            "description_width": ""
          }
        },
        "c2e3d05a77dc42949c850a5f9f638b72": {
          "model_module": "@jupyter-widgets/base",
          "model_name": "LayoutModel",
          "model_module_version": "1.2.0",
          "state": {
            "_model_module": "@jupyter-widgets/base",
            "_model_module_version": "1.2.0",
            "_model_name": "LayoutModel",
            "_view_count": null,
            "_view_module": "@jupyter-widgets/base",
            "_view_module_version": "1.2.0",
            "_view_name": "LayoutView",
            "align_content": null,
            "align_items": null,
            "align_self": null,
            "border": null,
            "bottom": null,
            "display": null,
            "flex": null,
            "flex_flow": null,
            "grid_area": null,
            "grid_auto_columns": null,
            "grid_auto_flow": null,
            "grid_auto_rows": null,
            "grid_column": null,
            "grid_gap": null,
            "grid_row": null,
            "grid_template_areas": null,
            "grid_template_columns": null,
            "grid_template_rows": null,
            "height": null,
            "justify_content": null,
            "justify_items": null,
            "left": null,
            "margin": null,
            "max_height": null,
            "max_width": null,
            "min_height": null,
            "min_width": null,
            "object_fit": null,
            "object_position": null,
            "order": null,
            "overflow": null,
            "overflow_x": null,
            "overflow_y": null,
            "padding": null,
            "right": null,
            "top": null,
            "visibility": null,
            "width": null
          }
        },
        "c2ced9cd67974b3289df9ff459b383a0": {
          "model_module": "@jupyter-widgets/controls",
          "model_name": "ProgressStyleModel",
          "model_module_version": "1.5.0",
          "state": {
            "_model_module": "@jupyter-widgets/controls",
            "_model_module_version": "1.5.0",
            "_model_name": "ProgressStyleModel",
            "_view_count": null,
            "_view_module": "@jupyter-widgets/base",
            "_view_module_version": "1.2.0",
            "_view_name": "StyleView",
            "bar_color": null,
            "description_width": ""
          }
        },
        "89db365119aa4c90a9c2e99fd66f0b22": {
          "model_module": "@jupyter-widgets/base",
          "model_name": "LayoutModel",
          "model_module_version": "1.2.0",
          "state": {
            "_model_module": "@jupyter-widgets/base",
            "_model_module_version": "1.2.0",
            "_model_name": "LayoutModel",
            "_view_count": null,
            "_view_module": "@jupyter-widgets/base",
            "_view_module_version": "1.2.0",
            "_view_name": "LayoutView",
            "align_content": null,
            "align_items": null,
            "align_self": null,
            "border": null,
            "bottom": null,
            "display": null,
            "flex": null,
            "flex_flow": null,
            "grid_area": null,
            "grid_auto_columns": null,
            "grid_auto_flow": null,
            "grid_auto_rows": null,
            "grid_column": null,
            "grid_gap": null,
            "grid_row": null,
            "grid_template_areas": null,
            "grid_template_columns": null,
            "grid_template_rows": null,
            "height": null,
            "justify_content": null,
            "justify_items": null,
            "left": null,
            "margin": null,
            "max_height": null,
            "max_width": null,
            "min_height": null,
            "min_width": null,
            "object_fit": null,
            "object_position": null,
            "order": null,
            "overflow": null,
            "overflow_x": null,
            "overflow_y": null,
            "padding": null,
            "right": null,
            "top": null,
            "visibility": null,
            "width": null
          }
        },
        "210c22c19fa747fab1ad1f4fbabd8d3a": {
          "model_module": "@jupyter-widgets/controls",
          "model_name": "DescriptionStyleModel",
          "model_module_version": "1.5.0",
          "state": {
            "_model_module": "@jupyter-widgets/controls",
            "_model_module_version": "1.5.0",
            "_model_name": "DescriptionStyleModel",
            "_view_count": null,
            "_view_module": "@jupyter-widgets/base",
            "_view_module_version": "1.2.0",
            "_view_name": "StyleView",
            "description_width": ""
          }
        },
        "149652cd6f5e4e99bdea74f6e1d7cd16": {
          "model_module": "@jupyter-widgets/controls",
          "model_name": "HBoxModel",
          "model_module_version": "1.5.0",
          "state": {
            "_dom_classes": [],
            "_model_module": "@jupyter-widgets/controls",
            "_model_module_version": "1.5.0",
            "_model_name": "HBoxModel",
            "_view_count": null,
            "_view_module": "@jupyter-widgets/controls",
            "_view_module_version": "1.5.0",
            "_view_name": "HBoxView",
            "box_style": "",
            "children": [
              "IPY_MODEL_eb3d2127dcff4c91b8b983c4292e9400",
              "IPY_MODEL_893a0e27d2a54a9ab5f3f81b08125024",
              "IPY_MODEL_7f0549546a9b4117831315c7469d3892"
            ],
            "layout": "IPY_MODEL_8256c6665aae41169cea9c2643ea39be"
          }
        },
        "eb3d2127dcff4c91b8b983c4292e9400": {
          "model_module": "@jupyter-widgets/controls",
          "model_name": "HTMLModel",
          "model_module_version": "1.5.0",
          "state": {
            "_dom_classes": [],
            "_model_module": "@jupyter-widgets/controls",
            "_model_module_version": "1.5.0",
            "_model_name": "HTMLModel",
            "_view_count": null,
            "_view_module": "@jupyter-widgets/controls",
            "_view_module_version": "1.5.0",
            "_view_name": "HTMLView",
            "description": "",
            "description_tooltip": null,
            "layout": "IPY_MODEL_b353a4c3e24c43eeb75303dc232cc396",
            "placeholder": "​",
            "style": "IPY_MODEL_9917054f297c408b9e7be5399f76de86",
            "value": "tokenizer.model: 100%"
          }
        },
        "893a0e27d2a54a9ab5f3f81b08125024": {
          "model_module": "@jupyter-widgets/controls",
          "model_name": "FloatProgressModel",
          "model_module_version": "1.5.0",
          "state": {
            "_dom_classes": [],
            "_model_module": "@jupyter-widgets/controls",
            "_model_module_version": "1.5.0",
            "_model_name": "FloatProgressModel",
            "_view_count": null,
            "_view_module": "@jupyter-widgets/controls",
            "_view_module_version": "1.5.0",
            "_view_name": "ProgressView",
            "bar_style": "success",
            "description": "",
            "description_tooltip": null,
            "layout": "IPY_MODEL_b9bb7d2f70cc46ea9c31529869901c89",
            "max": 493443,
            "min": 0,
            "orientation": "horizontal",
            "style": "IPY_MODEL_37ce0bfc033d4df19684cb5412d7fdee",
            "value": 493443
          }
        },
        "7f0549546a9b4117831315c7469d3892": {
          "model_module": "@jupyter-widgets/controls",
          "model_name": "HTMLModel",
          "model_module_version": "1.5.0",
          "state": {
            "_dom_classes": [],
            "_model_module": "@jupyter-widgets/controls",
            "_model_module_version": "1.5.0",
            "_model_name": "HTMLModel",
            "_view_count": null,
            "_view_module": "@jupyter-widgets/controls",
            "_view_module_version": "1.5.0",
            "_view_name": "HTMLView",
            "description": "",
            "description_tooltip": null,
            "layout": "IPY_MODEL_e4154f22b0d4418a86bccf7b0c16b9f0",
            "placeholder": "​",
            "style": "IPY_MODEL_6a1b2df5aa0d4a148b84fbc990d98ded",
            "value": " 493k/493k [00:00&lt;00:00, 30.8MB/s]"
          }
        },
        "8256c6665aae41169cea9c2643ea39be": {
          "model_module": "@jupyter-widgets/base",
          "model_name": "LayoutModel",
          "model_module_version": "1.2.0",
          "state": {
            "_model_module": "@jupyter-widgets/base",
            "_model_module_version": "1.2.0",
            "_model_name": "LayoutModel",
            "_view_count": null,
            "_view_module": "@jupyter-widgets/base",
            "_view_module_version": "1.2.0",
            "_view_name": "LayoutView",
            "align_content": null,
            "align_items": null,
            "align_self": null,
            "border": null,
            "bottom": null,
            "display": null,
            "flex": null,
            "flex_flow": null,
            "grid_area": null,
            "grid_auto_columns": null,
            "grid_auto_flow": null,
            "grid_auto_rows": null,
            "grid_column": null,
            "grid_gap": null,
            "grid_row": null,
            "grid_template_areas": null,
            "grid_template_columns": null,
            "grid_template_rows": null,
            "height": null,
            "justify_content": null,
            "justify_items": null,
            "left": null,
            "margin": null,
            "max_height": null,
            "max_width": null,
            "min_height": null,
            "min_width": null,
            "object_fit": null,
            "object_position": null,
            "order": null,
            "overflow": null,
            "overflow_x": null,
            "overflow_y": null,
            "padding": null,
            "right": null,
            "top": null,
            "visibility": null,
            "width": null
          }
        },
        "b353a4c3e24c43eeb75303dc232cc396": {
          "model_module": "@jupyter-widgets/base",
          "model_name": "LayoutModel",
          "model_module_version": "1.2.0",
          "state": {
            "_model_module": "@jupyter-widgets/base",
            "_model_module_version": "1.2.0",
            "_model_name": "LayoutModel",
            "_view_count": null,
            "_view_module": "@jupyter-widgets/base",
            "_view_module_version": "1.2.0",
            "_view_name": "LayoutView",
            "align_content": null,
            "align_items": null,
            "align_self": null,
            "border": null,
            "bottom": null,
            "display": null,
            "flex": null,
            "flex_flow": null,
            "grid_area": null,
            "grid_auto_columns": null,
            "grid_auto_flow": null,
            "grid_auto_rows": null,
            "grid_column": null,
            "grid_gap": null,
            "grid_row": null,
            "grid_template_areas": null,
            "grid_template_columns": null,
            "grid_template_rows": null,
            "height": null,
            "justify_content": null,
            "justify_items": null,
            "left": null,
            "margin": null,
            "max_height": null,
            "max_width": null,
            "min_height": null,
            "min_width": null,
            "object_fit": null,
            "object_position": null,
            "order": null,
            "overflow": null,
            "overflow_x": null,
            "overflow_y": null,
            "padding": null,
            "right": null,
            "top": null,
            "visibility": null,
            "width": null
          }
        },
        "9917054f297c408b9e7be5399f76de86": {
          "model_module": "@jupyter-widgets/controls",
          "model_name": "DescriptionStyleModel",
          "model_module_version": "1.5.0",
          "state": {
            "_model_module": "@jupyter-widgets/controls",
            "_model_module_version": "1.5.0",
            "_model_name": "DescriptionStyleModel",
            "_view_count": null,
            "_view_module": "@jupyter-widgets/base",
            "_view_module_version": "1.2.0",
            "_view_name": "StyleView",
            "description_width": ""
          }
        },
        "b9bb7d2f70cc46ea9c31529869901c89": {
          "model_module": "@jupyter-widgets/base",
          "model_name": "LayoutModel",
          "model_module_version": "1.2.0",
          "state": {
            "_model_module": "@jupyter-widgets/base",
            "_model_module_version": "1.2.0",
            "_model_name": "LayoutModel",
            "_view_count": null,
            "_view_module": "@jupyter-widgets/base",
            "_view_module_version": "1.2.0",
            "_view_name": "LayoutView",
            "align_content": null,
            "align_items": null,
            "align_self": null,
            "border": null,
            "bottom": null,
            "display": null,
            "flex": null,
            "flex_flow": null,
            "grid_area": null,
            "grid_auto_columns": null,
            "grid_auto_flow": null,
            "grid_auto_rows": null,
            "grid_column": null,
            "grid_gap": null,
            "grid_row": null,
            "grid_template_areas": null,
            "grid_template_columns": null,
            "grid_template_rows": null,
            "height": null,
            "justify_content": null,
            "justify_items": null,
            "left": null,
            "margin": null,
            "max_height": null,
            "max_width": null,
            "min_height": null,
            "min_width": null,
            "object_fit": null,
            "object_position": null,
            "order": null,
            "overflow": null,
            "overflow_x": null,
            "overflow_y": null,
            "padding": null,
            "right": null,
            "top": null,
            "visibility": null,
            "width": null
          }
        },
        "37ce0bfc033d4df19684cb5412d7fdee": {
          "model_module": "@jupyter-widgets/controls",
          "model_name": "ProgressStyleModel",
          "model_module_version": "1.5.0",
          "state": {
            "_model_module": "@jupyter-widgets/controls",
            "_model_module_version": "1.5.0",
            "_model_name": "ProgressStyleModel",
            "_view_count": null,
            "_view_module": "@jupyter-widgets/base",
            "_view_module_version": "1.2.0",
            "_view_name": "StyleView",
            "bar_color": null,
            "description_width": ""
          }
        },
        "e4154f22b0d4418a86bccf7b0c16b9f0": {
          "model_module": "@jupyter-widgets/base",
          "model_name": "LayoutModel",
          "model_module_version": "1.2.0",
          "state": {
            "_model_module": "@jupyter-widgets/base",
            "_model_module_version": "1.2.0",
            "_model_name": "LayoutModel",
            "_view_count": null,
            "_view_module": "@jupyter-widgets/base",
            "_view_module_version": "1.2.0",
            "_view_name": "LayoutView",
            "align_content": null,
            "align_items": null,
            "align_self": null,
            "border": null,
            "bottom": null,
            "display": null,
            "flex": null,
            "flex_flow": null,
            "grid_area": null,
            "grid_auto_columns": null,
            "grid_auto_flow": null,
            "grid_auto_rows": null,
            "grid_column": null,
            "grid_gap": null,
            "grid_row": null,
            "grid_template_areas": null,
            "grid_template_columns": null,
            "grid_template_rows": null,
            "height": null,
            "justify_content": null,
            "justify_items": null,
            "left": null,
            "margin": null,
            "max_height": null,
            "max_width": null,
            "min_height": null,
            "min_width": null,
            "object_fit": null,
            "object_position": null,
            "order": null,
            "overflow": null,
            "overflow_x": null,
            "overflow_y": null,
            "padding": null,
            "right": null,
            "top": null,
            "visibility": null,
            "width": null
          }
        },
        "6a1b2df5aa0d4a148b84fbc990d98ded": {
          "model_module": "@jupyter-widgets/controls",
          "model_name": "DescriptionStyleModel",
          "model_module_version": "1.5.0",
          "state": {
            "_model_module": "@jupyter-widgets/controls",
            "_model_module_version": "1.5.0",
            "_model_name": "DescriptionStyleModel",
            "_view_count": null,
            "_view_module": "@jupyter-widgets/base",
            "_view_module_version": "1.2.0",
            "_view_name": "StyleView",
            "description_width": ""
          }
        },
        "442d7e37a4244b7789e79a952de3dd5c": {
          "model_module": "@jupyter-widgets/controls",
          "model_name": "HBoxModel",
          "model_module_version": "1.5.0",
          "state": {
            "_dom_classes": [],
            "_model_module": "@jupyter-widgets/controls",
            "_model_module_version": "1.5.0",
            "_model_name": "HBoxModel",
            "_view_count": null,
            "_view_module": "@jupyter-widgets/controls",
            "_view_module_version": "1.5.0",
            "_view_name": "HBoxView",
            "box_style": "",
            "children": [
              "IPY_MODEL_e831571ea1484236b951a2bd6e609b6b",
              "IPY_MODEL_f554a05105b4421f89d631be9069200d",
              "IPY_MODEL_7be5372b827943bfbe9ba71b1771c2ed"
            ],
            "layout": "IPY_MODEL_f69781d739844a17b0ee9fe2a2ca3b30"
          }
        },
        "e831571ea1484236b951a2bd6e609b6b": {
          "model_module": "@jupyter-widgets/controls",
          "model_name": "HTMLModel",
          "model_module_version": "1.5.0",
          "state": {
            "_dom_classes": [],
            "_model_module": "@jupyter-widgets/controls",
            "_model_module_version": "1.5.0",
            "_model_name": "HTMLModel",
            "_view_count": null,
            "_view_module": "@jupyter-widgets/controls",
            "_view_module_version": "1.5.0",
            "_view_name": "HTMLView",
            "description": "",
            "description_tooltip": null,
            "layout": "IPY_MODEL_fbd46af0c33b4603bed27e1ade4e35c6",
            "placeholder": "​",
            "style": "IPY_MODEL_82131e360c0c4648a0041b264e5c3277",
            "value": "tokenizer.json: 100%"
          }
        },
        "f554a05105b4421f89d631be9069200d": {
          "model_module": "@jupyter-widgets/controls",
          "model_name": "FloatProgressModel",
          "model_module_version": "1.5.0",
          "state": {
            "_dom_classes": [],
            "_model_module": "@jupyter-widgets/controls",
            "_model_module_version": "1.5.0",
            "_model_name": "FloatProgressModel",
            "_view_count": null,
            "_view_module": "@jupyter-widgets/controls",
            "_view_module_version": "1.5.0",
            "_view_name": "ProgressView",
            "bar_style": "success",
            "description": "",
            "description_tooltip": null,
            "layout": "IPY_MODEL_069e998a3ffb4fa89448339a6c3c059c",
            "max": 1795303,
            "min": 0,
            "orientation": "horizontal",
            "style": "IPY_MODEL_b343bda94d5b46758a3030c27130009c",
            "value": 1795303
          }
        },
        "7be5372b827943bfbe9ba71b1771c2ed": {
          "model_module": "@jupyter-widgets/controls",
          "model_name": "HTMLModel",
          "model_module_version": "1.5.0",
          "state": {
            "_dom_classes": [],
            "_model_module": "@jupyter-widgets/controls",
            "_model_module_version": "1.5.0",
            "_model_name": "HTMLModel",
            "_view_count": null,
            "_view_module": "@jupyter-widgets/controls",
            "_view_module_version": "1.5.0",
            "_view_name": "HTMLView",
            "description": "",
            "description_tooltip": null,
            "layout": "IPY_MODEL_173c2457c5c943758248d2453a6c85c1",
            "placeholder": "​",
            "style": "IPY_MODEL_63ccc925c4e34fdcaca40c93d6d0f322",
            "value": " 1.80M/1.80M [00:00&lt;00:00, 4.98MB/s]"
          }
        },
        "f69781d739844a17b0ee9fe2a2ca3b30": {
          "model_module": "@jupyter-widgets/base",
          "model_name": "LayoutModel",
          "model_module_version": "1.2.0",
          "state": {
            "_model_module": "@jupyter-widgets/base",
            "_model_module_version": "1.2.0",
            "_model_name": "LayoutModel",
            "_view_count": null,
            "_view_module": "@jupyter-widgets/base",
            "_view_module_version": "1.2.0",
            "_view_name": "LayoutView",
            "align_content": null,
            "align_items": null,
            "align_self": null,
            "border": null,
            "bottom": null,
            "display": null,
            "flex": null,
            "flex_flow": null,
            "grid_area": null,
            "grid_auto_columns": null,
            "grid_auto_flow": null,
            "grid_auto_rows": null,
            "grid_column": null,
            "grid_gap": null,
            "grid_row": null,
            "grid_template_areas": null,
            "grid_template_columns": null,
            "grid_template_rows": null,
            "height": null,
            "justify_content": null,
            "justify_items": null,
            "left": null,
            "margin": null,
            "max_height": null,
            "max_width": null,
            "min_height": null,
            "min_width": null,
            "object_fit": null,
            "object_position": null,
            "order": null,
            "overflow": null,
            "overflow_x": null,
            "overflow_y": null,
            "padding": null,
            "right": null,
            "top": null,
            "visibility": null,
            "width": null
          }
        },
        "fbd46af0c33b4603bed27e1ade4e35c6": {
          "model_module": "@jupyter-widgets/base",
          "model_name": "LayoutModel",
          "model_module_version": "1.2.0",
          "state": {
            "_model_module": "@jupyter-widgets/base",
            "_model_module_version": "1.2.0",
            "_model_name": "LayoutModel",
            "_view_count": null,
            "_view_module": "@jupyter-widgets/base",
            "_view_module_version": "1.2.0",
            "_view_name": "LayoutView",
            "align_content": null,
            "align_items": null,
            "align_self": null,
            "border": null,
            "bottom": null,
            "display": null,
            "flex": null,
            "flex_flow": null,
            "grid_area": null,
            "grid_auto_columns": null,
            "grid_auto_flow": null,
            "grid_auto_rows": null,
            "grid_column": null,
            "grid_gap": null,
            "grid_row": null,
            "grid_template_areas": null,
            "grid_template_columns": null,
            "grid_template_rows": null,
            "height": null,
            "justify_content": null,
            "justify_items": null,
            "left": null,
            "margin": null,
            "max_height": null,
            "max_width": null,
            "min_height": null,
            "min_width": null,
            "object_fit": null,
            "object_position": null,
            "order": null,
            "overflow": null,
            "overflow_x": null,
            "overflow_y": null,
            "padding": null,
            "right": null,
            "top": null,
            "visibility": null,
            "width": null
          }
        },
        "82131e360c0c4648a0041b264e5c3277": {
          "model_module": "@jupyter-widgets/controls",
          "model_name": "DescriptionStyleModel",
          "model_module_version": "1.5.0",
          "state": {
            "_model_module": "@jupyter-widgets/controls",
            "_model_module_version": "1.5.0",
            "_model_name": "DescriptionStyleModel",
            "_view_count": null,
            "_view_module": "@jupyter-widgets/base",
            "_view_module_version": "1.2.0",
            "_view_name": "StyleView",
            "description_width": ""
          }
        },
        "069e998a3ffb4fa89448339a6c3c059c": {
          "model_module": "@jupyter-widgets/base",
          "model_name": "LayoutModel",
          "model_module_version": "1.2.0",
          "state": {
            "_model_module": "@jupyter-widgets/base",
            "_model_module_version": "1.2.0",
            "_model_name": "LayoutModel",
            "_view_count": null,
            "_view_module": "@jupyter-widgets/base",
            "_view_module_version": "1.2.0",
            "_view_name": "LayoutView",
            "align_content": null,
            "align_items": null,
            "align_self": null,
            "border": null,
            "bottom": null,
            "display": null,
            "flex": null,
            "flex_flow": null,
            "grid_area": null,
            "grid_auto_columns": null,
            "grid_auto_flow": null,
            "grid_auto_rows": null,
            "grid_column": null,
            "grid_gap": null,
            "grid_row": null,
            "grid_template_areas": null,
            "grid_template_columns": null,
            "grid_template_rows": null,
            "height": null,
            "justify_content": null,
            "justify_items": null,
            "left": null,
            "margin": null,
            "max_height": null,
            "max_width": null,
            "min_height": null,
            "min_width": null,
            "object_fit": null,
            "object_position": null,
            "order": null,
            "overflow": null,
            "overflow_x": null,
            "overflow_y": null,
            "padding": null,
            "right": null,
            "top": null,
            "visibility": null,
            "width": null
          }
        },
        "b343bda94d5b46758a3030c27130009c": {
          "model_module": "@jupyter-widgets/controls",
          "model_name": "ProgressStyleModel",
          "model_module_version": "1.5.0",
          "state": {
            "_model_module": "@jupyter-widgets/controls",
            "_model_module_version": "1.5.0",
            "_model_name": "ProgressStyleModel",
            "_view_count": null,
            "_view_module": "@jupyter-widgets/base",
            "_view_module_version": "1.2.0",
            "_view_name": "StyleView",
            "bar_color": null,
            "description_width": ""
          }
        },
        "173c2457c5c943758248d2453a6c85c1": {
          "model_module": "@jupyter-widgets/base",
          "model_name": "LayoutModel",
          "model_module_version": "1.2.0",
          "state": {
            "_model_module": "@jupyter-widgets/base",
            "_model_module_version": "1.2.0",
            "_model_name": "LayoutModel",
            "_view_count": null,
            "_view_module": "@jupyter-widgets/base",
            "_view_module_version": "1.2.0",
            "_view_name": "LayoutView",
            "align_content": null,
            "align_items": null,
            "align_self": null,
            "border": null,
            "bottom": null,
            "display": null,
            "flex": null,
            "flex_flow": null,
            "grid_area": null,
            "grid_auto_columns": null,
            "grid_auto_flow": null,
            "grid_auto_rows": null,
            "grid_column": null,
            "grid_gap": null,
            "grid_row": null,
            "grid_template_areas": null,
            "grid_template_columns": null,
            "grid_template_rows": null,
            "height": null,
            "justify_content": null,
            "justify_items": null,
            "left": null,
            "margin": null,
            "max_height": null,
            "max_width": null,
            "min_height": null,
            "min_width": null,
            "object_fit": null,
            "object_position": null,
            "order": null,
            "overflow": null,
            "overflow_x": null,
            "overflow_y": null,
            "padding": null,
            "right": null,
            "top": null,
            "visibility": null,
            "width": null
          }
        },
        "63ccc925c4e34fdcaca40c93d6d0f322": {
          "model_module": "@jupyter-widgets/controls",
          "model_name": "DescriptionStyleModel",
          "model_module_version": "1.5.0",
          "state": {
            "_model_module": "@jupyter-widgets/controls",
            "_model_module_version": "1.5.0",
            "_model_name": "DescriptionStyleModel",
            "_view_count": null,
            "_view_module": "@jupyter-widgets/base",
            "_view_module_version": "1.2.0",
            "_view_name": "StyleView",
            "description_width": ""
          }
        },
        "a75e3a36095940c9b3080dbc99ceb456": {
          "model_module": "@jupyter-widgets/controls",
          "model_name": "HBoxModel",
          "model_module_version": "1.5.0",
          "state": {
            "_dom_classes": [],
            "_model_module": "@jupyter-widgets/controls",
            "_model_module_version": "1.5.0",
            "_model_name": "HBoxModel",
            "_view_count": null,
            "_view_module": "@jupyter-widgets/controls",
            "_view_module_version": "1.5.0",
            "_view_name": "HBoxView",
            "box_style": "",
            "children": [
              "IPY_MODEL_79fd151b67b54afd837da4bda74bd72a",
              "IPY_MODEL_567519ac89f444eabdedebf4fb5464d8",
              "IPY_MODEL_1d5793b782b3458396fe0b2bd2bad1c1"
            ],
            "layout": "IPY_MODEL_885457c076c34404b4e59d49377eea78"
          }
        },
        "79fd151b67b54afd837da4bda74bd72a": {
          "model_module": "@jupyter-widgets/controls",
          "model_name": "HTMLModel",
          "model_module_version": "1.5.0",
          "state": {
            "_dom_classes": [],
            "_model_module": "@jupyter-widgets/controls",
            "_model_module_version": "1.5.0",
            "_model_name": "HTMLModel",
            "_view_count": null,
            "_view_module": "@jupyter-widgets/controls",
            "_view_module_version": "1.5.0",
            "_view_name": "HTMLView",
            "description": "",
            "description_tooltip": null,
            "layout": "IPY_MODEL_191779d9bb244fce8793cd32a9fd436d",
            "placeholder": "​",
            "style": "IPY_MODEL_19ad60f893a64dacb8952328dee702ef",
            "value": "special_tokens_map.json: 100%"
          }
        },
        "567519ac89f444eabdedebf4fb5464d8": {
          "model_module": "@jupyter-widgets/controls",
          "model_name": "FloatProgressModel",
          "model_module_version": "1.5.0",
          "state": {
            "_dom_classes": [],
            "_model_module": "@jupyter-widgets/controls",
            "_model_module_version": "1.5.0",
            "_model_name": "FloatProgressModel",
            "_view_count": null,
            "_view_module": "@jupyter-widgets/controls",
            "_view_module_version": "1.5.0",
            "_view_name": "ProgressView",
            "bar_style": "success",
            "description": "",
            "description_tooltip": null,
            "layout": "IPY_MODEL_0532e15524194638b65b9628f1d16073",
            "max": 72,
            "min": 0,
            "orientation": "horizontal",
            "style": "IPY_MODEL_d3cf3c6d901f4d2c880b1e193a1bede7",
            "value": 72
          }
        },
        "1d5793b782b3458396fe0b2bd2bad1c1": {
          "model_module": "@jupyter-widgets/controls",
          "model_name": "HTMLModel",
          "model_module_version": "1.5.0",
          "state": {
            "_dom_classes": [],
            "_model_module": "@jupyter-widgets/controls",
            "_model_module_version": "1.5.0",
            "_model_name": "HTMLModel",
            "_view_count": null,
            "_view_module": "@jupyter-widgets/controls",
            "_view_module_version": "1.5.0",
            "_view_name": "HTMLView",
            "description": "",
            "description_tooltip": null,
            "layout": "IPY_MODEL_c0afee08bc2645deaa10b8c0554157f6",
            "placeholder": "​",
            "style": "IPY_MODEL_8a22fd9268794de4bc4936f4fb7f509d",
            "value": " 72.0/72.0 [00:00&lt;00:00, 2.70kB/s]"
          }
        },
        "885457c076c34404b4e59d49377eea78": {
          "model_module": "@jupyter-widgets/base",
          "model_name": "LayoutModel",
          "model_module_version": "1.2.0",
          "state": {
            "_model_module": "@jupyter-widgets/base",
            "_model_module_version": "1.2.0",
            "_model_name": "LayoutModel",
            "_view_count": null,
            "_view_module": "@jupyter-widgets/base",
            "_view_module_version": "1.2.0",
            "_view_name": "LayoutView",
            "align_content": null,
            "align_items": null,
            "align_self": null,
            "border": null,
            "bottom": null,
            "display": null,
            "flex": null,
            "flex_flow": null,
            "grid_area": null,
            "grid_auto_columns": null,
            "grid_auto_flow": null,
            "grid_auto_rows": null,
            "grid_column": null,
            "grid_gap": null,
            "grid_row": null,
            "grid_template_areas": null,
            "grid_template_columns": null,
            "grid_template_rows": null,
            "height": null,
            "justify_content": null,
            "justify_items": null,
            "left": null,
            "margin": null,
            "max_height": null,
            "max_width": null,
            "min_height": null,
            "min_width": null,
            "object_fit": null,
            "object_position": null,
            "order": null,
            "overflow": null,
            "overflow_x": null,
            "overflow_y": null,
            "padding": null,
            "right": null,
            "top": null,
            "visibility": null,
            "width": null
          }
        },
        "191779d9bb244fce8793cd32a9fd436d": {
          "model_module": "@jupyter-widgets/base",
          "model_name": "LayoutModel",
          "model_module_version": "1.2.0",
          "state": {
            "_model_module": "@jupyter-widgets/base",
            "_model_module_version": "1.2.0",
            "_model_name": "LayoutModel",
            "_view_count": null,
            "_view_module": "@jupyter-widgets/base",
            "_view_module_version": "1.2.0",
            "_view_name": "LayoutView",
            "align_content": null,
            "align_items": null,
            "align_self": null,
            "border": null,
            "bottom": null,
            "display": null,
            "flex": null,
            "flex_flow": null,
            "grid_area": null,
            "grid_auto_columns": null,
            "grid_auto_flow": null,
            "grid_auto_rows": null,
            "grid_column": null,
            "grid_gap": null,
            "grid_row": null,
            "grid_template_areas": null,
            "grid_template_columns": null,
            "grid_template_rows": null,
            "height": null,
            "justify_content": null,
            "justify_items": null,
            "left": null,
            "margin": null,
            "max_height": null,
            "max_width": null,
            "min_height": null,
            "min_width": null,
            "object_fit": null,
            "object_position": null,
            "order": null,
            "overflow": null,
            "overflow_x": null,
            "overflow_y": null,
            "padding": null,
            "right": null,
            "top": null,
            "visibility": null,
            "width": null
          }
        },
        "19ad60f893a64dacb8952328dee702ef": {
          "model_module": "@jupyter-widgets/controls",
          "model_name": "DescriptionStyleModel",
          "model_module_version": "1.5.0",
          "state": {
            "_model_module": "@jupyter-widgets/controls",
            "_model_module_version": "1.5.0",
            "_model_name": "DescriptionStyleModel",
            "_view_count": null,
            "_view_module": "@jupyter-widgets/base",
            "_view_module_version": "1.2.0",
            "_view_name": "StyleView",
            "description_width": ""
          }
        },
        "0532e15524194638b65b9628f1d16073": {
          "model_module": "@jupyter-widgets/base",
          "model_name": "LayoutModel",
          "model_module_version": "1.2.0",
          "state": {
            "_model_module": "@jupyter-widgets/base",
            "_model_module_version": "1.2.0",
            "_model_name": "LayoutModel",
            "_view_count": null,
            "_view_module": "@jupyter-widgets/base",
            "_view_module_version": "1.2.0",
            "_view_name": "LayoutView",
            "align_content": null,
            "align_items": null,
            "align_self": null,
            "border": null,
            "bottom": null,
            "display": null,
            "flex": null,
            "flex_flow": null,
            "grid_area": null,
            "grid_auto_columns": null,
            "grid_auto_flow": null,
            "grid_auto_rows": null,
            "grid_column": null,
            "grid_gap": null,
            "grid_row": null,
            "grid_template_areas": null,
            "grid_template_columns": null,
            "grid_template_rows": null,
            "height": null,
            "justify_content": null,
            "justify_items": null,
            "left": null,
            "margin": null,
            "max_height": null,
            "max_width": null,
            "min_height": null,
            "min_width": null,
            "object_fit": null,
            "object_position": null,
            "order": null,
            "overflow": null,
            "overflow_x": null,
            "overflow_y": null,
            "padding": null,
            "right": null,
            "top": null,
            "visibility": null,
            "width": null
          }
        },
        "d3cf3c6d901f4d2c880b1e193a1bede7": {
          "model_module": "@jupyter-widgets/controls",
          "model_name": "ProgressStyleModel",
          "model_module_version": "1.5.0",
          "state": {
            "_model_module": "@jupyter-widgets/controls",
            "_model_module_version": "1.5.0",
            "_model_name": "ProgressStyleModel",
            "_view_count": null,
            "_view_module": "@jupyter-widgets/base",
            "_view_module_version": "1.2.0",
            "_view_name": "StyleView",
            "bar_color": null,
            "description_width": ""
          }
        },
        "c0afee08bc2645deaa10b8c0554157f6": {
          "model_module": "@jupyter-widgets/base",
          "model_name": "LayoutModel",
          "model_module_version": "1.2.0",
          "state": {
            "_model_module": "@jupyter-widgets/base",
            "_model_module_version": "1.2.0",
            "_model_name": "LayoutModel",
            "_view_count": null,
            "_view_module": "@jupyter-widgets/base",
            "_view_module_version": "1.2.0",
            "_view_name": "LayoutView",
            "align_content": null,
            "align_items": null,
            "align_self": null,
            "border": null,
            "bottom": null,
            "display": null,
            "flex": null,
            "flex_flow": null,
            "grid_area": null,
            "grid_auto_columns": null,
            "grid_auto_flow": null,
            "grid_auto_rows": null,
            "grid_column": null,
            "grid_gap": null,
            "grid_row": null,
            "grid_template_areas": null,
            "grid_template_columns": null,
            "grid_template_rows": null,
            "height": null,
            "justify_content": null,
            "justify_items": null,
            "left": null,
            "margin": null,
            "max_height": null,
            "max_width": null,
            "min_height": null,
            "min_width": null,
            "object_fit": null,
            "object_position": null,
            "order": null,
            "overflow": null,
            "overflow_x": null,
            "overflow_y": null,
            "padding": null,
            "right": null,
            "top": null,
            "visibility": null,
            "width": null
          }
        },
        "8a22fd9268794de4bc4936f4fb7f509d": {
          "model_module": "@jupyter-widgets/controls",
          "model_name": "DescriptionStyleModel",
          "model_module_version": "1.5.0",
          "state": {
            "_model_module": "@jupyter-widgets/controls",
            "_model_module_version": "1.5.0",
            "_model_name": "DescriptionStyleModel",
            "_view_count": null,
            "_view_module": "@jupyter-widgets/base",
            "_view_module_version": "1.2.0",
            "_view_name": "StyleView",
            "description_width": ""
          }
        },
        "08035418094448138535f448fc0c0c1f": {
          "model_module": "@jupyter-widgets/controls",
          "model_name": "HBoxModel",
          "model_module_version": "1.5.0",
          "state": {
            "_dom_classes": [],
            "_model_module": "@jupyter-widgets/controls",
            "_model_module_version": "1.5.0",
            "_model_name": "HBoxModel",
            "_view_count": null,
            "_view_module": "@jupyter-widgets/controls",
            "_view_module_version": "1.5.0",
            "_view_name": "HBoxView",
            "box_style": "",
            "children": [
              "IPY_MODEL_c24b734a01b043cdb2660d3dbf9c96e2",
              "IPY_MODEL_21bd0637ff40471db168f6854573611d",
              "IPY_MODEL_5c33d11e3ae94b14bba92c95ebf74e57"
            ],
            "layout": "IPY_MODEL_f987ce4123e345b98ead02ab03dfd8f4"
          }
        },
        "c24b734a01b043cdb2660d3dbf9c96e2": {
          "model_module": "@jupyter-widgets/controls",
          "model_name": "HTMLModel",
          "model_module_version": "1.5.0",
          "state": {
            "_dom_classes": [],
            "_model_module": "@jupyter-widgets/controls",
            "_model_module_version": "1.5.0",
            "_model_name": "HTMLModel",
            "_view_count": null,
            "_view_module": "@jupyter-widgets/controls",
            "_view_module_version": "1.5.0",
            "_view_name": "HTMLView",
            "description": "",
            "description_tooltip": null,
            "layout": "IPY_MODEL_ac15ff08e6734bcd90902a40974cd371",
            "placeholder": "​",
            "style": "IPY_MODEL_ccbed0c08fef409e87404240f055643c",
            "value": "config.json: 100%"
          }
        },
        "21bd0637ff40471db168f6854573611d": {
          "model_module": "@jupyter-widgets/controls",
          "model_name": "FloatProgressModel",
          "model_module_version": "1.5.0",
          "state": {
            "_dom_classes": [],
            "_model_module": "@jupyter-widgets/controls",
            "_model_module_version": "1.5.0",
            "_model_name": "FloatProgressModel",
            "_view_count": null,
            "_view_module": "@jupyter-widgets/controls",
            "_view_module_version": "1.5.0",
            "_view_name": "ProgressView",
            "bar_style": "success",
            "description": "",
            "description_tooltip": null,
            "layout": "IPY_MODEL_01a501b43b72409cb34a17b7a836cd68",
            "max": 596,
            "min": 0,
            "orientation": "horizontal",
            "style": "IPY_MODEL_69bbd514c3fa492db9c469d285f32d53",
            "value": 596
          }
        },
        "5c33d11e3ae94b14bba92c95ebf74e57": {
          "model_module": "@jupyter-widgets/controls",
          "model_name": "HTMLModel",
          "model_module_version": "1.5.0",
          "state": {
            "_dom_classes": [],
            "_model_module": "@jupyter-widgets/controls",
            "_model_module_version": "1.5.0",
            "_model_name": "HTMLModel",
            "_view_count": null,
            "_view_module": "@jupyter-widgets/controls",
            "_view_module_version": "1.5.0",
            "_view_name": "HTMLView",
            "description": "",
            "description_tooltip": null,
            "layout": "IPY_MODEL_a4047ae2ab674b8497b03737f4175ef0",
            "placeholder": "​",
            "style": "IPY_MODEL_f786141dd53447f6a7361f217afa0387",
            "value": " 596/596 [00:00&lt;00:00, 7.42kB/s]"
          }
        },
        "f987ce4123e345b98ead02ab03dfd8f4": {
          "model_module": "@jupyter-widgets/base",
          "model_name": "LayoutModel",
          "model_module_version": "1.2.0",
          "state": {
            "_model_module": "@jupyter-widgets/base",
            "_model_module_version": "1.2.0",
            "_model_name": "LayoutModel",
            "_view_count": null,
            "_view_module": "@jupyter-widgets/base",
            "_view_module_version": "1.2.0",
            "_view_name": "LayoutView",
            "align_content": null,
            "align_items": null,
            "align_self": null,
            "border": null,
            "bottom": null,
            "display": null,
            "flex": null,
            "flex_flow": null,
            "grid_area": null,
            "grid_auto_columns": null,
            "grid_auto_flow": null,
            "grid_auto_rows": null,
            "grid_column": null,
            "grid_gap": null,
            "grid_row": null,
            "grid_template_areas": null,
            "grid_template_columns": null,
            "grid_template_rows": null,
            "height": null,
            "justify_content": null,
            "justify_items": null,
            "left": null,
            "margin": null,
            "max_height": null,
            "max_width": null,
            "min_height": null,
            "min_width": null,
            "object_fit": null,
            "object_position": null,
            "order": null,
            "overflow": null,
            "overflow_x": null,
            "overflow_y": null,
            "padding": null,
            "right": null,
            "top": null,
            "visibility": null,
            "width": null
          }
        },
        "ac15ff08e6734bcd90902a40974cd371": {
          "model_module": "@jupyter-widgets/base",
          "model_name": "LayoutModel",
          "model_module_version": "1.2.0",
          "state": {
            "_model_module": "@jupyter-widgets/base",
            "_model_module_version": "1.2.0",
            "_model_name": "LayoutModel",
            "_view_count": null,
            "_view_module": "@jupyter-widgets/base",
            "_view_module_version": "1.2.0",
            "_view_name": "LayoutView",
            "align_content": null,
            "align_items": null,
            "align_self": null,
            "border": null,
            "bottom": null,
            "display": null,
            "flex": null,
            "flex_flow": null,
            "grid_area": null,
            "grid_auto_columns": null,
            "grid_auto_flow": null,
            "grid_auto_rows": null,
            "grid_column": null,
            "grid_gap": null,
            "grid_row": null,
            "grid_template_areas": null,
            "grid_template_columns": null,
            "grid_template_rows": null,
            "height": null,
            "justify_content": null,
            "justify_items": null,
            "left": null,
            "margin": null,
            "max_height": null,
            "max_width": null,
            "min_height": null,
            "min_width": null,
            "object_fit": null,
            "object_position": null,
            "order": null,
            "overflow": null,
            "overflow_x": null,
            "overflow_y": null,
            "padding": null,
            "right": null,
            "top": null,
            "visibility": null,
            "width": null
          }
        },
        "ccbed0c08fef409e87404240f055643c": {
          "model_module": "@jupyter-widgets/controls",
          "model_name": "DescriptionStyleModel",
          "model_module_version": "1.5.0",
          "state": {
            "_model_module": "@jupyter-widgets/controls",
            "_model_module_version": "1.5.0",
            "_model_name": "DescriptionStyleModel",
            "_view_count": null,
            "_view_module": "@jupyter-widgets/base",
            "_view_module_version": "1.2.0",
            "_view_name": "StyleView",
            "description_width": ""
          }
        },
        "01a501b43b72409cb34a17b7a836cd68": {
          "model_module": "@jupyter-widgets/base",
          "model_name": "LayoutModel",
          "model_module_version": "1.2.0",
          "state": {
            "_model_module": "@jupyter-widgets/base",
            "_model_module_version": "1.2.0",
            "_model_name": "LayoutModel",
            "_view_count": null,
            "_view_module": "@jupyter-widgets/base",
            "_view_module_version": "1.2.0",
            "_view_name": "LayoutView",
            "align_content": null,
            "align_items": null,
            "align_self": null,
            "border": null,
            "bottom": null,
            "display": null,
            "flex": null,
            "flex_flow": null,
            "grid_area": null,
            "grid_auto_columns": null,
            "grid_auto_flow": null,
            "grid_auto_rows": null,
            "grid_column": null,
            "grid_gap": null,
            "grid_row": null,
            "grid_template_areas": null,
            "grid_template_columns": null,
            "grid_template_rows": null,
            "height": null,
            "justify_content": null,
            "justify_items": null,
            "left": null,
            "margin": null,
            "max_height": null,
            "max_width": null,
            "min_height": null,
            "min_width": null,
            "object_fit": null,
            "object_position": null,
            "order": null,
            "overflow": null,
            "overflow_x": null,
            "overflow_y": null,
            "padding": null,
            "right": null,
            "top": null,
            "visibility": null,
            "width": null
          }
        },
        "69bbd514c3fa492db9c469d285f32d53": {
          "model_module": "@jupyter-widgets/controls",
          "model_name": "ProgressStyleModel",
          "model_module_version": "1.5.0",
          "state": {
            "_model_module": "@jupyter-widgets/controls",
            "_model_module_version": "1.5.0",
            "_model_name": "ProgressStyleModel",
            "_view_count": null,
            "_view_module": "@jupyter-widgets/base",
            "_view_module_version": "1.2.0",
            "_view_name": "StyleView",
            "bar_color": null,
            "description_width": ""
          }
        },
        "a4047ae2ab674b8497b03737f4175ef0": {
          "model_module": "@jupyter-widgets/base",
          "model_name": "LayoutModel",
          "model_module_version": "1.2.0",
          "state": {
            "_model_module": "@jupyter-widgets/base",
            "_model_module_version": "1.2.0",
            "_model_name": "LayoutModel",
            "_view_count": null,
            "_view_module": "@jupyter-widgets/base",
            "_view_module_version": "1.2.0",
            "_view_name": "LayoutView",
            "align_content": null,
            "align_items": null,
            "align_self": null,
            "border": null,
            "bottom": null,
            "display": null,
            "flex": null,
            "flex_flow": null,
            "grid_area": null,
            "grid_auto_columns": null,
            "grid_auto_flow": null,
            "grid_auto_rows": null,
            "grid_column": null,
            "grid_gap": null,
            "grid_row": null,
            "grid_template_areas": null,
            "grid_template_columns": null,
            "grid_template_rows": null,
            "height": null,
            "justify_content": null,
            "justify_items": null,
            "left": null,
            "margin": null,
            "max_height": null,
            "max_width": null,
            "min_height": null,
            "min_width": null,
            "object_fit": null,
            "object_position": null,
            "order": null,
            "overflow": null,
            "overflow_x": null,
            "overflow_y": null,
            "padding": null,
            "right": null,
            "top": null,
            "visibility": null,
            "width": null
          }
        },
        "f786141dd53447f6a7361f217afa0387": {
          "model_module": "@jupyter-widgets/controls",
          "model_name": "DescriptionStyleModel",
          "model_module_version": "1.5.0",
          "state": {
            "_model_module": "@jupyter-widgets/controls",
            "_model_module_version": "1.5.0",
            "_model_name": "DescriptionStyleModel",
            "_view_count": null,
            "_view_module": "@jupyter-widgets/base",
            "_view_module_version": "1.2.0",
            "_view_name": "StyleView",
            "description_width": ""
          }
        },
        "256fddda0df74a79866711bf03b77975": {
          "model_module": "@jupyter-widgets/controls",
          "model_name": "HBoxModel",
          "model_module_version": "1.5.0",
          "state": {
            "_dom_classes": [],
            "_model_module": "@jupyter-widgets/controls",
            "_model_module_version": "1.5.0",
            "_model_name": "HBoxModel",
            "_view_count": null,
            "_view_module": "@jupyter-widgets/controls",
            "_view_module_version": "1.5.0",
            "_view_name": "HBoxView",
            "box_style": "",
            "children": [
              "IPY_MODEL_f1b4efb4876e463d9f66411714047612",
              "IPY_MODEL_ca7e47d632f543879870ffcfe8071797",
              "IPY_MODEL_9166d2ba653b4f2185b1b88c56d58f6c"
            ],
            "layout": "IPY_MODEL_37a141ae3a544065ae7c1ac55bda22e2"
          }
        },
        "f1b4efb4876e463d9f66411714047612": {
          "model_module": "@jupyter-widgets/controls",
          "model_name": "HTMLModel",
          "model_module_version": "1.5.0",
          "state": {
            "_dom_classes": [],
            "_model_module": "@jupyter-widgets/controls",
            "_model_module_version": "1.5.0",
            "_model_name": "HTMLModel",
            "_view_count": null,
            "_view_module": "@jupyter-widgets/controls",
            "_view_module_version": "1.5.0",
            "_view_name": "HTMLView",
            "description": "",
            "description_tooltip": null,
            "layout": "IPY_MODEL_3727be805e7148719a0e339b88c33adc",
            "placeholder": "​",
            "style": "IPY_MODEL_2933e6c1768f4a2baec327ccb82e8873",
            "value": "model.safetensors.index.json: 100%"
          }
        },
        "ca7e47d632f543879870ffcfe8071797": {
          "model_module": "@jupyter-widgets/controls",
          "model_name": "FloatProgressModel",
          "model_module_version": "1.5.0",
          "state": {
            "_dom_classes": [],
            "_model_module": "@jupyter-widgets/controls",
            "_model_module_version": "1.5.0",
            "_model_name": "FloatProgressModel",
            "_view_count": null,
            "_view_module": "@jupyter-widgets/controls",
            "_view_module_version": "1.5.0",
            "_view_name": "ProgressView",
            "bar_style": "success",
            "description": "",
            "description_tooltip": null,
            "layout": "IPY_MODEL_5923ab5ebae7470797750849657b0c95",
            "max": 25125,
            "min": 0,
            "orientation": "horizontal",
            "style": "IPY_MODEL_199d6e3dc9f54d8fae22d1200f7da22b",
            "value": 25125
          }
        },
        "9166d2ba653b4f2185b1b88c56d58f6c": {
          "model_module": "@jupyter-widgets/controls",
          "model_name": "HTMLModel",
          "model_module_version": "1.5.0",
          "state": {
            "_dom_classes": [],
            "_model_module": "@jupyter-widgets/controls",
            "_model_module_version": "1.5.0",
            "_model_name": "HTMLModel",
            "_view_count": null,
            "_view_module": "@jupyter-widgets/controls",
            "_view_module_version": "1.5.0",
            "_view_name": "HTMLView",
            "description": "",
            "description_tooltip": null,
            "layout": "IPY_MODEL_36cdd0b0dfc34a9d8ca3a6244769315a",
            "placeholder": "​",
            "style": "IPY_MODEL_6160232df90647318ee2e05b9d9ea723",
            "value": " 25.1k/25.1k [00:00&lt;00:00, 325kB/s]"
          }
        },
        "37a141ae3a544065ae7c1ac55bda22e2": {
          "model_module": "@jupyter-widgets/base",
          "model_name": "LayoutModel",
          "model_module_version": "1.2.0",
          "state": {
            "_model_module": "@jupyter-widgets/base",
            "_model_module_version": "1.2.0",
            "_model_name": "LayoutModel",
            "_view_count": null,
            "_view_module": "@jupyter-widgets/base",
            "_view_module_version": "1.2.0",
            "_view_name": "LayoutView",
            "align_content": null,
            "align_items": null,
            "align_self": null,
            "border": null,
            "bottom": null,
            "display": null,
            "flex": null,
            "flex_flow": null,
            "grid_area": null,
            "grid_auto_columns": null,
            "grid_auto_flow": null,
            "grid_auto_rows": null,
            "grid_column": null,
            "grid_gap": null,
            "grid_row": null,
            "grid_template_areas": null,
            "grid_template_columns": null,
            "grid_template_rows": null,
            "height": null,
            "justify_content": null,
            "justify_items": null,
            "left": null,
            "margin": null,
            "max_height": null,
            "max_width": null,
            "min_height": null,
            "min_width": null,
            "object_fit": null,
            "object_position": null,
            "order": null,
            "overflow": null,
            "overflow_x": null,
            "overflow_y": null,
            "padding": null,
            "right": null,
            "top": null,
            "visibility": null,
            "width": null
          }
        },
        "3727be805e7148719a0e339b88c33adc": {
          "model_module": "@jupyter-widgets/base",
          "model_name": "LayoutModel",
          "model_module_version": "1.2.0",
          "state": {
            "_model_module": "@jupyter-widgets/base",
            "_model_module_version": "1.2.0",
            "_model_name": "LayoutModel",
            "_view_count": null,
            "_view_module": "@jupyter-widgets/base",
            "_view_module_version": "1.2.0",
            "_view_name": "LayoutView",
            "align_content": null,
            "align_items": null,
            "align_self": null,
            "border": null,
            "bottom": null,
            "display": null,
            "flex": null,
            "flex_flow": null,
            "grid_area": null,
            "grid_auto_columns": null,
            "grid_auto_flow": null,
            "grid_auto_rows": null,
            "grid_column": null,
            "grid_gap": null,
            "grid_row": null,
            "grid_template_areas": null,
            "grid_template_columns": null,
            "grid_template_rows": null,
            "height": null,
            "justify_content": null,
            "justify_items": null,
            "left": null,
            "margin": null,
            "max_height": null,
            "max_width": null,
            "min_height": null,
            "min_width": null,
            "object_fit": null,
            "object_position": null,
            "order": null,
            "overflow": null,
            "overflow_x": null,
            "overflow_y": null,
            "padding": null,
            "right": null,
            "top": null,
            "visibility": null,
            "width": null
          }
        },
        "2933e6c1768f4a2baec327ccb82e8873": {
          "model_module": "@jupyter-widgets/controls",
          "model_name": "DescriptionStyleModel",
          "model_module_version": "1.5.0",
          "state": {
            "_model_module": "@jupyter-widgets/controls",
            "_model_module_version": "1.5.0",
            "_model_name": "DescriptionStyleModel",
            "_view_count": null,
            "_view_module": "@jupyter-widgets/base",
            "_view_module_version": "1.2.0",
            "_view_name": "StyleView",
            "description_width": ""
          }
        },
        "5923ab5ebae7470797750849657b0c95": {
          "model_module": "@jupyter-widgets/base",
          "model_name": "LayoutModel",
          "model_module_version": "1.2.0",
          "state": {
            "_model_module": "@jupyter-widgets/base",
            "_model_module_version": "1.2.0",
            "_model_name": "LayoutModel",
            "_view_count": null,
            "_view_module": "@jupyter-widgets/base",
            "_view_module_version": "1.2.0",
            "_view_name": "LayoutView",
            "align_content": null,
            "align_items": null,
            "align_self": null,
            "border": null,
            "bottom": null,
            "display": null,
            "flex": null,
            "flex_flow": null,
            "grid_area": null,
            "grid_auto_columns": null,
            "grid_auto_flow": null,
            "grid_auto_rows": null,
            "grid_column": null,
            "grid_gap": null,
            "grid_row": null,
            "grid_template_areas": null,
            "grid_template_columns": null,
            "grid_template_rows": null,
            "height": null,
            "justify_content": null,
            "justify_items": null,
            "left": null,
            "margin": null,
            "max_height": null,
            "max_width": null,
            "min_height": null,
            "min_width": null,
            "object_fit": null,
            "object_position": null,
            "order": null,
            "overflow": null,
            "overflow_x": null,
            "overflow_y": null,
            "padding": null,
            "right": null,
            "top": null,
            "visibility": null,
            "width": null
          }
        },
        "199d6e3dc9f54d8fae22d1200f7da22b": {
          "model_module": "@jupyter-widgets/controls",
          "model_name": "ProgressStyleModel",
          "model_module_version": "1.5.0",
          "state": {
            "_model_module": "@jupyter-widgets/controls",
            "_model_module_version": "1.5.0",
            "_model_name": "ProgressStyleModel",
            "_view_count": null,
            "_view_module": "@jupyter-widgets/base",
            "_view_module_version": "1.2.0",
            "_view_name": "StyleView",
            "bar_color": null,
            "description_width": ""
          }
        },
        "36cdd0b0dfc34a9d8ca3a6244769315a": {
          "model_module": "@jupyter-widgets/base",
          "model_name": "LayoutModel",
          "model_module_version": "1.2.0",
          "state": {
            "_model_module": "@jupyter-widgets/base",
            "_model_module_version": "1.2.0",
            "_model_name": "LayoutModel",
            "_view_count": null,
            "_view_module": "@jupyter-widgets/base",
            "_view_module_version": "1.2.0",
            "_view_name": "LayoutView",
            "align_content": null,
            "align_items": null,
            "align_self": null,
            "border": null,
            "bottom": null,
            "display": null,
            "flex": null,
            "flex_flow": null,
            "grid_area": null,
            "grid_auto_columns": null,
            "grid_auto_flow": null,
            "grid_auto_rows": null,
            "grid_column": null,
            "grid_gap": null,
            "grid_row": null,
            "grid_template_areas": null,
            "grid_template_columns": null,
            "grid_template_rows": null,
            "height": null,
            "justify_content": null,
            "justify_items": null,
            "left": null,
            "margin": null,
            "max_height": null,
            "max_width": null,
            "min_height": null,
            "min_width": null,
            "object_fit": null,
            "object_position": null,
            "order": null,
            "overflow": null,
            "overflow_x": null,
            "overflow_y": null,
            "padding": null,
            "right": null,
            "top": null,
            "visibility": null,
            "width": null
          }
        },
        "6160232df90647318ee2e05b9d9ea723": {
          "model_module": "@jupyter-widgets/controls",
          "model_name": "DescriptionStyleModel",
          "model_module_version": "1.5.0",
          "state": {
            "_model_module": "@jupyter-widgets/controls",
            "_model_module_version": "1.5.0",
            "_model_name": "DescriptionStyleModel",
            "_view_count": null,
            "_view_module": "@jupyter-widgets/base",
            "_view_module_version": "1.2.0",
            "_view_name": "StyleView",
            "description_width": ""
          }
        },
        "199cccda910545a7ab43a5b7eb524c05": {
          "model_module": "@jupyter-widgets/controls",
          "model_name": "HBoxModel",
          "model_module_version": "1.5.0",
          "state": {
            "_dom_classes": [],
            "_model_module": "@jupyter-widgets/controls",
            "_model_module_version": "1.5.0",
            "_model_name": "HBoxModel",
            "_view_count": null,
            "_view_module": "@jupyter-widgets/controls",
            "_view_module_version": "1.5.0",
            "_view_name": "HBoxView",
            "box_style": "",
            "children": [
              "IPY_MODEL_6a63ec8d37404c56bebe763ef960d2f7",
              "IPY_MODEL_ff89e787d500432c879a6ef082a3a9cb",
              "IPY_MODEL_f02181ffacc047f994c18ff97dc20120"
            ],
            "layout": "IPY_MODEL_1d63904441ae4ac2801be8a2aa733a73"
          }
        },
        "6a63ec8d37404c56bebe763ef960d2f7": {
          "model_module": "@jupyter-widgets/controls",
          "model_name": "HTMLModel",
          "model_module_version": "1.5.0",
          "state": {
            "_dom_classes": [],
            "_model_module": "@jupyter-widgets/controls",
            "_model_module_version": "1.5.0",
            "_model_name": "HTMLModel",
            "_view_count": null,
            "_view_module": "@jupyter-widgets/controls",
            "_view_module_version": "1.5.0",
            "_view_name": "HTMLView",
            "description": "",
            "description_tooltip": null,
            "layout": "IPY_MODEL_96330a8ce1c843b3a711828b754e12e7",
            "placeholder": "​",
            "style": "IPY_MODEL_48305d74f2ae4b7dabc45bc611beeed6",
            "value": "Downloading shards: 100%"
          }
        },
        "ff89e787d500432c879a6ef082a3a9cb": {
          "model_module": "@jupyter-widgets/controls",
          "model_name": "FloatProgressModel",
          "model_module_version": "1.5.0",
          "state": {
            "_dom_classes": [],
            "_model_module": "@jupyter-widgets/controls",
            "_model_module_version": "1.5.0",
            "_model_name": "FloatProgressModel",
            "_view_count": null,
            "_view_module": "@jupyter-widgets/controls",
            "_view_module_version": "1.5.0",
            "_view_name": "ProgressView",
            "bar_style": "success",
            "description": "",
            "description_tooltip": null,
            "layout": "IPY_MODEL_4454d6b1f6d1498fa5eb6da731b9550d",
            "max": 3,
            "min": 0,
            "orientation": "horizontal",
            "style": "IPY_MODEL_1d503dcceb5946728259f93a16f15445",
            "value": 3
          }
        },
        "f02181ffacc047f994c18ff97dc20120": {
          "model_module": "@jupyter-widgets/controls",
          "model_name": "HTMLModel",
          "model_module_version": "1.5.0",
          "state": {
            "_dom_classes": [],
            "_model_module": "@jupyter-widgets/controls",
            "_model_module_version": "1.5.0",
            "_model_name": "HTMLModel",
            "_view_count": null,
            "_view_module": "@jupyter-widgets/controls",
            "_view_module_version": "1.5.0",
            "_view_name": "HTMLView",
            "description": "",
            "description_tooltip": null,
            "layout": "IPY_MODEL_453bf34976fd4afda56007bf83375cc6",
            "placeholder": "​",
            "style": "IPY_MODEL_371c6d6524804daa971545ae3befb152",
            "value": " 3/3 [02:45&lt;00:00, 53.41s/it]"
          }
        },
        "1d63904441ae4ac2801be8a2aa733a73": {
          "model_module": "@jupyter-widgets/base",
          "model_name": "LayoutModel",
          "model_module_version": "1.2.0",
          "state": {
            "_model_module": "@jupyter-widgets/base",
            "_model_module_version": "1.2.0",
            "_model_name": "LayoutModel",
            "_view_count": null,
            "_view_module": "@jupyter-widgets/base",
            "_view_module_version": "1.2.0",
            "_view_name": "LayoutView",
            "align_content": null,
            "align_items": null,
            "align_self": null,
            "border": null,
            "bottom": null,
            "display": null,
            "flex": null,
            "flex_flow": null,
            "grid_area": null,
            "grid_auto_columns": null,
            "grid_auto_flow": null,
            "grid_auto_rows": null,
            "grid_column": null,
            "grid_gap": null,
            "grid_row": null,
            "grid_template_areas": null,
            "grid_template_columns": null,
            "grid_template_rows": null,
            "height": null,
            "justify_content": null,
            "justify_items": null,
            "left": null,
            "margin": null,
            "max_height": null,
            "max_width": null,
            "min_height": null,
            "min_width": null,
            "object_fit": null,
            "object_position": null,
            "order": null,
            "overflow": null,
            "overflow_x": null,
            "overflow_y": null,
            "padding": null,
            "right": null,
            "top": null,
            "visibility": null,
            "width": null
          }
        },
        "96330a8ce1c843b3a711828b754e12e7": {
          "model_module": "@jupyter-widgets/base",
          "model_name": "LayoutModel",
          "model_module_version": "1.2.0",
          "state": {
            "_model_module": "@jupyter-widgets/base",
            "_model_module_version": "1.2.0",
            "_model_name": "LayoutModel",
            "_view_count": null,
            "_view_module": "@jupyter-widgets/base",
            "_view_module_version": "1.2.0",
            "_view_name": "LayoutView",
            "align_content": null,
            "align_items": null,
            "align_self": null,
            "border": null,
            "bottom": null,
            "display": null,
            "flex": null,
            "flex_flow": null,
            "grid_area": null,
            "grid_auto_columns": null,
            "grid_auto_flow": null,
            "grid_auto_rows": null,
            "grid_column": null,
            "grid_gap": null,
            "grid_row": null,
            "grid_template_areas": null,
            "grid_template_columns": null,
            "grid_template_rows": null,
            "height": null,
            "justify_content": null,
            "justify_items": null,
            "left": null,
            "margin": null,
            "max_height": null,
            "max_width": null,
            "min_height": null,
            "min_width": null,
            "object_fit": null,
            "object_position": null,
            "order": null,
            "overflow": null,
            "overflow_x": null,
            "overflow_y": null,
            "padding": null,
            "right": null,
            "top": null,
            "visibility": null,
            "width": null
          }
        },
        "48305d74f2ae4b7dabc45bc611beeed6": {
          "model_module": "@jupyter-widgets/controls",
          "model_name": "DescriptionStyleModel",
          "model_module_version": "1.5.0",
          "state": {
            "_model_module": "@jupyter-widgets/controls",
            "_model_module_version": "1.5.0",
            "_model_name": "DescriptionStyleModel",
            "_view_count": null,
            "_view_module": "@jupyter-widgets/base",
            "_view_module_version": "1.2.0",
            "_view_name": "StyleView",
            "description_width": ""
          }
        },
        "4454d6b1f6d1498fa5eb6da731b9550d": {
          "model_module": "@jupyter-widgets/base",
          "model_name": "LayoutModel",
          "model_module_version": "1.2.0",
          "state": {
            "_model_module": "@jupyter-widgets/base",
            "_model_module_version": "1.2.0",
            "_model_name": "LayoutModel",
            "_view_count": null,
            "_view_module": "@jupyter-widgets/base",
            "_view_module_version": "1.2.0",
            "_view_name": "LayoutView",
            "align_content": null,
            "align_items": null,
            "align_self": null,
            "border": null,
            "bottom": null,
            "display": null,
            "flex": null,
            "flex_flow": null,
            "grid_area": null,
            "grid_auto_columns": null,
            "grid_auto_flow": null,
            "grid_auto_rows": null,
            "grid_column": null,
            "grid_gap": null,
            "grid_row": null,
            "grid_template_areas": null,
            "grid_template_columns": null,
            "grid_template_rows": null,
            "height": null,
            "justify_content": null,
            "justify_items": null,
            "left": null,
            "margin": null,
            "max_height": null,
            "max_width": null,
            "min_height": null,
            "min_width": null,
            "object_fit": null,
            "object_position": null,
            "order": null,
            "overflow": null,
            "overflow_x": null,
            "overflow_y": null,
            "padding": null,
            "right": null,
            "top": null,
            "visibility": null,
            "width": null
          }
        },
        "1d503dcceb5946728259f93a16f15445": {
          "model_module": "@jupyter-widgets/controls",
          "model_name": "ProgressStyleModel",
          "model_module_version": "1.5.0",
          "state": {
            "_model_module": "@jupyter-widgets/controls",
            "_model_module_version": "1.5.0",
            "_model_name": "ProgressStyleModel",
            "_view_count": null,
            "_view_module": "@jupyter-widgets/base",
            "_view_module_version": "1.2.0",
            "_view_name": "StyleView",
            "bar_color": null,
            "description_width": ""
          }
        },
        "453bf34976fd4afda56007bf83375cc6": {
          "model_module": "@jupyter-widgets/base",
          "model_name": "LayoutModel",
          "model_module_version": "1.2.0",
          "state": {
            "_model_module": "@jupyter-widgets/base",
            "_model_module_version": "1.2.0",
            "_model_name": "LayoutModel",
            "_view_count": null,
            "_view_module": "@jupyter-widgets/base",
            "_view_module_version": "1.2.0",
            "_view_name": "LayoutView",
            "align_content": null,
            "align_items": null,
            "align_self": null,
            "border": null,
            "bottom": null,
            "display": null,
            "flex": null,
            "flex_flow": null,
            "grid_area": null,
            "grid_auto_columns": null,
            "grid_auto_flow": null,
            "grid_auto_rows": null,
            "grid_column": null,
            "grid_gap": null,
            "grid_row": null,
            "grid_template_areas": null,
            "grid_template_columns": null,
            "grid_template_rows": null,
            "height": null,
            "justify_content": null,
            "justify_items": null,
            "left": null,
            "margin": null,
            "max_height": null,
            "max_width": null,
            "min_height": null,
            "min_width": null,
            "object_fit": null,
            "object_position": null,
            "order": null,
            "overflow": null,
            "overflow_x": null,
            "overflow_y": null,
            "padding": null,
            "right": null,
            "top": null,
            "visibility": null,
            "width": null
          }
        },
        "371c6d6524804daa971545ae3befb152": {
          "model_module": "@jupyter-widgets/controls",
          "model_name": "DescriptionStyleModel",
          "model_module_version": "1.5.0",
          "state": {
            "_model_module": "@jupyter-widgets/controls",
            "_model_module_version": "1.5.0",
            "_model_name": "DescriptionStyleModel",
            "_view_count": null,
            "_view_module": "@jupyter-widgets/base",
            "_view_module_version": "1.2.0",
            "_view_name": "StyleView",
            "description_width": ""
          }
        },
        "4a92fd152fcb4a628bb61c4ea36167ae": {
          "model_module": "@jupyter-widgets/controls",
          "model_name": "HBoxModel",
          "model_module_version": "1.5.0",
          "state": {
            "_dom_classes": [],
            "_model_module": "@jupyter-widgets/controls",
            "_model_module_version": "1.5.0",
            "_model_name": "HBoxModel",
            "_view_count": null,
            "_view_module": "@jupyter-widgets/controls",
            "_view_module_version": "1.5.0",
            "_view_name": "HBoxView",
            "box_style": "",
            "children": [
              "IPY_MODEL_92783e9c732e4ff281f454010f221006",
              "IPY_MODEL_198d6cd0f70744c38285b3fb2ce03b9b",
              "IPY_MODEL_70fb9ca76a974579947de2eca69f8303"
            ],
            "layout": "IPY_MODEL_e7b2df8a2fa742d6922f1c34e4346d81"
          }
        },
        "92783e9c732e4ff281f454010f221006": {
          "model_module": "@jupyter-widgets/controls",
          "model_name": "HTMLModel",
          "model_module_version": "1.5.0",
          "state": {
            "_dom_classes": [],
            "_model_module": "@jupyter-widgets/controls",
            "_model_module_version": "1.5.0",
            "_model_name": "HTMLModel",
            "_view_count": null,
            "_view_module": "@jupyter-widgets/controls",
            "_view_module_version": "1.5.0",
            "_view_name": "HTMLView",
            "description": "",
            "description_tooltip": null,
            "layout": "IPY_MODEL_a835d4fa14bc418d8856396fb3e1126b",
            "placeholder": "​",
            "style": "IPY_MODEL_3ea05a23b26c45a8b6deb27c464bb6d5",
            "value": "model-00001-of-00003.safetensors: 100%"
          }
        },
        "198d6cd0f70744c38285b3fb2ce03b9b": {
          "model_module": "@jupyter-widgets/controls",
          "model_name": "FloatProgressModel",
          "model_module_version": "1.5.0",
          "state": {
            "_dom_classes": [],
            "_model_module": "@jupyter-widgets/controls",
            "_model_module_version": "1.5.0",
            "_model_name": "FloatProgressModel",
            "_view_count": null,
            "_view_module": "@jupyter-widgets/controls",
            "_view_module_version": "1.5.0",
            "_view_name": "ProgressView",
            "bar_style": "success",
            "description": "",
            "description_tooltip": null,
            "layout": "IPY_MODEL_362ee35495f1482d98cc2e07653732d2",
            "max": 4943162336,
            "min": 0,
            "orientation": "horizontal",
            "style": "IPY_MODEL_b5e8899b2eeb42f48ea6e8b7ea1be735",
            "value": 4943162336
          }
        },
        "70fb9ca76a974579947de2eca69f8303": {
          "model_module": "@jupyter-widgets/controls",
          "model_name": "HTMLModel",
          "model_module_version": "1.5.0",
          "state": {
            "_dom_classes": [],
            "_model_module": "@jupyter-widgets/controls",
            "_model_module_version": "1.5.0",
            "_model_name": "HTMLModel",
            "_view_count": null,
            "_view_module": "@jupyter-widgets/controls",
            "_view_module_version": "1.5.0",
            "_view_name": "HTMLView",
            "description": "",
            "description_tooltip": null,
            "layout": "IPY_MODEL_62741c8d22e84f86a3f43ffc67855a17",
            "placeholder": "​",
            "style": "IPY_MODEL_30c7b424f9924b2e8ce436f626735be0",
            "value": " 4.94G/4.94G [01:00&lt;00:00, 111MB/s]"
          }
        },
        "e7b2df8a2fa742d6922f1c34e4346d81": {
          "model_module": "@jupyter-widgets/base",
          "model_name": "LayoutModel",
          "model_module_version": "1.2.0",
          "state": {
            "_model_module": "@jupyter-widgets/base",
            "_model_module_version": "1.2.0",
            "_model_name": "LayoutModel",
            "_view_count": null,
            "_view_module": "@jupyter-widgets/base",
            "_view_module_version": "1.2.0",
            "_view_name": "LayoutView",
            "align_content": null,
            "align_items": null,
            "align_self": null,
            "border": null,
            "bottom": null,
            "display": null,
            "flex": null,
            "flex_flow": null,
            "grid_area": null,
            "grid_auto_columns": null,
            "grid_auto_flow": null,
            "grid_auto_rows": null,
            "grid_column": null,
            "grid_gap": null,
            "grid_row": null,
            "grid_template_areas": null,
            "grid_template_columns": null,
            "grid_template_rows": null,
            "height": null,
            "justify_content": null,
            "justify_items": null,
            "left": null,
            "margin": null,
            "max_height": null,
            "max_width": null,
            "min_height": null,
            "min_width": null,
            "object_fit": null,
            "object_position": null,
            "order": null,
            "overflow": null,
            "overflow_x": null,
            "overflow_y": null,
            "padding": null,
            "right": null,
            "top": null,
            "visibility": null,
            "width": null
          }
        },
        "a835d4fa14bc418d8856396fb3e1126b": {
          "model_module": "@jupyter-widgets/base",
          "model_name": "LayoutModel",
          "model_module_version": "1.2.0",
          "state": {
            "_model_module": "@jupyter-widgets/base",
            "_model_module_version": "1.2.0",
            "_model_name": "LayoutModel",
            "_view_count": null,
            "_view_module": "@jupyter-widgets/base",
            "_view_module_version": "1.2.0",
            "_view_name": "LayoutView",
            "align_content": null,
            "align_items": null,
            "align_self": null,
            "border": null,
            "bottom": null,
            "display": null,
            "flex": null,
            "flex_flow": null,
            "grid_area": null,
            "grid_auto_columns": null,
            "grid_auto_flow": null,
            "grid_auto_rows": null,
            "grid_column": null,
            "grid_gap": null,
            "grid_row": null,
            "grid_template_areas": null,
            "grid_template_columns": null,
            "grid_template_rows": null,
            "height": null,
            "justify_content": null,
            "justify_items": null,
            "left": null,
            "margin": null,
            "max_height": null,
            "max_width": null,
            "min_height": null,
            "min_width": null,
            "object_fit": null,
            "object_position": null,
            "order": null,
            "overflow": null,
            "overflow_x": null,
            "overflow_y": null,
            "padding": null,
            "right": null,
            "top": null,
            "visibility": null,
            "width": null
          }
        },
        "3ea05a23b26c45a8b6deb27c464bb6d5": {
          "model_module": "@jupyter-widgets/controls",
          "model_name": "DescriptionStyleModel",
          "model_module_version": "1.5.0",
          "state": {
            "_model_module": "@jupyter-widgets/controls",
            "_model_module_version": "1.5.0",
            "_model_name": "DescriptionStyleModel",
            "_view_count": null,
            "_view_module": "@jupyter-widgets/base",
            "_view_module_version": "1.2.0",
            "_view_name": "StyleView",
            "description_width": ""
          }
        },
        "362ee35495f1482d98cc2e07653732d2": {
          "model_module": "@jupyter-widgets/base",
          "model_name": "LayoutModel",
          "model_module_version": "1.2.0",
          "state": {
            "_model_module": "@jupyter-widgets/base",
            "_model_module_version": "1.2.0",
            "_model_name": "LayoutModel",
            "_view_count": null,
            "_view_module": "@jupyter-widgets/base",
            "_view_module_version": "1.2.0",
            "_view_name": "LayoutView",
            "align_content": null,
            "align_items": null,
            "align_self": null,
            "border": null,
            "bottom": null,
            "display": null,
            "flex": null,
            "flex_flow": null,
            "grid_area": null,
            "grid_auto_columns": null,
            "grid_auto_flow": null,
            "grid_auto_rows": null,
            "grid_column": null,
            "grid_gap": null,
            "grid_row": null,
            "grid_template_areas": null,
            "grid_template_columns": null,
            "grid_template_rows": null,
            "height": null,
            "justify_content": null,
            "justify_items": null,
            "left": null,
            "margin": null,
            "max_height": null,
            "max_width": null,
            "min_height": null,
            "min_width": null,
            "object_fit": null,
            "object_position": null,
            "order": null,
            "overflow": null,
            "overflow_x": null,
            "overflow_y": null,
            "padding": null,
            "right": null,
            "top": null,
            "visibility": null,
            "width": null
          }
        },
        "b5e8899b2eeb42f48ea6e8b7ea1be735": {
          "model_module": "@jupyter-widgets/controls",
          "model_name": "ProgressStyleModel",
          "model_module_version": "1.5.0",
          "state": {
            "_model_module": "@jupyter-widgets/controls",
            "_model_module_version": "1.5.0",
            "_model_name": "ProgressStyleModel",
            "_view_count": null,
            "_view_module": "@jupyter-widgets/base",
            "_view_module_version": "1.2.0",
            "_view_name": "StyleView",
            "bar_color": null,
            "description_width": ""
          }
        },
        "62741c8d22e84f86a3f43ffc67855a17": {
          "model_module": "@jupyter-widgets/base",
          "model_name": "LayoutModel",
          "model_module_version": "1.2.0",
          "state": {
            "_model_module": "@jupyter-widgets/base",
            "_model_module_version": "1.2.0",
            "_model_name": "LayoutModel",
            "_view_count": null,
            "_view_module": "@jupyter-widgets/base",
            "_view_module_version": "1.2.0",
            "_view_name": "LayoutView",
            "align_content": null,
            "align_items": null,
            "align_self": null,
            "border": null,
            "bottom": null,
            "display": null,
            "flex": null,
            "flex_flow": null,
            "grid_area": null,
            "grid_auto_columns": null,
            "grid_auto_flow": null,
            "grid_auto_rows": null,
            "grid_column": null,
            "grid_gap": null,
            "grid_row": null,
            "grid_template_areas": null,
            "grid_template_columns": null,
            "grid_template_rows": null,
            "height": null,
            "justify_content": null,
            "justify_items": null,
            "left": null,
            "margin": null,
            "max_height": null,
            "max_width": null,
            "min_height": null,
            "min_width": null,
            "object_fit": null,
            "object_position": null,
            "order": null,
            "overflow": null,
            "overflow_x": null,
            "overflow_y": null,
            "padding": null,
            "right": null,
            "top": null,
            "visibility": null,
            "width": null
          }
        },
        "30c7b424f9924b2e8ce436f626735be0": {
          "model_module": "@jupyter-widgets/controls",
          "model_name": "DescriptionStyleModel",
          "model_module_version": "1.5.0",
          "state": {
            "_model_module": "@jupyter-widgets/controls",
            "_model_module_version": "1.5.0",
            "_model_name": "DescriptionStyleModel",
            "_view_count": null,
            "_view_module": "@jupyter-widgets/base",
            "_view_module_version": "1.2.0",
            "_view_name": "StyleView",
            "description_width": ""
          }
        },
        "c8db76ca91784866af24d99966983935": {
          "model_module": "@jupyter-widgets/controls",
          "model_name": "HBoxModel",
          "model_module_version": "1.5.0",
          "state": {
            "_dom_classes": [],
            "_model_module": "@jupyter-widgets/controls",
            "_model_module_version": "1.5.0",
            "_model_name": "HBoxModel",
            "_view_count": null,
            "_view_module": "@jupyter-widgets/controls",
            "_view_module_version": "1.5.0",
            "_view_name": "HBoxView",
            "box_style": "",
            "children": [
              "IPY_MODEL_f14e8cc304a243599632f5a7832b58e0",
              "IPY_MODEL_2bae334dcf0b4864a6699fcd500ac7e8",
              "IPY_MODEL_abea9d8227ab493b95515c9b7a6fd52b"
            ],
            "layout": "IPY_MODEL_bb7c50ee31c04033a182ceced71c2576"
          }
        },
        "f14e8cc304a243599632f5a7832b58e0": {
          "model_module": "@jupyter-widgets/controls",
          "model_name": "HTMLModel",
          "model_module_version": "1.5.0",
          "state": {
            "_dom_classes": [],
            "_model_module": "@jupyter-widgets/controls",
            "_model_module_version": "1.5.0",
            "_model_name": "HTMLModel",
            "_view_count": null,
            "_view_module": "@jupyter-widgets/controls",
            "_view_module_version": "1.5.0",
            "_view_name": "HTMLView",
            "description": "",
            "description_tooltip": null,
            "layout": "IPY_MODEL_52fc7dd64f2343c2be0da846a4632e5e",
            "placeholder": "​",
            "style": "IPY_MODEL_563ee6befd794de99844b2e4fc35fbb3",
            "value": "model-00002-of-00003.safetensors: 100%"
          }
        },
        "2bae334dcf0b4864a6699fcd500ac7e8": {
          "model_module": "@jupyter-widgets/controls",
          "model_name": "FloatProgressModel",
          "model_module_version": "1.5.0",
          "state": {
            "_dom_classes": [],
            "_model_module": "@jupyter-widgets/controls",
            "_model_module_version": "1.5.0",
            "_model_name": "FloatProgressModel",
            "_view_count": null,
            "_view_module": "@jupyter-widgets/controls",
            "_view_module_version": "1.5.0",
            "_view_name": "ProgressView",
            "bar_style": "success",
            "description": "",
            "description_tooltip": null,
            "layout": "IPY_MODEL_5a4f805731f248a7beeb03a21b8af58e",
            "max": 4999819336,
            "min": 0,
            "orientation": "horizontal",
            "style": "IPY_MODEL_c1b6fbc31d7a44d2a998a4f1eaf7b83b",
            "value": 4999819336
          }
        },
        "abea9d8227ab493b95515c9b7a6fd52b": {
          "model_module": "@jupyter-widgets/controls",
          "model_name": "HTMLModel",
          "model_module_version": "1.5.0",
          "state": {
            "_dom_classes": [],
            "_model_module": "@jupyter-widgets/controls",
            "_model_module_version": "1.5.0",
            "_model_name": "HTMLModel",
            "_view_count": null,
            "_view_module": "@jupyter-widgets/controls",
            "_view_module_version": "1.5.0",
            "_view_name": "HTMLView",
            "description": "",
            "description_tooltip": null,
            "layout": "IPY_MODEL_3d6cc5cae6bf4485b9ea1ccdf7446622",
            "placeholder": "​",
            "style": "IPY_MODEL_a7b309f207ab4ffb962f7428cf903715",
            "value": " 5.00G/5.00G [00:55&lt;00:00, 118MB/s]"
          }
        },
        "bb7c50ee31c04033a182ceced71c2576": {
          "model_module": "@jupyter-widgets/base",
          "model_name": "LayoutModel",
          "model_module_version": "1.2.0",
          "state": {
            "_model_module": "@jupyter-widgets/base",
            "_model_module_version": "1.2.0",
            "_model_name": "LayoutModel",
            "_view_count": null,
            "_view_module": "@jupyter-widgets/base",
            "_view_module_version": "1.2.0",
            "_view_name": "LayoutView",
            "align_content": null,
            "align_items": null,
            "align_self": null,
            "border": null,
            "bottom": null,
            "display": null,
            "flex": null,
            "flex_flow": null,
            "grid_area": null,
            "grid_auto_columns": null,
            "grid_auto_flow": null,
            "grid_auto_rows": null,
            "grid_column": null,
            "grid_gap": null,
            "grid_row": null,
            "grid_template_areas": null,
            "grid_template_columns": null,
            "grid_template_rows": null,
            "height": null,
            "justify_content": null,
            "justify_items": null,
            "left": null,
            "margin": null,
            "max_height": null,
            "max_width": null,
            "min_height": null,
            "min_width": null,
            "object_fit": null,
            "object_position": null,
            "order": null,
            "overflow": null,
            "overflow_x": null,
            "overflow_y": null,
            "padding": null,
            "right": null,
            "top": null,
            "visibility": null,
            "width": null
          }
        },
        "52fc7dd64f2343c2be0da846a4632e5e": {
          "model_module": "@jupyter-widgets/base",
          "model_name": "LayoutModel",
          "model_module_version": "1.2.0",
          "state": {
            "_model_module": "@jupyter-widgets/base",
            "_model_module_version": "1.2.0",
            "_model_name": "LayoutModel",
            "_view_count": null,
            "_view_module": "@jupyter-widgets/base",
            "_view_module_version": "1.2.0",
            "_view_name": "LayoutView",
            "align_content": null,
            "align_items": null,
            "align_self": null,
            "border": null,
            "bottom": null,
            "display": null,
            "flex": null,
            "flex_flow": null,
            "grid_area": null,
            "grid_auto_columns": null,
            "grid_auto_flow": null,
            "grid_auto_rows": null,
            "grid_column": null,
            "grid_gap": null,
            "grid_row": null,
            "grid_template_areas": null,
            "grid_template_columns": null,
            "grid_template_rows": null,
            "height": null,
            "justify_content": null,
            "justify_items": null,
            "left": null,
            "margin": null,
            "max_height": null,
            "max_width": null,
            "min_height": null,
            "min_width": null,
            "object_fit": null,
            "object_position": null,
            "order": null,
            "overflow": null,
            "overflow_x": null,
            "overflow_y": null,
            "padding": null,
            "right": null,
            "top": null,
            "visibility": null,
            "width": null
          }
        },
        "563ee6befd794de99844b2e4fc35fbb3": {
          "model_module": "@jupyter-widgets/controls",
          "model_name": "DescriptionStyleModel",
          "model_module_version": "1.5.0",
          "state": {
            "_model_module": "@jupyter-widgets/controls",
            "_model_module_version": "1.5.0",
            "_model_name": "DescriptionStyleModel",
            "_view_count": null,
            "_view_module": "@jupyter-widgets/base",
            "_view_module_version": "1.2.0",
            "_view_name": "StyleView",
            "description_width": ""
          }
        },
        "5a4f805731f248a7beeb03a21b8af58e": {
          "model_module": "@jupyter-widgets/base",
          "model_name": "LayoutModel",
          "model_module_version": "1.2.0",
          "state": {
            "_model_module": "@jupyter-widgets/base",
            "_model_module_version": "1.2.0",
            "_model_name": "LayoutModel",
            "_view_count": null,
            "_view_module": "@jupyter-widgets/base",
            "_view_module_version": "1.2.0",
            "_view_name": "LayoutView",
            "align_content": null,
            "align_items": null,
            "align_self": null,
            "border": null,
            "bottom": null,
            "display": null,
            "flex": null,
            "flex_flow": null,
            "grid_area": null,
            "grid_auto_columns": null,
            "grid_auto_flow": null,
            "grid_auto_rows": null,
            "grid_column": null,
            "grid_gap": null,
            "grid_row": null,
            "grid_template_areas": null,
            "grid_template_columns": null,
            "grid_template_rows": null,
            "height": null,
            "justify_content": null,
            "justify_items": null,
            "left": null,
            "margin": null,
            "max_height": null,
            "max_width": null,
            "min_height": null,
            "min_width": null,
            "object_fit": null,
            "object_position": null,
            "order": null,
            "overflow": null,
            "overflow_x": null,
            "overflow_y": null,
            "padding": null,
            "right": null,
            "top": null,
            "visibility": null,
            "width": null
          }
        },
        "c1b6fbc31d7a44d2a998a4f1eaf7b83b": {
          "model_module": "@jupyter-widgets/controls",
          "model_name": "ProgressStyleModel",
          "model_module_version": "1.5.0",
          "state": {
            "_model_module": "@jupyter-widgets/controls",
            "_model_module_version": "1.5.0",
            "_model_name": "ProgressStyleModel",
            "_view_count": null,
            "_view_module": "@jupyter-widgets/base",
            "_view_module_version": "1.2.0",
            "_view_name": "StyleView",
            "bar_color": null,
            "description_width": ""
          }
        },
        "3d6cc5cae6bf4485b9ea1ccdf7446622": {
          "model_module": "@jupyter-widgets/base",
          "model_name": "LayoutModel",
          "model_module_version": "1.2.0",
          "state": {
            "_model_module": "@jupyter-widgets/base",
            "_model_module_version": "1.2.0",
            "_model_name": "LayoutModel",
            "_view_count": null,
            "_view_module": "@jupyter-widgets/base",
            "_view_module_version": "1.2.0",
            "_view_name": "LayoutView",
            "align_content": null,
            "align_items": null,
            "align_self": null,
            "border": null,
            "bottom": null,
            "display": null,
            "flex": null,
            "flex_flow": null,
            "grid_area": null,
            "grid_auto_columns": null,
            "grid_auto_flow": null,
            "grid_auto_rows": null,
            "grid_column": null,
            "grid_gap": null,
            "grid_row": null,
            "grid_template_areas": null,
            "grid_template_columns": null,
            "grid_template_rows": null,
            "height": null,
            "justify_content": null,
            "justify_items": null,
            "left": null,
            "margin": null,
            "max_height": null,
            "max_width": null,
            "min_height": null,
            "min_width": null,
            "object_fit": null,
            "object_position": null,
            "order": null,
            "overflow": null,
            "overflow_x": null,
            "overflow_y": null,
            "padding": null,
            "right": null,
            "top": null,
            "visibility": null,
            "width": null
          }
        },
        "a7b309f207ab4ffb962f7428cf903715": {
          "model_module": "@jupyter-widgets/controls",
          "model_name": "DescriptionStyleModel",
          "model_module_version": "1.5.0",
          "state": {
            "_model_module": "@jupyter-widgets/controls",
            "_model_module_version": "1.5.0",
            "_model_name": "DescriptionStyleModel",
            "_view_count": null,
            "_view_module": "@jupyter-widgets/base",
            "_view_module_version": "1.2.0",
            "_view_name": "StyleView",
            "description_width": ""
          }
        },
        "ddf904d3426f40e6ac5eeac6cd46bd27": {
          "model_module": "@jupyter-widgets/controls",
          "model_name": "HBoxModel",
          "model_module_version": "1.5.0",
          "state": {
            "_dom_classes": [],
            "_model_module": "@jupyter-widgets/controls",
            "_model_module_version": "1.5.0",
            "_model_name": "HBoxModel",
            "_view_count": null,
            "_view_module": "@jupyter-widgets/controls",
            "_view_module_version": "1.5.0",
            "_view_name": "HBoxView",
            "box_style": "",
            "children": [
              "IPY_MODEL_02f3eb4812ef4f47ba1780101e3100e9",
              "IPY_MODEL_447efdd1ffc74997987a0b485c32082d",
              "IPY_MODEL_335dcac70e9648f0a99bc16efc73726f"
            ],
            "layout": "IPY_MODEL_e9d1064917ee4441b1ab508cf69f3407"
          }
        },
        "02f3eb4812ef4f47ba1780101e3100e9": {
          "model_module": "@jupyter-widgets/controls",
          "model_name": "HTMLModel",
          "model_module_version": "1.5.0",
          "state": {
            "_dom_classes": [],
            "_model_module": "@jupyter-widgets/controls",
            "_model_module_version": "1.5.0",
            "_model_name": "HTMLModel",
            "_view_count": null,
            "_view_module": "@jupyter-widgets/controls",
            "_view_module_version": "1.5.0",
            "_view_name": "HTMLView",
            "description": "",
            "description_tooltip": null,
            "layout": "IPY_MODEL_9a5dead2655c485581fea97104eb43d9",
            "placeholder": "​",
            "style": "IPY_MODEL_cc5d73f684984d99ad3c749b2b1ce30f",
            "value": "model-00003-of-00003.safetensors: 100%"
          }
        },
        "447efdd1ffc74997987a0b485c32082d": {
          "model_module": "@jupyter-widgets/controls",
          "model_name": "FloatProgressModel",
          "model_module_version": "1.5.0",
          "state": {
            "_dom_classes": [],
            "_model_module": "@jupyter-widgets/controls",
            "_model_module_version": "1.5.0",
            "_model_name": "FloatProgressModel",
            "_view_count": null,
            "_view_module": "@jupyter-widgets/controls",
            "_view_module_version": "1.5.0",
            "_view_name": "ProgressView",
            "bar_style": "success",
            "description": "",
            "description_tooltip": null,
            "layout": "IPY_MODEL_b1a51cb9adf447c380461f99dd2254a1",
            "max": 4540516344,
            "min": 0,
            "orientation": "horizontal",
            "style": "IPY_MODEL_e128221edce04541a000ee1b4bea4700",
            "value": 4540516344
          }
        },
        "335dcac70e9648f0a99bc16efc73726f": {
          "model_module": "@jupyter-widgets/controls",
          "model_name": "HTMLModel",
          "model_module_version": "1.5.0",
          "state": {
            "_dom_classes": [],
            "_model_module": "@jupyter-widgets/controls",
            "_model_module_version": "1.5.0",
            "_model_name": "HTMLModel",
            "_view_count": null,
            "_view_module": "@jupyter-widgets/controls",
            "_view_module_version": "1.5.0",
            "_view_name": "HTMLView",
            "description": "",
            "description_tooltip": null,
            "layout": "IPY_MODEL_d3c8748db8d24299a0d4d18fdc109397",
            "placeholder": "​",
            "style": "IPY_MODEL_f9738b466c8a422a9a0360374b2d8d0f",
            "value": " 4.54G/4.54G [00:47&lt;00:00, 60.5MB/s]"
          }
        },
        "e9d1064917ee4441b1ab508cf69f3407": {
          "model_module": "@jupyter-widgets/base",
          "model_name": "LayoutModel",
          "model_module_version": "1.2.0",
          "state": {
            "_model_module": "@jupyter-widgets/base",
            "_model_module_version": "1.2.0",
            "_model_name": "LayoutModel",
            "_view_count": null,
            "_view_module": "@jupyter-widgets/base",
            "_view_module_version": "1.2.0",
            "_view_name": "LayoutView",
            "align_content": null,
            "align_items": null,
            "align_self": null,
            "border": null,
            "bottom": null,
            "display": null,
            "flex": null,
            "flex_flow": null,
            "grid_area": null,
            "grid_auto_columns": null,
            "grid_auto_flow": null,
            "grid_auto_rows": null,
            "grid_column": null,
            "grid_gap": null,
            "grid_row": null,
            "grid_template_areas": null,
            "grid_template_columns": null,
            "grid_template_rows": null,
            "height": null,
            "justify_content": null,
            "justify_items": null,
            "left": null,
            "margin": null,
            "max_height": null,
            "max_width": null,
            "min_height": null,
            "min_width": null,
            "object_fit": null,
            "object_position": null,
            "order": null,
            "overflow": null,
            "overflow_x": null,
            "overflow_y": null,
            "padding": null,
            "right": null,
            "top": null,
            "visibility": null,
            "width": null
          }
        },
        "9a5dead2655c485581fea97104eb43d9": {
          "model_module": "@jupyter-widgets/base",
          "model_name": "LayoutModel",
          "model_module_version": "1.2.0",
          "state": {
            "_model_module": "@jupyter-widgets/base",
            "_model_module_version": "1.2.0",
            "_model_name": "LayoutModel",
            "_view_count": null,
            "_view_module": "@jupyter-widgets/base",
            "_view_module_version": "1.2.0",
            "_view_name": "LayoutView",
            "align_content": null,
            "align_items": null,
            "align_self": null,
            "border": null,
            "bottom": null,
            "display": null,
            "flex": null,
            "flex_flow": null,
            "grid_area": null,
            "grid_auto_columns": null,
            "grid_auto_flow": null,
            "grid_auto_rows": null,
            "grid_column": null,
            "grid_gap": null,
            "grid_row": null,
            "grid_template_areas": null,
            "grid_template_columns": null,
            "grid_template_rows": null,
            "height": null,
            "justify_content": null,
            "justify_items": null,
            "left": null,
            "margin": null,
            "max_height": null,
            "max_width": null,
            "min_height": null,
            "min_width": null,
            "object_fit": null,
            "object_position": null,
            "order": null,
            "overflow": null,
            "overflow_x": null,
            "overflow_y": null,
            "padding": null,
            "right": null,
            "top": null,
            "visibility": null,
            "width": null
          }
        },
        "cc5d73f684984d99ad3c749b2b1ce30f": {
          "model_module": "@jupyter-widgets/controls",
          "model_name": "DescriptionStyleModel",
          "model_module_version": "1.5.0",
          "state": {
            "_model_module": "@jupyter-widgets/controls",
            "_model_module_version": "1.5.0",
            "_model_name": "DescriptionStyleModel",
            "_view_count": null,
            "_view_module": "@jupyter-widgets/base",
            "_view_module_version": "1.2.0",
            "_view_name": "StyleView",
            "description_width": ""
          }
        },
        "b1a51cb9adf447c380461f99dd2254a1": {
          "model_module": "@jupyter-widgets/base",
          "model_name": "LayoutModel",
          "model_module_version": "1.2.0",
          "state": {
            "_model_module": "@jupyter-widgets/base",
            "_model_module_version": "1.2.0",
            "_model_name": "LayoutModel",
            "_view_count": null,
            "_view_module": "@jupyter-widgets/base",
            "_view_module_version": "1.2.0",
            "_view_name": "LayoutView",
            "align_content": null,
            "align_items": null,
            "align_self": null,
            "border": null,
            "bottom": null,
            "display": null,
            "flex": null,
            "flex_flow": null,
            "grid_area": null,
            "grid_auto_columns": null,
            "grid_auto_flow": null,
            "grid_auto_rows": null,
            "grid_column": null,
            "grid_gap": null,
            "grid_row": null,
            "grid_template_areas": null,
            "grid_template_columns": null,
            "grid_template_rows": null,
            "height": null,
            "justify_content": null,
            "justify_items": null,
            "left": null,
            "margin": null,
            "max_height": null,
            "max_width": null,
            "min_height": null,
            "min_width": null,
            "object_fit": null,
            "object_position": null,
            "order": null,
            "overflow": null,
            "overflow_x": null,
            "overflow_y": null,
            "padding": null,
            "right": null,
            "top": null,
            "visibility": null,
            "width": null
          }
        },
        "e128221edce04541a000ee1b4bea4700": {
          "model_module": "@jupyter-widgets/controls",
          "model_name": "ProgressStyleModel",
          "model_module_version": "1.5.0",
          "state": {
            "_model_module": "@jupyter-widgets/controls",
            "_model_module_version": "1.5.0",
            "_model_name": "ProgressStyleModel",
            "_view_count": null,
            "_view_module": "@jupyter-widgets/base",
            "_view_module_version": "1.2.0",
            "_view_name": "StyleView",
            "bar_color": null,
            "description_width": ""
          }
        },
        "d3c8748db8d24299a0d4d18fdc109397": {
          "model_module": "@jupyter-widgets/base",
          "model_name": "LayoutModel",
          "model_module_version": "1.2.0",
          "state": {
            "_model_module": "@jupyter-widgets/base",
            "_model_module_version": "1.2.0",
            "_model_name": "LayoutModel",
            "_view_count": null,
            "_view_module": "@jupyter-widgets/base",
            "_view_module_version": "1.2.0",
            "_view_name": "LayoutView",
            "align_content": null,
            "align_items": null,
            "align_self": null,
            "border": null,
            "bottom": null,
            "display": null,
            "flex": null,
            "flex_flow": null,
            "grid_area": null,
            "grid_auto_columns": null,
            "grid_auto_flow": null,
            "grid_auto_rows": null,
            "grid_column": null,
            "grid_gap": null,
            "grid_row": null,
            "grid_template_areas": null,
            "grid_template_columns": null,
            "grid_template_rows": null,
            "height": null,
            "justify_content": null,
            "justify_items": null,
            "left": null,
            "margin": null,
            "max_height": null,
            "max_width": null,
            "min_height": null,
            "min_width": null,
            "object_fit": null,
            "object_position": null,
            "order": null,
            "overflow": null,
            "overflow_x": null,
            "overflow_y": null,
            "padding": null,
            "right": null,
            "top": null,
            "visibility": null,
            "width": null
          }
        },
        "f9738b466c8a422a9a0360374b2d8d0f": {
          "model_module": "@jupyter-widgets/controls",
          "model_name": "DescriptionStyleModel",
          "model_module_version": "1.5.0",
          "state": {
            "_model_module": "@jupyter-widgets/controls",
            "_model_module_version": "1.5.0",
            "_model_name": "DescriptionStyleModel",
            "_view_count": null,
            "_view_module": "@jupyter-widgets/base",
            "_view_module_version": "1.2.0",
            "_view_name": "StyleView",
            "description_width": ""
          }
        },
        "eed0af3062374aa3af2bfef59b7bd891": {
          "model_module": "@jupyter-widgets/controls",
          "model_name": "HBoxModel",
          "model_module_version": "1.5.0",
          "state": {
            "_dom_classes": [],
            "_model_module": "@jupyter-widgets/controls",
            "_model_module_version": "1.5.0",
            "_model_name": "HBoxModel",
            "_view_count": null,
            "_view_module": "@jupyter-widgets/controls",
            "_view_module_version": "1.5.0",
            "_view_name": "HBoxView",
            "box_style": "",
            "children": [
              "IPY_MODEL_d92dbc159a934e9099451002919f49f4",
              "IPY_MODEL_06a08bacb75d4f66b0b27f6945dff0c9",
              "IPY_MODEL_3a78e8f0adb64a509810061003212844"
            ],
            "layout": "IPY_MODEL_ee40b0ee0eb94350aa9d398829c1b9c9"
          }
        },
        "d92dbc159a934e9099451002919f49f4": {
          "model_module": "@jupyter-widgets/controls",
          "model_name": "HTMLModel",
          "model_module_version": "1.5.0",
          "state": {
            "_dom_classes": [],
            "_model_module": "@jupyter-widgets/controls",
            "_model_module_version": "1.5.0",
            "_model_name": "HTMLModel",
            "_view_count": null,
            "_view_module": "@jupyter-widgets/controls",
            "_view_module_version": "1.5.0",
            "_view_name": "HTMLView",
            "description": "",
            "description_tooltip": null,
            "layout": "IPY_MODEL_2a9831a19d20433cab4254f4f04474ee",
            "placeholder": "​",
            "style": "IPY_MODEL_f2fcaebde19c4051bffebd459e70521c",
            "value": "Loading checkpoint shards: 100%"
          }
        },
        "06a08bacb75d4f66b0b27f6945dff0c9": {
          "model_module": "@jupyter-widgets/controls",
          "model_name": "FloatProgressModel",
          "model_module_version": "1.5.0",
          "state": {
            "_dom_classes": [],
            "_model_module": "@jupyter-widgets/controls",
            "_model_module_version": "1.5.0",
            "_model_name": "FloatProgressModel",
            "_view_count": null,
            "_view_module": "@jupyter-widgets/controls",
            "_view_module_version": "1.5.0",
            "_view_name": "ProgressView",
            "bar_style": "success",
            "description": "",
            "description_tooltip": null,
            "layout": "IPY_MODEL_beb984b452944fc692a7fd855ca29852",
            "max": 3,
            "min": 0,
            "orientation": "horizontal",
            "style": "IPY_MODEL_ee8c9cfe6a1b44439c4a203be6004a0c",
            "value": 3
          }
        },
        "3a78e8f0adb64a509810061003212844": {
          "model_module": "@jupyter-widgets/controls",
          "model_name": "HTMLModel",
          "model_module_version": "1.5.0",
          "state": {
            "_dom_classes": [],
            "_model_module": "@jupyter-widgets/controls",
            "_model_module_version": "1.5.0",
            "_model_name": "HTMLModel",
            "_view_count": null,
            "_view_module": "@jupyter-widgets/controls",
            "_view_module_version": "1.5.0",
            "_view_name": "HTMLView",
            "description": "",
            "description_tooltip": null,
            "layout": "IPY_MODEL_b4e429b8d7bd4c9da56449c5f599cc54",
            "placeholder": "​",
            "style": "IPY_MODEL_6e645cc1a06e411fb6bbe9967b8ff31e",
            "value": " 3/3 [01:21&lt;00:00, 26.80s/it]"
          }
        },
        "ee40b0ee0eb94350aa9d398829c1b9c9": {
          "model_module": "@jupyter-widgets/base",
          "model_name": "LayoutModel",
          "model_module_version": "1.2.0",
          "state": {
            "_model_module": "@jupyter-widgets/base",
            "_model_module_version": "1.2.0",
            "_model_name": "LayoutModel",
            "_view_count": null,
            "_view_module": "@jupyter-widgets/base",
            "_view_module_version": "1.2.0",
            "_view_name": "LayoutView",
            "align_content": null,
            "align_items": null,
            "align_self": null,
            "border": null,
            "bottom": null,
            "display": null,
            "flex": null,
            "flex_flow": null,
            "grid_area": null,
            "grid_auto_columns": null,
            "grid_auto_flow": null,
            "grid_auto_rows": null,
            "grid_column": null,
            "grid_gap": null,
            "grid_row": null,
            "grid_template_areas": null,
            "grid_template_columns": null,
            "grid_template_rows": null,
            "height": null,
            "justify_content": null,
            "justify_items": null,
            "left": null,
            "margin": null,
            "max_height": null,
            "max_width": null,
            "min_height": null,
            "min_width": null,
            "object_fit": null,
            "object_position": null,
            "order": null,
            "overflow": null,
            "overflow_x": null,
            "overflow_y": null,
            "padding": null,
            "right": null,
            "top": null,
            "visibility": null,
            "width": null
          }
        },
        "2a9831a19d20433cab4254f4f04474ee": {
          "model_module": "@jupyter-widgets/base",
          "model_name": "LayoutModel",
          "model_module_version": "1.2.0",
          "state": {
            "_model_module": "@jupyter-widgets/base",
            "_model_module_version": "1.2.0",
            "_model_name": "LayoutModel",
            "_view_count": null,
            "_view_module": "@jupyter-widgets/base",
            "_view_module_version": "1.2.0",
            "_view_name": "LayoutView",
            "align_content": null,
            "align_items": null,
            "align_self": null,
            "border": null,
            "bottom": null,
            "display": null,
            "flex": null,
            "flex_flow": null,
            "grid_area": null,
            "grid_auto_columns": null,
            "grid_auto_flow": null,
            "grid_auto_rows": null,
            "grid_column": null,
            "grid_gap": null,
            "grid_row": null,
            "grid_template_areas": null,
            "grid_template_columns": null,
            "grid_template_rows": null,
            "height": null,
            "justify_content": null,
            "justify_items": null,
            "left": null,
            "margin": null,
            "max_height": null,
            "max_width": null,
            "min_height": null,
            "min_width": null,
            "object_fit": null,
            "object_position": null,
            "order": null,
            "overflow": null,
            "overflow_x": null,
            "overflow_y": null,
            "padding": null,
            "right": null,
            "top": null,
            "visibility": null,
            "width": null
          }
        },
        "f2fcaebde19c4051bffebd459e70521c": {
          "model_module": "@jupyter-widgets/controls",
          "model_name": "DescriptionStyleModel",
          "model_module_version": "1.5.0",
          "state": {
            "_model_module": "@jupyter-widgets/controls",
            "_model_module_version": "1.5.0",
            "_model_name": "DescriptionStyleModel",
            "_view_count": null,
            "_view_module": "@jupyter-widgets/base",
            "_view_module_version": "1.2.0",
            "_view_name": "StyleView",
            "description_width": ""
          }
        },
        "beb984b452944fc692a7fd855ca29852": {
          "model_module": "@jupyter-widgets/base",
          "model_name": "LayoutModel",
          "model_module_version": "1.2.0",
          "state": {
            "_model_module": "@jupyter-widgets/base",
            "_model_module_version": "1.2.0",
            "_model_name": "LayoutModel",
            "_view_count": null,
            "_view_module": "@jupyter-widgets/base",
            "_view_module_version": "1.2.0",
            "_view_name": "LayoutView",
            "align_content": null,
            "align_items": null,
            "align_self": null,
            "border": null,
            "bottom": null,
            "display": null,
            "flex": null,
            "flex_flow": null,
            "grid_area": null,
            "grid_auto_columns": null,
            "grid_auto_flow": null,
            "grid_auto_rows": null,
            "grid_column": null,
            "grid_gap": null,
            "grid_row": null,
            "grid_template_areas": null,
            "grid_template_columns": null,
            "grid_template_rows": null,
            "height": null,
            "justify_content": null,
            "justify_items": null,
            "left": null,
            "margin": null,
            "max_height": null,
            "max_width": null,
            "min_height": null,
            "min_width": null,
            "object_fit": null,
            "object_position": null,
            "order": null,
            "overflow": null,
            "overflow_x": null,
            "overflow_y": null,
            "padding": null,
            "right": null,
            "top": null,
            "visibility": null,
            "width": null
          }
        },
        "ee8c9cfe6a1b44439c4a203be6004a0c": {
          "model_module": "@jupyter-widgets/controls",
          "model_name": "ProgressStyleModel",
          "model_module_version": "1.5.0",
          "state": {
            "_model_module": "@jupyter-widgets/controls",
            "_model_module_version": "1.5.0",
            "_model_name": "ProgressStyleModel",
            "_view_count": null,
            "_view_module": "@jupyter-widgets/base",
            "_view_module_version": "1.2.0",
            "_view_name": "StyleView",
            "bar_color": null,
            "description_width": ""
          }
        },
        "b4e429b8d7bd4c9da56449c5f599cc54": {
          "model_module": "@jupyter-widgets/base",
          "model_name": "LayoutModel",
          "model_module_version": "1.2.0",
          "state": {
            "_model_module": "@jupyter-widgets/base",
            "_model_module_version": "1.2.0",
            "_model_name": "LayoutModel",
            "_view_count": null,
            "_view_module": "@jupyter-widgets/base",
            "_view_module_version": "1.2.0",
            "_view_name": "LayoutView",
            "align_content": null,
            "align_items": null,
            "align_self": null,
            "border": null,
            "bottom": null,
            "display": null,
            "flex": null,
            "flex_flow": null,
            "grid_area": null,
            "grid_auto_columns": null,
            "grid_auto_flow": null,
            "grid_auto_rows": null,
            "grid_column": null,
            "grid_gap": null,
            "grid_row": null,
            "grid_template_areas": null,
            "grid_template_columns": null,
            "grid_template_rows": null,
            "height": null,
            "justify_content": null,
            "justify_items": null,
            "left": null,
            "margin": null,
            "max_height": null,
            "max_width": null,
            "min_height": null,
            "min_width": null,
            "object_fit": null,
            "object_position": null,
            "order": null,
            "overflow": null,
            "overflow_x": null,
            "overflow_y": null,
            "padding": null,
            "right": null,
            "top": null,
            "visibility": null,
            "width": null
          }
        },
        "6e645cc1a06e411fb6bbe9967b8ff31e": {
          "model_module": "@jupyter-widgets/controls",
          "model_name": "DescriptionStyleModel",
          "model_module_version": "1.5.0",
          "state": {
            "_model_module": "@jupyter-widgets/controls",
            "_model_module_version": "1.5.0",
            "_model_name": "DescriptionStyleModel",
            "_view_count": null,
            "_view_module": "@jupyter-widgets/base",
            "_view_module_version": "1.2.0",
            "_view_name": "StyleView",
            "description_width": ""
          }
        },
        "d61893f832c443a58ff0cf4ef658d40b": {
          "model_module": "@jupyter-widgets/controls",
          "model_name": "HBoxModel",
          "model_module_version": "1.5.0",
          "state": {
            "_dom_classes": [],
            "_model_module": "@jupyter-widgets/controls",
            "_model_module_version": "1.5.0",
            "_model_name": "HBoxModel",
            "_view_count": null,
            "_view_module": "@jupyter-widgets/controls",
            "_view_module_version": "1.5.0",
            "_view_name": "HBoxView",
            "box_style": "",
            "children": [
              "IPY_MODEL_ac6b6a456cfd4b669ba875534653c314",
              "IPY_MODEL_6e31d1a1ac424a9c976f67e9f41d5648",
              "IPY_MODEL_c29aa5c59c1045668733c6d4976ca473"
            ],
            "layout": "IPY_MODEL_ab756f3733244822875410922faef012"
          }
        },
        "ac6b6a456cfd4b669ba875534653c314": {
          "model_module": "@jupyter-widgets/controls",
          "model_name": "HTMLModel",
          "model_module_version": "1.5.0",
          "state": {
            "_dom_classes": [],
            "_model_module": "@jupyter-widgets/controls",
            "_model_module_version": "1.5.0",
            "_model_name": "HTMLModel",
            "_view_count": null,
            "_view_module": "@jupyter-widgets/controls",
            "_view_module_version": "1.5.0",
            "_view_name": "HTMLView",
            "description": "",
            "description_tooltip": null,
            "layout": "IPY_MODEL_e1607de7bafc4a08a73cd795eb38e27d",
            "placeholder": "​",
            "style": "IPY_MODEL_452b5228fd1b4a60bfa1e18f88247c55",
            "value": "generation_config.json: 100%"
          }
        },
        "6e31d1a1ac424a9c976f67e9f41d5648": {
          "model_module": "@jupyter-widgets/controls",
          "model_name": "FloatProgressModel",
          "model_module_version": "1.5.0",
          "state": {
            "_dom_classes": [],
            "_model_module": "@jupyter-widgets/controls",
            "_model_module_version": "1.5.0",
            "_model_name": "FloatProgressModel",
            "_view_count": null,
            "_view_module": "@jupyter-widgets/controls",
            "_view_module_version": "1.5.0",
            "_view_name": "ProgressView",
            "bar_style": "success",
            "description": "",
            "description_tooltip": null,
            "layout": "IPY_MODEL_c41063aec33146c3b995a27a6373f2bb",
            "max": 111,
            "min": 0,
            "orientation": "horizontal",
            "style": "IPY_MODEL_f346dc1d32d34f90bfc12d295f83836f",
            "value": 111
          }
        },
        "c29aa5c59c1045668733c6d4976ca473": {
          "model_module": "@jupyter-widgets/controls",
          "model_name": "HTMLModel",
          "model_module_version": "1.5.0",
          "state": {
            "_dom_classes": [],
            "_model_module": "@jupyter-widgets/controls",
            "_model_module_version": "1.5.0",
            "_model_name": "HTMLModel",
            "_view_count": null,
            "_view_module": "@jupyter-widgets/controls",
            "_view_module_version": "1.5.0",
            "_view_name": "HTMLView",
            "description": "",
            "description_tooltip": null,
            "layout": "IPY_MODEL_bba3690e9a4a410bb1af792004cc1318",
            "placeholder": "​",
            "style": "IPY_MODEL_2fdd1aced0a84a07a1977f09c596a846",
            "value": " 111/111 [00:00&lt;00:00, 6.63kB/s]"
          }
        },
        "ab756f3733244822875410922faef012": {
          "model_module": "@jupyter-widgets/base",
          "model_name": "LayoutModel",
          "model_module_version": "1.2.0",
          "state": {
            "_model_module": "@jupyter-widgets/base",
            "_model_module_version": "1.2.0",
            "_model_name": "LayoutModel",
            "_view_count": null,
            "_view_module": "@jupyter-widgets/base",
            "_view_module_version": "1.2.0",
            "_view_name": "LayoutView",
            "align_content": null,
            "align_items": null,
            "align_self": null,
            "border": null,
            "bottom": null,
            "display": null,
            "flex": null,
            "flex_flow": null,
            "grid_area": null,
            "grid_auto_columns": null,
            "grid_auto_flow": null,
            "grid_auto_rows": null,
            "grid_column": null,
            "grid_gap": null,
            "grid_row": null,
            "grid_template_areas": null,
            "grid_template_columns": null,
            "grid_template_rows": null,
            "height": null,
            "justify_content": null,
            "justify_items": null,
            "left": null,
            "margin": null,
            "max_height": null,
            "max_width": null,
            "min_height": null,
            "min_width": null,
            "object_fit": null,
            "object_position": null,
            "order": null,
            "overflow": null,
            "overflow_x": null,
            "overflow_y": null,
            "padding": null,
            "right": null,
            "top": null,
            "visibility": null,
            "width": null
          }
        },
        "e1607de7bafc4a08a73cd795eb38e27d": {
          "model_module": "@jupyter-widgets/base",
          "model_name": "LayoutModel",
          "model_module_version": "1.2.0",
          "state": {
            "_model_module": "@jupyter-widgets/base",
            "_model_module_version": "1.2.0",
            "_model_name": "LayoutModel",
            "_view_count": null,
            "_view_module": "@jupyter-widgets/base",
            "_view_module_version": "1.2.0",
            "_view_name": "LayoutView",
            "align_content": null,
            "align_items": null,
            "align_self": null,
            "border": null,
            "bottom": null,
            "display": null,
            "flex": null,
            "flex_flow": null,
            "grid_area": null,
            "grid_auto_columns": null,
            "grid_auto_flow": null,
            "grid_auto_rows": null,
            "grid_column": null,
            "grid_gap": null,
            "grid_row": null,
            "grid_template_areas": null,
            "grid_template_columns": null,
            "grid_template_rows": null,
            "height": null,
            "justify_content": null,
            "justify_items": null,
            "left": null,
            "margin": null,
            "max_height": null,
            "max_width": null,
            "min_height": null,
            "min_width": null,
            "object_fit": null,
            "object_position": null,
            "order": null,
            "overflow": null,
            "overflow_x": null,
            "overflow_y": null,
            "padding": null,
            "right": null,
            "top": null,
            "visibility": null,
            "width": null
          }
        },
        "452b5228fd1b4a60bfa1e18f88247c55": {
          "model_module": "@jupyter-widgets/controls",
          "model_name": "DescriptionStyleModel",
          "model_module_version": "1.5.0",
          "state": {
            "_model_module": "@jupyter-widgets/controls",
            "_model_module_version": "1.5.0",
            "_model_name": "DescriptionStyleModel",
            "_view_count": null,
            "_view_module": "@jupyter-widgets/base",
            "_view_module_version": "1.2.0",
            "_view_name": "StyleView",
            "description_width": ""
          }
        },
        "c41063aec33146c3b995a27a6373f2bb": {
          "model_module": "@jupyter-widgets/base",
          "model_name": "LayoutModel",
          "model_module_version": "1.2.0",
          "state": {
            "_model_module": "@jupyter-widgets/base",
            "_model_module_version": "1.2.0",
            "_model_name": "LayoutModel",
            "_view_count": null,
            "_view_module": "@jupyter-widgets/base",
            "_view_module_version": "1.2.0",
            "_view_name": "LayoutView",
            "align_content": null,
            "align_items": null,
            "align_self": null,
            "border": null,
            "bottom": null,
            "display": null,
            "flex": null,
            "flex_flow": null,
            "grid_area": null,
            "grid_auto_columns": null,
            "grid_auto_flow": null,
            "grid_auto_rows": null,
            "grid_column": null,
            "grid_gap": null,
            "grid_row": null,
            "grid_template_areas": null,
            "grid_template_columns": null,
            "grid_template_rows": null,
            "height": null,
            "justify_content": null,
            "justify_items": null,
            "left": null,
            "margin": null,
            "max_height": null,
            "max_width": null,
            "min_height": null,
            "min_width": null,
            "object_fit": null,
            "object_position": null,
            "order": null,
            "overflow": null,
            "overflow_x": null,
            "overflow_y": null,
            "padding": null,
            "right": null,
            "top": null,
            "visibility": null,
            "width": null
          }
        },
        "f346dc1d32d34f90bfc12d295f83836f": {
          "model_module": "@jupyter-widgets/controls",
          "model_name": "ProgressStyleModel",
          "model_module_version": "1.5.0",
          "state": {
            "_model_module": "@jupyter-widgets/controls",
            "_model_module_version": "1.5.0",
            "_model_name": "ProgressStyleModel",
            "_view_count": null,
            "_view_module": "@jupyter-widgets/base",
            "_view_module_version": "1.2.0",
            "_view_name": "StyleView",
            "bar_color": null,
            "description_width": ""
          }
        },
        "bba3690e9a4a410bb1af792004cc1318": {
          "model_module": "@jupyter-widgets/base",
          "model_name": "LayoutModel",
          "model_module_version": "1.2.0",
          "state": {
            "_model_module": "@jupyter-widgets/base",
            "_model_module_version": "1.2.0",
            "_model_name": "LayoutModel",
            "_view_count": null,
            "_view_module": "@jupyter-widgets/base",
            "_view_module_version": "1.2.0",
            "_view_name": "LayoutView",
            "align_content": null,
            "align_items": null,
            "align_self": null,
            "border": null,
            "bottom": null,
            "display": null,
            "flex": null,
            "flex_flow": null,
            "grid_area": null,
            "grid_auto_columns": null,
            "grid_auto_flow": null,
            "grid_auto_rows": null,
            "grid_column": null,
            "grid_gap": null,
            "grid_row": null,
            "grid_template_areas": null,
            "grid_template_columns": null,
            "grid_template_rows": null,
            "height": null,
            "justify_content": null,
            "justify_items": null,
            "left": null,
            "margin": null,
            "max_height": null,
            "max_width": null,
            "min_height": null,
            "min_width": null,
            "object_fit": null,
            "object_position": null,
            "order": null,
            "overflow": null,
            "overflow_x": null,
            "overflow_y": null,
            "padding": null,
            "right": null,
            "top": null,
            "visibility": null,
            "width": null
          }
        },
        "2fdd1aced0a84a07a1977f09c596a846": {
          "model_module": "@jupyter-widgets/controls",
          "model_name": "DescriptionStyleModel",
          "model_module_version": "1.5.0",
          "state": {
            "_model_module": "@jupyter-widgets/controls",
            "_model_module_version": "1.5.0",
            "_model_name": "DescriptionStyleModel",
            "_view_count": null,
            "_view_module": "@jupyter-widgets/base",
            "_view_module_version": "1.2.0",
            "_view_name": "StyleView",
            "description_width": ""
          }
        },
        "e766844e590e41bca2a7d605fb652250": {
          "model_module": "@jupyter-widgets/controls",
          "model_name": "HBoxModel",
          "model_module_version": "1.5.0",
          "state": {
            "_dom_classes": [],
            "_model_module": "@jupyter-widgets/controls",
            "_model_module_version": "1.5.0",
            "_model_name": "HBoxModel",
            "_view_count": null,
            "_view_module": "@jupyter-widgets/controls",
            "_view_module_version": "1.5.0",
            "_view_name": "HBoxView",
            "box_style": "",
            "children": [
              "IPY_MODEL_9f56f0f6eb4d44dcad8ffdbf5353bd95",
              "IPY_MODEL_bc93af659ec1424688fccb6bec5ad5e4",
              "IPY_MODEL_f8529c41cfb64b62868f62d69eaacde3"
            ],
            "layout": "IPY_MODEL_a5007e4cb12247bf9bf5a5e48d06f6e9"
          }
        },
        "9f56f0f6eb4d44dcad8ffdbf5353bd95": {
          "model_module": "@jupyter-widgets/controls",
          "model_name": "HTMLModel",
          "model_module_version": "1.5.0",
          "state": {
            "_dom_classes": [],
            "_model_module": "@jupyter-widgets/controls",
            "_model_module_version": "1.5.0",
            "_model_name": "HTMLModel",
            "_view_count": null,
            "_view_module": "@jupyter-widgets/controls",
            "_view_module_version": "1.5.0",
            "_view_name": "HTMLView",
            "description": "",
            "description_tooltip": null,
            "layout": "IPY_MODEL_0cf2c1e241a9451ea77dc61f56f78b81",
            "placeholder": "​",
            "style": "IPY_MODEL_95ece70121de410fbca2ed0c027dcadd",
            "value": "tokenizer_config.json: 100%"
          }
        },
        "bc93af659ec1424688fccb6bec5ad5e4": {
          "model_module": "@jupyter-widgets/controls",
          "model_name": "FloatProgressModel",
          "model_module_version": "1.5.0",
          "state": {
            "_dom_classes": [],
            "_model_module": "@jupyter-widgets/controls",
            "_model_module_version": "1.5.0",
            "_model_name": "FloatProgressModel",
            "_view_count": null,
            "_view_module": "@jupyter-widgets/controls",
            "_view_module_version": "1.5.0",
            "_view_name": "ProgressView",
            "bar_style": "success",
            "description": "",
            "description_tooltip": null,
            "layout": "IPY_MODEL_4d99245c98e04dee8e4fc6a0dd4c675e",
            "max": 1460,
            "min": 0,
            "orientation": "horizontal",
            "style": "IPY_MODEL_353b8162da004e7baa0f10d4be0dd885",
            "value": 1460
          }
        },
        "f8529c41cfb64b62868f62d69eaacde3": {
          "model_module": "@jupyter-widgets/controls",
          "model_name": "HTMLModel",
          "model_module_version": "1.5.0",
          "state": {
            "_dom_classes": [],
            "_model_module": "@jupyter-widgets/controls",
            "_model_module_version": "1.5.0",
            "_model_name": "HTMLModel",
            "_view_count": null,
            "_view_module": "@jupyter-widgets/controls",
            "_view_module_version": "1.5.0",
            "_view_name": "HTMLView",
            "description": "",
            "description_tooltip": null,
            "layout": "IPY_MODEL_0ee814b0976c4cc9bbc94c1936d6219f",
            "placeholder": "​",
            "style": "IPY_MODEL_4d13a4a3aee04cdd8849de7cd4f58303",
            "value": " 1.46k/1.46k [00:00&lt;00:00, 88.9kB/s]"
          }
        },
        "a5007e4cb12247bf9bf5a5e48d06f6e9": {
          "model_module": "@jupyter-widgets/base",
          "model_name": "LayoutModel",
          "model_module_version": "1.2.0",
          "state": {
            "_model_module": "@jupyter-widgets/base",
            "_model_module_version": "1.2.0",
            "_model_name": "LayoutModel",
            "_view_count": null,
            "_view_module": "@jupyter-widgets/base",
            "_view_module_version": "1.2.0",
            "_view_name": "LayoutView",
            "align_content": null,
            "align_items": null,
            "align_self": null,
            "border": null,
            "bottom": null,
            "display": null,
            "flex": null,
            "flex_flow": null,
            "grid_area": null,
            "grid_auto_columns": null,
            "grid_auto_flow": null,
            "grid_auto_rows": null,
            "grid_column": null,
            "grid_gap": null,
            "grid_row": null,
            "grid_template_areas": null,
            "grid_template_columns": null,
            "grid_template_rows": null,
            "height": null,
            "justify_content": null,
            "justify_items": null,
            "left": null,
            "margin": null,
            "max_height": null,
            "max_width": null,
            "min_height": null,
            "min_width": null,
            "object_fit": null,
            "object_position": null,
            "order": null,
            "overflow": null,
            "overflow_x": null,
            "overflow_y": null,
            "padding": null,
            "right": null,
            "top": null,
            "visibility": null,
            "width": null
          }
        },
        "0cf2c1e241a9451ea77dc61f56f78b81": {
          "model_module": "@jupyter-widgets/base",
          "model_name": "LayoutModel",
          "model_module_version": "1.2.0",
          "state": {
            "_model_module": "@jupyter-widgets/base",
            "_model_module_version": "1.2.0",
            "_model_name": "LayoutModel",
            "_view_count": null,
            "_view_module": "@jupyter-widgets/base",
            "_view_module_version": "1.2.0",
            "_view_name": "LayoutView",
            "align_content": null,
            "align_items": null,
            "align_self": null,
            "border": null,
            "bottom": null,
            "display": null,
            "flex": null,
            "flex_flow": null,
            "grid_area": null,
            "grid_auto_columns": null,
            "grid_auto_flow": null,
            "grid_auto_rows": null,
            "grid_column": null,
            "grid_gap": null,
            "grid_row": null,
            "grid_template_areas": null,
            "grid_template_columns": null,
            "grid_template_rows": null,
            "height": null,
            "justify_content": null,
            "justify_items": null,
            "left": null,
            "margin": null,
            "max_height": null,
            "max_width": null,
            "min_height": null,
            "min_width": null,
            "object_fit": null,
            "object_position": null,
            "order": null,
            "overflow": null,
            "overflow_x": null,
            "overflow_y": null,
            "padding": null,
            "right": null,
            "top": null,
            "visibility": null,
            "width": null
          }
        },
        "95ece70121de410fbca2ed0c027dcadd": {
          "model_module": "@jupyter-widgets/controls",
          "model_name": "DescriptionStyleModel",
          "model_module_version": "1.5.0",
          "state": {
            "_model_module": "@jupyter-widgets/controls",
            "_model_module_version": "1.5.0",
            "_model_name": "DescriptionStyleModel",
            "_view_count": null,
            "_view_module": "@jupyter-widgets/base",
            "_view_module_version": "1.2.0",
            "_view_name": "StyleView",
            "description_width": ""
          }
        },
        "4d99245c98e04dee8e4fc6a0dd4c675e": {
          "model_module": "@jupyter-widgets/base",
          "model_name": "LayoutModel",
          "model_module_version": "1.2.0",
          "state": {
            "_model_module": "@jupyter-widgets/base",
            "_model_module_version": "1.2.0",
            "_model_name": "LayoutModel",
            "_view_count": null,
            "_view_module": "@jupyter-widgets/base",
            "_view_module_version": "1.2.0",
            "_view_name": "LayoutView",
            "align_content": null,
            "align_items": null,
            "align_self": null,
            "border": null,
            "bottom": null,
            "display": null,
            "flex": null,
            "flex_flow": null,
            "grid_area": null,
            "grid_auto_columns": null,
            "grid_auto_flow": null,
            "grid_auto_rows": null,
            "grid_column": null,
            "grid_gap": null,
            "grid_row": null,
            "grid_template_areas": null,
            "grid_template_columns": null,
            "grid_template_rows": null,
            "height": null,
            "justify_content": null,
            "justify_items": null,
            "left": null,
            "margin": null,
            "max_height": null,
            "max_width": null,
            "min_height": null,
            "min_width": null,
            "object_fit": null,
            "object_position": null,
            "order": null,
            "overflow": null,
            "overflow_x": null,
            "overflow_y": null,
            "padding": null,
            "right": null,
            "top": null,
            "visibility": null,
            "width": null
          }
        },
        "353b8162da004e7baa0f10d4be0dd885": {
          "model_module": "@jupyter-widgets/controls",
          "model_name": "ProgressStyleModel",
          "model_module_version": "1.5.0",
          "state": {
            "_model_module": "@jupyter-widgets/controls",
            "_model_module_version": "1.5.0",
            "_model_name": "ProgressStyleModel",
            "_view_count": null,
            "_view_module": "@jupyter-widgets/base",
            "_view_module_version": "1.2.0",
            "_view_name": "StyleView",
            "bar_color": null,
            "description_width": ""
          }
        },
        "0ee814b0976c4cc9bbc94c1936d6219f": {
          "model_module": "@jupyter-widgets/base",
          "model_name": "LayoutModel",
          "model_module_version": "1.2.0",
          "state": {
            "_model_module": "@jupyter-widgets/base",
            "_model_module_version": "1.2.0",
            "_model_name": "LayoutModel",
            "_view_count": null,
            "_view_module": "@jupyter-widgets/base",
            "_view_module_version": "1.2.0",
            "_view_name": "LayoutView",
            "align_content": null,
            "align_items": null,
            "align_self": null,
            "border": null,
            "bottom": null,
            "display": null,
            "flex": null,
            "flex_flow": null,
            "grid_area": null,
            "grid_auto_columns": null,
            "grid_auto_flow": null,
            "grid_auto_rows": null,
            "grid_column": null,
            "grid_gap": null,
            "grid_row": null,
            "grid_template_areas": null,
            "grid_template_columns": null,
            "grid_template_rows": null,
            "height": null,
            "justify_content": null,
            "justify_items": null,
            "left": null,
            "margin": null,
            "max_height": null,
            "max_width": null,
            "min_height": null,
            "min_width": null,
            "object_fit": null,
            "object_position": null,
            "order": null,
            "overflow": null,
            "overflow_x": null,
            "overflow_y": null,
            "padding": null,
            "right": null,
            "top": null,
            "visibility": null,
            "width": null
          }
        },
        "4d13a4a3aee04cdd8849de7cd4f58303": {
          "model_module": "@jupyter-widgets/controls",
          "model_name": "DescriptionStyleModel",
          "model_module_version": "1.5.0",
          "state": {
            "_model_module": "@jupyter-widgets/controls",
            "_model_module_version": "1.5.0",
            "_model_name": "DescriptionStyleModel",
            "_view_count": null,
            "_view_module": "@jupyter-widgets/base",
            "_view_module_version": "1.2.0",
            "_view_name": "StyleView",
            "description_width": ""
          }
        },
        "7025ff8f560448cca47761ea629dcd0a": {
          "model_module": "@jupyter-widgets/controls",
          "model_name": "HBoxModel",
          "model_module_version": "1.5.0",
          "state": {
            "_dom_classes": [],
            "_model_module": "@jupyter-widgets/controls",
            "_model_module_version": "1.5.0",
            "_model_name": "HBoxModel",
            "_view_count": null,
            "_view_module": "@jupyter-widgets/controls",
            "_view_module_version": "1.5.0",
            "_view_name": "HBoxView",
            "box_style": "",
            "children": [
              "IPY_MODEL_b2b4ab227af347a1a58f7896ad3acdcb",
              "IPY_MODEL_8f765dd4f4fc4001b0ec8a98b4a8228c",
              "IPY_MODEL_bc34ffd0a5e341019da3d90a7fdd715a"
            ],
            "layout": "IPY_MODEL_228dda9da1554fbcb249ffe28501ad00"
          }
        },
        "b2b4ab227af347a1a58f7896ad3acdcb": {
          "model_module": "@jupyter-widgets/controls",
          "model_name": "HTMLModel",
          "model_module_version": "1.5.0",
          "state": {
            "_dom_classes": [],
            "_model_module": "@jupyter-widgets/controls",
            "_model_module_version": "1.5.0",
            "_model_name": "HTMLModel",
            "_view_count": null,
            "_view_module": "@jupyter-widgets/controls",
            "_view_module_version": "1.5.0",
            "_view_name": "HTMLView",
            "description": "",
            "description_tooltip": null,
            "layout": "IPY_MODEL_15a5db51bfe748ecb6f7037a8b690bb1",
            "placeholder": "​",
            "style": "IPY_MODEL_b5aa3654964443cd9741c82b7fe15931",
            "value": "tokenizer.model: 100%"
          }
        },
        "8f765dd4f4fc4001b0ec8a98b4a8228c": {
          "model_module": "@jupyter-widgets/controls",
          "model_name": "FloatProgressModel",
          "model_module_version": "1.5.0",
          "state": {
            "_dom_classes": [],
            "_model_module": "@jupyter-widgets/controls",
            "_model_module_version": "1.5.0",
            "_model_name": "FloatProgressModel",
            "_view_count": null,
            "_view_module": "@jupyter-widgets/controls",
            "_view_module_version": "1.5.0",
            "_view_name": "ProgressView",
            "bar_style": "success",
            "description": "",
            "description_tooltip": null,
            "layout": "IPY_MODEL_5979c3b3e52e4ac59e28f36297d14ec9",
            "max": 493443,
            "min": 0,
            "orientation": "horizontal",
            "style": "IPY_MODEL_9863b06954ae45f6b571fb2a0a8fe7a4",
            "value": 493443
          }
        },
        "bc34ffd0a5e341019da3d90a7fdd715a": {
          "model_module": "@jupyter-widgets/controls",
          "model_name": "HTMLModel",
          "model_module_version": "1.5.0",
          "state": {
            "_dom_classes": [],
            "_model_module": "@jupyter-widgets/controls",
            "_model_module_version": "1.5.0",
            "_model_name": "HTMLModel",
            "_view_count": null,
            "_view_module": "@jupyter-widgets/controls",
            "_view_module_version": "1.5.0",
            "_view_name": "HTMLView",
            "description": "",
            "description_tooltip": null,
            "layout": "IPY_MODEL_e90e054c79494af798d974a6899abc10",
            "placeholder": "​",
            "style": "IPY_MODEL_9bbb750ea4ca402597cfab95f528b9d8",
            "value": " 493k/493k [00:00&lt;00:00, 29.1MB/s]"
          }
        },
        "228dda9da1554fbcb249ffe28501ad00": {
          "model_module": "@jupyter-widgets/base",
          "model_name": "LayoutModel",
          "model_module_version": "1.2.0",
          "state": {
            "_model_module": "@jupyter-widgets/base",
            "_model_module_version": "1.2.0",
            "_model_name": "LayoutModel",
            "_view_count": null,
            "_view_module": "@jupyter-widgets/base",
            "_view_module_version": "1.2.0",
            "_view_name": "LayoutView",
            "align_content": null,
            "align_items": null,
            "align_self": null,
            "border": null,
            "bottom": null,
            "display": null,
            "flex": null,
            "flex_flow": null,
            "grid_area": null,
            "grid_auto_columns": null,
            "grid_auto_flow": null,
            "grid_auto_rows": null,
            "grid_column": null,
            "grid_gap": null,
            "grid_row": null,
            "grid_template_areas": null,
            "grid_template_columns": null,
            "grid_template_rows": null,
            "height": null,
            "justify_content": null,
            "justify_items": null,
            "left": null,
            "margin": null,
            "max_height": null,
            "max_width": null,
            "min_height": null,
            "min_width": null,
            "object_fit": null,
            "object_position": null,
            "order": null,
            "overflow": null,
            "overflow_x": null,
            "overflow_y": null,
            "padding": null,
            "right": null,
            "top": null,
            "visibility": null,
            "width": null
          }
        },
        "15a5db51bfe748ecb6f7037a8b690bb1": {
          "model_module": "@jupyter-widgets/base",
          "model_name": "LayoutModel",
          "model_module_version": "1.2.0",
          "state": {
            "_model_module": "@jupyter-widgets/base",
            "_model_module_version": "1.2.0",
            "_model_name": "LayoutModel",
            "_view_count": null,
            "_view_module": "@jupyter-widgets/base",
            "_view_module_version": "1.2.0",
            "_view_name": "LayoutView",
            "align_content": null,
            "align_items": null,
            "align_self": null,
            "border": null,
            "bottom": null,
            "display": null,
            "flex": null,
            "flex_flow": null,
            "grid_area": null,
            "grid_auto_columns": null,
            "grid_auto_flow": null,
            "grid_auto_rows": null,
            "grid_column": null,
            "grid_gap": null,
            "grid_row": null,
            "grid_template_areas": null,
            "grid_template_columns": null,
            "grid_template_rows": null,
            "height": null,
            "justify_content": null,
            "justify_items": null,
            "left": null,
            "margin": null,
            "max_height": null,
            "max_width": null,
            "min_height": null,
            "min_width": null,
            "object_fit": null,
            "object_position": null,
            "order": null,
            "overflow": null,
            "overflow_x": null,
            "overflow_y": null,
            "padding": null,
            "right": null,
            "top": null,
            "visibility": null,
            "width": null
          }
        },
        "b5aa3654964443cd9741c82b7fe15931": {
          "model_module": "@jupyter-widgets/controls",
          "model_name": "DescriptionStyleModel",
          "model_module_version": "1.5.0",
          "state": {
            "_model_module": "@jupyter-widgets/controls",
            "_model_module_version": "1.5.0",
            "_model_name": "DescriptionStyleModel",
            "_view_count": null,
            "_view_module": "@jupyter-widgets/base",
            "_view_module_version": "1.2.0",
            "_view_name": "StyleView",
            "description_width": ""
          }
        },
        "5979c3b3e52e4ac59e28f36297d14ec9": {
          "model_module": "@jupyter-widgets/base",
          "model_name": "LayoutModel",
          "model_module_version": "1.2.0",
          "state": {
            "_model_module": "@jupyter-widgets/base",
            "_model_module_version": "1.2.0",
            "_model_name": "LayoutModel",
            "_view_count": null,
            "_view_module": "@jupyter-widgets/base",
            "_view_module_version": "1.2.0",
            "_view_name": "LayoutView",
            "align_content": null,
            "align_items": null,
            "align_self": null,
            "border": null,
            "bottom": null,
            "display": null,
            "flex": null,
            "flex_flow": null,
            "grid_area": null,
            "grid_auto_columns": null,
            "grid_auto_flow": null,
            "grid_auto_rows": null,
            "grid_column": null,
            "grid_gap": null,
            "grid_row": null,
            "grid_template_areas": null,
            "grid_template_columns": null,
            "grid_template_rows": null,
            "height": null,
            "justify_content": null,
            "justify_items": null,
            "left": null,
            "margin": null,
            "max_height": null,
            "max_width": null,
            "min_height": null,
            "min_width": null,
            "object_fit": null,
            "object_position": null,
            "order": null,
            "overflow": null,
            "overflow_x": null,
            "overflow_y": null,
            "padding": null,
            "right": null,
            "top": null,
            "visibility": null,
            "width": null
          }
        },
        "9863b06954ae45f6b571fb2a0a8fe7a4": {
          "model_module": "@jupyter-widgets/controls",
          "model_name": "ProgressStyleModel",
          "model_module_version": "1.5.0",
          "state": {
            "_model_module": "@jupyter-widgets/controls",
            "_model_module_version": "1.5.0",
            "_model_name": "ProgressStyleModel",
            "_view_count": null,
            "_view_module": "@jupyter-widgets/base",
            "_view_module_version": "1.2.0",
            "_view_name": "StyleView",
            "bar_color": null,
            "description_width": ""
          }
        },
        "e90e054c79494af798d974a6899abc10": {
          "model_module": "@jupyter-widgets/base",
          "model_name": "LayoutModel",
          "model_module_version": "1.2.0",
          "state": {
            "_model_module": "@jupyter-widgets/base",
            "_model_module_version": "1.2.0",
            "_model_name": "LayoutModel",
            "_view_count": null,
            "_view_module": "@jupyter-widgets/base",
            "_view_module_version": "1.2.0",
            "_view_name": "LayoutView",
            "align_content": null,
            "align_items": null,
            "align_self": null,
            "border": null,
            "bottom": null,
            "display": null,
            "flex": null,
            "flex_flow": null,
            "grid_area": null,
            "grid_auto_columns": null,
            "grid_auto_flow": null,
            "grid_auto_rows": null,
            "grid_column": null,
            "grid_gap": null,
            "grid_row": null,
            "grid_template_areas": null,
            "grid_template_columns": null,
            "grid_template_rows": null,
            "height": null,
            "justify_content": null,
            "justify_items": null,
            "left": null,
            "margin": null,
            "max_height": null,
            "max_width": null,
            "min_height": null,
            "min_width": null,
            "object_fit": null,
            "object_position": null,
            "order": null,
            "overflow": null,
            "overflow_x": null,
            "overflow_y": null,
            "padding": null,
            "right": null,
            "top": null,
            "visibility": null,
            "width": null
          }
        },
        "9bbb750ea4ca402597cfab95f528b9d8": {
          "model_module": "@jupyter-widgets/controls",
          "model_name": "DescriptionStyleModel",
          "model_module_version": "1.5.0",
          "state": {
            "_model_module": "@jupyter-widgets/controls",
            "_model_module_version": "1.5.0",
            "_model_name": "DescriptionStyleModel",
            "_view_count": null,
            "_view_module": "@jupyter-widgets/base",
            "_view_module_version": "1.2.0",
            "_view_name": "StyleView",
            "description_width": ""
          }
        },
        "631cf3cfe5b6454791a87bf1a3c18ac4": {
          "model_module": "@jupyter-widgets/controls",
          "model_name": "HBoxModel",
          "model_module_version": "1.5.0",
          "state": {
            "_dom_classes": [],
            "_model_module": "@jupyter-widgets/controls",
            "_model_module_version": "1.5.0",
            "_model_name": "HBoxModel",
            "_view_count": null,
            "_view_module": "@jupyter-widgets/controls",
            "_view_module_version": "1.5.0",
            "_view_name": "HBoxView",
            "box_style": "",
            "children": [
              "IPY_MODEL_015414e7835f4e8480dd7dfa01f31cae",
              "IPY_MODEL_5456fcb625a5442091cc690bba497fff",
              "IPY_MODEL_152f25a03e544882956e5f38f40dc268"
            ],
            "layout": "IPY_MODEL_3845d47f309d41399e99b5f02656ca0d"
          }
        },
        "015414e7835f4e8480dd7dfa01f31cae": {
          "model_module": "@jupyter-widgets/controls",
          "model_name": "HTMLModel",
          "model_module_version": "1.5.0",
          "state": {
            "_dom_classes": [],
            "_model_module": "@jupyter-widgets/controls",
            "_model_module_version": "1.5.0",
            "_model_name": "HTMLModel",
            "_view_count": null,
            "_view_module": "@jupyter-widgets/controls",
            "_view_module_version": "1.5.0",
            "_view_name": "HTMLView",
            "description": "",
            "description_tooltip": null,
            "layout": "IPY_MODEL_0f85436ec44d469190bffed6e0670c48",
            "placeholder": "​",
            "style": "IPY_MODEL_6ad35c44e26f40d3aa6d129b4b317b1d",
            "value": "tokenizer.json: 100%"
          }
        },
        "5456fcb625a5442091cc690bba497fff": {
          "model_module": "@jupyter-widgets/controls",
          "model_name": "FloatProgressModel",
          "model_module_version": "1.5.0",
          "state": {
            "_dom_classes": [],
            "_model_module": "@jupyter-widgets/controls",
            "_model_module_version": "1.5.0",
            "_model_name": "FloatProgressModel",
            "_view_count": null,
            "_view_module": "@jupyter-widgets/controls",
            "_view_module_version": "1.5.0",
            "_view_name": "ProgressView",
            "bar_style": "success",
            "description": "",
            "description_tooltip": null,
            "layout": "IPY_MODEL_655b4ddadd704c7f91b11332f978ca45",
            "max": 1795303,
            "min": 0,
            "orientation": "horizontal",
            "style": "IPY_MODEL_360990ae49584d96bd5f6c3ca705df7b",
            "value": 1795303
          }
        },
        "152f25a03e544882956e5f38f40dc268": {
          "model_module": "@jupyter-widgets/controls",
          "model_name": "HTMLModel",
          "model_module_version": "1.5.0",
          "state": {
            "_dom_classes": [],
            "_model_module": "@jupyter-widgets/controls",
            "_model_module_version": "1.5.0",
            "_model_name": "HTMLModel",
            "_view_count": null,
            "_view_module": "@jupyter-widgets/controls",
            "_view_module_version": "1.5.0",
            "_view_name": "HTMLView",
            "description": "",
            "description_tooltip": null,
            "layout": "IPY_MODEL_6e3eb4f21aa3420192c8dab4f3ef09c0",
            "placeholder": "​",
            "style": "IPY_MODEL_e1fe99be6eac45b3af1598f8ec320562",
            "value": " 1.80M/1.80M [00:00&lt;00:00, 17.1MB/s]"
          }
        },
        "3845d47f309d41399e99b5f02656ca0d": {
          "model_module": "@jupyter-widgets/base",
          "model_name": "LayoutModel",
          "model_module_version": "1.2.0",
          "state": {
            "_model_module": "@jupyter-widgets/base",
            "_model_module_version": "1.2.0",
            "_model_name": "LayoutModel",
            "_view_count": null,
            "_view_module": "@jupyter-widgets/base",
            "_view_module_version": "1.2.0",
            "_view_name": "LayoutView",
            "align_content": null,
            "align_items": null,
            "align_self": null,
            "border": null,
            "bottom": null,
            "display": null,
            "flex": null,
            "flex_flow": null,
            "grid_area": null,
            "grid_auto_columns": null,
            "grid_auto_flow": null,
            "grid_auto_rows": null,
            "grid_column": null,
            "grid_gap": null,
            "grid_row": null,
            "grid_template_areas": null,
            "grid_template_columns": null,
            "grid_template_rows": null,
            "height": null,
            "justify_content": null,
            "justify_items": null,
            "left": null,
            "margin": null,
            "max_height": null,
            "max_width": null,
            "min_height": null,
            "min_width": null,
            "object_fit": null,
            "object_position": null,
            "order": null,
            "overflow": null,
            "overflow_x": null,
            "overflow_y": null,
            "padding": null,
            "right": null,
            "top": null,
            "visibility": null,
            "width": null
          }
        },
        "0f85436ec44d469190bffed6e0670c48": {
          "model_module": "@jupyter-widgets/base",
          "model_name": "LayoutModel",
          "model_module_version": "1.2.0",
          "state": {
            "_model_module": "@jupyter-widgets/base",
            "_model_module_version": "1.2.0",
            "_model_name": "LayoutModel",
            "_view_count": null,
            "_view_module": "@jupyter-widgets/base",
            "_view_module_version": "1.2.0",
            "_view_name": "LayoutView",
            "align_content": null,
            "align_items": null,
            "align_self": null,
            "border": null,
            "bottom": null,
            "display": null,
            "flex": null,
            "flex_flow": null,
            "grid_area": null,
            "grid_auto_columns": null,
            "grid_auto_flow": null,
            "grid_auto_rows": null,
            "grid_column": null,
            "grid_gap": null,
            "grid_row": null,
            "grid_template_areas": null,
            "grid_template_columns": null,
            "grid_template_rows": null,
            "height": null,
            "justify_content": null,
            "justify_items": null,
            "left": null,
            "margin": null,
            "max_height": null,
            "max_width": null,
            "min_height": null,
            "min_width": null,
            "object_fit": null,
            "object_position": null,
            "order": null,
            "overflow": null,
            "overflow_x": null,
            "overflow_y": null,
            "padding": null,
            "right": null,
            "top": null,
            "visibility": null,
            "width": null
          }
        },
        "6ad35c44e26f40d3aa6d129b4b317b1d": {
          "model_module": "@jupyter-widgets/controls",
          "model_name": "DescriptionStyleModel",
          "model_module_version": "1.5.0",
          "state": {
            "_model_module": "@jupyter-widgets/controls",
            "_model_module_version": "1.5.0",
            "_model_name": "DescriptionStyleModel",
            "_view_count": null,
            "_view_module": "@jupyter-widgets/base",
            "_view_module_version": "1.2.0",
            "_view_name": "StyleView",
            "description_width": ""
          }
        },
        "655b4ddadd704c7f91b11332f978ca45": {
          "model_module": "@jupyter-widgets/base",
          "model_name": "LayoutModel",
          "model_module_version": "1.2.0",
          "state": {
            "_model_module": "@jupyter-widgets/base",
            "_model_module_version": "1.2.0",
            "_model_name": "LayoutModel",
            "_view_count": null,
            "_view_module": "@jupyter-widgets/base",
            "_view_module_version": "1.2.0",
            "_view_name": "LayoutView",
            "align_content": null,
            "align_items": null,
            "align_self": null,
            "border": null,
            "bottom": null,
            "display": null,
            "flex": null,
            "flex_flow": null,
            "grid_area": null,
            "grid_auto_columns": null,
            "grid_auto_flow": null,
            "grid_auto_rows": null,
            "grid_column": null,
            "grid_gap": null,
            "grid_row": null,
            "grid_template_areas": null,
            "grid_template_columns": null,
            "grid_template_rows": null,
            "height": null,
            "justify_content": null,
            "justify_items": null,
            "left": null,
            "margin": null,
            "max_height": null,
            "max_width": null,
            "min_height": null,
            "min_width": null,
            "object_fit": null,
            "object_position": null,
            "order": null,
            "overflow": null,
            "overflow_x": null,
            "overflow_y": null,
            "padding": null,
            "right": null,
            "top": null,
            "visibility": null,
            "width": null
          }
        },
        "360990ae49584d96bd5f6c3ca705df7b": {
          "model_module": "@jupyter-widgets/controls",
          "model_name": "ProgressStyleModel",
          "model_module_version": "1.5.0",
          "state": {
            "_model_module": "@jupyter-widgets/controls",
            "_model_module_version": "1.5.0",
            "_model_name": "ProgressStyleModel",
            "_view_count": null,
            "_view_module": "@jupyter-widgets/base",
            "_view_module_version": "1.2.0",
            "_view_name": "StyleView",
            "bar_color": null,
            "description_width": ""
          }
        },
        "6e3eb4f21aa3420192c8dab4f3ef09c0": {
          "model_module": "@jupyter-widgets/base",
          "model_name": "LayoutModel",
          "model_module_version": "1.2.0",
          "state": {
            "_model_module": "@jupyter-widgets/base",
            "_model_module_version": "1.2.0",
            "_model_name": "LayoutModel",
            "_view_count": null,
            "_view_module": "@jupyter-widgets/base",
            "_view_module_version": "1.2.0",
            "_view_name": "LayoutView",
            "align_content": null,
            "align_items": null,
            "align_self": null,
            "border": null,
            "bottom": null,
            "display": null,
            "flex": null,
            "flex_flow": null,
            "grid_area": null,
            "grid_auto_columns": null,
            "grid_auto_flow": null,
            "grid_auto_rows": null,
            "grid_column": null,
            "grid_gap": null,
            "grid_row": null,
            "grid_template_areas": null,
            "grid_template_columns": null,
            "grid_template_rows": null,
            "height": null,
            "justify_content": null,
            "justify_items": null,
            "left": null,
            "margin": null,
            "max_height": null,
            "max_width": null,
            "min_height": null,
            "min_width": null,
            "object_fit": null,
            "object_position": null,
            "order": null,
            "overflow": null,
            "overflow_x": null,
            "overflow_y": null,
            "padding": null,
            "right": null,
            "top": null,
            "visibility": null,
            "width": null
          }
        },
        "e1fe99be6eac45b3af1598f8ec320562": {
          "model_module": "@jupyter-widgets/controls",
          "model_name": "DescriptionStyleModel",
          "model_module_version": "1.5.0",
          "state": {
            "_model_module": "@jupyter-widgets/controls",
            "_model_module_version": "1.5.0",
            "_model_name": "DescriptionStyleModel",
            "_view_count": null,
            "_view_module": "@jupyter-widgets/base",
            "_view_module_version": "1.2.0",
            "_view_name": "StyleView",
            "description_width": ""
          }
        },
        "856d86ca34214b60b2cde3af20585519": {
          "model_module": "@jupyter-widgets/controls",
          "model_name": "HBoxModel",
          "model_module_version": "1.5.0",
          "state": {
            "_dom_classes": [],
            "_model_module": "@jupyter-widgets/controls",
            "_model_module_version": "1.5.0",
            "_model_name": "HBoxModel",
            "_view_count": null,
            "_view_module": "@jupyter-widgets/controls",
            "_view_module_version": "1.5.0",
            "_view_name": "HBoxView",
            "box_style": "",
            "children": [
              "IPY_MODEL_98109c5e466e46dbabb0f45ab25fe802",
              "IPY_MODEL_e3eee00cd61f42aba1edbaf052fc2aae",
              "IPY_MODEL_05d5da3c53ae44dda21bc2cb23ae2d0b"
            ],
            "layout": "IPY_MODEL_6455ace8ca91476cb2279e86715674c3"
          }
        },
        "98109c5e466e46dbabb0f45ab25fe802": {
          "model_module": "@jupyter-widgets/controls",
          "model_name": "HTMLModel",
          "model_module_version": "1.5.0",
          "state": {
            "_dom_classes": [],
            "_model_module": "@jupyter-widgets/controls",
            "_model_module_version": "1.5.0",
            "_model_name": "HTMLModel",
            "_view_count": null,
            "_view_module": "@jupyter-widgets/controls",
            "_view_module_version": "1.5.0",
            "_view_name": "HTMLView",
            "description": "",
            "description_tooltip": null,
            "layout": "IPY_MODEL_9d2c7e77e31c4c39aaa5c5b80efce3a5",
            "placeholder": "​",
            "style": "IPY_MODEL_c36f6a28f1cb4b62ae77bde83cd47deb",
            "value": "special_tokens_map.json: 100%"
          }
        },
        "e3eee00cd61f42aba1edbaf052fc2aae": {
          "model_module": "@jupyter-widgets/controls",
          "model_name": "FloatProgressModel",
          "model_module_version": "1.5.0",
          "state": {
            "_dom_classes": [],
            "_model_module": "@jupyter-widgets/controls",
            "_model_module_version": "1.5.0",
            "_model_name": "FloatProgressModel",
            "_view_count": null,
            "_view_module": "@jupyter-widgets/controls",
            "_view_module_version": "1.5.0",
            "_view_name": "ProgressView",
            "bar_style": "success",
            "description": "",
            "description_tooltip": null,
            "layout": "IPY_MODEL_d7db9a11d31a4a3a9a3a68632606b94c",
            "max": 72,
            "min": 0,
            "orientation": "horizontal",
            "style": "IPY_MODEL_29503d32231c4752bd45a90154188025",
            "value": 72
          }
        },
        "05d5da3c53ae44dda21bc2cb23ae2d0b": {
          "model_module": "@jupyter-widgets/controls",
          "model_name": "HTMLModel",
          "model_module_version": "1.5.0",
          "state": {
            "_dom_classes": [],
            "_model_module": "@jupyter-widgets/controls",
            "_model_module_version": "1.5.0",
            "_model_name": "HTMLModel",
            "_view_count": null,
            "_view_module": "@jupyter-widgets/controls",
            "_view_module_version": "1.5.0",
            "_view_name": "HTMLView",
            "description": "",
            "description_tooltip": null,
            "layout": "IPY_MODEL_8ca790e8ac4840218b98eaf6cc7dadf2",
            "placeholder": "​",
            "style": "IPY_MODEL_46a115c91e3c4a17884f0e73bfa41410",
            "value": " 72.0/72.0 [00:00&lt;00:00, 4.30kB/s]"
          }
        },
        "6455ace8ca91476cb2279e86715674c3": {
          "model_module": "@jupyter-widgets/base",
          "model_name": "LayoutModel",
          "model_module_version": "1.2.0",
          "state": {
            "_model_module": "@jupyter-widgets/base",
            "_model_module_version": "1.2.0",
            "_model_name": "LayoutModel",
            "_view_count": null,
            "_view_module": "@jupyter-widgets/base",
            "_view_module_version": "1.2.0",
            "_view_name": "LayoutView",
            "align_content": null,
            "align_items": null,
            "align_self": null,
            "border": null,
            "bottom": null,
            "display": null,
            "flex": null,
            "flex_flow": null,
            "grid_area": null,
            "grid_auto_columns": null,
            "grid_auto_flow": null,
            "grid_auto_rows": null,
            "grid_column": null,
            "grid_gap": null,
            "grid_row": null,
            "grid_template_areas": null,
            "grid_template_columns": null,
            "grid_template_rows": null,
            "height": null,
            "justify_content": null,
            "justify_items": null,
            "left": null,
            "margin": null,
            "max_height": null,
            "max_width": null,
            "min_height": null,
            "min_width": null,
            "object_fit": null,
            "object_position": null,
            "order": null,
            "overflow": null,
            "overflow_x": null,
            "overflow_y": null,
            "padding": null,
            "right": null,
            "top": null,
            "visibility": null,
            "width": null
          }
        },
        "9d2c7e77e31c4c39aaa5c5b80efce3a5": {
          "model_module": "@jupyter-widgets/base",
          "model_name": "LayoutModel",
          "model_module_version": "1.2.0",
          "state": {
            "_model_module": "@jupyter-widgets/base",
            "_model_module_version": "1.2.0",
            "_model_name": "LayoutModel",
            "_view_count": null,
            "_view_module": "@jupyter-widgets/base",
            "_view_module_version": "1.2.0",
            "_view_name": "LayoutView",
            "align_content": null,
            "align_items": null,
            "align_self": null,
            "border": null,
            "bottom": null,
            "display": null,
            "flex": null,
            "flex_flow": null,
            "grid_area": null,
            "grid_auto_columns": null,
            "grid_auto_flow": null,
            "grid_auto_rows": null,
            "grid_column": null,
            "grid_gap": null,
            "grid_row": null,
            "grid_template_areas": null,
            "grid_template_columns": null,
            "grid_template_rows": null,
            "height": null,
            "justify_content": null,
            "justify_items": null,
            "left": null,
            "margin": null,
            "max_height": null,
            "max_width": null,
            "min_height": null,
            "min_width": null,
            "object_fit": null,
            "object_position": null,
            "order": null,
            "overflow": null,
            "overflow_x": null,
            "overflow_y": null,
            "padding": null,
            "right": null,
            "top": null,
            "visibility": null,
            "width": null
          }
        },
        "c36f6a28f1cb4b62ae77bde83cd47deb": {
          "model_module": "@jupyter-widgets/controls",
          "model_name": "DescriptionStyleModel",
          "model_module_version": "1.5.0",
          "state": {
            "_model_module": "@jupyter-widgets/controls",
            "_model_module_version": "1.5.0",
            "_model_name": "DescriptionStyleModel",
            "_view_count": null,
            "_view_module": "@jupyter-widgets/base",
            "_view_module_version": "1.2.0",
            "_view_name": "StyleView",
            "description_width": ""
          }
        },
        "d7db9a11d31a4a3a9a3a68632606b94c": {
          "model_module": "@jupyter-widgets/base",
          "model_name": "LayoutModel",
          "model_module_version": "1.2.0",
          "state": {
            "_model_module": "@jupyter-widgets/base",
            "_model_module_version": "1.2.0",
            "_model_name": "LayoutModel",
            "_view_count": null,
            "_view_module": "@jupyter-widgets/base",
            "_view_module_version": "1.2.0",
            "_view_name": "LayoutView",
            "align_content": null,
            "align_items": null,
            "align_self": null,
            "border": null,
            "bottom": null,
            "display": null,
            "flex": null,
            "flex_flow": null,
            "grid_area": null,
            "grid_auto_columns": null,
            "grid_auto_flow": null,
            "grid_auto_rows": null,
            "grid_column": null,
            "grid_gap": null,
            "grid_row": null,
            "grid_template_areas": null,
            "grid_template_columns": null,
            "grid_template_rows": null,
            "height": null,
            "justify_content": null,
            "justify_items": null,
            "left": null,
            "margin": null,
            "max_height": null,
            "max_width": null,
            "min_height": null,
            "min_width": null,
            "object_fit": null,
            "object_position": null,
            "order": null,
            "overflow": null,
            "overflow_x": null,
            "overflow_y": null,
            "padding": null,
            "right": null,
            "top": null,
            "visibility": null,
            "width": null
          }
        },
        "29503d32231c4752bd45a90154188025": {
          "model_module": "@jupyter-widgets/controls",
          "model_name": "ProgressStyleModel",
          "model_module_version": "1.5.0",
          "state": {
            "_model_module": "@jupyter-widgets/controls",
            "_model_module_version": "1.5.0",
            "_model_name": "ProgressStyleModel",
            "_view_count": null,
            "_view_module": "@jupyter-widgets/base",
            "_view_module_version": "1.2.0",
            "_view_name": "StyleView",
            "bar_color": null,
            "description_width": ""
          }
        },
        "8ca790e8ac4840218b98eaf6cc7dadf2": {
          "model_module": "@jupyter-widgets/base",
          "model_name": "LayoutModel",
          "model_module_version": "1.2.0",
          "state": {
            "_model_module": "@jupyter-widgets/base",
            "_model_module_version": "1.2.0",
            "_model_name": "LayoutModel",
            "_view_count": null,
            "_view_module": "@jupyter-widgets/base",
            "_view_module_version": "1.2.0",
            "_view_name": "LayoutView",
            "align_content": null,
            "align_items": null,
            "align_self": null,
            "border": null,
            "bottom": null,
            "display": null,
            "flex": null,
            "flex_flow": null,
            "grid_area": null,
            "grid_auto_columns": null,
            "grid_auto_flow": null,
            "grid_auto_rows": null,
            "grid_column": null,
            "grid_gap": null,
            "grid_row": null,
            "grid_template_areas": null,
            "grid_template_columns": null,
            "grid_template_rows": null,
            "height": null,
            "justify_content": null,
            "justify_items": null,
            "left": null,
            "margin": null,
            "max_height": null,
            "max_width": null,
            "min_height": null,
            "min_width": null,
            "object_fit": null,
            "object_position": null,
            "order": null,
            "overflow": null,
            "overflow_x": null,
            "overflow_y": null,
            "padding": null,
            "right": null,
            "top": null,
            "visibility": null,
            "width": null
          }
        },
        "46a115c91e3c4a17884f0e73bfa41410": {
          "model_module": "@jupyter-widgets/controls",
          "model_name": "DescriptionStyleModel",
          "model_module_version": "1.5.0",
          "state": {
            "_model_module": "@jupyter-widgets/controls",
            "_model_module_version": "1.5.0",
            "_model_name": "DescriptionStyleModel",
            "_view_count": null,
            "_view_module": "@jupyter-widgets/base",
            "_view_module_version": "1.2.0",
            "_view_name": "StyleView",
            "description_width": ""
          }
        }
      }
    }
  },
  "cells": [
    {
      "cell_type": "code",
      "source": [
        "import locale\n",
        "locale.getpreferredencoding = lambda: \"UTF-8\""
      ],
      "metadata": {
        "id": "rjVu60O7k1Tc"
      },
      "execution_count": null,
      "outputs": []
    },
    {
      "cell_type": "code",
      "source": [
        "output = !pip list -v\n",
        "\n",
        "packages = []\n",
        "for line in output[2:]:\n",
        "    parts = line.split()\n",
        "    package = parts[0]\n",
        "    version = parts[1]\n",
        "    packages.append(f\"{package}=={version}\")\n",
        "\n",
        "with open(\"requirements.txt\", \"w\") as file:\n",
        "    for package in packages:\n",
        "        file.write(package + \"\\n\")\n",
        "\n",
        "#!cat requirements.txt"
      ],
      "metadata": {
        "id": "Hyl7ZxlqimYv"
      },
      "execution_count": null,
      "outputs": []
    },
    {
      "cell_type": "code",
      "source": [],
      "metadata": {
        "id": "bTDjsrbRmfNT"
      },
      "execution_count": null,
      "outputs": []
    },
    {
      "cell_type": "code",
      "source": [
        "model1_id = \"mistralai/Mistral-7B-Instruct-v0.1\"\n",
        "\n",
        "from transformers import AutoModelForCausalLM, AutoTokenizer, pipeline\n",
        "model1_4bit = AutoModelForCausalLM.from_pretrained( model1_id, device_map=\"auto\",quantization_config=quantization_config, )\n",
        "tokenizer1 = AutoTokenizer.from_pretrained(model1_id)"
      ],
      "metadata": {
        "colab": {
          "base_uri": "https://localhost:8080/",
          "height": 493,
          "referenced_widgets": [
            "b7388989e3c74a40afc1ba745cc19fb3",
            "8bc480b940834f5b8bb15f1a52899724",
            "8457373d95934f68887ebcfe3cc6a19e",
            "ec247767c66a41d8a8d2618eb42e6d16",
            "2ab9025a63df4b839f0554060ec42412",
            "ebf9d3b11522424098fc2de40ffe20ba",
            "181aa1d6ca7c4c0f96e11c410d9a91d7",
            "dbb5d2a61ded43298b2c8feb9d0984ca",
            "9217e8f3665544869e35396f62ab8908",
            "577ae95d651e45dfbdafb93c8197e5c0",
            "f2f7d61d1465491d9f97108e36684e9a",
            "788070a397524ba1bd23184dac598f43",
            "a23eec2b52584b8785fe3d573e52c647",
            "6a9ef8a9374b4ae58bda6a85ac0c768d",
            "ca28eaf554454cce83cd831e08663dd7",
            "f6f1863f740a4256a0cef7f94943f377",
            "3bb5d6b55ac2432eaa9c9b64e063f4b8",
            "a85bdb5599f24f87917574098e547723",
            "8db393f3c89e444a9c8570d5b040263c",
            "a04aff7831dc4de18a01ad0c0793e185",
            "1b009d7b3edb495bafd700a7d2c0080f",
            "c337b8387ba14b48a5b703c85205f87c",
            "4493f82b5c124c889d764670b70c972c",
            "a34365e8e1da448cb56f00e01ed6de96",
            "2f2c42616ba249aebd9b70fbee3329c6",
            "33f4ddecea8c453098a665b7b54a7d95",
            "e6bb78eee6d64e118b3a739e413f00c8",
            "be98811d483d496bbc8ab20112605716",
            "d2143d856e6d4072a0f77373faa71911",
            "b9e1799f1d52464188596d37ffe7bef0",
            "1b6c531384664afabb193b4b42ac84e6",
            "e0334ccdb2554255b7cbc8b240091967",
            "374b138eac5542b48837f71691cde685",
            "52559319bb3c479a8b4ba4fb53f81ef0",
            "152db82b71d246a19624f7d427303e5f",
            "b9e844cef64545a9bc4abf5cd78712e5",
            "7c1cd31d10d644819d0bbb7851a6fbbd",
            "30ca4d2a1ab04c18b2686a704e647ae6",
            "d68d5c1be3654361bf521a40b752c2ac",
            "90572510b66b4f55846cbaaf2207f0b0",
            "78d7b2db774b43f1a56294544c6e220c",
            "bff95e9ce7464137b8ab2ea78db9d6d9",
            "c0118e2fc4d64330b236204482dce84e",
            "266fc4c89d574f9c8c0a168f483d7209",
            "0bb67b9baca34ac0b3bb93977c6250a3",
            "493b93c4ee364679afbe29385379d3bc",
            "bab78b91f8e44f539b9e505db7fabdb4",
            "b0ffde5fff664ffda6bd8e6a04b2bfed",
            "2bbf3c914c5241b0a464aa47d4a69490",
            "3130d1c81d3b4687ba7198bc26b40bf8",
            "0cad5a3556954719865ae4276d3bb00f",
            "62768962e87643ad8e6fa63411b2031d",
            "2d315cbd83374907bb0e81c633bf4cc6",
            "c9ce0e15fda7488f8ad143a5c92ad45a",
            "1d6d0f1d67af4e889a4e697f65cf8b4e",
            "62d30eb44c4143c8b0ddd3f93a7832c2",
            "df91d1eb1e0545d5bc7acbe9cb7dbc54",
            "9f39aa731b904ca7b378e1bb6d7ed04b",
            "9625c3cecba04254b29bcd5a2b0e2349",
            "ee6822624177496dbd8f163c90b21522",
            "969fbffc90944c0c8eee6b19421e07b0",
            "fb563e2ee5a34efba066f4286a59cd63",
            "868e90757d4b4f7c960b3417827ae443",
            "932c642c2f3c41ca8de711800c86f53a",
            "248ea984d24d4bab9dee3ce393218343",
            "47699a9f1d1349ecaa9e9c8e84dc4813",
            "9cb9f4a4c5174467b67835a851b366a7",
            "3d04aac4e68a4573aee511742af0d144",
            "44ee077b3f374e4ebcb14a46788ea235",
            "21a6ef75019547889c3275dc00c9577c",
            "6cd49eae190c4c63a078b6bfefc262e2",
            "dd037fc5f77a402888845cbf7d2e0c41",
            "42e83bdd115a4f04a0f2e8908a53c521",
            "8b1d4087eb5d4a0ca5b766a983c75944",
            "d354457937a0454a97a8346025e431d9",
            "c642c6a6c5a1400d98e57e8948b0d3ce",
            "8a70b2a4376249118c2d6aacce0fdf75",
            "632934b3c541492ea0a3340282413267",
            "d17f8e79ccd4480bba494684bd4377ca",
            "fc97fb62733449e6a0c27a0829da26bc",
            "6eaf82ceeec24144b31d3704bd5d4bf7",
            "6a3b0735218a4a5da8ae66eaabc7adce",
            "85ec69e436ff4c3c983df4b3bc29fcc0",
            "a36ae5604d01480f9144e14e9c814595",
            "c2e3d05a77dc42949c850a5f9f638b72",
            "c2ced9cd67974b3289df9ff459b383a0",
            "89db365119aa4c90a9c2e99fd66f0b22",
            "210c22c19fa747fab1ad1f4fbabd8d3a",
            "149652cd6f5e4e99bdea74f6e1d7cd16",
            "eb3d2127dcff4c91b8b983c4292e9400",
            "893a0e27d2a54a9ab5f3f81b08125024",
            "7f0549546a9b4117831315c7469d3892",
            "8256c6665aae41169cea9c2643ea39be",
            "b353a4c3e24c43eeb75303dc232cc396",
            "9917054f297c408b9e7be5399f76de86",
            "b9bb7d2f70cc46ea9c31529869901c89",
            "37ce0bfc033d4df19684cb5412d7fdee",
            "e4154f22b0d4418a86bccf7b0c16b9f0",
            "6a1b2df5aa0d4a148b84fbc990d98ded",
            "442d7e37a4244b7789e79a952de3dd5c",
            "e831571ea1484236b951a2bd6e609b6b",
            "f554a05105b4421f89d631be9069200d",
            "7be5372b827943bfbe9ba71b1771c2ed",
            "f69781d739844a17b0ee9fe2a2ca3b30",
            "fbd46af0c33b4603bed27e1ade4e35c6",
            "82131e360c0c4648a0041b264e5c3277",
            "069e998a3ffb4fa89448339a6c3c059c",
            "b343bda94d5b46758a3030c27130009c",
            "173c2457c5c943758248d2453a6c85c1",
            "63ccc925c4e34fdcaca40c93d6d0f322",
            "a75e3a36095940c9b3080dbc99ceb456",
            "79fd151b67b54afd837da4bda74bd72a",
            "567519ac89f444eabdedebf4fb5464d8",
            "1d5793b782b3458396fe0b2bd2bad1c1",
            "885457c076c34404b4e59d49377eea78",
            "191779d9bb244fce8793cd32a9fd436d",
            "19ad60f893a64dacb8952328dee702ef",
            "0532e15524194638b65b9628f1d16073",
            "d3cf3c6d901f4d2c880b1e193a1bede7",
            "c0afee08bc2645deaa10b8c0554157f6",
            "8a22fd9268794de4bc4936f4fb7f509d"
          ]
        },
        "id": "xz5yaOW-BuD5",
        "outputId": "e62c6481-670c-4c9c-ef80-d2dd335c0cef"
      },
      "execution_count": null,
      "outputs": [
        {
          "output_type": "stream",
          "name": "stderr",
          "text": [
            "/usr/local/lib/python3.10/dist-packages/huggingface_hub/utils/_token.py:88: UserWarning: \n",
            "The secret `HF_TOKEN` does not exist in your Colab secrets.\n",
            "To authenticate with the Hugging Face Hub, create a token in your settings tab (https://huggingface.co/settings/tokens), set it as secret in your Google Colab and restart your session.\n",
            "You will be able to reuse this secret in all of your notebooks.\n",
            "Please note that authentication is recommended but still optional to access public models or datasets.\n",
            "  warnings.warn(\n"
          ]
        },
        {
          "output_type": "display_data",
          "data": {
            "text/plain": [
              "config.json:   0%|          | 0.00/571 [00:00<?, ?B/s]"
            ],
            "application/vnd.jupyter.widget-view+json": {
              "version_major": 2,
              "version_minor": 0,
              "model_id": "b7388989e3c74a40afc1ba745cc19fb3"
            }
          },
          "metadata": {}
        },
        {
          "output_type": "display_data",
          "data": {
            "text/plain": [
              "model.safetensors.index.json:   0%|          | 0.00/25.1k [00:00<?, ?B/s]"
            ],
            "application/vnd.jupyter.widget-view+json": {
              "version_major": 2,
              "version_minor": 0,
              "model_id": "788070a397524ba1bd23184dac598f43"
            }
          },
          "metadata": {}
        },
        {
          "output_type": "display_data",
          "data": {
            "text/plain": [
              "Downloading shards:   0%|          | 0/2 [00:00<?, ?it/s]"
            ],
            "application/vnd.jupyter.widget-view+json": {
              "version_major": 2,
              "version_minor": 0,
              "model_id": "4493f82b5c124c889d764670b70c972c"
            }
          },
          "metadata": {}
        },
        {
          "output_type": "display_data",
          "data": {
            "text/plain": [
              "model-00001-of-00002.safetensors:   0%|          | 0.00/9.94G [00:00<?, ?B/s]"
            ],
            "application/vnd.jupyter.widget-view+json": {
              "version_major": 2,
              "version_minor": 0,
              "model_id": "52559319bb3c479a8b4ba4fb53f81ef0"
            }
          },
          "metadata": {}
        },
        {
          "output_type": "display_data",
          "data": {
            "text/plain": [
              "model-00002-of-00002.safetensors:   0%|          | 0.00/4.54G [00:00<?, ?B/s]"
            ],
            "application/vnd.jupyter.widget-view+json": {
              "version_major": 2,
              "version_minor": 0,
              "model_id": "0bb67b9baca34ac0b3bb93977c6250a3"
            }
          },
          "metadata": {}
        },
        {
          "output_type": "display_data",
          "data": {
            "text/plain": [
              "Loading checkpoint shards:   0%|          | 0/2 [00:00<?, ?it/s]"
            ],
            "application/vnd.jupyter.widget-view+json": {
              "version_major": 2,
              "version_minor": 0,
              "model_id": "62d30eb44c4143c8b0ddd3f93a7832c2"
            }
          },
          "metadata": {}
        },
        {
          "output_type": "display_data",
          "data": {
            "text/plain": [
              "generation_config.json:   0%|          | 0.00/116 [00:00<?, ?B/s]"
            ],
            "application/vnd.jupyter.widget-view+json": {
              "version_major": 2,
              "version_minor": 0,
              "model_id": "9cb9f4a4c5174467b67835a851b366a7"
            }
          },
          "metadata": {}
        },
        {
          "output_type": "display_data",
          "data": {
            "text/plain": [
              "tokenizer_config.json:   0%|          | 0.00/1.47k [00:00<?, ?B/s]"
            ],
            "application/vnd.jupyter.widget-view+json": {
              "version_major": 2,
              "version_minor": 0,
              "model_id": "632934b3c541492ea0a3340282413267"
            }
          },
          "metadata": {}
        },
        {
          "output_type": "display_data",
          "data": {
            "text/plain": [
              "tokenizer.model:   0%|          | 0.00/493k [00:00<?, ?B/s]"
            ],
            "application/vnd.jupyter.widget-view+json": {
              "version_major": 2,
              "version_minor": 0,
              "model_id": "149652cd6f5e4e99bdea74f6e1d7cd16"
            }
          },
          "metadata": {}
        },
        {
          "output_type": "display_data",
          "data": {
            "text/plain": [
              "tokenizer.json:   0%|          | 0.00/1.80M [00:00<?, ?B/s]"
            ],
            "application/vnd.jupyter.widget-view+json": {
              "version_major": 2,
              "version_minor": 0,
              "model_id": "442d7e37a4244b7789e79a952de3dd5c"
            }
          },
          "metadata": {}
        },
        {
          "output_type": "display_data",
          "data": {
            "text/plain": [
              "special_tokens_map.json:   0%|          | 0.00/72.0 [00:00<?, ?B/s]"
            ],
            "application/vnd.jupyter.widget-view+json": {
              "version_major": 2,
              "version_minor": 0,
              "model_id": "a75e3a36095940c9b3080dbc99ceb456"
            }
          },
          "metadata": {}
        }
      ]
    },
    {
      "cell_type": "code",
      "source": [
        "pipeline1 = pipeline(\n",
        "        \"text-generation\",\n",
        "        model=model1_4bit,\n",
        "        tokenizer=tokenizer1,\n",
        "        use_cache=True,\n",
        "        device_map=\"auto\",\n",
        "        max_length=6000,\n",
        "        do_sample=True,\n",
        "        top_k=5,\n",
        "        num_return_sequences=1,\n",
        "        eos_token_id=tokenizer1.eos_token_id,\n",
        "        pad_token_id=tokenizer1.eos_token_id,\n",
        ")"
      ],
      "metadata": {
        "id": "sE9D_OD3CA7H"
      },
      "execution_count": null,
      "outputs": []
    },
    {
      "cell_type": "code",
      "source": [
        "from langchain import HuggingFacePipeline\n",
        "from langchain.prompts import ChatPromptTemplate\n",
        "from langchain import PromptTemplate, LLMChain\n",
        "llm_1 = HuggingFacePipeline(pipeline=pipeline1)"
      ],
      "metadata": {
        "id": "nqOT4eVQCHVh"
      },
      "execution_count": null,
      "outputs": []
    },
    {
      "cell_type": "code",
      "source": [
        "!pip install -q -U bitsandbytes\n",
        "!pip install -q -U git+https://github.com/huggingface/transformers.git\n",
        "!pip install -q -U git+https://github.com/huggingface/peft.git\n",
        "!pip install -q -U git+https://github.com/huggingface/accelerate.git\n",
        "!pip install -q -U einops\n",
        "!pip install -q -U safetensors\n",
        "!pip install -q -U torch\n",
        "!pip install -q -U xformers\n",
        "!pip install -q -U langchain"
      ],
      "metadata": {
        "colab": {
          "base_uri": "https://localhost:8080/"
        },
        "id": "-Dwb8zbHjdbN",
        "outputId": "06939abf-53b0-43ac-b9a3-ee86c5462237"
      },
      "execution_count": null,
      "outputs": [
        {
          "output_type": "stream",
          "name": "stdout",
          "text": [
            "\u001b[2K     \u001b[90m━━━━━━━━━━━━━━━━━━━━━━━━━━━━━━━━━━━━━━━━\u001b[0m \u001b[32m105.0/105.0 MB\u001b[0m \u001b[31m8.6 MB/s\u001b[0m eta \u001b[36m0:00:00\u001b[0m\n",
            "\u001b[?25h  Installing build dependencies ... \u001b[?25l\u001b[?25hdone\n",
            "  Getting requirements to build wheel ... \u001b[?25l\u001b[?25hdone\n",
            "  Preparing metadata (pyproject.toml) ... \u001b[?25l\u001b[?25hdone\n",
            "  Building wheel for transformers (pyproject.toml) ... \u001b[?25l\u001b[?25hdone\n",
            "  Installing build dependencies ... \u001b[?25l\u001b[?25hdone\n",
            "  Getting requirements to build wheel ... \u001b[?25l\u001b[?25hdone\n",
            "  Preparing metadata (pyproject.toml) ... \u001b[?25l\u001b[?25hdone\n",
            "\u001b[2K     \u001b[90m━━━━━━━━━━━━━━━━━━━━━━━━━━━━━━━━━━━━━━━━\u001b[0m \u001b[32m280.0/280.0 kB\u001b[0m \u001b[31m5.2 MB/s\u001b[0m eta \u001b[36m0:00:00\u001b[0m\n",
            "\u001b[?25h  Building wheel for peft (pyproject.toml) ... \u001b[?25l\u001b[?25hdone\n",
            "  Installing build dependencies ... \u001b[?25l\u001b[?25hdone\n",
            "  Getting requirements to build wheel ... \u001b[?25l\u001b[?25hdone\n",
            "  Preparing metadata (pyproject.toml) ... \u001b[?25l\u001b[?25hdone\n",
            "  Building wheel for accelerate (pyproject.toml) ... \u001b[?25l\u001b[?25hdone\n",
            "\u001b[2K     \u001b[90m━━━━━━━━━━━━━━━━━━━━━━━━━━━━━━━━━━━━━━━━\u001b[0m \u001b[32m44.6/44.6 kB\u001b[0m \u001b[31m1.4 MB/s\u001b[0m eta \u001b[36m0:00:00\u001b[0m\n",
            "\u001b[2K     \u001b[90m━━━━━━━━━━━━━━━━━━━━━━━━━━━━━━━━━━━━━━━━\u001b[0m \u001b[32m755.5/755.5 MB\u001b[0m \u001b[31m944.9 kB/s\u001b[0m eta \u001b[36m0:00:00\u001b[0m\n",
            "\u001b[2K     \u001b[90m━━━━━━━━━━━━━━━━━━━━━━━━━━━━━━━━━━━━━━━━\u001b[0m \u001b[32m23.7/23.7 MB\u001b[0m \u001b[31m55.9 MB/s\u001b[0m eta \u001b[36m0:00:00\u001b[0m\n",
            "\u001b[2K     \u001b[90m━━━━━━━━━━━━━━━━━━━━━━━━━━━━━━━━━━━━━━━━\u001b[0m \u001b[32m823.6/823.6 kB\u001b[0m \u001b[31m59.0 MB/s\u001b[0m eta \u001b[36m0:00:00\u001b[0m\n",
            "\u001b[2K     \u001b[90m━━━━━━━━━━━━━━━━━━━━━━━━━━━━━━━━━━━━━━━━\u001b[0m \u001b[32m14.1/14.1 MB\u001b[0m \u001b[31m79.9 MB/s\u001b[0m eta \u001b[36m0:00:00\u001b[0m\n",
            "\u001b[2K     \u001b[90m━━━━━━━━━━━━━━━━━━━━━━━━━━━━━━━━━━━━━━━━\u001b[0m \u001b[32m731.7/731.7 MB\u001b[0m \u001b[31m2.3 MB/s\u001b[0m eta \u001b[36m0:00:00\u001b[0m\n",
            "\u001b[2K     \u001b[90m━━━━━━━━━━━━━━━━━━━━━━━━━━━━━━━━━━━━━━━━\u001b[0m \u001b[32m410.6/410.6 MB\u001b[0m \u001b[31m3.8 MB/s\u001b[0m eta \u001b[36m0:00:00\u001b[0m\n",
            "\u001b[2K     \u001b[90m━━━━━━━━━━━━━━━━━━━━━━━━━━━━━━━━━━━━━━━━\u001b[0m \u001b[32m121.6/121.6 MB\u001b[0m \u001b[31m8.4 MB/s\u001b[0m eta \u001b[36m0:00:00\u001b[0m\n",
            "\u001b[2K     \u001b[90m━━━━━━━━━━━━━━━━━━━━━━━━━━━━━━━━━━━━━━━━\u001b[0m \u001b[32m56.5/56.5 MB\u001b[0m \u001b[31m11.5 MB/s\u001b[0m eta \u001b[36m0:00:00\u001b[0m\n",
            "\u001b[2K     \u001b[90m━━━━━━━━━━━━━━━━━━━━━━━━━━━━━━━━━━━━━━━━\u001b[0m \u001b[32m124.2/124.2 MB\u001b[0m \u001b[31m8.4 MB/s\u001b[0m eta \u001b[36m0:00:00\u001b[0m\n",
            "\u001b[2K     \u001b[90m━━━━━━━━━━━━━━━━━━━━━━━━━━━━━━━━━━━━━━━━\u001b[0m \u001b[32m196.0/196.0 MB\u001b[0m \u001b[31m6.4 MB/s\u001b[0m eta \u001b[36m0:00:00\u001b[0m\n",
            "\u001b[2K     \u001b[90m━━━━━━━━━━━━━━━━━━━━━━━━━━━━━━━━━━━━━━━━\u001b[0m \u001b[32m166.0/166.0 MB\u001b[0m \u001b[31m2.4 MB/s\u001b[0m eta \u001b[36m0:00:00\u001b[0m\n",
            "\u001b[2K     \u001b[90m━━━━━━━━━━━━━━━━━━━━━━━━━━━━━━━━━━━━━━━━\u001b[0m \u001b[32m99.1/99.1 kB\u001b[0m \u001b[31m13.6 MB/s\u001b[0m eta \u001b[36m0:00:00\u001b[0m\n",
            "\u001b[2K     \u001b[90m━━━━━━━━━━━━━━━━━━━━━━━━━━━━━━━━━━━━━━━━\u001b[0m \u001b[32m167.9/167.9 MB\u001b[0m \u001b[31m7.2 MB/s\u001b[0m eta \u001b[36m0:00:00\u001b[0m\n",
            "\u001b[2K     \u001b[90m━━━━━━━━━━━━━━━━━━━━━━━━━━━━━━━━━━━━━━━━\u001b[0m \u001b[32m20.5/20.5 MB\u001b[0m \u001b[31m65.9 MB/s\u001b[0m eta \u001b[36m0:00:00\u001b[0m\n",
            "\u001b[?25h\u001b[31mERROR: pip's dependency resolver does not currently take into account all the packages that are installed. This behaviour is the source of the following dependency conflicts.\n",
            "torchaudio 2.1.0+cu121 requires torch==2.1.0, but you have torch 2.2.1 which is incompatible.\n",
            "torchdata 0.7.0 requires torch==2.1.0, but you have torch 2.2.1 which is incompatible.\n",
            "torchtext 0.16.0 requires torch==2.1.0, but you have torch 2.2.1 which is incompatible.\n",
            "torchvision 0.16.0+cu121 requires torch==2.1.0, but you have torch 2.2.1 which is incompatible.\u001b[0m\u001b[31m\n",
            "\u001b[2K     \u001b[90m━━━━━━━━━━━━━━━━━━━━━━━━━━━━━━━━━━━━━━━━\u001b[0m \u001b[32m218.2/218.2 MB\u001b[0m \u001b[31m6.4 MB/s\u001b[0m eta \u001b[36m0:00:00\u001b[0m\n",
            "\u001b[2K     \u001b[90m━━━━━━━━━━━━━━━━━━━━━━━━━━━━━━━━━━━━━━━━\u001b[0m \u001b[32m755.5/755.5 MB\u001b[0m \u001b[31m2.1 MB/s\u001b[0m eta \u001b[36m0:00:00\u001b[0m\n",
            "\u001b[?25h\u001b[31mERROR: pip's dependency resolver does not currently take into account all the packages that are installed. This behaviour is the source of the following dependency conflicts.\n",
            "torchaudio 2.1.0+cu121 requires torch==2.1.0, but you have torch 2.2.0 which is incompatible.\n",
            "torchdata 0.7.0 requires torch==2.1.0, but you have torch 2.2.0 which is incompatible.\n",
            "torchtext 0.16.0 requires torch==2.1.0, but you have torch 2.2.0 which is incompatible.\n",
            "torchvision 0.16.0+cu121 requires torch==2.1.0, but you have torch 2.2.0 which is incompatible.\u001b[0m\u001b[31m\n",
            "\u001b[2K     \u001b[90m━━━━━━━━━━━━━━━━━━━━━━━━━━━━━━━━━━━━━━━━\u001b[0m \u001b[32m817.0/817.0 kB\u001b[0m \u001b[31m10.9 MB/s\u001b[0m eta \u001b[36m0:00:00\u001b[0m\n",
            "\u001b[2K     \u001b[90m━━━━━━━━━━━━━━━━━━━━━━━━━━━━━━━━━━━━━━━━\u001b[0m \u001b[32m1.7/1.7 MB\u001b[0m \u001b[31m47.6 MB/s\u001b[0m eta \u001b[36m0:00:00\u001b[0m\n",
            "\u001b[2K     \u001b[90m━━━━━━━━━━━━━━━━━━━━━━━━━━━━━━━━━━━━━━━━\u001b[0m \u001b[32m250.8/250.8 kB\u001b[0m \u001b[31m25.0 MB/s\u001b[0m eta \u001b[36m0:00:00\u001b[0m\n",
            "\u001b[2K     \u001b[90m━━━━━━━━━━━━━━━━━━━━━━━━━━━━━━━━━━━━━━━━\u001b[0m \u001b[32m63.1/63.1 kB\u001b[0m \u001b[31m7.8 MB/s\u001b[0m eta \u001b[36m0:00:00\u001b[0m\n",
            "\u001b[2K     \u001b[90m━━━━━━━━━━━━━━━━━━━━━━━━━━━━━━━━━━━━━━━━\u001b[0m \u001b[32m49.4/49.4 kB\u001b[0m \u001b[31m6.4 MB/s\u001b[0m eta \u001b[36m0:00:00\u001b[0m\n",
            "\u001b[2K     \u001b[90m━━━━━━━━━━━━━━━━━━━━━━━━━━━━━━━━━━━━━━━━\u001b[0m \u001b[32m138.5/138.5 kB\u001b[0m \u001b[31m1.3 MB/s\u001b[0m eta \u001b[36m0:00:00\u001b[0m\n",
            "\u001b[?25h"
          ]
        }
      ]
    },
    {
      "cell_type": "code",
      "source": [
        "import os\n",
        "os.environ[\"LANGCHAIN_TRACING_V2\"] = \"true\"\n",
        "os.environ[\"LANGCHAIN_PROJECT\"] = \"mistral-7b-answer-eval\"\n",
        "os.environ[\"LANGCHAIN_ENDPOINT\"] = \"https://api.smith.langchain.com\"\n",
        "os.environ[\"LANGCHAIN_API_KEY\"] = \"ls__7ac4be1d91f24bbd842ea241cf3f401c\""
      ],
      "metadata": {
        "id": "5XWgHachZEEC"
      },
      "execution_count": null,
      "outputs": []
    },
    {
      "cell_type": "code",
      "source": [
        "from langsmith import Client\n",
        "langsmith_client = Client()"
      ],
      "metadata": {
        "id": "j6tTEEE3Zsi1"
      },
      "execution_count": null,
      "outputs": []
    },
    {
      "cell_type": "code",
      "source": [
        "model_id = \"mistralai/Mistral-7B-Instruct-v0.2\""
      ],
      "metadata": {
        "id": "xWIpV9u8kqFp"
      },
      "execution_count": null,
      "outputs": []
    },
    {
      "cell_type": "code",
      "source": [
        "import torch\n",
        "from transformers import BitsAndBytesConfig\n",
        "\n",
        "quantization_config = BitsAndBytesConfig(\n",
        "    load_in_4bit=True,\n",
        "    bnb_4bit_compute_dtype=torch.float16,\n",
        "    bnb_4bit_quant_type=\"nf4\",\n",
        "    bnb_4bit_use_double_quant=True,\n",
        ")"
      ],
      "metadata": {
        "id": "WJ8WJtWTkfz4"
      },
      "execution_count": null,
      "outputs": []
    },
    {
      "cell_type": "code",
      "source": [
        "from transformers import AutoModelForCausalLM, AutoTokenizer, pipeline\n",
        "model2_4bit = AutoModelForCausalLM.from_pretrained( model_id, device_map=\"auto\",quantization_config=quantization_config, )\n",
        "tokenizer2 = AutoTokenizer.from_pretrained(model_id)"
      ],
      "metadata": {
        "colab": {
          "base_uri": "https://localhost:8080/",
          "height": 525,
          "referenced_widgets": [
            "08035418094448138535f448fc0c0c1f",
            "c24b734a01b043cdb2660d3dbf9c96e2",
            "21bd0637ff40471db168f6854573611d",
            "5c33d11e3ae94b14bba92c95ebf74e57",
            "f987ce4123e345b98ead02ab03dfd8f4",
            "ac15ff08e6734bcd90902a40974cd371",
            "ccbed0c08fef409e87404240f055643c",
            "01a501b43b72409cb34a17b7a836cd68",
            "69bbd514c3fa492db9c469d285f32d53",
            "a4047ae2ab674b8497b03737f4175ef0",
            "f786141dd53447f6a7361f217afa0387",
            "256fddda0df74a79866711bf03b77975",
            "f1b4efb4876e463d9f66411714047612",
            "ca7e47d632f543879870ffcfe8071797",
            "9166d2ba653b4f2185b1b88c56d58f6c",
            "37a141ae3a544065ae7c1ac55bda22e2",
            "3727be805e7148719a0e339b88c33adc",
            "2933e6c1768f4a2baec327ccb82e8873",
            "5923ab5ebae7470797750849657b0c95",
            "199d6e3dc9f54d8fae22d1200f7da22b",
            "36cdd0b0dfc34a9d8ca3a6244769315a",
            "6160232df90647318ee2e05b9d9ea723",
            "199cccda910545a7ab43a5b7eb524c05",
            "6a63ec8d37404c56bebe763ef960d2f7",
            "ff89e787d500432c879a6ef082a3a9cb",
            "f02181ffacc047f994c18ff97dc20120",
            "1d63904441ae4ac2801be8a2aa733a73",
            "96330a8ce1c843b3a711828b754e12e7",
            "48305d74f2ae4b7dabc45bc611beeed6",
            "4454d6b1f6d1498fa5eb6da731b9550d",
            "1d503dcceb5946728259f93a16f15445",
            "453bf34976fd4afda56007bf83375cc6",
            "371c6d6524804daa971545ae3befb152",
            "4a92fd152fcb4a628bb61c4ea36167ae",
            "92783e9c732e4ff281f454010f221006",
            "198d6cd0f70744c38285b3fb2ce03b9b",
            "70fb9ca76a974579947de2eca69f8303",
            "e7b2df8a2fa742d6922f1c34e4346d81",
            "a835d4fa14bc418d8856396fb3e1126b",
            "3ea05a23b26c45a8b6deb27c464bb6d5",
            "362ee35495f1482d98cc2e07653732d2",
            "b5e8899b2eeb42f48ea6e8b7ea1be735",
            "62741c8d22e84f86a3f43ffc67855a17",
            "30c7b424f9924b2e8ce436f626735be0",
            "c8db76ca91784866af24d99966983935",
            "f14e8cc304a243599632f5a7832b58e0",
            "2bae334dcf0b4864a6699fcd500ac7e8",
            "abea9d8227ab493b95515c9b7a6fd52b",
            "bb7c50ee31c04033a182ceced71c2576",
            "52fc7dd64f2343c2be0da846a4632e5e",
            "563ee6befd794de99844b2e4fc35fbb3",
            "5a4f805731f248a7beeb03a21b8af58e",
            "c1b6fbc31d7a44d2a998a4f1eaf7b83b",
            "3d6cc5cae6bf4485b9ea1ccdf7446622",
            "a7b309f207ab4ffb962f7428cf903715",
            "ddf904d3426f40e6ac5eeac6cd46bd27",
            "02f3eb4812ef4f47ba1780101e3100e9",
            "447efdd1ffc74997987a0b485c32082d",
            "335dcac70e9648f0a99bc16efc73726f",
            "e9d1064917ee4441b1ab508cf69f3407",
            "9a5dead2655c485581fea97104eb43d9",
            "cc5d73f684984d99ad3c749b2b1ce30f",
            "b1a51cb9adf447c380461f99dd2254a1",
            "e128221edce04541a000ee1b4bea4700",
            "d3c8748db8d24299a0d4d18fdc109397",
            "f9738b466c8a422a9a0360374b2d8d0f",
            "eed0af3062374aa3af2bfef59b7bd891",
            "d92dbc159a934e9099451002919f49f4",
            "06a08bacb75d4f66b0b27f6945dff0c9",
            "3a78e8f0adb64a509810061003212844",
            "ee40b0ee0eb94350aa9d398829c1b9c9",
            "2a9831a19d20433cab4254f4f04474ee",
            "f2fcaebde19c4051bffebd459e70521c",
            "beb984b452944fc692a7fd855ca29852",
            "ee8c9cfe6a1b44439c4a203be6004a0c",
            "b4e429b8d7bd4c9da56449c5f599cc54",
            "6e645cc1a06e411fb6bbe9967b8ff31e",
            "d61893f832c443a58ff0cf4ef658d40b",
            "ac6b6a456cfd4b669ba875534653c314",
            "6e31d1a1ac424a9c976f67e9f41d5648",
            "c29aa5c59c1045668733c6d4976ca473",
            "ab756f3733244822875410922faef012",
            "e1607de7bafc4a08a73cd795eb38e27d",
            "452b5228fd1b4a60bfa1e18f88247c55",
            "c41063aec33146c3b995a27a6373f2bb",
            "f346dc1d32d34f90bfc12d295f83836f",
            "bba3690e9a4a410bb1af792004cc1318",
            "2fdd1aced0a84a07a1977f09c596a846",
            "e766844e590e41bca2a7d605fb652250",
            "9f56f0f6eb4d44dcad8ffdbf5353bd95",
            "bc93af659ec1424688fccb6bec5ad5e4",
            "f8529c41cfb64b62868f62d69eaacde3",
            "a5007e4cb12247bf9bf5a5e48d06f6e9",
            "0cf2c1e241a9451ea77dc61f56f78b81",
            "95ece70121de410fbca2ed0c027dcadd",
            "4d99245c98e04dee8e4fc6a0dd4c675e",
            "353b8162da004e7baa0f10d4be0dd885",
            "0ee814b0976c4cc9bbc94c1936d6219f",
            "4d13a4a3aee04cdd8849de7cd4f58303",
            "7025ff8f560448cca47761ea629dcd0a",
            "b2b4ab227af347a1a58f7896ad3acdcb",
            "8f765dd4f4fc4001b0ec8a98b4a8228c",
            "bc34ffd0a5e341019da3d90a7fdd715a",
            "228dda9da1554fbcb249ffe28501ad00",
            "15a5db51bfe748ecb6f7037a8b690bb1",
            "b5aa3654964443cd9741c82b7fe15931",
            "5979c3b3e52e4ac59e28f36297d14ec9",
            "9863b06954ae45f6b571fb2a0a8fe7a4",
            "e90e054c79494af798d974a6899abc10",
            "9bbb750ea4ca402597cfab95f528b9d8",
            "631cf3cfe5b6454791a87bf1a3c18ac4",
            "015414e7835f4e8480dd7dfa01f31cae",
            "5456fcb625a5442091cc690bba497fff",
            "152f25a03e544882956e5f38f40dc268",
            "3845d47f309d41399e99b5f02656ca0d",
            "0f85436ec44d469190bffed6e0670c48",
            "6ad35c44e26f40d3aa6d129b4b317b1d",
            "655b4ddadd704c7f91b11332f978ca45",
            "360990ae49584d96bd5f6c3ca705df7b",
            "6e3eb4f21aa3420192c8dab4f3ef09c0",
            "e1fe99be6eac45b3af1598f8ec320562",
            "856d86ca34214b60b2cde3af20585519",
            "98109c5e466e46dbabb0f45ab25fe802",
            "e3eee00cd61f42aba1edbaf052fc2aae",
            "05d5da3c53ae44dda21bc2cb23ae2d0b",
            "6455ace8ca91476cb2279e86715674c3",
            "9d2c7e77e31c4c39aaa5c5b80efce3a5",
            "c36f6a28f1cb4b62ae77bde83cd47deb",
            "d7db9a11d31a4a3a9a3a68632606b94c",
            "29503d32231c4752bd45a90154188025",
            "8ca790e8ac4840218b98eaf6cc7dadf2",
            "46a115c91e3c4a17884f0e73bfa41410"
          ]
        },
        "id": "ChT8HA7jjhMF",
        "outputId": "9a4d4d31-8770-44f3-8acb-3486ea183985"
      },
      "execution_count": null,
      "outputs": [
        {
          "output_type": "stream",
          "name": "stderr",
          "text": [
            "/usr/local/lib/python3.10/dist-packages/huggingface_hub/utils/_token.py:88: UserWarning: \n",
            "The secret `HF_TOKEN` does not exist in your Colab secrets.\n",
            "To authenticate with the Hugging Face Hub, create a token in your settings tab (https://huggingface.co/settings/tokens), set it as secret in your Google Colab and restart your session.\n",
            "You will be able to reuse this secret in all of your notebooks.\n",
            "Please note that authentication is recommended but still optional to access public models or datasets.\n",
            "  warnings.warn(\n"
          ]
        },
        {
          "output_type": "display_data",
          "data": {
            "text/plain": [
              "config.json:   0%|          | 0.00/596 [00:00<?, ?B/s]"
            ],
            "application/vnd.jupyter.widget-view+json": {
              "version_major": 2,
              "version_minor": 0,
              "model_id": "08035418094448138535f448fc0c0c1f"
            }
          },
          "metadata": {}
        },
        {
          "output_type": "display_data",
          "data": {
            "text/plain": [
              "model.safetensors.index.json:   0%|          | 0.00/25.1k [00:00<?, ?B/s]"
            ],
            "application/vnd.jupyter.widget-view+json": {
              "version_major": 2,
              "version_minor": 0,
              "model_id": "256fddda0df74a79866711bf03b77975"
            }
          },
          "metadata": {}
        },
        {
          "output_type": "display_data",
          "data": {
            "text/plain": [
              "Downloading shards:   0%|          | 0/3 [00:00<?, ?it/s]"
            ],
            "application/vnd.jupyter.widget-view+json": {
              "version_major": 2,
              "version_minor": 0,
              "model_id": "199cccda910545a7ab43a5b7eb524c05"
            }
          },
          "metadata": {}
        },
        {
          "output_type": "display_data",
          "data": {
            "text/plain": [
              "model-00001-of-00003.safetensors:   0%|          | 0.00/4.94G [00:00<?, ?B/s]"
            ],
            "application/vnd.jupyter.widget-view+json": {
              "version_major": 2,
              "version_minor": 0,
              "model_id": "4a92fd152fcb4a628bb61c4ea36167ae"
            }
          },
          "metadata": {}
        },
        {
          "output_type": "display_data",
          "data": {
            "text/plain": [
              "model-00002-of-00003.safetensors:   0%|          | 0.00/5.00G [00:00<?, ?B/s]"
            ],
            "application/vnd.jupyter.widget-view+json": {
              "version_major": 2,
              "version_minor": 0,
              "model_id": "c8db76ca91784866af24d99966983935"
            }
          },
          "metadata": {}
        },
        {
          "output_type": "display_data",
          "data": {
            "text/plain": [
              "model-00003-of-00003.safetensors:   0%|          | 0.00/4.54G [00:00<?, ?B/s]"
            ],
            "application/vnd.jupyter.widget-view+json": {
              "version_major": 2,
              "version_minor": 0,
              "model_id": "ddf904d3426f40e6ac5eeac6cd46bd27"
            }
          },
          "metadata": {}
        },
        {
          "output_type": "display_data",
          "data": {
            "text/plain": [
              "Loading checkpoint shards:   0%|          | 0/3 [00:00<?, ?it/s]"
            ],
            "application/vnd.jupyter.widget-view+json": {
              "version_major": 2,
              "version_minor": 0,
              "model_id": "eed0af3062374aa3af2bfef59b7bd891"
            }
          },
          "metadata": {}
        },
        {
          "output_type": "display_data",
          "data": {
            "text/plain": [
              "generation_config.json:   0%|          | 0.00/111 [00:00<?, ?B/s]"
            ],
            "application/vnd.jupyter.widget-view+json": {
              "version_major": 2,
              "version_minor": 0,
              "model_id": "d61893f832c443a58ff0cf4ef658d40b"
            }
          },
          "metadata": {}
        },
        {
          "output_type": "display_data",
          "data": {
            "text/plain": [
              "tokenizer_config.json:   0%|          | 0.00/1.46k [00:00<?, ?B/s]"
            ],
            "application/vnd.jupyter.widget-view+json": {
              "version_major": 2,
              "version_minor": 0,
              "model_id": "e766844e590e41bca2a7d605fb652250"
            }
          },
          "metadata": {}
        },
        {
          "output_type": "display_data",
          "data": {
            "text/plain": [
              "tokenizer.model:   0%|          | 0.00/493k [00:00<?, ?B/s]"
            ],
            "application/vnd.jupyter.widget-view+json": {
              "version_major": 2,
              "version_minor": 0,
              "model_id": "7025ff8f560448cca47761ea629dcd0a"
            }
          },
          "metadata": {}
        },
        {
          "output_type": "display_data",
          "data": {
            "text/plain": [
              "tokenizer.json:   0%|          | 0.00/1.80M [00:00<?, ?B/s]"
            ],
            "application/vnd.jupyter.widget-view+json": {
              "version_major": 2,
              "version_minor": 0,
              "model_id": "631cf3cfe5b6454791a87bf1a3c18ac4"
            }
          },
          "metadata": {}
        },
        {
          "output_type": "display_data",
          "data": {
            "text/plain": [
              "special_tokens_map.json:   0%|          | 0.00/72.0 [00:00<?, ?B/s]"
            ],
            "application/vnd.jupyter.widget-view+json": {
              "version_major": 2,
              "version_minor": 0,
              "model_id": "856d86ca34214b60b2cde3af20585519"
            }
          },
          "metadata": {}
        }
      ]
    },
    {
      "cell_type": "code",
      "source": [
        "pipeline2 = pipeline(\n",
        "        \"text-generation\",\n",
        "        model=model2_4bit,\n",
        "        tokenizer=tokenizer2,\n",
        "        use_cache=True,\n",
        "        device_map=\"auto\",\n",
        "        max_length=6000,\n",
        "        do_sample=True,\n",
        "        top_k=5,\n",
        "        num_return_sequences=1,\n",
        "        eos_token_id=tokenizer2.eos_token_id,\n",
        "        pad_token_id=tokenizer2.eos_token_id,\n",
        ")"
      ],
      "metadata": {
        "id": "LPAnvnKqkxjv"
      },
      "execution_count": null,
      "outputs": []
    },
    {
      "cell_type": "code",
      "source": [
        "from langchain import HuggingFacePipeline\n",
        "from langchain import PromptTemplate, LLMChain\n",
        "from langchain.prompts import ChatPromptTemplate\n",
        "llm_2 = HuggingFacePipeline(pipeline=pipeline2)"
      ],
      "metadata": {
        "id": "rOskU1FFlAA-"
      },
      "execution_count": null,
      "outputs": []
    },
    {
      "cell_type": "markdown",
      "source": [
        "#### Evaluation"
      ],
      "metadata": {
        "id": "rnmX_moAhExr"
      }
    },
    {
      "cell_type": "code",
      "source": [
        "question = input(\"Enter the question: \")\n",
        "student_answer = input(\"Enter the student answer: \")\n",
        "true_answer = input(\"Enter the true answer: \")\n",
        "prompt2 = ChatPromptTemplate.from_template(\"\"\"[INST] You are a helpful, respectful and a very brutally honest assistant. You must only use the given question, student answer and true answer for evaluation. You shall not generate any new answer as student answer, no matter what. Give me a similarity score from 0.000 to 1.000 (3 decimal positions), between the below given student answer and true answer, with STRICT EVALUATION based on the content similarity, correctness and relevance, and then an explanation for it:\n",
        "\n",
        "    QUESTION: {question}\n",
        "    STUDENT ANSWER: {student_answer}\n",
        "    TRUE ANSWER: {true_answer}\n",
        "\n",
        "Award 0 as the score if the student answer is just a rephrasing of the question. Penalize for very simple language when a complex word is required to be present.\n",
        "    [/INST]\"\"\")\n",
        "chain2 = LLMChain(prompt=prompt2, llm=llm_2)\n",
        "response = chain2.run({\"student_answer\":student_answer,\"true_answer\":true_answer, \"question\":question})\n",
        "response"
      ],
      "metadata": {
        "colab": {
          "base_uri": "https://localhost:8080/",
          "height": 194
        },
        "id": "rBgR5MnshIja",
        "outputId": "8b4adb1e-3d2c-47a5-def6-960e8c0e6605"
      },
      "execution_count": null,
      "outputs": [
        {
          "name": "stdout",
          "output_type": "stream",
          "text": [
            "Enter the question: Analyze the application of algorithmic trading strategies, such as high-frequency trading and arbitrage, in financial markets and their impact on market dynamics.\n",
            "Enter the student answer: The use of algorithmic trading strategies like high-frequency trading and arbitrage alters financial markets by impacting liquidity and volatility. While these strategies contribute to price discovery, concerns exist regarding market manipulation and systemic risk. Finding a balance between leveraging algorithmic trading benefits and implementing regulatory safeguards is crucial for market stability.\n",
            "Enter the true answer: Algorithmic trading strategies, including high-frequency trading and arbitrage, have become prevalent in financial markets, revolutionizing trading practices and influencing market dynamics. These strategies leverage advanced algorithms to execute trades at high speeds, impacting market liquidity, efficiency, and volatility. While algorithmic trading contributes to price discovery, concerns arise regarding its potential for market manipulation and systemic risk. Regulators and market participants grapple with the need for effective oversight and risk management to ensure fair and orderly markets amidst technological advancements in trading.\n"
          ]
        },
        {
          "output_type": "execute_result",
          "data": {
            "text/plain": [
              "\" Similarity Score: 0.815\\n\\nExplanation: The student answer and true answer share a high degree of similarity in terms of content, with the student answer expanding upon the ideas presented in the question. Both answers discuss the impact of algorithmic trading strategies on financial markets, specifically mentioning the concepts of high-frequency trading, arbitrage, market manipulation, systemic risk, price discovery, and the need for regulatory oversight. The student answer also correctly acknowledges the benefits and concerns surrounding the use of these strategies, which aligns with the true answer's perspective. The difference in language between the two answers primarily lies in the use of slightly different terminology and the order in which certain ideas are presented. However, the core concepts remain consistent. The student answer could benefit from incorporating more complex language for a higher similarity score, but the overall structure and content are strong.\""
            ],
            "application/vnd.google.colaboratory.intrinsic+json": {
              "type": "string"
            }
          },
          "metadata": {},
          "execution_count": 15
        }
      ]
    },
    {
      "cell_type": "code",
      "source": [
        "question = input(\"Enter the question: \")\n",
        "student_answer = input(\"Enter the student answer: \")\n",
        "rubric = input(\"Enter the rubric: \")\n",
        "prompt2 = ChatPromptTemplate.from_template(\"\"\"[INST] You are a helpful, respectful and a very brutally honest assistant. You must only use the given question, student answer and rubric for evaluation. You shall not generate any new answer as student answer, no matter what. Calculate the score strictly using the rubric and then an explanation for it:\n",
        "\n",
        "    QUESTION: {question}\n",
        "    STUDENT ANSWER: {student_answer}\n",
        "    RUBRIC: {rubric}\n",
        "\n",
        "Award 0 as the score if the student answer is just a rephrasing of the question. Penalize for very simple language when a complex word is required to be present. You must follow the rubric very strictly and the overall evaluation must be extremely strict. Award partial marks (0.5 marks) if only partial criteria is met. Make sure that the student answer explains the concepts, just providing names is not enough for awarding marks. Finally, report the total mark out of 5. Award 4 or 5 only if the answer explains the concepts.\n",
        "    [/INST]\"\"\")\n",
        "chain2 = LLMChain(prompt=prompt2, llm=llm_2)\n",
        "response = chain2.run({\"student_answer\":student_answer,\"rubric\":rubric, \"question\":question})\n",
        "response"
      ],
      "metadata": {
        "colab": {
          "base_uri": "https://localhost:8080/",
          "height": 264
        },
        "id": "3IxZODFImjez",
        "outputId": "9b8d70d3-186b-40ca-9cec-a6f4bfc64489"
      },
      "execution_count": null,
      "outputs": [
        {
          "name": "stdout",
          "output_type": "stream",
          "text": [
            "Enter the question: Analyze the application of algorithmic trading strategies, such as high-frequency trading and arbitrage, in financial markets and their impact on market dynamics.\n",
            "Enter the student answer: The use of algorithmic trading strategies like high-frequency trading and arbitrage alters financial markets by impacting liquidity and volatility. While these strategies contribute to price discovery, concerns exist regarding market manipulation and systemic risk. Finding a balance between leveraging algorithmic trading benefits and implementing regulatory safeguards is crucial for market stability.\n",
            "Enter the rubric: Application of algorithmic trading strategies in financial markets, including high-frequency trading and arbitrage (1 Mark). Impact on market dynamics, such as liquidity, volatility, and price efficiency (1 Mark). Consideration of advantages, such as faster trade execution and increased market liquidity (1 Mark). Examination of challenges, including market manipulation and systemic risks (1 Mark). Role of regulatory oversight and risk management practices in mitigating risks and ensuring market integrity (1 Mark).\n"
          ]
        },
        {
          "output_type": "execute_result",
          "data": {
            "text/plain": [
              "' Based on the rubric provided and the student answer given, here is the evaluation:\\n\\n1. Application of algorithmic trading strategies in financial markets, including high-frequency trading and arbitrage: The student answer correctly identifies the use of algorithmic trading strategies, including high-frequency trading and arbitrage, in financial markets (1 mark).\\n2. Impact on market dynamics, such as liquidity, volatility, and price efficiency: The student answer explains how these strategies impact market dynamics by affecting liquidity, volatility, and price efficiency, demonstrating an understanding of the topic (1 mark).\\n\\n3. Consideration of advantages, such as faster trade execution and increased market liquidity: While the student answer touches upon the advantages of faster trade execution and increased market liquidity, it would be more complete if it provided specific examples or elaborated on how these advantages contribute to the financial markets (0.5 marks).\\n\\n4. Examination of challenges, including market manipulation and systemic risks: The student answer mentions the challenges of market manipulation and systemic risks associated with these trading strategies, but it would be more thorough if it provided specific examples, explanations, or analyses of these challenges (0.5 marks).\\n\\n5. Role of regulatory oversight and risk management practices in mitigating risks and ensuring market integrity: The student answer touches upon the importance of regulatory oversight and risk management practices but would benefit from more detail or examples (0.5 marks).\\n\\nOverall, based on the student answer given and the strict evaluation guidelines provided, the total mark would be 2.5 out of 5, as the student answer did not fully meet all the criteria outlined in the rubric.'"
            ],
            "application/vnd.google.colaboratory.intrinsic+json": {
              "type": "string"
            }
          },
          "metadata": {},
          "execution_count": 22
        }
      ]
    },
    {
      "cell_type": "code",
      "source": [
        "question = input(\"Enter the question: \")\n",
        "student_answer = input(\"Enter the student answer: \")\n",
        "rubric = input(\"Enter the rubric: \")\n",
        "prompt2 = ChatPromptTemplate.from_template(\"\"\"[INST] You are a helpful, respectful and a very brutally honest assistant. You must only use the given question, student answer and rubric for evaluation. You shall not generate any new answer as student answer, no matter what. Calculate the score strictly using the rubric and then an explanation for it:\n",
        "\n",
        "    QUESTION: {question}\n",
        "    STUDENT ANSWER: {student_answer}\n",
        "    RUBRIC: {rubric}\n",
        "\n",
        "Award 0 as the score if the student answer is just some words from the question. Penalize for very simple language when a complex word is required to be present. You must follow the rubric, point by point, very strictly and the overall evaluation must be extremely strict. Award partial marks (0.5 marks) if only partial criteria is met. Make sure that the student answer explains the concepts, just providing names is not enough for awarding marks. Finally, report the total mark out of 5. Award 4 or 5 only if the answer explains the concepts.\n",
        "    [/INST]\"\"\")\n",
        "chain2 = LLMChain(prompt=prompt2, llm=llm_2)\n",
        "response = chain2.run({\"student_answer\":student_answer,\"rubric\":rubric, \"question\":question})\n",
        "response"
      ],
      "metadata": {
        "colab": {
          "base_uri": "https://localhost:8080/",
          "height": 316
        },
        "id": "HlhGBqGtqJZK",
        "outputId": "09e45353-a5a1-4673-ec37-4b0b3f292319"
      },
      "execution_count": null,
      "outputs": [
        {
          "name": "stdout",
          "output_type": "stream",
          "text": [
            "Enter the question: Evaluate the implications of mobile malware proliferation on smartphone ecosystems, including Android and iOS platforms, assessing the impact on user privacy, data security, and the effectiveness of mobile antivirus solutions in mitigating mobile threats.\n",
            "Enter the student answer: Mobile malware proliferation undermines user privacy and data security on Android and iOS platforms. While mobile antivirus solutions offer some defense, their effectiveness varies, highlighting the need for additional security measures. Strengthening proactive security measures and user education is crucial for mitigating mobile threats and protecting smartphone ecosystems.\n",
            "Enter the rubric: Assessing the implications of mobile malware proliferation on user privacy and data security (1 Mark). Analyzing the effectiveness of mobile antivirus solutions in mitigating mobile threats (1 Mark). Examining the impact of mobile malware on smartphone ecosystems, including Android and iOS platforms (1 Mark). Evaluating strategies for enhancing mobile security, such as app permissions and platform updates (1 Mark). Considering the role of user education and awareness in mobile threat prevention (1 Mark).\n"
          ]
        },
        {
          "output_type": "execute_result",
          "data": {
            "text/plain": [
              "\" Based on the rubric, I will evaluate the student answer as follows:\\n\\n1. Assessing the implications of mobile malware proliferation on user privacy and data security (1 Mark): The student answer acknowledges that mobile malware undermines user privacy and data security. However, a more specific explanation of how mobile malware proliferation affects user privacy and data security would have earned a higher mark. (0.5 Mark)\\n2. Analyzing the effectiveness of mobile antivirus solutions in mitigating mobile threats (1 Mark): The student answer mentions that mobile antivirus solutions offer some defense, but their effectiveness varies. An analysis of how mobile antivirus solutions work, their strengths and weaknesses, and why their effectiveness varies could have earned a higher mark. (0.5 Mark)\\n3. Examining the impact of mobile malware on smartphone ecosystems, including Android and iOS platforms (1 Mark): The student answer mentions the impact on Android and iOS platforms, but a more comprehensive explanation of the impact on both platforms, and how mobile malware affects each differently, would have earned a higher mark. (0.5 Mark)\\n4. Evaluating strategies for enhancing mobile security, such as app permissions and platform updates (1 Mark): The student answer suggests strengthening proactive security measures, but it doesn't specify which security measures or how they can be strengthened. A more detailed explanation of specific strategies for enhancing mobile security, and how they can be effective in mitigating mobile threats, would have earned a higher mark. (0.5 Mark)\\n5. Considering the role of user education and awareness in mobile threat prevention (1 Mark): The student answer mentions the importance of user education, but it doesn't provide any specific examples or explanations of how user education can be effective in preventing mobile threats. A more detailed explanation of the role of user education and awareness, and how it can be effectively implemented, would have earned a higher mark. (0.5 Mark)\\n\\nOverall, based on the rubric, the student answer earns a total of 2.5 marks out of 5. The student answer acknowledges the importance of the topic, but a more comprehensive and detailed explanation of each of the rubric criteria is required to earn a higher mark.\""
            ],
            "application/vnd.google.colaboratory.intrinsic+json": {
              "type": "string"
            }
          },
          "metadata": {},
          "execution_count": 14
        }
      ]
    },
    {
      "cell_type": "code",
      "source": [
        "question = input(\"Enter the question: \")\n",
        "student_answer = input(\"Enter the student answer: \")\n",
        "rubric = input(\"Enter the rubric: \")\n",
        "\n",
        "prompt2 = ChatPromptTemplate.from_template(\"\"\"\n",
        "[INST] I am an objective and thorough assistant dedicated to rigorously evaluating student responses based solely on the provided question, student answer, and rubric. I must not generate new answers or engage in emotional responses.\n",
        "\n",
        "**RUBRIC:** {rubric}\n",
        "\n",
        "**Scoring:**\n",
        "\n",
        "* Award points strictly based on **meeting** or **exceeding** the **explicit criteria** outlined in the provided rubric.\n",
        "* Award 0 points for any criterion **not met** at all.\n",
        "* **Penalize heavily** for **misinterpretations**, **factual errors**, or **misconceptions** that directly contradict the expected knowledge or skills mentioned in the rubric.\n",
        "* Offer **partial credit (0.5)** only if a criterion shows **partial fulfillment** but **significant improvement** is needed to fully meet the criteria.\n",
        "* Use the rubric as the **sole reference** for assigning points and determining the final score.\n",
        "\n",
        "**Explanation:**\n",
        "\n",
        "Provide a **detailed and objective explanation** of the:\n",
        "    * Awarded score based on the rubric.\n",
        "    * **Reasoning** for assigning points or penalties for each criterion, referencing specifics from the rubric and student answer.\n",
        "    * **Specific instances of misinterpreted concepts, factual errors, or significant deviations from the rubric expectations**.\n",
        "    * **Areas where the student excelled** and **areas requiring improvement**, always referring back to the **specific criteria in the rubric**.\n",
        "\n",
        "**Marks:**\n",
        "\n",
        "Provide the marks achieved for the answer.\n",
        "[/INST]\n",
        "\"\"\")\n",
        "\n",
        "chain2 = LLMChain(prompt=prompt2, llm=llm_2)\n",
        "response = chain2.run({\"student_answer\": student_answer, \"rubric\": rubric, \"question\": question})\n",
        "response\n"
      ],
      "metadata": {
        "colab": {
          "base_uri": "https://localhost:8080/",
          "height": 316
        },
        "id": "nfjxxlVv_4Aw",
        "outputId": "57096514-0a17-4a7d-945f-ed358ed95a6c"
      },
      "execution_count": null,
      "outputs": [
        {
          "name": "stdout",
          "output_type": "stream",
          "text": [
            "Enter the question: Analyze the application of algorithmic trading strategies, such as high-frequency trading and arbitrage, in financial markets and their impact on market dynamics.\n",
            "Enter the student answer: The use of algorithmic trading strategies like high-frequency trading and arbitrage alters financial markets by impacting liquidity and volatility. While these strategies contribute to price discovery, concerns exist regarding market manipulation and systemic risk. Finding a balance between leveraging algorithmic trading benefits and implementing regulatory safeguards is crucial for market stability.\n",
            "Enter the rubric: Application of algorithmic trading strategies in financial markets, including high-frequency trading and arbitrage (1 Mark). Impact on market dynamics, such as liquidity, volatility, and price efficiency (1 Mark). Consideration of advantages, such as faster trade execution and increased market liquidity (1 Mark). Examination of challenges, including market manipulation and systemic risks (1 Mark). Role of regulatory oversight and risk management practices in mitigating risks and ensuring market integrity (1 Mark).\n"
          ]
        },
        {
          "output_type": "stream",
          "name": "stderr",
          "text": [
            "/usr/local/lib/python3.10/dist-packages/transformers/pipelines/base.py:1157: UserWarning: You seem to be using the pipelines sequentially on GPU. In order to maximize efficiency please use a dataset\n",
            "  warnings.warn(\n"
          ]
        },
        {
          "output_type": "execute_result",
          "data": {
            "text/plain": [
              "'**Awarded Score:** 3.5/5\\n\\n**Reasoning:**\\n\\n1. Application of algorithmic trading strategies: The student provided an explanation of high-frequency trading and arbitrage but did not directly apply these strategies to a real market scenario. Therefore, this criterion is awarded a partial credit of 0.5 points.\\n2. Impact on market dynamics: The student briefly acknowledged the impact on liquidity but failed to discuss volatility and price efficiency, resulting in zero points for this criterion.\\n3. Consideration of advantages: The student correctly identified advantages like faster trade execution and increased market liquidity, earning a full mark for this criterion.\\n4. Examination of challenges: The student discussed market manipulation and systemic risks but did not provide specific examples, resulting in a partial credit of 0.5 points.\\n5. Role of regulatory oversight and risk management practices: The student provided an adequate explanation of regulatory oversight and risk management practices, earning a full mark for this criterion.\\n\\n**Misinterpretations, Factual Errors, or Significant Deviations:**\\nNone identified.\\n\\n**Areas where the student excelled:**\\nThe student demonstrated a strong understanding of the advantages of algorithmic trading strategies in financial markets by providing concrete examples of faster trade execution and increased market liquidity. The student also correctly explained the role of regulatory oversight and risk management practices in mitigating risks and ensuring market integrity.\\n\\n**Areas requiring improvement:**\\nThe student could benefit from providing a more comprehensive answer that includes all aspects of the rubric, especially the impact on market dynamics, such as liquidity, volatility, and price efficiency. Additionally, the student should strive to apply the trading strategies in real market scenarios for a better understanding of their implications.'"
            ],
            "application/vnd.google.colaboratory.intrinsic+json": {
              "type": "string"
            }
          },
          "metadata": {},
          "execution_count": 26
        }
      ]
    },
    {
      "cell_type": "code",
      "source": [
        "question = input(\"Enter the question: \")\n",
        "student_answer = input(\"Enter the student answer: \")\n",
        "rubric = input(\"Enter the rubric: \")\n",
        "\n",
        "prompt2 = ChatPromptTemplate.from_template(\"\"\"\n",
        "[INST] I am an objective and thorough assistant dedicated to rigorously evaluating student responses based solely on the provided question, student answer, and rubric. I must not generate new answers or engage in emotional responses.\n",
        "\n",
        "**QUESTION:** {question}\n",
        "**RUBRIC:** {rubric}\n",
        "**STUDENT ANSWER:** {student_answer}\n",
        "\n",
        "**Scoring:**\n",
        "\n",
        "* Award points strictly based on **completely meeting** or **exceeding** the **explicit criteria** outlined in the provided rubric.\n",
        "* Award 0 points for any criterion **not met** at all.\n",
        "* **Penalize heavily** for **misinterpretations**, **factual errors**, or **misconceptions** that directly contradict the expected knowledge or skills mentioned in the rubric.\n",
        "* Offer **partial credit (0.5)** only if a criterion shows **partial fulfillment** but **significant improvement** is needed to fully meet the criteria.\n",
        "* Use the rubric as the **sole reference** for assigning points and determining the final score.\n",
        "* If a particular point met a rubric, do not check it with other rubric.\n",
        "\n",
        "**Explanation:**\n",
        "\n",
        "Provide a **detailed and objective explanation** of the:\n",
        "    * Awarded score based on the rubric.\n",
        "    * **Reasoning** for assigning points or penalties for each criterion, referencing specifics from the rubric and student answer.\n",
        "    * **Specific instances of misinterpreted concepts, factual errors, or significant deviations from the rubric expectations**.\n",
        "    * **Areas where the student excelled** and **areas requiring improvement**, always referring back to the **specific criteria in the rubric**.\n",
        "\n",
        "**Marks:**\n",
        "\n",
        "Provide the marks achieved for the answer in a separate line.\n",
        "[/INST]\n",
        "\"\"\")\n",
        "\n",
        "chain2 = LLMChain(prompt=prompt2, llm=llm_2)\n",
        "response = chain2.run({\"student_answer\": student_answer, \"rubric\": rubric, \"question\": question})\n",
        "response"
      ],
      "metadata": {
        "colab": {
          "base_uri": "https://localhost:8080/",
          "height": 316
        },
        "id": "ZkzsLrPeJCxY",
        "outputId": "b6b1602d-0d56-48e5-ab96-b7e61fe17134"
      },
      "execution_count": null,
      "outputs": [
        {
          "name": "stdout",
          "output_type": "stream",
          "text": [
            "Enter the question: What is the significance of the HTTP protocol in web communication?\n",
            "Enter the student answer: HTTP governs the exchange of text-based information between servers and clients, enabling clients to request resources from servers. It plays a crucial role in web communication.\n",
            "Enter the rubric: Explanation of HTTP's role in web communication, including request-response mechanism and content exchange - 1 Mark. Mention of HTTP operating over TCP/IP and its significance in web browsing - 1 Mark. Explanation of how HTTP facilitates communication between clients and servers - 1 Mark. Discussion of HTTP's contribution to the functioning of the World Wide Web - 1 Mark. Presence of detailed insight beyond basic HTTP definition - 1 Mark.\n"
          ]
        },
        {
          "output_type": "stream",
          "name": "stderr",
          "text": [
            "/usr/local/lib/python3.10/dist-packages/transformers/pipelines/base.py:1157: UserWarning: You seem to be using the pipelines sequentially on GPU. In order to maximize efficiency please use a dataset\n",
            "  warnings.warn(\n"
          ]
        },
        {
          "output_type": "execute_result",
          "data": {
            "text/plain": [
              "\"Based on the provided rubric and student answer, I have evaluated the submission as follows:\\n\\n**Criterion 1: Explanation of HTTP's role in web communication**, including request-response mechanism and content exchange (1 Mark)\\nThe student correctly explained that HTTP governs the exchange of text-based information between servers and clients. However, there was a lack of detailed discussion on the HTTP request-response mechanism or content exchange. Therefore, a partial credit of 0.5 Mark is awarded.\\n\\n**Criterion 2: Mention of HTTP operating over TCP/IP and its significance in web browsing (1 Mark)**\\nThe student did not mention HTTP's operation over TCP/IP in detail. A zero mark is given for this criterion.\\n\\n**Criterion 3: Explanation of how HTTP facilitates communication between clients and servers (1 Mark)**\\nThe student provided a satisfactory explanation of HTTP's role in enabling clients to request resources from servers. A full mark is awarded for this criterion.\\n\\n**Criterion 4: Discussion of HTTP's contribution to the functioning of the World Wide Web (1 Mark)**\\nThe student did not provide any discussion on HTTP's contribution to the functioning of the World Wide Web. A zero mark is given for this criterion.\\n\\n**Criterion 5: Presence of detailed insight beyond basic HTTP definition (1 Mark)**\\nThe student's answer did not include any significant insights beyond the basic HTTP definition. A zero mark is given for this criterion.\\n\\nTotal Marks: 1.5 out of 5\\n\\nThe student's submission showed a satisfactory understanding of HTTP's role in web communication but fell short on discussing its contribution to the functioning of the World Wide Web and providing insights beyond basic HTTP definitions. The student's explanation of HTTP operating over TCP/IP was also missing. To improve, the student should delve deeper into how HTTP contributes to the web's functionality and discuss specific examples or use cases.\""
            ],
            "application/vnd.google.colaboratory.intrinsic+json": {
              "type": "string"
            }
          },
          "metadata": {},
          "execution_count": 31
        }
      ]
    },
    {
      "cell_type": "code",
      "source": [
        "question = input(\"Enter the question: \")\n",
        "student_answer = input(\"Enter the student answer: \")\n",
        "rubric = input(\"Enter the rubric: \")\n",
        "\n",
        "prompt2 = ChatPromptTemplate.from_template(\"\"\"\n",
        "[INST] I am an objective and thorough assistant dedicated to rigorously evaluating student responses based solely on the provided question, student answer, and rubric. I must not generate new answers or engage in emotional responses.\n",
        "\n",
        "**QUESTION:** {question}\n",
        "**RUBRIC:** {rubric}\n",
        "**STUDENT ANSWER:** {student_answer}\n",
        "\n",
        "**Scoring:**\n",
        "\n",
        "* Award points strictly based on **completely meeting** or **exceeding** the **explicit criteria** outlined in the provided rubric.\n",
        "* Award 0 points for any criterion **not met** at all.\n",
        "* **Penalize heavily** for **misinterpretations**, **factual errors**, or **misconceptions** that directly contradict the expected knowledge or skills mentioned in the rubric.\n",
        "* Offer **partial credit (0.5)** only if a criterion shows **partial fulfillment** but **significant improvement** is needed to fully meet the criteria.\n",
        "* Use the rubric as the **sole reference** for assigning points and determining the final score.\n",
        "* If a particular point met a rubric, do not check it with other rubric.\n",
        "* Do not assume anything on the concept inside rubric being not related to the question and thoroughly check the answer with it.\n",
        "\n",
        "**Explanation:**\n",
        "\n",
        "Provide a **detailed and objective explanation** of the:\n",
        "    * Awarded score based on the rubric.\n",
        "    * **Reasoning** for assigning points or penalties for each criterion, referencing specifics from the rubric and student answer.\n",
        "    * **Specific instances of misinterpreted concepts, factual errors, or significant deviations from the rubric expectations**.\n",
        "    * **Areas where the student excelled** and **areas requiring improvement**, always referring back to the **specific criteria in the rubric**.\n",
        "\n",
        "**Marks:**\n",
        "\n",
        "Provide the marks achieved for the answer in a separate line.\n",
        "[/INST]\n",
        "\"\"\")\n",
        "\n",
        "chain2 = LLMChain(prompt=prompt2, llm=llm_2)\n",
        "response = chain2.run({\"student_answer\": student_answer, \"rubric\": rubric, \"question\": question})\n",
        "response"
      ],
      "metadata": {
        "colab": {
          "base_uri": "https://localhost:8080/",
          "height": 264
        },
        "id": "URtih2UcNeVU",
        "outputId": "18585052-19ad-4315-ebd9-dde21fa44e99"
      },
      "execution_count": null,
      "outputs": [
        {
          "name": "stdout",
          "output_type": "stream",
          "text": [
            "Enter the question: What is the significance of the HTTP protocol in web communication?\n",
            "Enter the student answer: HTTP is essential for web communication, governing the exchange of text-based information between servers and clients. It allows clients to request resources and receive responses, forming the backbone of the World Wide Web.\n",
            "Enter the rubric: Explanation of HTTP's role in web communication, including request-response mechanism and content exchange - 1 Mark. Mention of HTTP operating over TCP/IP and its significance in web browsing - 1 Mark. Explanation of how HTTP facilitates communication between clients and servers - 1 Mark. Discussion of HTTP's contribution to the functioning of the World Wide Web - 1 Mark. Presence of detailed insight beyond basic HTTP definition - 1 Mark.\n"
          ]
        },
        {
          "output_type": "stream",
          "name": "stderr",
          "text": [
            "/usr/local/lib/python3.10/dist-packages/transformers/pipelines/base.py:1157: UserWarning: You seem to be using the pipelines sequentially on GPU. In order to maximize efficiency please use a dataset\n",
            "  warnings.warn(\n"
          ]
        },
        {
          "output_type": "execute_result",
          "data": {
            "text/plain": [
              "\"**Explanation:**\\n\\nThe student's answer provided a clear explanation of HTTP's role in web communication as the foundation for exchanging text-based information between clients and servers, forming the backbone of the World Wide Web. This fulfills the criteria of explaining HTTP's role in web communication and its contribution to the functioning of the World Wide Web, each worth 1 mark under the rubric.\\n\\nThe response also mentioned HTTP's significance in web browsing by allowing clients to request resources and receive responses. While it did not explicitly mention HTTP operating over TCP/IP or the request-response mechanism in detail, the content was still considered accurate and relevant to the overall concept of HTTP's function in web communication. Therefore, this answer does not require any points deducted for these specific criteria.\\n\\nSince the student's answer provided a satisfactory explanation without any misinterpretations, factual errors, misconceptions, or significant deviations from the rubric expectations, no penalties were applied.\\n\\nThe response showed no signs of partial fulfillment, so no partial credit was awarded.\\n\\n**Marks:**\\n\\n2 marks\\n\\n* HTTP's role in web communication: 1 mark granted (explicitly mentioned in student answer)\\n* Contribution of HTTP to the functioning of the World Wide Web: 1 mark granted (explicitly mentioned in student answer)\""
            ],
            "application/vnd.google.colaboratory.intrinsic+json": {
              "type": "string"
            }
          },
          "metadata": {},
          "execution_count": 33
        }
      ]
    },
    {
      "cell_type": "code",
      "source": [
        "question = input(\"Enter the question: \")\n",
        "student_answer = input(\"Enter the student answer: \")\n",
        "rubric = input(\"Enter the rubric: \")\n",
        "\n",
        "prompt2 = ChatPromptTemplate.from_template(\"\"\"\n",
        "[INST] I am an objective and thorough assistant dedicated to rigorously evaluating student responses based solely on the provided question, student answer, and rubric. I must not generate new answers or engage in emotional responses.\n",
        "\n",
        "**QUESTION:** {question}\n",
        "**RUBRIC:** {rubric}\n",
        "**STUDENT ANSWER:** {student_answer}\n",
        "\n",
        "**Scoring:**\n",
        "\n",
        "* Award points strictly based on **completely meeting** or **exceeding** the **explicit criteria** outlined in the provided rubric.\n",
        "* Award 0 points for any criterion **not met** at all.\n",
        "* **Penalize heavily** for **misinterpretations**, **factual errors**, or **misconceptions** that directly contradict the expected knowledge or skills mentioned in the rubric.\n",
        "* Offer **partial credit (0.5)** only if a criterion shows **partial fulfillment** but **significant improvement** is needed to fully meet the criteria.\n",
        "* Use the rubric as the **sole reference** for assigning points and determining the final score.\n",
        "* If a particular point met a rubric, do not check it with other rubric.\n",
        "* Do not assume anything on the concept inside rubric being not related to the question and thoroughly check the answer with it.\n",
        "\n",
        "**Explanation:**\n",
        "\n",
        "Provide a **detailed and objective explanation** of the:\n",
        "    * Awarded score based on the rubric.\n",
        "    * **Reasoning** for assigning points or penalties for each criterion, referencing specifics from the rubric and student answer.\n",
        "    * **Specific instances of misinterpreted concepts, factual errors, or significant deviations from the rubric expectations**.\n",
        "    * **Areas where the student excelled** and **areas requiring improvement**, always referring back to the **specific criteria in the rubric**.\n",
        "\n",
        "**Marks:**\n",
        "\n",
        "Provide the marks achieved for the answer in a separate line.\n",
        "[/INST]\n",
        "\"\"\")\n",
        "\n",
        "chain2 = LLMChain(prompt=prompt2, llm=llm_2)\n",
        "response = chain2.run({\"student_answer\": student_answer, \"rubric\": rubric, \"question\": question})\n",
        "response"
      ],
      "metadata": {
        "colab": {
          "base_uri": "https://localhost:8080/",
          "height": 368
        },
        "id": "WDAbfvb1TXKK",
        "outputId": "7ed7b100-4855-4617-f059-3f519a06b918"
      },
      "execution_count": null,
      "outputs": [
        {
          "name": "stdout",
          "output_type": "stream",
          "text": [
            "Enter the question: Apply principles of bioinformatics to develop personalized nutrition recommendations, leveraging genomic data analysis and machine learning algorithms for tailored dietary guidance based on individual genetic profiles and health goals.\n",
            "Enter the student answer: Scientists are using advanced tools and data analysis to develop personalized diets. This involves analyzing someone's genes and other information to create a customized eating plan. They believe understanding genes can help people make better food choices and potentially improve their health.\n",
            "Enter the rubric: Recognition of \"bioinformatics\" and its application in developing personalized nutrition recommendations - 1 Mark. Description of the nutrition platforms' functionality in analyzing genomic data and health information for tailored dietary guidance - 1 Mark. Explanation of bioinformatics principles such as genomic data analysis and machine learning algorithms used in personalized nutrition platforms - 1 Mark. Recognition of the benefits of bioinformatics-based nutrition recommendations in supporting preventive healthcare and improving health outcomes - 1 Mark. Insight into the impact of bioinformatics on empowering individuals to make informed dietary choices and adopt healthier lifestyles - 1 Mark.\n"
          ]
        },
        {
          "output_type": "stream",
          "name": "stderr",
          "text": [
            "/usr/local/lib/python3.10/dist-packages/transformers/pipelines/base.py:1157: UserWarning: You seem to be using the pipelines sequentially on GPU. In order to maximize efficiency please use a dataset\n",
            "  warnings.warn(\n"
          ]
        },
        {
          "output_type": "execute_result",
          "data": {
            "text/plain": [
              "'**Marks:**\\n\\n1. Recognition of \"bioinformatics\" and its application in developing personalized nutrition recommendations: 1 Mark - The student correctly identified the application of bioinformatics in creating personalized nutrition recommendations, hence meeting the criterion fully.\\n\\n2. Description of the nutrition platforms\\' functionality in analyzing genomic data and health information for tailored dietary guidance: 0 Marks - The student only touched upon analyzing someone\\'s genes for customized eating plans but did not provide a clear explanation of how the platforms perform genomic data analysis or health information integration to create tailored dietary guidance.\\n\\n3. Explanation of bioinformatics principles such as genomic data analysis and machine learning algorithms used in personalized nutrition platforms: 0 Marks - The student did not explain bioinformatics principles or the specific machine learning algorithms used in these nutrition platforms.\\n\\n4. Recognition of the benefits of bioinformatics-based nutrition recommendations in supporting preventive healthcare and improving health outcomes: 1 Mark - The student acknowledged understanding genes can help people make better food choices and potentially improve their health.\\n\\n5. Insight into the impact of bioinformatics on empowering individuals to make informed dietary choices and adopt healthier lifestyles: 0.5 Marks - The student mentioned understanding genes can help people make better food choices, but they did not elaborate on how this empowers individuals to make informed choices or adopt healthier lifestyles. This criterion is partially met but requires significant improvement in providing a clearer explanation of the impact.\\n\\n**Reasoning:**\\n\\nThe student received a total of 2.5 marks (1 Mark for criterion 1, 0.5 Marks for criterion 5, and 1 mark for criterion 4). The student provided a correct identification of bioinformatics application in personalized nutrition but failed to describe the platforms\\' functionality and explain bioinformatics principles.\\n\\nThe student\\'s answer had no misinterpretations, factual errors, or significant deviations from the rubric expectations. However, the student\\'s explanation lacked depth in certain areas, particularly criterion 2, 3, and 5, which required more elaboration on the platforms\\' functionality, genomic data analysis, machine learning algorithms, and their impact on empowering individuals.'"
            ],
            "application/vnd.google.colaboratory.intrinsic+json": {
              "type": "string"
            }
          },
          "metadata": {},
          "execution_count": 34
        }
      ]
    },
    {
      "cell_type": "code",
      "source": [
        "student_answer = input(\"Enter the student answer: \")\n",
        "rubrics = input(\"Enter the rubrics: \")\n",
        "marks = int(input(\"Enter the maximum marks: \"))\n",
        "prompt = ChatPromptTemplate.from_template(\"\"\"[INST] You are a helpful, respectful and a very brutally honest assistant. You are assessing a submitted student answer based on the provided rubrics:\n",
        "\n",
        "Rubrics:\n",
        "{rubrics}\n",
        "\n",
        "Student answer: {student_answer}\n",
        "\n",
        "Mark: {marks}\n",
        "Find the total marks from the rubrics.\n",
        "If 2 Marks, Check if the student answer is in and around 25 words\n",
        "If 5 Marks, Check if the student answer is in and around 50 words\n",
        "If 10 Marks, Check if the student answer is in and around 100 words\n",
        "\n",
        "Calculate the final mark for the student answer following the rubrics. Print the final mark. Explain the marking.\n",
        "Finally, print the mark in this format:\n",
        "\n",
        "Final mark = calculated mark\n",
        "\n",
        "[/INST]\"\"\")\n",
        "chain2 = LLMChain(prompt=prompt, llm=llm_2)\n",
        "response = chain2.run({\"student_answer\":student_answer,\"rubrics\":rubrics, \"marks\":marks})\n",
        "response"
      ],
      "metadata": {
        "colab": {
          "base_uri": "https://localhost:8080/",
          "height": 125
        },
        "id": "jPbsengF8SG_",
        "outputId": "6ed81ceb-bf28-446b-f653-225be76633fa"
      },
      "execution_count": null,
      "outputs": [
        {
          "name": "stdout",
          "output_type": "stream",
          "text": [
            "Enter the student answer: Queues are employed in resource sharing systems and scheduling algorithms to manage the allocation of resources and prioritize tasks based on predefined criteria. By maintaining a queue of pending tasks or resource requests, systems ensure fair access and efficient utilization of resources among multiple users or processes.\n",
            "Enter the rubrics: Presence of a similar sentence or concept like \"Manages allocation by prioritizing tasks on predefined criteria\" (1 Mark). Presence of a similar sentence or concept like \"Maintains a pending queue ensuring efficient resource utilization\" (1 Mark).\n",
            "Enter the maximum marks: 2\n"
          ]
        },
        {
          "output_type": "execute_result",
          "data": {
            "text/plain": [
              "' Final mark = 2\\n\\nExplanation:\\nThe student answer fully addresses both rubrics with clear and concise explanations. The answer is also within the word limit for a 2-mark question, which is around 25 words (the student answer contains 31 words). The student demonstrates a strong understanding of the concepts and effectively communicates their knowledge.'"
            ],
            "application/vnd.google.colaboratory.intrinsic+json": {
              "type": "string"
            }
          },
          "metadata": {},
          "execution_count": 13
        }
      ]
    },
    {
      "cell_type": "code",
      "source": [
        "student_answer = input(\"Enter the student answer: \")\n",
        "rubrics = input(\"Enter the rubrics: \")\n",
        "prompt = ChatPromptTemplate.from_template(\"\"\"[INST] You are a helpful, respectful and a very brutally honest assistant. You are strictly evaluating a submitted student answer based on the provided rubrics:\n",
        "\n",
        "Rubrics:\n",
        "{rubrics}\n",
        "\n",
        "Student answer: {student_answer}\n",
        "\n",
        "Calculate the final mark for the student answer with the help of rubrics. Print the final mark. Explain the marking.\n",
        "Finally, print the mark in this format:\n",
        "\n",
        "Final mark = calculated mark\n",
        "\n",
        "[/INST]\"\"\")\n",
        "chain2 = LLMChain(prompt=prompt, llm=llm_2)\n",
        "response = chain2.run({\"student_answer\":student_answer,\"rubrics\":rubrics})\n",
        "response"
      ],
      "metadata": {
        "colab": {
          "base_uri": "https://localhost:8080/",
          "height": 160
        },
        "id": "jNLZem8YA6RL",
        "outputId": "5d77c659-bfb7-4c79-91bf-c89b3a89c0a4"
      },
      "execution_count": null,
      "outputs": [
        {
          "name": "stdout",
          "output_type": "stream",
          "text": [
            "Enter the student answer: NMT helps translating words from one language to another with the help of large neural network\n",
            "Enter the rubrics: Presence of concept like \"Neural Machine Translation\" - 1 Mark Presence of concept like \"build and train a neural network\" - 1 Mark.\n"
          ]
        },
        {
          "output_type": "stream",
          "name": "stderr",
          "text": [
            "/usr/local/lib/python3.10/dist-packages/transformers/pipelines/base.py:1157: UserWarning: You seem to be using the pipelines sequentially on GPU. In order to maximize efficiency please use a dataset\n",
            "  warnings.warn(\n"
          ]
        },
        {
          "output_type": "execute_result",
          "data": {
            "text/plain": [
              "' Final mark = 2\\n\\nExplanation: The student answer correctly mentions the use of a neural network in Neural Machine Translation (NMT), which earns a mark for the presence of the concept \"Neural Machine Translation\" (1 mark). Additionally, the student explicitly states that NMT uses a large neural network, which is a correct description of the process and grants an additional mark for the presence of the concept \"build and train a neural network\" (1 mark). The final mark for this student answer is 2 marks.'"
            ],
            "application/vnd.google.colaboratory.intrinsic+json": {
              "type": "string"
            }
          },
          "metadata": {},
          "execution_count": 30
        }
      ]
    },
    {
      "cell_type": "markdown",
      "source": [
        "build and train a single, large neural network\n",
        "\n",
        "to translate words from one language to another."
      ],
      "metadata": {
        "id": "Dgpy4XjTVYcA"
      }
    },
    {
      "cell_type": "code",
      "source": [
        "student_answer = input(\"Enter the student answer: \")\n",
        "rubrics = input(\"Enter the rubrics: \")\n",
        "prompt = ChatPromptTemplate.from_template(\"\"\"[INST] You are a helpful, respectful and a very brutally honest assistant. You must strictly evaluate the submitted student answer explicitly ONLY based on the provided rubrics. Do not consider any implicit meanings while evaluating the answer.\n",
        "\n",
        "Rubrics:\n",
        "{rubrics}\n",
        "\n",
        "Student answer: {student_answer}\n",
        "\n",
        "Calculate the final mark for the student answer, with the help of rubrics. Print the final mark. Explain the marking.\n",
        "Mark = calculated mark\n",
        "\n",
        "[/INST]\"\"\")\n",
        "chain2 = LLMChain(prompt=prompt, llm=llm_2)\n",
        "response = chain2.run({\"student_answer\":student_answer,\"rubrics\":rubrics})\n",
        "response"
      ],
      "metadata": {
        "colab": {
          "base_uri": "https://localhost:8080/",
          "height": 125
        },
        "id": "t5mMd-ceDRda",
        "outputId": "74c9156a-134b-4722-9e50-f8a7de3f3090"
      },
      "execution_count": null,
      "outputs": [
        {
          "name": "stdout",
          "output_type": "stream",
          "text": [
            "Enter the student answer: Stack is a data structure that follows LIFO\n",
            "Enter the rubrics:  Presence of concept like \"Last in First Out (LIFO)\" - 1 Mark. Presence of concept like \"Insertion and deletion at the same end\" - 1 Mark.\n"
          ]
        },
        {
          "output_type": "stream",
          "name": "stderr",
          "text": [
            "/usr/local/lib/python3.10/dist-packages/transformers/pipelines/base.py:1157: UserWarning: You seem to be using the pipelines sequentially on GPU. In order to maximize efficiency please use a dataset\n",
            "  warnings.warn(\n"
          ]
        },
        {
          "output_type": "execute_result",
          "data": {
            "text/plain": [
              "' Mark = 1 (Presence of concept like \"Last in First Out (LIFO)\" is correctly identified in the student answer)'"
            ],
            "application/vnd.google.colaboratory.intrinsic+json": {
              "type": "string"
            }
          },
          "metadata": {},
          "execution_count": 24
        }
      ]
    },
    {
      "cell_type": "code",
      "source": [
        "student_answer = input(\"Enter the student answer: \")\n",
        "true_answer = input(\"Enter the true answer: \")\n",
        "prompt2 = ChatPromptTemplate.from_template(\"\"\"[INST] You are a helpful, respectful and a very brutally honest assistant. You must only use the given student answer and true answer for evaluation. You shall not generate any new answer as student answer, no matter what. Give me a similarity score from 0.000 to 1.000 (3 decimal positions), between the below given student answer and true answer, with STRICT EVALUATION based on the content similarity, correctness and relevance, and then an explanation for it:\n",
        "\n",
        "    STUDENT ANSWER: {student_answer}\n",
        "    TRUE ANSWER: {true_answer}\n",
        "\n",
        "    [/INST]\"\"\")\n",
        "chain2 = LLMChain(prompt=prompt2, llm=llm_2)\n",
        "response = chain2.run({\"student_answer\":student_answer,\"true_answer\":true_answer})\n",
        "response"
      ],
      "metadata": {
        "colab": {
          "base_uri": "https://localhost:8080/",
          "height": 125
        },
        "id": "P6-ed1aUKZxV",
        "outputId": "525d193b-03ef-44b8-897b-ae67d51256d2"
      },
      "execution_count": null,
      "outputs": [
        {
          "name": "stdout",
          "output_type": "stream",
          "text": [
            "Enter the student answer: Stack is a data structure that follows LIFO\n",
            "Enter the true answer: A Stack is an ordered list in which all insertions (Push operation) and deletion (Pop operation) are made at one end, called the top. The topmost element is pointed by top. The top is initialized to -1 when the stack is created that is when the stack is empty. In a stack S = (a1,an), a1 is the bottom most element and element a is on top of element ai-1. Stack is also referred as Last In First Out (LIFO) list.\n"
          ]
        },
        {
          "output_type": "execute_result",
          "data": {
            "text/plain": [
              "' Similarity Score: 0.811\\n\\nExplanation:\\n\\nThe student answer correctly identifies that a Stack is a Last In First Out (LIFO) data structure. However, the student answer is less detailed than the true answer. The true answer provides additional information about the stack being an ordered list, all insertions and deletions being made at one end, and the topmost element being pointed by top. Despite these differences, the core concept of a Stack being a LIFO data structure is present in both the student and true answers.'"
            ],
            "application/vnd.google.colaboratory.intrinsic+json": {
              "type": "string"
            }
          },
          "metadata": {},
          "execution_count": 16
        }
      ]
    },
    {
      "cell_type": "code",
      "source": [
        "prompt1 = ChatPromptTemplate.from_template(\"\"\"[INST] You are a helpful, respectful and honest assistant. Explain the answer from the context, following the rubrics and the word limit.\n",
        "\n",
        "Rubrics:\n",
        "{rubrics}\n",
        "\n",
        "Answer the question below from context below, and also generate 3 keywords from the context that needs to be in the answer, and you MUST follow the word limit from the rubrics with respect to marks, STRICTLY:\n",
        "\n",
        "If 2 Marks, answer ONLY in and around 25 words. Not more than 40 words.\n",
        "If 5 Marks, answer ONLY in and around 50 words. Not more than 70 words.\n",
        "If 10 Marks, answer ONLY in and around 100 words. Not more than 130 words.\n",
        "\n",
        "{context}\n",
        "{question} [/INST]\"\"\")\n",
        "chain1 = LLMChain(prompt=prompt1, llm=llm_2, output_key=\"true_answer\")\n"
      ],
      "metadata": {
        "id": "FTrKaWmzx4nJ"
      },
      "execution_count": null,
      "outputs": []
    },
    {
      "cell_type": "code",
      "source": [
        "prompt1 = ChatPromptTemplate.from_template(\"\"\"[INST] You are a helpful, respectful and honest assistant. Answer the question only from the context by following the rubrics. Do not sway away from the topic.\n",
        "\n",
        "Rubrics:\n",
        "{rubrics}\n",
        "\n",
        "Mark: {mark}\n",
        "Answer the question below from context below, and also generate exactly 3 keywords from the context that needs to be in the answer, and you MUST strictly follow the word limit with respect to marks:\n",
        "\n",
        "If 2 Marks, answer not longer than 40 words.\n",
        "If 5 Marks, answer not longer than 70 words.\n",
        "If 10 Marks, answer not longer than 130 words.\n",
        "\n",
        "Question: {question}\n",
        "Context: {context} [/INST]\"\"\")\n",
        "chain1 = LLMChain(prompt=prompt1, llm=llm_2, output_key=\"true_answer\")\n"
      ],
      "metadata": {
        "id": "aR8xM5tETUcY"
      },
      "execution_count": null,
      "outputs": []
    },
    {
      "cell_type": "code",
      "source": [
        "prompt2 = ChatPromptTemplate.from_template(\"\"\"[INST] You are a helpful, respectful and a very brutally honest assistant. You are assessing a submitted student answer relative to the true answer, along with the keywords based on the provided rubrics:\n",
        "\n",
        "Rubrics:\n",
        "{rubrics}\n",
        "\n",
        "Student answer: {student_answer}\n",
        "True answer: {true_answer}\n",
        "\n",
        "Find the total marks from the rubrics.\n",
        "If 2 Marks, Check if the student answer is in and around 25 words\n",
        "If 5 Marks, Check if the student answer is in and around 50 words\n",
        "If 10 Marks, Check if the student answer is in and around 100 words\n",
        "Award 1 mark if atleast 2 keywords are present in the student answer, if the final mark is less than 1.5\n",
        "\n",
        "Calculate the final mark for the student answer following the rubrics. Print the final mark. Explain the marking. Make sure that the student answer is also of similar size to the true answer and award the marks for the student answer accordingly, based on the rubrics.\n",
        "Finally, print the mark in this format:\n",
        "\n",
        "Final mark - calculated mark\n",
        "\n",
        "[/INST]\"\"\")\n",
        "chain2 = LLMChain(prompt=prompt2, llm=llm_2, output_key=\"result\")"
      ],
      "metadata": {
        "id": "zwmyQ39yz7Bj"
      },
      "execution_count": null,
      "outputs": []
    },
    {
      "cell_type": "code",
      "source": [
        "question = input(\"Enter the question: \")\n",
        "context_p = input(\"Enter the context: \")\n",
        "marks = input(\"Enter the maximum marks: \")\n",
        "rubrics = input(\"Enter the rubrics: \")\n",
        "student_answer = input(\"Enter the student answer: \")\n",
        "\n",
        "question_p = question + f\"(Marks : {marks}).\"\n",
        "rubrics1 = rubrics\n",
        "mark = marks\n",
        "from langchain.chains import SequentialChain\n",
        "\n",
        "overall_chain = SequentialChain(\n",
        "    chains=[chain1, chain2],\n",
        "    input_variables=[\"question\", \"context\", \"rubrics\", \"student_answer\", \"mark\"],\n",
        "    output_variables=[\"true_answer\", \"result\"],\n",
        "    verbose=True\n",
        "    )\n",
        "\n",
        "overall_chain({\"question\": question_p, \"context\": context_p, \"rubrics\": rubrics1 , \"student_answer\": student_answer, \"mark\":marks})"
      ],
      "metadata": {
        "colab": {
          "base_uri": "https://localhost:8080/"
        },
        "id": "NadeoOLl0gm7",
        "outputId": "fef2aa4a-fabc-43c2-a96d-ce70ceb42be6"
      },
      "execution_count": null,
      "outputs": [
        {
          "output_type": "stream",
          "name": "stdout",
          "text": [
            "Enter the question: Explore the role of queues in simulation and modeling environments. How do queues model real-world systems and processes, and what insights can be gained from analysing queueing behaviour?\n",
            "Enter the context: In a rapidly evolving technological landscape, understanding the fundamentals and applications of data structures like queues is paramount. Queues, operating on the First-In-First-Out (FIFO) principle, play a pivotal role in diverse domains, from multi-threaded programming to graph traversal algorithms. In concurrent systems, queues facilitate seamless communication and synchronization among threads, while in breadth-first search (BFS) algorithms, they ensure systematic exploration of graphs. Priority queues prioritize tasks based on urgency, finding applications in scheduling and resource allocation. Circular queues optimize memory usage and performance in scenarios requiring frequent insertion and deletion. Additionally, double-ended queues (dequeues) offer flexibility in implementing data structures and algorithms, supporting bidirectional operations. In resource sharing systems and job scheduling algorithms, queues ensure fair allocation and optimal utilization of resources. Moreover, queues serve as powerful tools in simulation and modelling environments, providing insights into system behaviour and aiding decision-making processes. Overall, a comprehensive understanding of queues is essential for designing efficient, scalable, and responsive systems across various domains in today's interconnected world.\n",
            "Enter the maximum marks: 5\n",
            "Enter the rubrics: Clarity of Explanation (1.5 marks): Evaluate the clarity of the explanation regarding the role of queues in simulation and modeling environments, ensuring it is easy to understand and follow. Relevance to Queue Concept (1 mark): Assess how well the explanation connects the use of queues to their FIFO principle and their role in modeling real-world systems and processes. Understanding of Practical Applications (1 mark): Look for evidence of understanding regarding the practical applications of queues in simulation and modeling, including examples and insights into their usage. Technical Accuracy (1.5 marks): Ensure the explanation accurately reflects how queues model the arrival and processing of entities in simulation environments and provide insights into system behavior and performance, supported by relevant technical details. Last resort, keywords (1 Mark): Ensure that the student answer contains atleast 2 keywords from the true answer, if and only if the mark is less than 1.\n",
            "Enter the student answer: Queues are used to model various real-world systems and processes characterized by arrival and service times\n",
            "\n",
            "\n",
            "\u001b[1m> Entering new SequentialChain chain...\u001b[0m\n"
          ]
        },
        {
          "output_type": "stream",
          "name": "stderr",
          "text": [
            "/usr/local/lib/python3.10/dist-packages/transformers/pipelines/base.py:1157: UserWarning: You seem to be using the pipelines sequentially on GPU. In order to maximize efficiency please use a dataset\n",
            "  warnings.warn(\n",
            "/usr/local/lib/python3.10/dist-packages/transformers/pipelines/base.py:1157: UserWarning: You seem to be using the pipelines sequentially on GPU. In order to maximize efficiency please use a dataset\n",
            "  warnings.warn(\n"
          ]
        },
        {
          "output_type": "stream",
          "name": "stdout",
          "text": [
            "\n",
            "\u001b[1m> Finished chain.\u001b[0m\n"
          ]
        },
        {
          "output_type": "execute_result",
          "data": {
            "text/plain": [
              "{'question': 'Explore the role of queues in simulation and modeling environments. How do queues model real-world systems and processes, and what insights can be gained from analysing queueing behaviour?(Marks : 5).',\n",
              " 'context': \"In a rapidly evolving technological landscape, understanding the fundamentals and applications of data structures like queues is paramount. Queues, operating on the First-In-First-Out (FIFO) principle, play a pivotal role in diverse domains, from multi-threaded programming to graph traversal algorithms. In concurrent systems, queues facilitate seamless communication and synchronization among threads, while in breadth-first search (BFS) algorithms, they ensure systematic exploration of graphs. Priority queues prioritize tasks based on urgency, finding applications in scheduling and resource allocation. Circular queues optimize memory usage and performance in scenarios requiring frequent insertion and deletion. Additionally, double-ended queues (dequeues) offer flexibility in implementing data structures and algorithms, supporting bidirectional operations. In resource sharing systems and job scheduling algorithms, queues ensure fair allocation and optimal utilization of resources. Moreover, queues serve as powerful tools in simulation and modelling environments, providing insights into system behaviour and aiding decision-making processes. Overall, a comprehensive understanding of queues is essential for designing efficient, scalable, and responsive systems across various domains in today's interconnected world.\",\n",
              " 'rubrics': 'Clarity of Explanation (1.5 marks): Evaluate the clarity of the explanation regarding the role of queues in simulation and modeling environments, ensuring it is easy to understand and follow. Relevance to Queue Concept (1 mark): Assess how well the explanation connects the use of queues to their FIFO principle and their role in modeling real-world systems and processes. Understanding of Practical Applications (1 mark): Look for evidence of understanding regarding the practical applications of queues in simulation and modeling, including examples and insights into their usage. Technical Accuracy (1.5 marks): Ensure the explanation accurately reflects how queues model the arrival and processing of entities in simulation environments and provide insights into system behavior and performance, supported by relevant technical details. Last resort, keywords (1 Mark): Ensure that the student answer contains atleast 2 keywords from the true answer, if and only if the mark is less than 1.',\n",
              " 'student_answer': 'Queues are used to model various real-world systems and processes characterized by arrival and service times',\n",
              " 'mark': '5',\n",
              " 'true_answer': \" Answer: Queues are essential data structures in simulation and modeling environments due to their First-In-First-Out (FIFO) principle. They effectively model real-world systems and processes, such as customers in a queue at a bank or packages in a delivery system. Analyzing queueing behavior provides valuable insights into system performance and resource utilization. Keywords: queues, FIFO principle, modeling real-world systems, system performance, insight into resource utilization.\\n\\nExplanation: The text describes how queues play a crucial role in various domains, including simulation and modeling environments. Queues' FIFO principle allows them to model real-world systems and processes, like lines at a bank or delivery packages, while providing insights into system behavior and resource utilization. These insights can aid in decision-making processes for optimizing system performance and efficiency. The context emphasizes the importance of understanding queues in designing efficient, scalable, and responsive systems in today's interconnected world.\\n\\nAdditionally, the text discusses different types of queues, such as priority queues, circular queues, and dequeues, and their applications in various domains, highlighting their significance in simulation and modeling environments.\\n\\nThus, the answer focuses on the FIFO principle of queues, their modeling of real-world systems and processes, and the valuable insights gained by analyzing queueing behavior in simulation and modeling environments. The provided keywords accurately represent the essential aspects mentioned in the answer.\",\n",
              " 'result': ' Similarity Score: 0.652\\n\\nExplanation: The studentanswer mentions that queues are used to model various real-world systems and processes characterized by arrival and service times, which is a general statement that is also present in the true answer. However, the student answer does not mention the specific FIFO principle or the importance of analyzing queueing behavior for system performance and resource utilization as detailed in the true answer.\\n\\nTherefore, while the student answer shares some similarities in content to the true answer, it is not as comprehensive and detailed, hence the relatively low similarity score.'}"
            ]
          },
          "metadata": {},
          "execution_count": 43
        }
      ]
    },
    {
      "cell_type": "code",
      "source": [
        "question = input(\"Enter the question: \")\n",
        "context_p = input(\"Enter the context: \")\n",
        "marks = input(\"Enter the maximum marks: \")\n",
        "rubrics = input(\"Enter the rubrics: \")\n",
        "student_answer = input(\"Enter the student answer: \")\n",
        "\n",
        "question_p = question + f\" (Marks : {marks}).\"\n",
        "rubrics1 = f\"(Marks - {marks}). \" + rubrics\n",
        "from langchain.chains import SequentialChain\n",
        "\n",
        "overall_chain = SequentialChain(\n",
        "    chains=[chain1, chain2],\n",
        "    input_variables=[\"question\", \"context\", \"rubrics\", \"student_answer\"],\n",
        "    output_variables=[\"true_answer\", \"result\"],\n",
        "    verbose=True\n",
        "    )\n",
        "\n",
        "overall_chain({\"question\": question_p, \"context\": context_p, \"rubrics\": rubrics1 , \"student_answer\": student_answer})"
      ],
      "metadata": {
        "colab": {
          "base_uri": "https://localhost:8080/"
        },
        "id": "NCl2g4IACANQ",
        "outputId": "318c113e-97a2-4c9f-a0a1-80457706359c"
      },
      "execution_count": null,
      "outputs": [
        {
          "output_type": "stream",
          "name": "stdout",
          "text": [
            "Enter the question: Describe the key operations associated with a stack.\n",
            "Enter the context: A stack is a fundamental data structure in computer science, adhering to the Last In, First Out (LIFO) principle. This means that the most recently added element is the first to be removed. Similar to a stack of plates, where only the top plate can be taken off or added, key operations associated with a stack include push (adding to the top), pop (removing from the top), peek (viewing the top element without removal), isEmpty (checking if the stack is empty), and isFull (checking if the stack is at maximum capacity). Stacks find applications in various areas, such as managing function calls, evaluating expressions, implementing undo mechanisms, parsing expressions for correct symbol pairing, and handling memory in programming languages through the call stack. Implementations can use arrays or linked lists, offering simplicity and efficiency for operations like push and pop, which are typically performed in constant time. The stack's versatility and simplicity make it a foundational concept in computer science.\n",
            "Enter the maximum marks: 2\n",
            "Enter the rubrics: Clarity of Explanation (0.5 marks): Evaluate the clarity of explanations for key stack operations like push, pop, peek, isEmpty, and isFull, ensuring they are easy to understand and follow. Relevance to Stack Concept (0.5 marks): Assess how well the descriptions connect each operation to the stack's Last In, First Out (LIFO) principle, emphasizing their relationship to stack structure and its fundamental concept. Understanding of Practical Applications (0.5 marks): Look for evidence of understanding regarding the practical applications and importance of each operation within stack usage, particularly in real-world scenarios, allocating marks based on depth of insight. Technical Accuracy (0.5 marks): Ensure the technical descriptions are accurate and aligned with standard definitions of stack operations, considering variations in implementations using arrays or linked lists, with marks allocated for precision and correctness.\n",
            "Enter the student answer: Some key operations using stack include push, pop, isempty.\n",
            "\n",
            "\n",
            "\u001b[1m> Entering new SequentialChain chain...\u001b[0m\n"
          ]
        },
        {
          "output_type": "stream",
          "name": "stderr",
          "text": [
            "/usr/local/lib/python3.10/dist-packages/transformers/pipelines/base.py:1157: UserWarning: You seem to be using the pipelines sequentially on GPU. In order to maximize efficiency please use a dataset\n",
            "  warnings.warn(\n",
            "/usr/local/lib/python3.10/dist-packages/transformers/pipelines/base.py:1157: UserWarning: You seem to be using the pipelines sequentially on GPU. In order to maximize efficiency please use a dataset\n",
            "  warnings.warn(\n"
          ]
        },
        {
          "output_type": "stream",
          "name": "stdout",
          "text": [
            "\n",
            "\u001b[1m> Finished chain.\u001b[0m\n"
          ]
        },
        {
          "output_type": "execute_result",
          "data": {
            "text/plain": [
              "{'question': 'Describe the key operations associated with a stack. (Marks : 2).',\n",
              " 'context': \"A stack is a fundamental data structure in computer science, adhering to the Last In, First Out (LIFO) principle. This means that the most recently added element is the first to be removed. Similar to a stack of plates, where only the top plate can be taken off or added, key operations associated with a stack include push (adding to the top), pop (removing from the top), peek (viewing the top element without removal), isEmpty (checking if the stack is empty), and isFull (checking if the stack is at maximum capacity). Stacks find applications in various areas, such as managing function calls, evaluating expressions, implementing undo mechanisms, parsing expressions for correct symbol pairing, and handling memory in programming languages through the call stack. Implementations can use arrays or linked lists, offering simplicity and efficiency for operations like push and pop, which are typically performed in constant time. The stack's versatility and simplicity make it a foundational concept in computer science.\",\n",
              " 'rubrics': \"(Marks - 2). Clarity of Explanation (0.5 marks): Evaluate the clarity of explanations for key stack operations like push, pop, peek, isEmpty, and isFull, ensuring they are easy to understand and follow. Relevance to Stack Concept (0.5 marks): Assess how well the descriptions connect each operation to the stack's Last In, First Out (LIFO) principle, emphasizing their relationship to stack structure and its fundamental concept. Understanding of Practical Applications (0.5 marks): Look for evidence of understanding regarding the practical applications and importance of each operation within stack usage, particularly in real-world scenarios, allocating marks based on depth of insight. Technical Accuracy (0.5 marks): Ensure the technical descriptions are accurate and aligned with standard definitions of stack operations, considering variations in implementations using arrays or linked lists, with marks allocated for precision and correctness.\",\n",
              " 'student_answer': 'Some key operations using stack include push, pop, isempty.',\n",
              " 'true_answer': \" A stack is a fundamental data structure in computer science, following the Last In, First Out (LIFO) principle. This means that the last added element is the first to be removed. Key operations for a stack include:\\n\\n1. Push: Adding an element to the top of the stack.\\n2. Pop: Removing and returning the top element from the stack.\\n3. Peek: Viewing the top element without removing it.\\n4. isEmpty: Checking if the stack is empty.\\n5. isFull: Checking if the stack is at maximum capacity.\\n\\nThese operations are essential to the stack's LIFO principle and enable practical applications like managing function calls, evaluating expressions, implementing undo mechanisms, and memory management in programming languages through the call stack. Implementations can use arrays or linked lists, offering simplicity and efficiency for push and pop operations.\",\n",
              " 'result': ' The student answer is: \"Some key operations using stack include push, pop, isempty.\"\\n\\nTrue answer: (Provided above)\\n\\nTotal Marks: 2\\n\\nThe student answer is around 10 words, which is less than the expected 25 words for 2 marks. However, the student has mentioned two keywords (push and pop) correctly.\\n\\nFinal mark - calculated mark: 0.8\\n\\nExplanation:\\n\\n1. Clarity of Explanation (0.5 marks): The student\\'s explanation is not clear, as they simply list operations without explaining what a stack is or how these operations are related to the Last In, First Out (LIFO) principle.\\n\\nMark for Clarity of Explanation: 0\\n\\n2. Relevance to Stack Concept (0.5 marks): The student fails to explain how these operations relate to the stack\\'s LIFO principle.\\n\\nMark for Relevance to Stack Concept: 0\\n\\n3. Understanding of Practical Applications (0.5 marks): The student does not provide information about practical applications of these operations.\\n\\nMark for Understanding of Practical Applications: 0\\n\\n4. Technical Accuracy (0.5 marks): The student mentions the correct operations, but does not give any technical details about their functioning.\\n\\nMark for Technical Accuracy: 0.5\\n\\n5. Keywords (optional 1 mark): The student uses the correct keywords for operations, but the explanation is incomplete.\\n\\nMark for Keywords: 1\\n\\nTotal Marks: 1.5\\n\\nSince the student\\'s explanation is incomplete and does not meet the required word count, they will receive 80% of the marks.\\n\\nFinal mark: 0.8 (calculated mark)\\n\\nThe true answer is more detailed, covering each operation in depth, explaining their relevance to the LIFO principle, and discussing practical applications. It provides around 120 words, which is more in line with the expected length for this question with a 2 mark answer.\\n\\nTherefore, if the student had provided a detailed explanation, they would have received full marks.'}"
            ]
          },
          "metadata": {},
          "execution_count": 38
        }
      ]
    },
    {
      "cell_type": "code",
      "source": [
        "question = input(\"Enter the question: \")\n",
        "context_p = input(\"Enter the context: \")\n",
        "marks = input(\"Enter the maximum marks: \")\n",
        "rubrics = input(\"Enter the rubrics: \")\n",
        "student_answer = input(\"Enter the student answer: \")\n",
        "\n",
        "question_p = question + f\"(Marks : {marks}).\"\n",
        "rubrics1 = rubrics\n",
        "mark = marks\n",
        "from langchain.chains import SequentialChain\n",
        "\n",
        "overall_chain = SequentialChain(\n",
        "    chains=[chain1, chain2],\n",
        "    input_variables=[\"question\", \"context\", \"rubrics\", \"student_answer\", \"mark\"],\n",
        "    output_variables=[\"true_answer\", \"result\"],\n",
        "    verbose=True\n",
        "    )\n",
        "\n",
        "overall_chain({\"question\": question_p, \"context\": context_p, \"rubrics\": rubrics1 , \"student_answer\": student_answer, \"mark\":marks})"
      ],
      "metadata": {
        "colab": {
          "base_uri": "https://localhost:8080/"
        },
        "id": "GhGwSBQyIpRb",
        "outputId": "47f541c8-172b-4475-c436-37f80e8d0859"
      },
      "execution_count": null,
      "outputs": [
        {
          "output_type": "stream",
          "name": "stdout",
          "text": [
            "Enter the question: Explore the role of queues in simulation and modeling environments. How do queues model real-world systems and processes, and what insights can be gained from analysing queueing behaviour?\n",
            "Enter the context: In a rapidly evolving technological landscape, understanding the fundamentals and applications of data structures like queues is paramount. Queues, operating on the First-In-First-Out (FIFO) principle, play a pivotal role in diverse domains, from multi-threaded programming to graph traversal algorithms. In concurrent systems, queues facilitate seamless communication and synchronization among threads, while in breadth-first search (BFS) algorithms, they ensure systematic exploration of graphs. Priority queues prioritize tasks based on urgency, finding applications in scheduling and resource allocation. Circular queues optimize memory usage and performance in scenarios requiring frequent insertion and deletion. Additionally, double-ended queues (dequeues) offer flexibility in implementing data structures and algorithms, supporting bidirectional operations. In resource sharing systems and job scheduling algorithms, queues ensure fair allocation and optimal utilization of resources. Moreover, queues serve as powerful tools in simulation and modelling environments, providing insights into system behaviour and aiding decision-making processes. Overall, a comprehensive understanding of queues is essential for designing efficient, scalable, and responsive systems across various domains in today's interconnected world.\n",
            "Enter the maximum marks: 5\n",
            "Enter the rubrics: Clarity of Explanation (1.5 marks): Evaluate the clarity of the explanation regarding the role of queues in simulation and modeling environments, ensuring it is easy to understand and follow. Relevance to Queue Concept (1 mark): Assess how well the explanation connects the use of queues to their FIFO principle and their role in modeling real-world systems and processes. Understanding of Practical Applications (1 mark): Look for evidence of understanding regarding the practical applications of queues in simulation and modeling, including examples and insights into their usage. Technical Accuracy (1.5 marks): Ensure the explanation accurately reflects how queues model the arrival and processing of entities in simulation environments and provide insights into system behavior and performance, supported by relevant technical details. Last resort, keywords (1 Mark): Ensure that the student answer contains atleast 2 keywords from the true answer, if and only if the mark is less than 1.\n",
            "Enter the student answer: Queues are used to model various real-world systems and processes characterized by arrival and service times\n",
            "\n",
            "\n",
            "\u001b[1m> Entering new SequentialChain chain...\u001b[0m\n"
          ]
        },
        {
          "output_type": "stream",
          "name": "stderr",
          "text": [
            "/usr/local/lib/python3.10/dist-packages/transformers/pipelines/base.py:1157: UserWarning: You seem to be using the pipelines sequentially on GPU. In order to maximize efficiency please use a dataset\n",
            "  warnings.warn(\n",
            "/usr/local/lib/python3.10/dist-packages/transformers/pipelines/base.py:1157: UserWarning: You seem to be using the pipelines sequentially on GPU. In order to maximize efficiency please use a dataset\n",
            "  warnings.warn(\n"
          ]
        },
        {
          "output_type": "stream",
          "name": "stdout",
          "text": [
            "\n",
            "\u001b[1m> Finished chain.\u001b[0m\n"
          ]
        },
        {
          "output_type": "execute_result",
          "data": {
            "text/plain": [
              "{'question': 'Explore the role of queues in simulation and modeling environments. How do queues model real-world systems and processes, and what insights can be gained from analysing queueing behaviour?(Marks : 5).',\n",
              " 'context': \"In a rapidly evolving technological landscape, understanding the fundamentals and applications of data structures like queues is paramount. Queues, operating on the First-In-First-Out (FIFO) principle, play a pivotal role in diverse domains, from multi-threaded programming to graph traversal algorithms. In concurrent systems, queues facilitate seamless communication and synchronization among threads, while in breadth-first search (BFS) algorithms, they ensure systematic exploration of graphs. Priority queues prioritize tasks based on urgency, finding applications in scheduling and resource allocation. Circular queues optimize memory usage and performance in scenarios requiring frequent insertion and deletion. Additionally, double-ended queues (dequeues) offer flexibility in implementing data structures and algorithms, supporting bidirectional operations. In resource sharing systems and job scheduling algorithms, queues ensure fair allocation and optimal utilization of resources. Moreover, queues serve as powerful tools in simulation and modelling environments, providing insights into system behaviour and aiding decision-making processes. Overall, a comprehensive understanding of queues is essential for designing efficient, scalable, and responsive systems across various domains in today's interconnected world.\",\n",
              " 'rubrics': 'Clarity of Explanation (1.5 marks): Evaluate the clarity of the explanation regarding the role of queues in simulation and modeling environments, ensuring it is easy to understand and follow. Relevance to Queue Concept (1 mark): Assess how well the explanation connects the use of queues to their FIFO principle and their role in modeling real-world systems and processes. Understanding of Practical Applications (1 mark): Look for evidence of understanding regarding the practical applications of queues in simulation and modeling, including examples and insights into their usage. Technical Accuracy (1.5 marks): Ensure the explanation accurately reflects how queues model the arrival and processing of entities in simulation environments and provide insights into system behavior and performance, supported by relevant technical details. Last resort, keywords (1 Mark): Ensure that the student answer contains atleast 2 keywords from the true answer, if and only if the mark is less than 1.',\n",
              " 'student_answer': 'Queues are used to model various real-world systems and processes characterized by arrival and service times',\n",
              " 'mark': '5',\n",
              " 'true_answer': ' Answer: Queues are essential data structures in simulation and modeling environments due to their role in modeling real-world systems and processes based on the First-In-First-Out (FIFO) principle. Queues facilitate efficient communication and synchronization in concurrent systems and enable systematic exploration in algorithms like breadth-first search. Priority queues optimize task processing based on urgency, while circular queues and deques offer memory optimization and bidirectional operations, respectively. In resource sharing systems and job scheduling, queues ensure fair resource allocation and optimal utilization, providing valuable insights into system behavior and performance. (Keywords: queues, data structures, FIFO, concurrent systems, communication, synchronization, breadth-first search, resource sharing, job scheduling, system behavior, performance)',\n",
              " 'result': ' Similarity Score: 0.250\\n\\nExplanation: The student answer and true answer both mention the use of queues in modeling real-world systems and processes. However, the true answer provides significantly more detail about the various types of queues (priority, circular, deques, etc.), their applications (efficient communication and synchronization, resource sharing, job scheduling), and their benefits (FIFO principle, fair resource allocation, optimal utilization, etc.), while the student answer only mentions the concept of queues being used to model real-world systems. Therefore, the similarity score is quite low due to the lack of detail and specificity in the student answer compared to the true answer.'}"
            ]
          },
          "metadata": {},
          "execution_count": 46
        }
      ]
    },
    {
      "cell_type": "markdown",
      "source": [
        "Clarity of Explanation (1.5 marks): Evaluate the clarity of the explanation regarding the role of queues in simulation and modeling environments, ensuring it is easy to understand and follow.\n",
        "\n",
        "Relevance to Queue Concept (1 mark): Assess how well the explanation connects the use of queues to their FIFO principle and their role in modeling real-world systems and processes.\n",
        "\n",
        "Understanding of Practical Applications (1 mark): Look for evidence of understanding regarding the practical applications of queues in simulation and modeling, including examples and insights into their usage.\n",
        "\n",
        "Technical Accuracy (1.5 marks): Ensure the explanation accurately reflects how queues model the arrival and processing of entities in simulation environments and provide insights into system behavior and performance, supported by relevant technical details.\n",
        "\n",
        "Last resort, keywords (1 Mark): Ensure that the student answer contains atleast 2 keywords from the true answer, if and only if the mark is less than 1.\n"
      ],
      "metadata": {
        "id": "uTj_2mFeyaVR"
      }
    },
    {
      "cell_type": "code",
      "source": [],
      "metadata": {
        "id": "4JJtXOLJ6MC5"
      },
      "execution_count": null,
      "outputs": []
    },
    {
      "cell_type": "code",
      "source": [
        "question = input(\"Enter the question: \")\n",
        "context_p = input(\"Enter the context: \")\n",
        "marks = input(\"Enter the maximum marks: \")\n",
        "rubrics = input(\"Enter the rubrics: \")\n",
        "student_answer = input(\"Enter the student answer: \")\n",
        "\n",
        "question_p = question + f\"(Marks : {marks}).\"\n",
        "rubrics1 = rubrics\n",
        "mark = marks\n",
        "from langchain.chains import SequentialChain\n",
        "\n",
        "overall_chain = SequentialChain(\n",
        "    chains=[chain1, chain2],\n",
        "    input_variables=[\"question\", \"context\", \"rubrics\", \"student_answer\", \"mark\"],\n",
        "    output_variables=[\"true_answer\", \"result\"],\n",
        "    verbose=True\n",
        "    )\n",
        "\n",
        "overall_chain({\"question\": question_p, \"context\": context_p, \"rubrics\": rubrics1 , \"student_answer\": student_answer, \"mark\":marks})"
      ],
      "metadata": {
        "colab": {
          "base_uri": "https://localhost:8080/"
        },
        "id": "OhhmFXrSdYBt",
        "outputId": "dc1c736e-ada3-49d2-a1a4-d8a2395daf99"
      },
      "execution_count": null,
      "outputs": [
        {
          "output_type": "stream",
          "name": "stdout",
          "text": [
            "Enter the question: Explore the role of queues in simulation and modeling environments. How do queues model real-world systems and processes, and what insights can be gained from analysing queueing behaviour?\n",
            "Enter the context: In a rapidly evolving technological landscape, understanding the fundamentals and applications of data structures like queues is paramount. Queues, operating on the First-In-First-Out (FIFO) principle, play a pivotal role in diverse domains, from multi-threaded programming to graph traversal algorithms. In concurrent systems, queues facilitate seamless communication and synchronization among threads, while in breadth-first search (BFS) algorithms, they ensure systematic exploration of graphs. Priority queues prioritize tasks based on urgency, finding applications in scheduling and resource allocation. Circular queues optimize memory usage and performance in scenarios requiring frequent insertion and deletion. Additionally, double-ended queues (dequeues) offer flexibility in implementing data structures and algorithms, supporting bidirectional operations. In resource sharing systems and job scheduling algorithms, queues ensure fair allocation and optimal utilization of resources. Moreover, queues serve as powerful tools in simulation and modelling environments, providing insights into system behaviour and aiding decision-making processes. Overall, a comprehensive understanding of queues is essential for designing efficient, scalable, and responsive systems across various domains in today's interconnected world.\n",
            "Enter the maximum marks: 5\n",
            "Enter the rubrics: Clarity of Explanation (1.5 marks): Evaluate the clarity of the explanation regarding the role of queues in simulation and modeling environments, ensuring it is easy to understand and follow. Relevance to Queue Concept (1 mark): Assess how well the explanation connects the use of queues to their FIFO principle and their role in modeling real-world systems and processes. Understanding of Practical Applications (1 mark): Look for evidence of understanding regarding the practical applications of queues in simulation and modeling, including examples and insights into their usage. Technical Accuracy (1.5 marks): Ensure the explanation accurately reflects how queues model the arrival and processing of entities in simulation environments and provide insights into system behavior and performance, supported by relevant technical details. Last resort, keywords (1 Mark): Ensure that the student answer contains atleast 2 keywords from the true answer, if and only if the mark is less than 1.\n",
            "Enter the student answer: Queues are used to model various real-world systems and processes characterized by arrival and service times.\n",
            "\n",
            "\n",
            "\u001b[1m> Entering new SequentialChain chain...\u001b[0m\n"
          ]
        },
        {
          "output_type": "stream",
          "name": "stderr",
          "text": [
            "/usr/local/lib/python3.10/dist-packages/transformers/pipelines/base.py:1157: UserWarning: You seem to be using the pipelines sequentially on GPU. In order to maximize efficiency please use a dataset\n",
            "  warnings.warn(\n",
            "/usr/local/lib/python3.10/dist-packages/transformers/pipelines/base.py:1157: UserWarning: You seem to be using the pipelines sequentially on GPU. In order to maximize efficiency please use a dataset\n",
            "  warnings.warn(\n"
          ]
        },
        {
          "output_type": "stream",
          "name": "stdout",
          "text": [
            "\n",
            "\u001b[1m> Finished chain.\u001b[0m\n"
          ]
        },
        {
          "output_type": "execute_result",
          "data": {
            "text/plain": [
              "{'question': 'Explore the role of queues in simulation and modeling environments. How do queues model real-world systems and processes, and what insights can be gained from analysing queueing behaviour?(Marks : 5).',\n",
              " 'context': \"In a rapidly evolving technological landscape, understanding the fundamentals and applications of data structures like queues is paramount. Queues, operating on the First-In-First-Out (FIFO) principle, play a pivotal role in diverse domains, from multi-threaded programming to graph traversal algorithms. In concurrent systems, queues facilitate seamless communication and synchronization among threads, while in breadth-first search (BFS) algorithms, they ensure systematic exploration of graphs. Priority queues prioritize tasks based on urgency, finding applications in scheduling and resource allocation. Circular queues optimize memory usage and performance in scenarios requiring frequent insertion and deletion. Additionally, double-ended queues (dequeues) offer flexibility in implementing data structures and algorithms, supporting bidirectional operations. In resource sharing systems and job scheduling algorithms, queues ensure fair allocation and optimal utilization of resources. Moreover, queues serve as powerful tools in simulation and modelling environments, providing insights into system behaviour and aiding decision-making processes. Overall, a comprehensive understanding of queues is essential for designing efficient, scalable, and responsive systems across various domains in today's interconnected world.\",\n",
              " 'rubrics': 'Clarity of Explanation (1.5 marks): Evaluate the clarity of the explanation regarding the role of queues in simulation and modeling environments, ensuring it is easy to understand and follow. Relevance to Queue Concept (1 mark): Assess how well the explanation connects the use of queues to their FIFO principle and their role in modeling real-world systems and processes. Understanding of Practical Applications (1 mark): Look for evidence of understanding regarding the practical applications of queues in simulation and modeling, including examples and insights into their usage. Technical Accuracy (1.5 marks): Ensure the explanation accurately reflects how queues model the arrival and processing of entities in simulation environments and provide insights into system behavior and performance, supported by relevant technical details. Last resort, keywords (1 Mark): Ensure that the student answer contains atleast 2 keywords from the true answer, if and only if the mark is less than 1.',\n",
              " 'student_answer': 'Queues are used to model various real-world systems and processes characterized by arrival and service times.',\n",
              " 'mark': '5',\n",
              " 'true_answer': ' Answer:\\nQueues are essential data structures in simulation and modeling environments due to their FIFO property. They model real-world systems and processes such as production lines, call centers, and computer networks. In these systems, queues help analyze waiting time, throughput, and system efficiency. The context highlights the versatility of queues, including priority queues, circular queues, and double-ended queues, which cater to different use cases. For example, queues in resource sharing systems ensure fair resource allocation, while in job scheduling algorithms, they optimally utilize resources (FIFO, queues, modeling).\\n\\nKeywords: Queues, FIFO principle, Modeling real-world systems, Analyzing queueing behavior.',\n",
              " 'result': ' Similarity score: 0.300\\n\\nExplanation: The student answer mentions the use of queues to model real-world systems, but the explanation provided in the true answer goes into much more detail about the specific applications of queues, their role in analyzing queueing behavior, and the various types of queues that exist. The student answer does not mention the FIFO property of queues, which is an important aspect of their behavior, and it does not provide any specific examples or context for the use of queues. Therefore, the similarity score is relatively low.'}"
            ]
          },
          "metadata": {},
          "execution_count": 49
        }
      ]
    },
    {
      "cell_type": "markdown",
      "source": [
        "#### Answer generation"
      ],
      "metadata": {
        "id": "qJKnoH27C8Oc"
      }
    },
    {
      "cell_type": "code",
      "source": [
        "template = \"\"\"[INST] You are a helpful, respectful and honest assistant. Explain the answer from the context, in 2 complete sentences\n",
        "Answer the question below from context below :\n",
        "{context}\n",
        "{question} [/INST]\"\"\"\n",
        "\n",
        "question_p = \"\"\"What FDR did after education?\"\"\"\n",
        "context_p = \"\"\"As a child, Roosevelt learned to ride, shoot, and sail, and play polo, tennis, and golf. Frequent trips to Europe—beginning at age two and from age seven to fifteen—helped Roosevelt become conversant in German and French. Except for attending public school in Germany at age nine, Roosevelt was homeschooled by tutors until age 14. He then attended Groton School, an Episcopal boarding school in Groton, Massachusetts.He was not among the more popular Groton students, who were better athletes and had rebellious streaks. Its headmaster, Endicott Peabody, preached the duty of Christians to help the less fortunate and urged his students to enter public service. Peabody remained a strong influence throughout Roosevelt's life, officiating at his wedding and visiting him as president. Like most of his Groton classmates, Roosevelt went to Harvard College. He was a member of the Alpha Delta Phi fraternity and the Fly Club, and served as a school cheerleader. Roosevelt was relatively undistinguished as a student or athlete, but he became editor-in-chief of The Harvard Crimson daily newspaper, which required ambition, energy, and the ability to manage others. He later said, \"I took economics courses in college for four years, and everything I was taught was wrong.\" Roosevelt's father died in 1900, causing him great distress. The following year, Roosevelt's fifth cousin Theodore Roosevelt became President of the United States. Theodore's vigorous leadership style and reforming zeal made him Franklin's role model and hero. He graduated from Harvard in three years in 1903 with an A.B. in history. He remained there for a fourth year, taking graduate courses. Roosevelt entered Columbia Law School in 1904 but dropped out in 1907 after passing the New York Bar Examination. In 1908, he took a job with the prestigious law firm of Carter Ledyard & Milburn.\"\"\"\n",
        "prompt = PromptTemplate(input_variables=[\"context\",\"question\"], template=template)\n",
        "llm_chain = LLMChain(prompt=prompt, llm=llm_1)\n",
        "response = llm_chain.run({\"question\":question_p,\"context\":context_p})\n",
        "response"
      ],
      "metadata": {
        "colab": {
          "base_uri": "https://localhost:8080/",
          "height": 53
        },
        "id": "25esfcmTETLA",
        "outputId": "241873a4-665b-4737-807b-9e1a1b7a8487"
      },
      "execution_count": null,
      "outputs": [
        {
          "output_type": "execute_result",
          "data": {
            "text/plain": [
              "' After completing his education at Harvard and Columbia Law School, Franklin Roosevelt took a job with the prestigious law firm of Carter Ledyard & Milburn before becoming a full-time public figure and eventually becoming the 32nd President of the United States.'"
            ],
            "application/vnd.google.colaboratory.intrinsic+json": {
              "type": "string"
            }
          },
          "metadata": {},
          "execution_count": 40
        }
      ]
    },
    {
      "cell_type": "markdown",
      "source": [
        "#### Chain-1: Generates answer for the given question and context"
      ],
      "metadata": {
        "id": "6Sn0dJjesn4e"
      }
    },
    {
      "cell_type": "code",
      "source": [
        "# template = \"\"\"[INST] You are a helpful, respectful and honest assistant. Explain the answer from the context, in 2 complete sentences\n",
        "# Answer the question below from context below :\n",
        "# {context}\n",
        "# {question} [/INST]\"\"\"\n",
        "\n",
        "# question_p = \"\"\"What FDR did after education?\"\"\"\n",
        "# context_p = \"\"\"As a child, Roosevelt learned to ride, shoot, and sail, and play polo, tennis, and golf. Frequent trips to Europe—beginning at age two and from age seven to fifteen—helped Roosevelt become conversant in German and French. Except for attending public school in Germany at age nine, Roosevelt was homeschooled by tutors until age 14. He then attended Groton School, an Episcopal boarding school in Groton, Massachusetts.He was not among the more popular Groton students, who were better athletes and had rebellious streaks. Its headmaster, Endicott Peabody, preached the duty of Christians to help the less fortunate and urged his students to enter public service. Peabody remained a strong influence throughout Roosevelt's life, officiating at his wedding and visiting him as president. Like most of his Groton classmates, Roosevelt went to Harvard College. He was a member of the Alpha Delta Phi fraternity and the Fly Club, and served as a school cheerleader. Roosevelt was relatively undistinguished as a student or athlete, but he became editor-in-chief of The Harvard Crimson daily newspaper, which required ambition, energy, and the ability to manage others. He later said, \"I took economics courses in college for four years, and everything I was taught was wrong.\" Roosevelt's father died in 1900, causing him great distress. The following year, Roosevelt's fifth cousin Theodore Roosevelt became President of the United States. Theodore's vigorous leadership style and reforming zeal made him Franklin's role model and hero. He graduated from Harvard in three years in 1903 with an A.B. in history. He remained there for a fourth year, taking graduate courses. Roosevelt entered Columbia Law School in 1904 but dropped out in 1907 after passing the New York Bar Examination. In 1908, he took a job with the prestigious law firm of Carter Ledyard & Milburn.\"\"\"\n",
        "prompt = ChatPromptTemplate.from_template(\"\"\"[INST] You are a helpful, respectful and honest assistant. Explain the answer ONLY from the context\n",
        "Answer the question below from context below :\n",
        "{context_p}\n",
        "{question_p} [/INST]\"\"\")\n",
        "chain1 = LLMChain(prompt=prompt, llm=llm_1, output_key=\"true_answer\")\n",
        "# response = llm_chain.run({\"question\":question_p,\"context\":context_p})\n",
        "# response"
      ],
      "metadata": {
        "id": "oBkNU49Ta2GP",
        "colab": {
          "base_uri": "https://localhost:8080/",
          "height": 349
        },
        "outputId": "c9b242d1-ff8f-44ae-a2d9-fcdf3a5dd3b2"
      },
      "execution_count": null,
      "outputs": [
        {
          "output_type": "error",
          "ename": "NameError",
          "evalue": "name 'ChatPromptTemplate' is not defined",
          "traceback": [
            "\u001b[0;31m---------------------------------------------------------------------------\u001b[0m",
            "\u001b[0;31mNameError\u001b[0m                                 Traceback (most recent call last)",
            "\u001b[0;32m<ipython-input-1-48cf34d8e02a>\u001b[0m in \u001b[0;36m<cell line: 8>\u001b[0;34m()\u001b[0m\n\u001b[1;32m      6\u001b[0m \u001b[0;31m# question_p = \"\"\"What FDR did after education?\"\"\"\u001b[0m\u001b[0;34m\u001b[0m\u001b[0;34m\u001b[0m\u001b[0m\n\u001b[1;32m      7\u001b[0m \u001b[0;31m# context_p = \"\"\"As a child, Roosevelt learned to ride, shoot, and sail, and play polo, tennis, and golf. Frequent trips to Europe—beginning at age two and from age seven to fifteen—helped Roosevelt become conversant in German and French. Except for attending public school in Germany at age nine, Roosevelt was homeschooled by tutors until age 14. He then attended Groton School, an Episcopal boarding school in Groton, Massachusetts.He was not among the more popular Groton students, who were better athletes and had rebellious streaks. Its headmaster, Endicott Peabody, preached the duty of Christians to help the less fortunate and urged his students to enter public service. Peabody remained a strong influence throughout Roosevelt's life, officiating at his wedding and visiting him as president. Like most of his Groton classmates, Roosevelt went to Harvard College. He was a member of the Alpha Delta Phi fraternity and the Fly Club, and served as a school cheerleader. Roosevelt was relatively undistinguished as a student or athlete, but he became editor-in-chief of The Harvard Crimson daily newspaper, which required ambition, energy, and the ability to manage others. He later said, \"I took economics courses in college for four years, and everything I was taught was wrong.\" Roosevelt's father died in 1900, causing him great distress. The following year, Roosevelt's fifth cousin Theodore Roosevelt became President of the United States. Theodore's vigorou...\n\u001b[0;32m----> 8\u001b[0;31m prompt = ChatPromptTemplate.from_template(\"\"\"[INST] You are a helpful, respectful and honest assistant. Explain the answer ONLY from the context\n\u001b[0m\u001b[1;32m      9\u001b[0m \u001b[0mAnswer\u001b[0m \u001b[0mthe\u001b[0m \u001b[0mquestion\u001b[0m \u001b[0mbelow\u001b[0m \u001b[0;32mfrom\u001b[0m \u001b[0mcontext\u001b[0m \u001b[0mbelow\u001b[0m \u001b[0;34m:\u001b[0m\u001b[0;34m\u001b[0m\u001b[0;34m\u001b[0m\u001b[0m\n\u001b[1;32m     10\u001b[0m \u001b[0;34m{\u001b[0m\u001b[0mcontext_p\u001b[0m\u001b[0;34m}\u001b[0m\u001b[0;34m\u001b[0m\u001b[0;34m\u001b[0m\u001b[0m\n",
            "\u001b[0;31mNameError\u001b[0m: name 'ChatPromptTemplate' is not defined"
          ]
        }
      ]
    },
    {
      "cell_type": "markdown",
      "source": [
        "#### Chain 2: Provides similarity score between the generated answer & student answer"
      ],
      "metadata": {
        "id": "xIHzIVlKsvSt"
      }
    },
    {
      "cell_type": "code",
      "source": [
        "# template = \"\"\"<s>[INST] You are a helpful, respectful and a very brutally honest assistant. Give me a similarity score from 0.000 to 1.000 (3 decimal points), between the below given student answer and true answer, based on the content similarity, correctness and relevance, and then an explanation for it, not exceeding 2 sentences:\n",
        "\n",
        "#     STUDENT ANSWER: {student_answer}\n",
        "#     TRUE ANSWER: {true_answer}\n",
        "\n",
        "#     [/INST] </s>\n",
        "# \"\"\"\n",
        "\n",
        "# student_answer = \"\"\"Franklin Roosevelt took a job with the prestigious law firm of Carter Ledyard & Milburn\"\"\"\n",
        "prompt = ChatPromptTemplate.from_template(\"\"\"<s>[INST] You are a helpful, respectful and a very brutally honest assistant. Give me a similarity score from 0.000 to 1.000 (3 decimal positions), between the below given student answer and true answer, STRICTLY based on the content similarity, correctness and relevance, and then an explanation for it:\n",
        "\n",
        "    STUDENT ANSWER: {student_answer}\n",
        "    TRUE ANSWER: {true_answer}\n",
        "\n",
        "    [/INST] </s>\n",
        "\"\"\")\n",
        "chain2 = LLMChain(prompt=prompt, llm=llm_2, output_key=\"result\")\n",
        "# response = llm_chain2.run({\"result\":student_answer,\"answer\":reference_answer})\n",
        "# response"
      ],
      "metadata": {
        "id": "j17uuKfWZkqV"
      },
      "execution_count": null,
      "outputs": []
    },
    {
      "cell_type": "markdown",
      "source": [
        "#### Linking the two chains"
      ],
      "metadata": {
        "id": "TtyidFCXsiDi"
      }
    },
    {
      "cell_type": "code",
      "source": [
        "question_p = \"\"\"What FDR did after education?\"\"\"\n",
        "context_p = \"\"\"As a child, Roosevelt learned to ride, shoot, and sail, and play polo, tennis, and golf. Frequent trips to Europe—beginning at age two and from age seven to fifteen—helped Roosevelt become conversant in German and French. Except for attending public school in Germany at age nine, Roosevelt was homeschooled by tutors until age 14. He then attended Groton School, an Episcopal boarding school in Groton, Massachusetts.He was not among the more popular Groton students, who were better athletes and had rebellious streaks. Its headmaster, Endicott Peabody, preached the duty of Christians to help the less fortunate and urged his students to enter public service. Peabody remained a strong influence throughout Roosevelt's life, officiating at his wedding and visiting him as president. Like most of his Groton classmates, Roosevelt went to Harvard College. He was a member of the Alpha Delta Phi fraternity and the Fly Club, and served as a school cheerleader. Roosevelt was relatively undistinguished as a student or athlete, but he became editor-in-chief of The Harvard Crimson daily newspaper, which required ambition, energy, and the ability to manage others. He later said, \"I took economics courses in college for four years, and everything I was taught was wrong.\" Roosevelt's father died in 1900, causing him great distress. The following year, Roosevelt's fifth cousin Theodore Roosevelt became President of the United States. Theodore's vigorous leadership style and reforming zeal made him Franklin's role model and hero. He graduated from Harvard in three years in 1903 with an A.B. in history. He remained there for a fourth year, taking graduate courses. Roosevelt entered Columbia Law School in 1904 but dropped out in 1907 after passing the New York Bar Examination. In 1908, he took a job with the prestigious law firm of Carter Ledyard & Milburn.\"\"\"\n",
        "student_answer = \"\"\"Franklin Roosevelt took a job with the prestigious law firm of Carter Ledyard & Milburn\"\"\""
      ],
      "metadata": {
        "id": "hyy5F7FdelT0"
      },
      "execution_count": null,
      "outputs": []
    },
    {
      "cell_type": "code",
      "source": [
        "from langchain.chains import SequentialChain\n",
        "\n",
        "overall_chain = SequentialChain(\n",
        "    chains=[chain1, chain2],\n",
        "    input_variables=[\"question_p\", \"context_p\", \"student_answer\"],\n",
        "    output_variables=[\"true_answer\", \"result\"],\n",
        "    verbose=True\n",
        "    )\n",
        "\n",
        "overall_chain({\"question_p\": question_p, \"context_p\": context_p, \"student_answer\": student_answer})"
      ],
      "metadata": {
        "colab": {
          "base_uri": "https://localhost:8080/"
        },
        "id": "RJwTNaplsZMW",
        "outputId": "40bf1a80-d128-487b-cac8-f6f32475ab35"
      },
      "execution_count": null,
      "outputs": [
        {
          "output_type": "stream",
          "name": "stdout",
          "text": [
            "\n",
            "\n",
            "\u001b[1m> Entering new SequentialChain chain...\u001b[0m\n"
          ]
        },
        {
          "output_type": "stream",
          "name": "stderr",
          "text": [
            "/usr/local/lib/python3.10/dist-packages/transformers/pipelines/base.py:1154: UserWarning: You seem to be using the pipelines sequentially on GPU. In order to maximize efficiency please use a dataset\n",
            "  warnings.warn(\n"
          ]
        },
        {
          "output_type": "stream",
          "name": "stdout",
          "text": [
            "\n",
            "\u001b[1m> Finished chain.\u001b[0m\n"
          ]
        },
        {
          "output_type": "execute_result",
          "data": {
            "text/plain": [
              "{'question_p': 'What FDR did after education?',\n",
              " 'context_p': 'As a child, Roosevelt learned to ride, shoot, and sail, and play polo, tennis, and golf. Frequent trips to Europe—beginning at age two and from age seven to fifteen—helped Roosevelt become conversant in German and French. Except for attending public school in Germany at age nine, Roosevelt was homeschooled by tutors until age 14. He then attended Groton School, an Episcopal boarding school in Groton, Massachusetts.He was not among the more popular Groton students, who were better athletes and had rebellious streaks. Its headmaster, Endicott Peabody, preached the duty of Christians to help the less fortunate and urged his students to enter public service. Peabody remained a strong influence throughout Roosevelt\\'s life, officiating at his wedding and visiting him as president. Like most of his Groton classmates, Roosevelt went to Harvard College. He was a member of the Alpha Delta Phi fraternity and the Fly Club, and served as a school cheerleader. Roosevelt was relatively undistinguished as a student or athlete, but he became editor-in-chief of The Harvard Crimson daily newspaper, which required ambition, energy, and the ability to manage others. He later said, \"I took economics courses in college for four years, and everything I was taught was wrong.\" Roosevelt\\'s father died in 1900, causing him great distress. The following year, Roosevelt\\'s fifth cousin Theodore Roosevelt became President of the United States. Theodore\\'s vigorous leadership style and reforming zeal made him Franklin\\'s role model and hero. He graduated from Harvard in three years in 1903 with an A.B. in history. He remained there for a fourth year, taking graduate courses. Roosevelt entered Columbia Law School in 1904 but dropped out in 1907 after passing the New York Bar Examination. In 1908, he took a job with the prestigious law firm of Carter Ledyard & Milburn.',\n",
              " 'student_answer': 'Franklin Roosevelt took a job with the prestigious law firm of Carter Ledyard & Milburn',\n",
              " 'true_answer': ' Franklin D. Roosevelt, after his education, began his career as a lawyer. He graduated from Harvard College in 1903 with a degree in history and remained there for a fourth year, taking graduate courses. He then attended Columbia Law School but dropped out after passing the New York Bar Examination. He later took a job with the prestigious law firm of Carter Ledyard & Milburn.',\n",
              " 'result': \"Similarity Score: 0.812\\n\\nExplanation:\\n\\nThe student answer is similar to the true answer as both mention that Franklin Roosevelt began his career as a lawyer and worked for a prestigious law firm, which is Carter Ledyard & Milburn in this case. However, the student answer lacks some essential details that are included in the true answer, such as Roosevelt's education at Harvard College and Columbia Law School, and the reason why he left Columbia Law School after passing the New York Bar Examination. Therefore, the content similarity between the student answer and the true answer is not complete, and the correctness and relevance are slightly impacted. However, the core information is accurate, which is that Franklin D. Roosevelt worked for the prestigious law firm of Carter Ledyard & Milburn after his legal education and passing the New York Bar Examination.\"}"
            ]
          },
          "metadata": {},
          "execution_count": 41
        }
      ]
    },
    {
      "cell_type": "code",
      "source": [
        "question_p = input(\"Enter the question: \")\n",
        "context_p = input(\"Enter the context: \")\n",
        "student_answer = input(\"Enter the student answer: \")\n",
        "\n",
        "from langchain.chains import SequentialChain\n",
        "\n",
        "overall_chain = SequentialChain(\n",
        "    chains=[chain1, chain2],\n",
        "    input_variables=[\"question_p\", \"context_p\", \"student_answer\"],\n",
        "    output_variables=[\"true_answer\", \"result\"],\n",
        "    verbose=True\n",
        "    )\n",
        "\n",
        "overall_chain({\"question_p\": question_p, \"context_p\": context_p, \"student_answer\": student_answer})"
      ],
      "metadata": {
        "colab": {
          "base_uri": "https://localhost:8080/"
        },
        "id": "OpwF1zY1tE-W",
        "outputId": "aeda395b-d8d1-4203-ebf8-3ae42642eb98"
      },
      "execution_count": null,
      "outputs": [
        {
          "output_type": "stream",
          "name": "stdout",
          "text": [
            "Enter the question: Describe the key operations associated with a stack.\n",
            "Enter the context: A stack is a fundamental data structure in computer science, adhering to the Last In, First Out (LIFO) principle. This means that the most recently added element is the first to be removed. Similar to a stack of plates, where only the top plate can be taken off or added, key operations associated with a stack include push (adding to the top), pop (removing from the top), peek (viewing the top element without removal), isEmpty (checking if the stack is empty), and isFull (checking if the stack is at maximum capacity). Stacks find applications in various areas, such as managing function calls, evaluating expressions, implementing undo mechanisms, parsing expressions for correct symbol pairing, and handling memory in programming languages through the call stack. Implementations can use arrays or linked lists, offering simplicity and efficiency for operations like push and pop, which are typically performed in constant time. The stack's versatility and simplicity make it a foundational concept in computer science.\n",
            "Enter the student answer: Some key operations using stack include push, pop, isempty.\n",
            "\n",
            "\n",
            "\u001b[1m> Entering new SequentialChain chain...\u001b[0m\n",
            "\n",
            "\u001b[1m> Finished chain.\u001b[0m\n"
          ]
        },
        {
          "output_type": "execute_result",
          "data": {
            "text/plain": [
              "{'question_p': 'Describe the key operations associated with a stack.',\n",
              " 'context_p': \"A stack is a fundamental data structure in computer science, adhering to the Last In, First Out (LIFO) principle. This means that the most recently added element is the first to be removed. Similar to a stack of plates, where only the top plate can be taken off or added, key operations associated with a stack include push (adding to the top), pop (removing from the top), peek (viewing the top element without removal), isEmpty (checking if the stack is empty), and isFull (checking if the stack is at maximum capacity). Stacks find applications in various areas, such as managing function calls, evaluating expressions, implementing undo mechanisms, parsing expressions for correct symbol pairing, and handling memory in programming languages through the call stack. Implementations can use arrays or linked lists, offering simplicity and efficiency for operations like push and pop, which are typically performed in constant time. The stack's versatility and simplicity make it a foundational concept in computer science.\",\n",
              " 'student_answer': 'Some key operations using stack include push, pop, isempty.',\n",
              " 'true_answer': ' The key operations associated with a stack include push (adding to the top), pop (removing from the top), peek (viewing the top element without removal), isEmpty (checking if the stack is empty), and isFull (checking if the stack is at maximum capacity).',\n",
              " 'result': 'Similarity Score: 0.853 \\n\\nExplanation: The student answer correctly identifies the operations push and pop, but lacks mention of peek and provides an incorrect label for isEmpty as checking if the stack is empty, rather than the more general \"checking if an operation can be performed\" as implied in isEmpty for a stack. However, the student answer is still relatively close in terms of content as it covers key stack operations.'}"
            ]
          },
          "metadata": {},
          "execution_count": 16
        }
      ]
    },
    {
      "cell_type": "code",
      "source": [
        "question_p = input(\"Enter the question: \")\n",
        "context_p = input(\"Enter the context: \")\n",
        "student_answer = input(\"Enter the student answer: \")\n",
        "\n",
        "from langchain.chains import SequentialChain\n",
        "\n",
        "overall_chain = SequentialChain(\n",
        "    chains=[chain1, chain2],\n",
        "    input_variables=[\"question_p\", \"context_p\", \"student_answer\"],\n",
        "    output_variables=[\"true_answer\", \"result\"],\n",
        "    verbose=True\n",
        "    )\n",
        "\n",
        "overall_chain({\"question_p\": question_p, \"context_p\": context_p, \"student_answer\": student_answer})"
      ],
      "metadata": {
        "colab": {
          "base_uri": "https://localhost:8080/"
        },
        "id": "xAODaEmQw89n",
        "outputId": "266856e0-ce1d-451f-f4cd-44806e089023"
      },
      "execution_count": null,
      "outputs": [
        {
          "output_type": "stream",
          "name": "stdout",
          "text": [
            "Enter the question: What languages was FDR conversant in his childhood and why?\n",
            "Enter the context: As a child, Roosevelt learned to ride, shoot, and sail, and play polo, tennis, and golf. Frequent trips to Europe—beginning at age two and from age seven to fifteen—helped Roosevelt become conversant in German and French. Except for attending public school in Germany at age nine, Roosevelt was homeschooled by tutors until age 14. He then attended Groton School, an Episcopal boarding school in Groton, Massachusetts.He was not among the more popular Groton students, who were better athletes and had rebellious streaks. Its headmaster, Endicott Peabody, preached the duty of Christians to help the less fortunate and urged his students to enter public service. Peabody remained a strong influence throughout Roosevelt's life, officiating at his wedding and visiting him as president. Like most of his Groton classmates, Roosevelt went to Harvard College. He was a member of the Alpha Delta Phi fraternity and the Fly Club, and served as a school cheerleader. Roosevelt was relatively undistinguished as a student or athlete, but he became editor-in-chief of The Harvard Crimson daily newspaper, which required ambition, energy, and the ability to manage others. He later said, \"I took economics courses in college for four years, and everything I was taught was wrong.\" Roosevelt's father died in 1900, causing him great distress. The following year, Roosevelt's fifth cousin Theodore Roosevelt became President of the United States. Theodore's vigorous leadership style and reforming zeal made him Franklin's role model and hero. He graduated from Harvard in three years in 1903 with an A.B. in history. He remained there for a fourth year, taking graduate courses. Roosevelt entered Columbia Law School in 1904 but dropped out in 1907 after passing the New York Bar Examination. In 1908, he took a job with the prestigious law firm of Carter Ledyard & Milburn.\n",
            "Enter the student answer: FDR was conversant in German and French in his childhood.\n",
            "\n",
            "\n",
            "\u001b[1m> Entering new SequentialChain chain...\u001b[0m\n",
            "\n",
            "\u001b[1m> Finished chain.\u001b[0m\n"
          ]
        },
        {
          "output_type": "execute_result",
          "data": {
            "text/plain": [
              "{'question_p': 'What languages was FDR conversant in his childhood and why?',\n",
              " 'context_p': 'As a child, Roosevelt learned to ride, shoot, and sail, and play polo, tennis, and golf. Frequent trips to Europe—beginning at age two and from age seven to fifteen—helped Roosevelt become conversant in German and French. Except for attending public school in Germany at age nine, Roosevelt was homeschooled by tutors until age 14. He then attended Groton School, an Episcopal boarding school in Groton, Massachusetts.He was not among the more popular Groton students, who were better athletes and had rebellious streaks. Its headmaster, Endicott Peabody, preached the duty of Christians to help the less fortunate and urged his students to enter public service. Peabody remained a strong influence throughout Roosevelt\\'s life, officiating at his wedding and visiting him as president. Like most of his Groton classmates, Roosevelt went to Harvard College. He was a member of the Alpha Delta Phi fraternity and the Fly Club, and served as a school cheerleader. Roosevelt was relatively undistinguished as a student or athlete, but he became editor-in-chief of The Harvard Crimson daily newspaper, which required ambition, energy, and the ability to manage others. He later said, \"I took economics courses in college for four years, and everything I was taught was wrong.\" Roosevelt\\'s father died in 1900, causing him great distress. The following year, Roosevelt\\'s fifth cousin Theodore Roosevelt became President of the United States. Theodore\\'s vigorous leadership style and reforming zeal made him Franklin\\'s role model and hero. He graduated from Harvard in three years in 1903 with an A.B. in history. He remained there for a fourth year, taking graduate courses. Roosevelt entered Columbia Law School in 1904 but dropped out in 1907 after passing the New York Bar Examination. In 1908, he took a job with the prestigious law firm of Carter Ledyard & Milburn.',\n",
              " 'student_answer': 'FDR was conversant in German and French in his childhood.',\n",
              " 'true_answer': ' Franklin D. Roosevelt was conversant in German and French during his childhood due to frequent trips to Europe. He was not attending public school in Germany at age nine, but was homeschooled by tutors. He later went on to attend Groton School and Harvard College, where he developed an interest in language and became editor-in-chief of The Harvard Crimson daily newspaper.',\n",
              " 'result': \"Similarity Score: 0.801\\n\\nExplanation: The student answer correctly identifies that Franklin D. Roosevelt was conversant in both German and French during his childhood, but the explanation provided in the student answer lacks some detail. The true answer provides additional context about Roosevelt's travels to Europe and his education at prestigious institutions, which is relevant to understanding why he became fluent in these languages.\"}"
            ]
          },
          "metadata": {},
          "execution_count": 29
        }
      ]
    },
    {
      "cell_type": "code",
      "source": [
        "question_p = input(\"Enter the question: \")\n",
        "context_p = input(\"Enter the context: \")\n",
        "student_answer = input(\"Enter the student answer: \")\n",
        "\n",
        "from langchain.chains import SequentialChain\n",
        "\n",
        "overall_chain = SequentialChain(\n",
        "    chains=[chain1, chain2],\n",
        "    input_variables=[\"question_p\", \"context_p\", \"student_answer\"],\n",
        "    output_variables=[\"true_answer\", \"result\"],\n",
        "    verbose=True\n",
        "    )\n",
        "\n",
        "overall_chain({\"question_p\": question_p, \"context_p\": context_p, \"student_answer\": student_answer})"
      ],
      "metadata": {
        "colab": {
          "base_uri": "https://localhost:8080/"
        },
        "id": "XDbh0iqOFlDT",
        "outputId": "800b194d-32e5-4f01-faf0-85a352038ec1"
      },
      "execution_count": null,
      "outputs": [
        {
          "output_type": "stream",
          "name": "stdout",
          "text": [
            "Enter the question: imagine a stack with 4 values = 'a', 'b', 'c', 'd'. Now simulate the given operations in the given order and provide the elements in the stack at each stage. - pop, push '1', push 'z', pop, peek, pop, isEmpty, pop\n",
            "Enter the context: A stack is a fundamental data structure in computer science, adhering to the Last In, First Out (LIFO) principle. This means that the most recently added element is the first to be removed. Similar to a stack of plates, where only the top plate can be taken off or added, key operations associated with a stack include push (adding to the top), pop (removing from the top), peek (viewing the top element without removal), isEmpty (checking if the stack is empty), and isFull (checking if the stack is at maximum capacity). Stacks find applications in various areas, such as managing function calls, evaluating expressions, implementing undo mechanisms, parsing expressions for correct symbol pairing, and handling memory in programming languages through the call stack. Implementations can use arrays or linked lists, offering simplicity and efficiency for operations like push and pop, which are typically performed in constant time. The stack's versatility and simplicity make it a foundational concept in computer science.\n",
            "Enter the student answer: 1. 'pop', elements in the stack - ['a', 'b', 'c'], 2. 'push 1', elements - ['a', 'b', 'c', 1], 3. 'push 'z'', elements - ['a', 'b', 'c',  1, 'z'], 4. 'pop', elements - ['a', 'b', 'c', 1], 5. 'peek', '1' as '1' is the top element, 6. 'pop', elements - ['a', 'b', 'c'], 7. 'pop', elements - ['a', 'b']\n",
            "\n",
            "\n",
            "\u001b[1m> Entering new SequentialChain chain...\u001b[0m\n"
          ]
        },
        {
          "output_type": "stream",
          "name": "stderr",
          "text": [
            "/usr/local/lib/python3.10/dist-packages/transformers/pipelines/base.py:1154: UserWarning: You seem to be using the pipelines sequentially on GPU. In order to maximize efficiency please use a dataset\n",
            "  warnings.warn(\n",
            "/usr/local/lib/python3.10/dist-packages/transformers/pipelines/base.py:1154: UserWarning: You seem to be using the pipelines sequentially on GPU. In order to maximize efficiency please use a dataset\n",
            "  warnings.warn(\n"
          ]
        },
        {
          "output_type": "stream",
          "name": "stdout",
          "text": [
            "\n",
            "\u001b[1m> Finished chain.\u001b[0m\n"
          ]
        },
        {
          "output_type": "execute_result",
          "data": {
            "text/plain": [
              "{'question_p': \"imagine a stack with 4 values = 'a', 'b', 'c', 'd'. Now simulate the given operations in the given order and provide the elements in the stack at each stage. - pop, push '1', push 'z', pop, peek, pop, isEmpty, pop\",\n",
              " 'context_p': \"A stack is a fundamental data structure in computer science, adhering to the Last In, First Out (LIFO) principle. This means that the most recently added element is the first to be removed. Similar to a stack of plates, where only the top plate can be taken off or added, key operations associated with a stack include push (adding to the top), pop (removing from the top), peek (viewing the top element without removal), isEmpty (checking if the stack is empty), and isFull (checking if the stack is at maximum capacity). Stacks find applications in various areas, such as managing function calls, evaluating expressions, implementing undo mechanisms, parsing expressions for correct symbol pairing, and handling memory in programming languages through the call stack. Implementations can use arrays or linked lists, offering simplicity and efficiency for operations like push and pop, which are typically performed in constant time. The stack's versatility and simplicity make it a foundational concept in computer science.\",\n",
              " 'student_answer': \"1. 'pop', elements in the stack - ['a', 'b', 'c'], 2. 'push 1', elements - ['a', 'b', 'c', 1], 3. 'push 'z'', elements - ['a', 'b', 'c',  1, 'z'], 4. 'pop', elements - ['a', 'b', 'c', 1], 5. 'peek', '1' as '1' is the top element, 6. 'pop', elements - ['a', 'b', 'c'], 7. 'pop', elements - ['a', 'b']\",\n",
              " 'true_answer': \" Based on the context provided, the given sequence of operations on a stack with initial values 'a', 'b', 'c', 'd' would be as follows:\\n\\n1. Pop: The top element 'd' is removed from the stack, leaving 'a', 'b', 'c'.\\n2. Push '1': The value '1' is added to the top of the stack, making it '1', 'b', 'c', 'a'.\\n3. Push 'z': The value 'z' is added to the top of the stack, making it 'z', '1', 'b', 'c', 'a'.\\n4. Pop: The top element 'z' is removed from the stack, leaving '1', 'b', 'c', 'a'.\\n5. Peek: The current top element of the stack is '1', so it would be the result of a peek operation.\\n6. Pop: The top element '1' is removed from the stack, leaving 'b', 'c', 'a'.\\n7. IsEmpty: Since there are still elements 'b', 'c', 'a' in the stack, this operation would return false.\\n8. Pop: The top element 'a' is removed from the stack, leaving 'b', 'c'.\\n\\nSo, at each stage of the given operations, the stack would have the following elements: 'd', 'a', 'b', 'c', '1', 'z', '1', 'b', 'c', 'a', 'b', 'c'.\",\n",
              " 'result': \"Based on the given student and true answers, I have analyzed the content similarity, correctness, and relevance to calculate a similarity score. Here is the breakdown:\\n\\n1. Both answers mention the sequence of 'pop' and 'push' operations.\\n2. The student answer lists the elements in the stack at each step, which is not explicitly mentioned in the true answer but can be inferred from it.\\n3. The student answer lists the elements in the wrong order for some of the steps.\\n4. The student answer has incorrect elements in some of the steps due to mistakes in pushing and popping.\\n5. The student answer misses some of the steps mentioned in the true answer, such as 'push z' and 'isEmpt'.\\n\\nConsidering all these differences, I would give the similarity score a value of 0.250. The low score is due to the significant discrepancies in content, incorrectness, and incompleteness.\\n\\nExplanation:\\nAlthough there are some similarities in the given sequence of operations, the student answer contains errors and omissions, leading to a significant difference from the true answer. The student answer lists the elements incorrectly at some steps, and it misses some steps altogether. Therefore, the similarity score is quite low.\"}"
            ]
          },
          "metadata": {},
          "execution_count": 46
        }
      ]
    },
    {
      "cell_type": "code",
      "source": [
        "question_p = input(\"Enter the question: \")\n",
        "context_p = input(\"Enter the context: \")\n",
        "student_answer = input(\"Enter the student answer: \")\n",
        "\n",
        "from langchain.chains import SequentialChain\n",
        "\n",
        "overall_chain = SequentialChain(\n",
        "    chains=[chain1, chain2],\n",
        "    input_variables=[\"question_p\", \"context_p\", \"student_answer\"],\n",
        "    output_variables=[\"true_answer\", \"result\"],\n",
        "    verbose=True\n",
        "    )\n",
        "\n",
        "overall_chain({\"question_p\": question_p, \"context_p\": context_p, \"student_answer\": student_answer})"
      ],
      "metadata": {
        "id": "w9aYYzZc2rcN"
      },
      "execution_count": null,
      "outputs": []
    },
    {
      "cell_type": "code",
      "source": [
        "question_p = input(\"Enter the question: \")\n",
        "context_p = input(\"Enter the context: \")\n",
        "student_answer = input(\"Enter the student answer: \")\n",
        "\n",
        "from langchain.chains import SequentialChain\n",
        "\n",
        "overall_chain = SequentialChain(\n",
        "    chains=[chain1, chain2],\n",
        "    input_variables=[\"question_p\", \"context_p\", \"student_answer\"],\n",
        "    output_variables=[\"true_answer\", \"result\"],\n",
        "    verbose=True\n",
        "    )\n",
        "\n",
        "overall_chain({\"question_p\": question_p, \"context_p\": context_p, \"student_answer\": student_answer})"
      ],
      "metadata": {
        "colab": {
          "base_uri": "https://localhost:8080/",
          "height": 390
        },
        "id": "OAlbSx_QB17X",
        "outputId": "c5c07bdc-dfb1-462b-a93e-339bf77c0da5"
      },
      "execution_count": null,
      "outputs": [
        {
          "output_type": "error",
          "ename": "KeyboardInterrupt",
          "evalue": "Interrupted by user",
          "traceback": [
            "\u001b[0;31m---------------------------------------------------------------------------\u001b[0m",
            "\u001b[0;31mKeyboardInterrupt\u001b[0m                         Traceback (most recent call last)",
            "\u001b[0;32m<ipython-input-1-167b06892648>\u001b[0m in \u001b[0;36m<cell line: 1>\u001b[0;34m()\u001b[0m\n\u001b[0;32m----> 1\u001b[0;31m \u001b[0mquestion_p\u001b[0m \u001b[0;34m=\u001b[0m \u001b[0minput\u001b[0m\u001b[0;34m(\u001b[0m\u001b[0;34m\"Enter the question: \"\u001b[0m\u001b[0;34m)\u001b[0m\u001b[0;34m\u001b[0m\u001b[0;34m\u001b[0m\u001b[0m\n\u001b[0m\u001b[1;32m      2\u001b[0m \u001b[0mcontext_p\u001b[0m \u001b[0;34m=\u001b[0m \u001b[0minput\u001b[0m\u001b[0;34m(\u001b[0m\u001b[0;34m\"Enter the context: \"\u001b[0m\u001b[0;34m)\u001b[0m\u001b[0;34m\u001b[0m\u001b[0;34m\u001b[0m\u001b[0m\n\u001b[1;32m      3\u001b[0m \u001b[0mstudent_answer\u001b[0m \u001b[0;34m=\u001b[0m \u001b[0minput\u001b[0m\u001b[0;34m(\u001b[0m\u001b[0;34m\"Enter the student answer: \"\u001b[0m\u001b[0;34m)\u001b[0m\u001b[0;34m\u001b[0m\u001b[0;34m\u001b[0m\u001b[0m\n\u001b[1;32m      4\u001b[0m \u001b[0;34m\u001b[0m\u001b[0m\n\u001b[1;32m      5\u001b[0m \u001b[0;32mfrom\u001b[0m \u001b[0mlangchain\u001b[0m\u001b[0;34m.\u001b[0m\u001b[0mchains\u001b[0m \u001b[0;32mimport\u001b[0m \u001b[0mSequentialChain\u001b[0m\u001b[0;34m\u001b[0m\u001b[0;34m\u001b[0m\u001b[0m\n",
            "\u001b[0;32m/usr/local/lib/python3.10/dist-packages/ipykernel/kernelbase.py\u001b[0m in \u001b[0;36mraw_input\u001b[0;34m(self, prompt)\u001b[0m\n\u001b[1;32m    849\u001b[0m                 \u001b[0;34m\"raw_input was called, but this frontend does not support input requests.\"\u001b[0m\u001b[0;34m\u001b[0m\u001b[0;34m\u001b[0m\u001b[0m\n\u001b[1;32m    850\u001b[0m             )\n\u001b[0;32m--> 851\u001b[0;31m         return self._input_request(str(prompt),\n\u001b[0m\u001b[1;32m    852\u001b[0m             \u001b[0mself\u001b[0m\u001b[0;34m.\u001b[0m\u001b[0m_parent_ident\u001b[0m\u001b[0;34m,\u001b[0m\u001b[0;34m\u001b[0m\u001b[0;34m\u001b[0m\u001b[0m\n\u001b[1;32m    853\u001b[0m             \u001b[0mself\u001b[0m\u001b[0;34m.\u001b[0m\u001b[0m_parent_header\u001b[0m\u001b[0;34m,\u001b[0m\u001b[0;34m\u001b[0m\u001b[0;34m\u001b[0m\u001b[0m\n",
            "\u001b[0;32m/usr/local/lib/python3.10/dist-packages/ipykernel/kernelbase.py\u001b[0m in \u001b[0;36m_input_request\u001b[0;34m(self, prompt, ident, parent, password)\u001b[0m\n\u001b[1;32m    893\u001b[0m             \u001b[0;32mexcept\u001b[0m \u001b[0mKeyboardInterrupt\u001b[0m\u001b[0;34m:\u001b[0m\u001b[0;34m\u001b[0m\u001b[0;34m\u001b[0m\u001b[0m\n\u001b[1;32m    894\u001b[0m                 \u001b[0;31m# re-raise KeyboardInterrupt, to truncate traceback\u001b[0m\u001b[0;34m\u001b[0m\u001b[0;34m\u001b[0m\u001b[0m\n\u001b[0;32m--> 895\u001b[0;31m                 \u001b[0;32mraise\u001b[0m \u001b[0mKeyboardInterrupt\u001b[0m\u001b[0;34m(\u001b[0m\u001b[0;34m\"Interrupted by user\"\u001b[0m\u001b[0;34m)\u001b[0m \u001b[0;32mfrom\u001b[0m \u001b[0;32mNone\u001b[0m\u001b[0;34m\u001b[0m\u001b[0;34m\u001b[0m\u001b[0m\n\u001b[0m\u001b[1;32m    896\u001b[0m             \u001b[0;32mexcept\u001b[0m \u001b[0mException\u001b[0m \u001b[0;32mas\u001b[0m \u001b[0me\u001b[0m\u001b[0;34m:\u001b[0m\u001b[0;34m\u001b[0m\u001b[0;34m\u001b[0m\u001b[0m\n\u001b[1;32m    897\u001b[0m                 \u001b[0mself\u001b[0m\u001b[0;34m.\u001b[0m\u001b[0mlog\u001b[0m\u001b[0;34m.\u001b[0m\u001b[0mwarning\u001b[0m\u001b[0;34m(\u001b[0m\u001b[0;34m\"Invalid Message:\"\u001b[0m\u001b[0;34m,\u001b[0m \u001b[0mexc_info\u001b[0m\u001b[0;34m=\u001b[0m\u001b[0;32mTrue\u001b[0m\u001b[0;34m)\u001b[0m\u001b[0;34m\u001b[0m\u001b[0;34m\u001b[0m\u001b[0m\n",
            "\u001b[0;31mKeyboardInterrupt\u001b[0m: Interrupted by user"
          ]
        }
      ]
    },
    {
      "cell_type": "code",
      "source": [
        "template = \"\"\"You are assessing a submitted student answer to a question relative to the true answer based on the provided criteria:\n",
        "\n",
        "    ***\n",
        "    QUESTION: {query}\n",
        "    ***\n",
        "    STUDENT ANSWER: {result}\n",
        "    ***\n",
        "    TRUE ANSWER: {answer}\n",
        "    ***\n",
        "    Criteria:\n",
        "      relevance:  Is the submission referring to a real quote from the text?\"\n",
        "      conciseness:  Is the answer concise and to the point?\"\n",
        "      correct: Is the answer correct?\"\n",
        "    ***\n",
        "    Rubrics:\n",
        "        If relevant & concise & correct - 10\n",
        "        If not relevant & not concise & not correct - 0\n",
        "        If relevant & concise & not correct - 3\n",
        "        If not relevant & concise & not correct - 0\n",
        "        If relevant & not concise & not correct - 3\n",
        "        If relevant & not concise & correct - 8\n",
        "    Print the mark (0-10), following the rubrics, in a new line.\n",
        "    ***\n",
        "    Mark:\n",
        "\"\"\"\n",
        "\n",
        "question = \"\"\"Explain how DNA polymerase synthesizes DNA. Answer ONLY from the context, in 75 words\"\"\"\n",
        "reference_answer = \"\"\"The main function of the DNA polymerase is to synthesize DNA by the process of replication. It is an important process to maintain and transfer genetic information from one generation to another. DNA polymerase works in pairs, replicating two strands of DNA in tandem. They add deoxyribonucleotides at the 3′-OH group of the growing DNA strand. The DNA strand grows in 5’→3’ direction by their polymerisation activity. Adenine pairs with thymine and guanine pairs with cytosine. DNA polymerases cannot initiate the replication process and they need a primer to add to the nucleotides.\"\"\"\n",
        "student_answer = \"\"\"DNA polymerase is a family of enzymes that synthesizes DNA molecules from nucleoside triphosphates by \"reading\" existing DNA strands and adding nucleotides one at a time.\"\"\"\n",
        "prompt = PromptTemplate(input_variables=[\"query\", \"result\", \"answer\"], template=template)\n",
        "llm_chain2 = LLMChain(prompt=prompt, llm=llm)\n",
        "response = llm_chain2.run({\"query\": question, \"result\":student_answer,\"answer\":reference_answer})\n",
        "response"
      ],
      "metadata": {
        "colab": {
          "base_uri": "https://localhost:8080/",
          "height": 53
        },
        "id": "NxEWgV5xlGof",
        "outputId": "1245b2ab-5168-4e91-8dfb-c272d759393a"
      },
      "execution_count": null,
      "outputs": [
        {
          "output_type": "execute_result",
          "data": {
            "text/plain": [
              "'    7\\n\\n    Explanation: The student answer is relevant, concise and mostly correct. The student correctly states that DNA polymerase synthesizes DNA by reading existing strands and adding nucleotides one at a time. However, they do not specify the'"
            ],
            "application/vnd.google.colaboratory.intrinsic+json": {
              "type": "string"
            }
          },
          "metadata": {},
          "execution_count": 32
        }
      ]
    },
    {
      "cell_type": "code",
      "source": [
        "template = \"\"\"You are assessing a submitted student answer to a question relative to the true answer based on the provided criteria:\n",
        "\n",
        "    ***\n",
        "    QUESTION: {query}\n",
        "    ***\n",
        "    STUDENT ANSWER: {result}\n",
        "    ***\n",
        "    TRUE ANSWER: {answer}\n",
        "    ***\n",
        "    Criteria:\n",
        "      relevance:  Is the submission referring to a real quote from the text?\"\n",
        "      conciseness:  Is the answer concise and to the point?\"\n",
        "      correct: Is the answer correct?\"\n",
        "    ***\n",
        "    Rubrics:\n",
        "        If relevant & concise & correct - 10\n",
        "        If not relevant & not concise & not correct - 0\n",
        "        If relevant & concise & not correct - 3\n",
        "        If not relevant & concise & not correct - 0\n",
        "        If relevant & not concise & not correct - 3\n",
        "        If relevant & not concise & correct - 8\n",
        "    Print the mark (0-10), following the rubrics, in a new line.\n",
        "    ***\n",
        "    Mark:\n",
        "\"\"\"\n",
        "\n",
        "question = \"\"\"Explain how DNA polymerase synthesizes DNA. Answer ONLY from the context, in 75 words\"\"\"\n",
        "reference_answer = \"\"\"The main function of the DNA polymerase is to synthesize DNA by the process of replication. It is an important process to maintain and transfer genetic information from one generation to another. DNA polymerase works in pairs, replicating two strands of DNA in tandem. They add deoxyribonucleotides at the 3′-OH group of the growing DNA strand. The DNA strand grows in 5’→3’ direction by their polymerisation activity. Adenine pairs with thymine and guanine pairs with cytosine. DNA polymerases cannot initiate the replication process and they need a primer to add to the nucleotides.\"\"\"\n",
        "student_answer = \"\"\"DNA polymerase is a family of enzymes that synthesizes DNA molecules from nucleoside triphosphates by \"reading\" existing DNA strands and adding nucleotides one at a time.\"\"\"\n",
        "prompt = PromptTemplate(input_variables=[\"query\", \"result\", \"answer\"], template=template)\n",
        "llm_chain2 = LLMChain(prompt=prompt, llm=llm)\n",
        "response = llm_chain2.run({\"query\": question, \"result\":student_answer,\"answer\":reference_answer})\n",
        "response"
      ],
      "metadata": {
        "colab": {
          "base_uri": "https://localhost:8080/",
          "height": 53
        },
        "id": "8EOk4bt8laj7",
        "outputId": "7bfc810d-fd14-4695-d53c-4afa9649c80b"
      },
      "execution_count": null,
      "outputs": [
        {
          "output_type": "execute_result",
          "data": {
            "text/plain": [
              "\"    7\\n    Explanation:\\n    The student's answer is partially correct and relevant to the question. However, the answer is not concise as it does not mention the 5'-3' direction of DNA synthesis and the pairing of nucleot\""
            ],
            "application/vnd.google.colaboratory.intrinsic+json": {
              "type": "string"
            }
          },
          "metadata": {},
          "execution_count": 39
        }
      ]
    },
    {
      "cell_type": "code",
      "source": [
        "%%time\n",
        "template = \"\"\"<s>[INST] You are a helpful, respectful and honest assistant. Give me a similarity score from 0 to 1, between the below given student answer and true answer:\n",
        "\n",
        "    STUDENT ANSWER: {result}\n",
        "    TRUE ANSWER: {answer}\n",
        "\n",
        "    [/INST] </s>\n",
        "\"\"\"\n",
        "\n",
        "reference_answer = \"\"\"The main function of the DNA polymerase is to synthesize DNA by the process of replication. It is an important process to maintain and transfer genetic information from one generation to another. DNA polymerase works in pairs, replicating two strands of DNA in tandem. They add deoxyribonucleotides at the 3′-OH group of the growing DNA strand. The DNA strand grows in 5’→3’ direction by their polymerisation activity. Adenine pairs with thymine and guanine pairs with cytosine. DNA polymerases cannot initiate the replication process and they need a primer to add to the nucleotides.\"\"\"\n",
        "student_answer = \"\"\"DNA polymerase is a family of enzymes that synthesizes DNA molecules from nucleoside triphosphates by \"reading\" existing DNA strands and adding nucleotides one at a time.\"\"\"\n",
        "prompt = PromptTemplate(input_variables=[\"result\", \"answer\"], template=template)\n",
        "llm_chain2 = LLMChain(prompt=prompt, llm=llm)\n",
        "response = llm_chain2.run({\"result\":student_answer,\"answer\":reference_answer})\n",
        "response"
      ],
      "metadata": {
        "colab": {
          "base_uri": "https://localhost:8080/",
          "height": 160
        },
        "id": "01dP6RE1n6mY",
        "outputId": "264e2029-74e5-4db3-a80b-8d6118c9a3d4"
      },
      "execution_count": null,
      "outputs": [
        {
          "output_type": "stream",
          "name": "stderr",
          "text": [
            "/usr/local/lib/python3.10/dist-packages/transformers/pipelines/base.py:1154: UserWarning: You seem to be using the pipelines sequentially on GPU. In order to maximize efficiency please use a dataset\n",
            "  warnings.warn(\n"
          ]
        },
        {
          "output_type": "stream",
          "name": "stdout",
          "text": [
            "CPU times: user 11.3 s, sys: 64.8 ms, total: 11.4 s\n",
            "Wall time: 12.8 s\n"
          ]
        },
        {
          "output_type": "execute_result",
          "data": {
            "text/plain": [
              "'0.8\\n\\nThe student answer correctly identifies DNA polymerase as an enzyme that synthesizes DNA from nucleotides. The true answer expands upon this information by providing additional details about the role of DNA polymerase in replication, the direction of nucleotide addition, the base pairing, and the need for a primer. The student answer is similar to the true answer, but does not provide as much detail.'"
            ],
            "application/vnd.google.colaboratory.intrinsic+json": {
              "type": "string"
            }
          },
          "metadata": {},
          "execution_count": 40
        }
      ]
    },
    {
      "cell_type": "code",
      "source": [
        "%%time\n",
        "template = \"\"\"<s>[INST] You are a helpful, respectful and honest assistant. Give me a similarity score from 0.000 to 1.000, between the below given student answer and true answer:\n",
        "\n",
        "    STUDENT ANSWER: {result}\n",
        "    TRUE ANSWER: {answer}\n",
        "\n",
        "    [/INST] </s>\n",
        "\"\"\"\n",
        "\n",
        "reference_answer = \"\"\"The main function of the DNA polymerase is to synthesize DNA by the process of replication. It is an important process to maintain and transfer genetic information from one generation to another. DNA polymerase works in pairs, replicating two strands of DNA in tandem. They add deoxyribonucleotides at the 3′-OH group of the growing DNA strand. The DNA strand grows in 5’→3’ direction by their polymerisation activity. Adenine pairs with thymine and guanine pairs with cytosine. DNA polymerases cannot initiate the replication process and they need a primer to add to the nucleotides.\"\"\"\n",
        "student_answer = \"\"\"DNA polymerase is a family of enzymes that synthesizes DNA molecules from nucleoside triphosphates by \"reading\" existing DNA strands and adding nucleotides one at a time.\"\"\"\n",
        "prompt = PromptTemplate(input_variables=[\"result\", \"answer\"], template=template )\n",
        "llm_chain2 = LLMChain(prompt=prompt, llm=llm)\n",
        "response = llm_chain2.run({\"result\":student_answer,\"answer\":reference_answer})\n",
        "response"
      ],
      "metadata": {
        "colab": {
          "base_uri": "https://localhost:8080/",
          "height": 160
        },
        "id": "iMqHyHLqAojo",
        "outputId": "1fb9e497-1dfa-4530-f05a-5ed7ef8edb59"
      },
      "execution_count": null,
      "outputs": [
        {
          "output_type": "stream",
          "name": "stderr",
          "text": [
            "/usr/local/lib/python3.10/dist-packages/transformers/pipelines/base.py:1154: UserWarning: You seem to be using the pipelines sequentially on GPU. In order to maximize efficiency please use a dataset\n",
            "  warnings.warn(\n"
          ]
        },
        {
          "output_type": "stream",
          "name": "stdout",
          "text": [
            "CPU times: user 11.4 s, sys: 0 ns, total: 11.4 s\n",
            "Wall time: 12 s\n"
          ]
        },
        {
          "output_type": "execute_result",
          "data": {
            "text/plain": [
              "\"0.800\\n\\nThe student answer correctly identifies DNA polymerase as an enzyme involved in DNA synthesis and the general process of adding nucleotides to an existing strand. However, it lacks specific details on the direction of DNA polymerization (5'→3'), base pairing rules (A-T and G-C), and the requirement for a primer. The true answer expands on these details and adds the information about DNA polymerases working in pairs and initiating replication from an existing primer.\""
            ],
            "application/vnd.google.colaboratory.intrinsic+json": {
              "type": "string"
            }
          },
          "metadata": {},
          "execution_count": 42
        }
      ]
    },
    {
      "cell_type": "code",
      "source": [
        "%%time\n",
        "template = \"\"\"<s>[INST] You are a helpful, respectful and a very brutally honest assistant. Give me a similarity score from 0.000 to 1.000 (3 decimal points), between the below given student answer and true answer and an explanation for it, not exceeding 2 sentences:\n",
        "\n",
        "    STUDENT ANSWER: {result}\n",
        "    TRUE ANSWER: {answer}\n",
        "\n",
        "    [/INST] </s>\n",
        "\"\"\"\n",
        "\n",
        "reference_answer = \"\"\"The main function of the DNA polymerase is to synthesize DNA by the process of replication. It is an important process to maintain and transfer genetic information from one generation to another. DNA polymerase works in pairs, replicating two strands of DNA in tandem. They add deoxyribonucleotides at the 3′-OH group of the growing DNA strand. The DNA strand grows in 5’→3’ direction by their polymerisation activity. Adenine pairs with thymine and guanine pairs with cytosine. DNA polymerases cannot initiate the replication process and they need a primer to add to the nucleotides.\"\"\"\n",
        "student_answer = \"\"\"DNA polymerase is a family of enzymes that synthesizes DNA molecules from nucleoside triphosphates.\"\"\"\n",
        "prompt = PromptTemplate(input_variables=[\"result\", \"answer\"], template=template)\n",
        "llm_chain2 = LLMChain(prompt=prompt, llm=llm)\n",
        "response = llm_chain2.run({\"result\":student_answer,\"answer\":reference_answer})\n",
        "response"
      ],
      "metadata": {
        "colab": {
          "base_uri": "https://localhost:8080/",
          "height": 160
        },
        "id": "dYU7y5OQA9EP",
        "outputId": "d0e7a408-3012-4584-ddc9-3da949b3e48e"
      },
      "execution_count": null,
      "outputs": [
        {
          "output_type": "stream",
          "name": "stderr",
          "text": [
            "/usr/local/lib/python3.10/dist-packages/transformers/pipelines/base.py:1154: UserWarning: You seem to be using the pipelines sequentially on GPU. In order to maximize efficiency please use a dataset\n",
            "  warnings.warn(\n"
          ]
        },
        {
          "output_type": "stream",
          "name": "stdout",
          "text": [
            "CPU times: user 10.4 s, sys: 33 ms, total: 10.4 s\n",
            "Wall time: 11.4 s\n"
          ]
        },
        {
          "output_type": "execute_result",
          "data": {
            "text/plain": [
              "\"The student answer and true answer share a similarity score of 0.812. The student answer correctly mentions that DNA polymerase synthesizes DNA molecules. The true answer, on the other hand, adds details such as the direction of DNA synthesis (5'→3'), the need for a primer, and base pairing rules (A with T and C with G). While the student answer is not incorrect, the true answer provides a more comprehensive and accurate explanation of DNA polymerase function and mechanism.\""
            ],
            "application/vnd.google.colaboratory.intrinsic+json": {
              "type": "string"
            }
          },
          "metadata": {},
          "execution_count": 46
        }
      ]
    },
    {
      "cell_type": "markdown",
      "source": [
        "#### Relevant Student and True answer"
      ],
      "metadata": {
        "id": "xQQRledFDUI_"
      }
    },
    {
      "cell_type": "code",
      "source": [
        "%%time\n",
        "template = \"\"\"<s>[INST] You are a helpful, respectful and a very brutally honest assistant. Give me a similarity score from 0.000 to 1.000 (3 decimal points), between the below given student answer and true answer and an explanation for it, not exceeding 2 sentences:\n",
        "\n",
        "    STUDENT ANSWER: {result}\n",
        "    TRUE ANSWER: {answer}\n",
        "\n",
        "    [/INST] </s>\n",
        "\"\"\"\n",
        "\n",
        "reference_answer = \"\"\"The main function of the DNA polymerase is to synthesize DNA by the process of replication. It is an important process to maintain and transfer genetic information from one generation to another. DNA polymerase works in pairs, replicating two strands of DNA in tandem. They add deoxyribonucleotides at the 3′-OH group of the growing DNA strand. The DNA strand grows in 5’→3’ direction by their polymerisation activity. Adenine pairs with thymine and guanine pairs with cytosine. DNA polymerases cannot initiate the replication process and they need a primer to add to the nucleotides.\"\"\"\n",
        "student_answer = \"\"\"DNA polymerase is a family of enzymes that synthesizes DNA molecules from nucleoside triphosphates.\"\"\"\n",
        "prompt = PromptTemplate(input_variables=[\"result\", \"answer\"], template=template)\n",
        "llm_chain2 = LLMChain(prompt=prompt, llm=llm)\n",
        "response = llm_chain2.run({\"result\":student_answer,\"answer\":reference_answer})\n",
        "response"
      ],
      "metadata": {
        "colab": {
          "base_uri": "https://localhost:8080/",
          "height": 160
        },
        "id": "a1PPJJobBumg",
        "outputId": "5f8466f2-4d43-4e3d-f142-c5163e49d51a"
      },
      "execution_count": null,
      "outputs": [
        {
          "output_type": "stream",
          "name": "stderr",
          "text": [
            "/usr/local/lib/python3.10/dist-packages/transformers/pipelines/base.py:1154: UserWarning: You seem to be using the pipelines sequentially on GPU. In order to maximize efficiency please use a dataset\n",
            "  warnings.warn(\n"
          ]
        },
        {
          "output_type": "stream",
          "name": "stdout",
          "text": [
            "CPU times: user 10.8 s, sys: 41.7 ms, total: 10.8 s\n",
            "Wall time: 12.1 s\n"
          ]
        },
        {
          "output_type": "execute_result",
          "data": {
            "text/plain": [
              "'The student answer and the true answer share the basic understanding that DNA polymerase is involved in DNA synthesis. However, the student answer does not provide as much detail as the true answer about the mechanism of DNA polymerization, the role of DNA polymerases in replication, and the requirement for a primer. Therefore, I would estimate the similarity score to be around 0.500. The student answer is correct in identifying that DNA polymerase synthesizes DNA, but it lacks the depth and accuracy of the true answer.'"
            ],
            "application/vnd.google.colaboratory.intrinsic+json": {
              "type": "string"
            }
          },
          "metadata": {},
          "execution_count": 47
        }
      ]
    },
    {
      "cell_type": "markdown",
      "source": [
        "#### Relevant student answer with one irrelevant sentence"
      ],
      "metadata": {
        "id": "otYOCnnVDgKP"
      }
    },
    {
      "cell_type": "code",
      "source": [
        "%%time\n",
        "template = \"\"\"<s>[INST] You are a helpful, respectful and a very brutally honest assistant. Give me a similarity score from 0.000 to 1.000 (3 decimal points), between the below given student answer and true answer, based on the content similarity, correctness and relevance, and then an explanation for it, not exceeding 2 sentences:\n",
        "\n",
        "    STUDENT ANSWER: {result}\n",
        "    TRUE ANSWER: {answer}\n",
        "\n",
        "    [/INST] </s>\n",
        "\"\"\"\n",
        "\n",
        "reference_answer = \"\"\"The main function of the DNA polymerase is to synthesize DNA by the process of replication. It is an important process to maintain and transfer genetic information from one generation to another. DNA polymerase works in pairs, replicating two strands of DNA in tandem. They add deoxyribonucleotides at the 3′-OH group of the growing DNA strand. The DNA strand grows in 5’→3’ direction by their polymerisation activity. Adenine pairs with thymine and guanine pairs with cytosine. DNA polymerases cannot initiate the replication process and they need a primer to add to the nucleotides.\"\"\"\n",
        "student_answer = \"\"\"DNA polymerase is a family of enzymes that synthesizes DNA molecules from nucleoside triphosphates. llm = HuggingFacePipeline(pipeline=pipeline)\"\"\"\n",
        "prompt = PromptTemplate(input_variables=[\"result\", \"answer\"], template=template)\n",
        "llm_chain2 = LLMChain(prompt=prompt, llm=llm)\n",
        "response = llm_chain2.run({\"result\":student_answer,\"answer\":reference_answer})\n",
        "response"
      ],
      "metadata": {
        "colab": {
          "base_uri": "https://localhost:8080/",
          "height": 177
        },
        "id": "oyLgrhfCB_mC",
        "outputId": "1549021d-480e-4280-fc3c-a1d8774d2a9b"
      },
      "execution_count": null,
      "outputs": [
        {
          "output_type": "stream",
          "name": "stderr",
          "text": [
            "/usr/local/lib/python3.10/dist-packages/transformers/pipelines/base.py:1154: UserWarning: You seem to be using the pipelines sequentially on GPU. In order to maximize efficiency please use a dataset\n",
            "  warnings.warn(\n"
          ]
        },
        {
          "output_type": "stream",
          "name": "stdout",
          "text": [
            "CPU times: user 11.1 s, sys: 118 ms, total: 11.2 s\n",
            "Wall time: 11.2 s\n"
          ]
        },
        {
          "output_type": "execute_result",
          "data": {
            "text/plain": [
              "' Similarity Score: 0.081\\n\\nExplanation: The student answer mentions that DNA polymerase synthesizes DNA from nucleoside triphosphates, but it does not provide enough detail about the role of DNA polymerase in replication and the mechanism of DNA synthesis. In contrast, the true answer explains that DNA polymerase is responsible for synthesizing DNA during replication, and provides more details about the direction and base-pairing rules of DNA polymerization. Additionally, the student answer contains an unrelated programming code snippet, which further reduces the similarity score.'"
            ],
            "application/vnd.google.colaboratory.intrinsic+json": {
              "type": "string"
            }
          },
          "metadata": {},
          "execution_count": 53
        }
      ]
    },
    {
      "cell_type": "code",
      "source": [
        "%%time\n",
        "template = \"\"\"<s>[INST] You are a helpful, respectful and a very brutally honest assistant. Give me a similarity score from 0.000 to 1.000 (3 decimal points), between the below given student answer and true answer, based on the content similarity, correctness and relevance, and then an explanation for it, not exceeding 2 sentences:\n",
        "\n",
        "    STUDENT ANSWER: {result}\n",
        "    TRUE ANSWER: {answer}\n",
        "\n",
        "    [/INST] </s>\n",
        "\"\"\"\n",
        "\n",
        "reference_answer = \"\"\"The main function of the DNA polymerase is to synthesize DNA by the process of replication. It is an important process to maintain and transfer genetic information from one generation to another. DNA polymerase works in pairs, replicating two strands of DNA in tandem. They add deoxyribonucleotides at the 3′-OH group of the growing DNA strand. The DNA strand grows in 5’→3’ direction by their polymerisation activity. Adenine pairs with thymine and guanine pairs with cytosine. DNA polymerases cannot initiate the replication process and they need a primer to add to the nucleotides.\"\"\"\n",
        "student_answer = \"\"\"DNA polymerase is a family of enzymes that synthesizes DNA molecules from nucleoside triphosphates. As a child, Roosevelt learned to ride, shoot, and sail, and play polo, tennis, and golf.\"\"\"\n",
        "prompt = PromptTemplate(input_variables=[\"result\", \"answer\"], template=template)\n",
        "llm_chain2 = LLMChain(prompt=prompt, llm=llm)\n",
        "response = llm_chain2.run({\"result\":student_answer,\"answer\":reference_answer})\n",
        "response"
      ],
      "metadata": {
        "colab": {
          "base_uri": "https://localhost:8080/",
          "height": 142
        },
        "id": "xGzF3VejD0M7",
        "outputId": "6f2f4d2d-297a-4f00-e54b-52ec43fe8270"
      },
      "execution_count": null,
      "outputs": [
        {
          "output_type": "stream",
          "name": "stderr",
          "text": [
            "/usr/local/lib/python3.10/dist-packages/transformers/pipelines/base.py:1154: UserWarning: You seem to be using the pipelines sequentially on GPU. In order to maximize efficiency please use a dataset\n",
            "  warnings.warn(\n"
          ]
        },
        {
          "output_type": "stream",
          "name": "stdout",
          "text": [
            "CPU times: user 5.02 s, sys: 47.3 ms, total: 5.06 s\n",
            "Wall time: 5.1 s\n"
          ]
        },
        {
          "output_type": "execute_result",
          "data": {
            "text/plain": [
              "\"0.000 \\n\\nThe student answer and true answer are not similar as they address different topics. The student answer discusses President Roosevelt's hobbies, while the true answer talks about the role and mechanism of action of the DNA polymerase enzyme.\""
            ],
            "application/vnd.google.colaboratory.intrinsic+json": {
              "type": "string"
            }
          },
          "metadata": {},
          "execution_count": 55
        }
      ]
    },
    {
      "cell_type": "code",
      "source": [
        "%%time\n",
        "template = \"\"\"<s>[INST] You are a helpful, respectful and a very brutally honest assistant. Give me a similarity score from 0.000 to 1.000 (3 decimal points), between the below given student answer and true answer, based on the content similarity, correctness and relevance, and then an explanation for it, not exceeding 2 sentences:\n",
        "\n",
        "    STUDENT ANSWER: {result}\n",
        "    TRUE ANSWER: {answer}\n",
        "\n",
        "    [/INST] </s>\n",
        "\"\"\"\n",
        "\n",
        "reference_answer = \"\"\"The main function of the DNA polymerase is to synthesize DNA by the process of replication. It is an important process to maintain and transfer genetic information from one generation to another. DNA polymerase works in pairs, replicating two strands of DNA in tandem. They add deoxyribonucleotides at the 3′-OH group of the growing DNA strand. The DNA strand grows in 5’→3’ direction by their polymerisation activity. Adenine pairs with thymine and guanine pairs with cytosine. DNA polymerases cannot initiate the replication process and they need a primer to add to the nucleotides.\"\"\"\n",
        "student_answer = \"\"\"\"\"\"\n",
        "prompt = PromptTemplate(input_variables=[\"result\", \"answer\"], template=template)\n",
        "llm_chain2 = LLMChain(prompt=prompt, llm=llm_2)\n",
        "response = llm_chain2.run({\"result\":student_answer,\"answer\":reference_answer})\n",
        "response"
      ],
      "metadata": {
        "colab": {
          "base_uri": "https://localhost:8080/",
          "height": 160
        },
        "id": "RkdL18zFE_rc",
        "outputId": "65ae8ec1-7f76-4b44-9ae1-1cc019d6d883"
      },
      "execution_count": null,
      "outputs": [
        {
          "output_type": "stream",
          "name": "stderr",
          "text": [
            "/usr/local/lib/python3.10/dist-packages/transformers/pipelines/base.py:1154: UserWarning: You seem to be using the pipelines sequentially on GPU. In order to maximize efficiency please use a dataset\n",
            "  warnings.warn(\n"
          ]
        },
        {
          "output_type": "stream",
          "name": "stdout",
          "text": [
            "CPU times: user 9.79 s, sys: 61.1 ms, total: 9.85 s\n",
            "Wall time: 10.1 s\n"
          ]
        },
        {
          "output_type": "execute_result",
          "data": {
            "text/plain": [
              "'Similarity Score: 0.987\\nExplanation: The student answer correctly identifies the role of DNA polymerase in DNA replication, the direction of DNA synthesis, the complementary base pairing rules, and the need for a primer for polymerization. The only discrepancy is in stating DNA polymerases as working in pairs, which is an accurate but less common way to describe their function in the context of replication.'"
            ],
            "application/vnd.google.colaboratory.intrinsic+json": {
              "type": "string"
            }
          },
          "metadata": {},
          "execution_count": 62
        }
      ]
    },
    {
      "cell_type": "code",
      "source": [
        "template = \"\"\"<s>[INST] Answer from the context\n",
        "Answer the question, in one complete and coherent sentence, from the context given below:\n",
        "{context}\n",
        "{question} [/INST] </s>\n",
        "\"\"\"\n",
        "\n",
        "question_p = \"\"\"What did FDR say about education?\"\"\"\n",
        "context_p = \"\"\"As a child, Roosevelt learned to ride, shoot, and sail, and play polo, tennis, and golf. Frequent trips to Europe—beginning at age two and from age seven to fifteen—helped Roosevelt become conversant in German and French. Except for attending public school in Germany at age nine, Roosevelt was homeschooled by tutors until age 14. He then attended Groton School, an Episcopal boarding school in Groton, Massachusetts.He was not among the more popular Groton students, who were better athletes and had rebellious streaks. Its headmaster, Endicott Peabody, preached the duty of Christians to help the less fortunate and urged his students to enter public service. Peabody remained a strong influence throughout Roosevelt's life, officiating at his wedding and visiting him as president. Like most of his Groton classmates, Roosevelt went to Harvard College. He was a member of the Alpha Delta Phi fraternity and the Fly Club, and served as a school cheerleader. Roosevelt was relatively undistinguished as a student or athlete, but he became editor-in-chief of The Harvard Crimson daily newspaper, which required ambition, energy, and the ability to manage others. He later said, \"I took economics courses in college for four years, and everything I was taught was wrong.\" Roosevelt's father died in 1900, causing him great distress. The following year, Roosevelt's fifth cousin Theodore Roosevelt became President of the United States. Theodore's vigorous leadership style and reforming zeal made him Franklin's role model and hero. He graduated from Harvard in three years in 1903 with an A.B. in history. He remained there for a fourth year, taking graduate courses. Roosevelt entered Columbia Law School in 1904 but dropped out in 1907 after passing the New York Bar Examination. In 1908, he took a job with the prestigious law firm of Carter Ledyard & Milburn.\"\"\"\n",
        "prompt = PromptTemplate(input_variables=[\"context\",\"question\"], template=template)\n",
        "llm_chain = LLMChain(prompt=prompt, llm=llm_2)\n",
        "response = llm_chain.run({\"question\":question_p,\"context\":context_p})\n",
        "response"
      ],
      "metadata": {
        "colab": {
          "base_uri": "https://localhost:8080/",
          "height": 53
        },
        "id": "-4vy8IRMG8QI",
        "outputId": "bbbb6eb8-de06-4739-b014-7eefabc2a8c0"
      },
      "execution_count": null,
      "outputs": [
        {
          "output_type": "execute_result",
          "data": {
            "text/plain": [
              "'I took economics courses in college for four years, and everything I was taught was wrong. \\n\\nThis quote from FDR indicates that he was not satisfied with his education in economics and found it to be inaccurate or incorrect.'"
            ],
            "application/vnd.google.colaboratory.intrinsic+json": {
              "type": "string"
            }
          },
          "metadata": {},
          "execution_count": 36
        }
      ]
    },
    {
      "cell_type": "code",
      "source": [
        "template = \"\"\"<s>[INST] Answer from the context\n",
        "Answer the question, in one complete and coherent sentence, from the context given below:\n",
        "{context}\n",
        "{question} [/INST] </s>\n",
        "\"\"\"\n",
        "\n",
        "question_p = \"\"\"Explain what FDR did after education\"\"\"\n",
        "context_p = \"\"\"As a child, Roosevelt learned to ride, shoot, and sail, and play polo, tennis, and golf. Frequent trips to Europe—beginning at age two and from age seven to fifteen—helped Roosevelt become conversant in German and French. Except for attending public school in Germany at age nine, Roosevelt was homeschooled by tutors until age 14. He then attended Groton School, an Episcopal boarding school in Groton, Massachusetts.He was not among the more popular Groton students, who were better athletes and had rebellious streaks. Its headmaster, Endicott Peabody, preached the duty of Christians to help the less fortunate and urged his students to enter public service. Peabody remained a strong influence throughout Roosevelt's life, officiating at his wedding and visiting him as president. Like most of his Groton classmates, Roosevelt went to Harvard College. He was a member of the Alpha Delta Phi fraternity and the Fly Club, and served as a school cheerleader. Roosevelt was relatively undistinguished as a student or athlete, but he became editor-in-chief of The Harvard Crimson daily newspaper, which required ambition, energy, and the ability to manage others. He later said, \"I took economics courses in college for four years, and everything I was taught was wrong.\" Roosevelt's father died in 1900, causing him great distress. The following year, Roosevelt's fifth cousin Theodore Roosevelt became President of the United States. Theodore's vigorous leadership style and reforming zeal made him Franklin's role model and hero. He graduated from Harvard in three years in 1903 with an A.B. in history. He remained there for a fourth year, taking graduate courses. Roosevelt entered Columbia Law School in 1904 but dropped out in 1907 after passing the New York Bar Examination. In 1908, he took a job with the prestigious law firm of Carter Ledyard & Milburn.\"\"\"\n",
        "prompt = PromptTemplate(input_variables=[\"context\",\"question\"], template=template)\n",
        "llm_chain = LLMChain(prompt=prompt, llm=llm)\n",
        "response = llm_chain.run({\"question\":question_p,\"context\":context_p})\n",
        "response"
      ],
      "metadata": {
        "colab": {
          "base_uri": "https://localhost:8080/",
          "height": 90
        },
        "id": "9Si6dMEvWpbf",
        "outputId": "14f85a1a-3714-41ac-98bf-0d1c52faee76"
      },
      "execution_count": null,
      "outputs": [
        {
          "output_type": "stream",
          "name": "stderr",
          "text": [
            "/usr/local/lib/python3.10/dist-packages/transformers/pipelines/base.py:1154: UserWarning: You seem to be using the pipelines sequentially on GPU. In order to maximize efficiency please use a dataset\n",
            "  warnings.warn(\n"
          ]
        },
        {
          "output_type": "execute_result",
          "data": {
            "text/plain": [
              "'After graduating from Harvard College in 1903 with an A.B'"
            ],
            "application/vnd.google.colaboratory.intrinsic+json": {
              "type": "string"
            }
          },
          "metadata": {},
          "execution_count": 189
        }
      ]
    },
    {
      "cell_type": "code",
      "source": [
        "%%time\n",
        "template = \"\"\"<s>[INST] You are a helpful, respectful and honest assistant. Answer exactly in few words from the context\n",
        "Answer the question below from context below :\n",
        "{context}\n",
        "{question} [/INST] </s>\n",
        "\"\"\"\n",
        "\n",
        "question_p = \"\"\"What company is buyer and seller here  \"\"\"\n",
        "context_p = \"\"\" On August 10 said that its arm JSW Neo Energy has agreed to buy a portfolio of 1753 mega watt renewable energy generation capacity from Mytrah Energy India Pvt Ltd for Rs 10,530 crore.\"\"\"\n",
        "prompt = PromptTemplate(template=template, input_variables=[\"question\",\"context\"])\n",
        "llm_chain = LLMChain(prompt=prompt, llm=llm)\n",
        "response = llm_chain.run({\"question\":question_p,\"context\":context_p})\n",
        "response"
      ],
      "metadata": {
        "colab": {
          "base_uri": "https://localhost:8080/",
          "height": 142
        },
        "id": "Q7B1ZLdkpiA3",
        "outputId": "c60d7853-2d15-40bb-c796-14849fb24a0d"
      },
      "execution_count": null,
      "outputs": [
        {
          "output_type": "stream",
          "name": "stderr",
          "text": [
            "/usr/local/lib/python3.10/dist-packages/transformers/pipelines/base.py:1154: UserWarning: You seem to be using the pipelines sequentially on GPU. In order to maximize efficiency please use a dataset\n",
            "  warnings.warn(\n"
          ]
        },
        {
          "output_type": "stream",
          "name": "stdout",
          "text": [
            "CPU times: user 8.54 s, sys: 44.1 ms, total: 8.58 s\n",
            "Wall time: 8.64 s\n"
          ]
        },
        {
          "output_type": "execute_result",
          "data": {
            "text/plain": [
              "'JSW Neo Energy is the buyer, and Mytrah Energy India Pvt Ltd is the seller. \\n\\nExplanation: The context states that JSW Neo Energy has agreed to buy a renewable energy generation capacity of 1753 MW from Mytrah Energy India Pvt Ltd for Rs 10,530 crore. Therefore, JSW Neo Energy is the buyer and Mytrah Energy India Pvt Ltd is the seller.'"
            ],
            "application/vnd.google.colaboratory.intrinsic+json": {
              "type": "string"
            }
          },
          "metadata": {},
          "execution_count": 149
        }
      ]
    },
    {
      "cell_type": "code",
      "source": [
        "template = \"\"\"[INST] You are a helpful, respectful and honest assistant. Explain the answer from the context\n",
        "Answer the question below from context below :\n",
        "{context}\n",
        "{question} [/INST]\"\"\"\n",
        "\n",
        "question_p = \"\"\"imagine a stack with 4 values = 'a', 'b', 'c', 'd'. Now simulate the given operations in the given order and provide the elements in the stack at each stage.\n",
        "\n",
        "1. push '1'\n",
        "2. push '5'\n",
        "3. pop()\n",
        "4. isEmpty()\n",
        "5. pop()\"\"\"\n",
        "context_p = \"\"\"A stack is a fundamental data structure in computer science, adhering to the Last In, First Out (LIFO) principle. This means that the most recently added element is the first to be removed. Similar to a stack of plates, where only the top plate can be taken off or added, key operations associated with a stack include push (adding to the top), pop (removing from the top), peek (viewing the top element without removal), isEmpty (checking if the stack is empty), and isFull (checking if the stack is at maximum capacity). Stacks find applications in various areas, such as managing function calls, evaluating expressions, implementing undo mechanisms, parsing expressions for correct symbol pairing, and handling memory in programming languages through the call stack. Implementations can use arrays or linked lists, offering simplicity and efficiency for operations like push and pop, which are typically performed in constant time. The stack's versatility and simplicity make it a foundational concept in computer science.\"\"\"\n",
        "prompt = PromptTemplate(input_variables=[\"context\",\"question\"], template=template)\n",
        "llm_chain = LLMChain(prompt=prompt, llm=llm_1)\n",
        "response = llm_chain.run({\"question\":question_p,\"context\":context_p})\n",
        "response"
      ],
      "metadata": {
        "colab": {
          "base_uri": "https://localhost:8080/",
          "height": 105
        },
        "id": "YelTUNzq4QL2",
        "outputId": "7ee4f2d0-f769-421c-dd7c-03798a9aefde"
      },
      "execution_count": null,
      "outputs": [
        {
          "output_type": "execute_result",
          "data": {
            "text/plain": [
              "\" Here is the simulated execution of the given operations on the stack:\\n\\n1. The element '1' is pushed to the top of the stack, which now has the values: 'a', 'b', 'c', 'd', '1'.\\n2. The element '5' is pushed to the top of the stack, which now has the values: 'a', 'b', 'c', 'd', '1', '5'.\\n3. The element at the top of the stack (which is '5') is popped, resulting in the following stack: 'a', 'b', 'c', 'd', '1'.\\n4. The `isEmpty()` method is called on the stack, which returns false because the stack is not empty.\\n5. Another element is popped from the top of the stack, resulting in the following stack: 'a', 'b', 'c', 'd'.\\n\\nIt's worth noting that the order of the elements on the stack is important, as the last element added (`'1'`) will be the first to be removed (`pop()`).\""
            ],
            "application/vnd.google.colaboratory.intrinsic+json": {
              "type": "string"
            }
          },
          "metadata": {},
          "execution_count": 15
        }
      ]
    },
    {
      "cell_type": "code",
      "source": [
        "template = \"\"\"[INST] You are a helpful, respectful and honest assistant. Explain the answer from the context\n",
        "Answer the question below from context below :\n",
        "{context}\n",
        "{question} [/INST]\"\"\"\n",
        "\n",
        "question_p = \"\"\"imagine a stack with 4 values = ['a', 'b', 'c', 'd'], 'd' is the last pushed value. Now simulate the given operations in the given order and provide the elements in the stack after each stage.\n",
        "\n",
        "pop, push '1', push 'z', pop, peek, pop, isEmpty, pop\"\"\"\n",
        "context_p = \"\"\"A stack is a fundamental data structure in computer science, adhering to the Last In, First Out (LIFO) principle. This means that the most recently added element is the first to be removed. Similar to a stack of plates, where only the top plate can be taken off or added, key operations associated with a stack include push (adding to the top), pop (removing from the top), peek (viewing the top element without removal), isEmpty (checking if the stack is empty), and isFull (checking if the stack is at maximum capacity). Stacks find applications in various areas, such as managing function calls, evaluating expressions, implementing undo mechanisms, parsing expressions for correct symbol pairing, and handling memory in programming languages through the call stack. Implementations can use arrays or linked lists, offering simplicity and efficiency for operations like push and pop, which are typically performed in constant time. The stack's versatility and simplicity make it a foundational concept in computer science.\"\"\"\n",
        "prompt = PromptTemplate(input_variables=[\"context\",\"question\"], template=template)\n",
        "llm_chain = LLMChain(prompt=prompt, llm=llm_1)\n",
        "response = llm_chain.run({\"question\":question_p,\"context\":context_p})\n",
        "response"
      ],
      "metadata": {
        "colab": {
          "base_uri": "https://localhost:8080/",
          "height": 122
        },
        "id": "sQZ692RA4691",
        "outputId": "9ab76820-cf96-4407-99cb-14c14a028a1c"
      },
      "execution_count": null,
      "outputs": [
        {
          "output_type": "execute_result",
          "data": {
            "text/plain": [
              "' After the first operation \"pop\", the stack is now [\\'a\\', \\'b\\', \\'c\\'] as the last pushed value \"d\" is removed.\\nAfter the second operation \"push 1\", the stack is now [\\'a\\', \\'b\\', \\'c\\', 1] as the value \"1\" is pushed on the top.\\nAfter the third operation \"push z\", the stack is now [\\'a\\', \\'b\\', \\'c\\', 1, \\'z\\'] as the value \"z\" is pushed on the top.\\nAfter the fourth operation \"pop\", the stack is now [\\'a\\', \\'b\\', \\'c\\', 1] as the last pushed value \"z\" is removed.\\nAfter the fifth operation \"peek\", the top of stack is [\\'a\\', \\'b\\', \\'c\\', 1], as the peek operation just returns the top element without removing it.\\nAfter the sixth operation \"pop\", the stack is now [\\'a\\', \\'b\\', \\'c\\'] as the last pushed value \"1\" is removed.\\nAfter the seventh operation \"isEmpty\", the function returns false as there are elements left in the stack.\\nAfter the eighth operation \"pop\", the stack is now empty, as all elements have been removed.'"
            ],
            "application/vnd.google.colaboratory.intrinsic+json": {
              "type": "string"
            }
          },
          "metadata": {},
          "execution_count": 21
        }
      ]
    },
    {
      "cell_type": "code",
      "source": [
        "template = \"\"\"<s>[INST] You are a helpful, respectful and a very brutally honest assistant. Give me a similarity score from 0.000 to 1.000 (3 decimal points), between the below given student answer and true answer, based on the content similarity, correctness and relevance, and then an explanation for it:\n",
        "\n",
        "    STUDENT ANSWER: {result}\n",
        "    TRUE ANSWER: {answer}\n",
        "\n",
        "    [/INST] </s>\n",
        "\"\"\"\n",
        "\n",
        "reference_answer = \"\"\"After the first operation \"pop\", the stack is now [\\'a\\', \\'b\\', \\'c\\'] as the last pushed value \"d\" is removed.\\nAfter the second operation \"push 1\", the stack is now [\\'a\\', \\'b\\', \\'c\\', 1] as the value \"1\" is pushed on the top.\\nAfter the third operation \"push z\", the stack is now [\\'a\\', \\'b\\', \\'c\\', 1, \\'z\\'] as the value \"z\" is pushed on the top.\\nAfter the fourth operation \"pop\", the stack is now [\\'a\\', \\'b\\', \\'c\\', 1] as the last pushed value \"z\" is removed.\\nAfter the fifth operation \"peek\", the top of stack is [\\'a\\', \\'b\\', \\'c\\', 1], as the peek operation just returns the top element without removing it.\\nAfter the sixth operation \"pop\", the stack is now [\\'a\\', \\'b\\', \\'c\\'] as the last pushed value \"1\" is removed.\\nAfter the seventh operation \"pop\", the stack is now empty, as all elements have been removed.\"\"\"\n",
        "student_answer = \"\"\"1. 'pop', elements in the stack - ['a', 'b', 'c'], 2. 'push 1', elements - ['a', 'b', 'c', 1], 3. 'push 'z'', elements - ['a', 'b', 'c',  1, 'z'], 4. 'pop', elements - ['a', 'b', 'c', 1], 5. 'peek', '1' as '1' is the top element, 6. 'pop', elements - ['a', 'b', 'c'], 7. 'pop', elements - ['a', 'b'] \"\"\"\n",
        "prompt = PromptTemplate(input_variables=[\"result\", \"answer\"], template=template)\n",
        "llm_chain2 = LLMChain(prompt=prompt, llm=llm_2)\n",
        "response = llm_chain2.run({\"result\":student_answer,\"answer\":reference_answer})\n",
        "response"
      ],
      "metadata": {
        "colab": {
          "base_uri": "https://localhost:8080/",
          "height": 36
        },
        "id": "TLczLWa06FXp",
        "outputId": "2c45a54e-6918-4636-c9a5-37a48f8007aa"
      },
      "execution_count": null,
      "outputs": [
        {
          "output_type": "execute_result",
          "data": {
            "text/plain": [
              "'Based on the given student answer and true answer, the similarity score is 1.000.'"
            ],
            "application/vnd.google.colaboratory.intrinsic+json": {
              "type": "string"
            }
          },
          "metadata": {},
          "execution_count": 29
        }
      ]
    },
    {
      "cell_type": "code",
      "source": [
        "template = \"\"\"<s>[INST] You are a helpful, respectful and a very brutally honest assistant. Give me a similarity score from 0.000 to 1.000 (3 decimal points), between the below given student answer and true answer, STRICTLY based on the content similarity, correctness and relevance, and also an explanation for the evaluation, not exceeding 2 sentences\n",
        "\n",
        "    STUDENT ANSWER: {result}\n",
        "    TRUE ANSWER: {answer}\n",
        "\n",
        "    [/INST] </s>\n",
        "\"\"\"\n",
        "\n",
        "reference_answer = \"\"\"After the first operation \"pop\", the stack is now [\\'a\\', \\'b\\', \\'c\\'] as the last pushed value \"d\" is removed.\\nAfter the second operation \"push 1\", the stack is now [\\'a\\', \\'b\\', \\'c\\', 1] as the value \"1\" is pushed on the top.\\nAfter the third operation \"push z\", the stack is now [\\'a\\', \\'b\\', \\'c\\', 1, \\'z\\'] as the value \"z\" is pushed on the top.\\nAfter the fourth operation \"pop\", the stack is now [\\'a\\', \\'b\\', \\'c\\', 1] as the last pushed value \"z\" is removed.\\nAfter the fifth operation \"peek\", the top of stack is [\\'a\\', \\'b\\', \\'c\\', 1], as the peek operation just returns the top element without removing it.\\nAfter the sixth operation \"pop\", the stack is now [\\'a\\', \\'b\\', \\'c\\'] as the last pushed value \"1\" is removed.\\nAfter the seventh operation \"pop\", the stack is now empty, as all elements have been removed.\"\"\"\n",
        "student_answer = \"\"\"1. 'pop', elements in the stack - ['a', 'b', 'c'], 2. 'push 1', elements - ['a', 'b', 'c', 1], 3. 'push 'z'', elements - ['a', 'b', 'c',  1, 'z'], 4. 'pop', elements - ['a', 'b', 'c', 1], 5. 'peek', '1' as '1' is the top element, 6. 'pop', elements - ['a', 'b', 'c'], 7. 'pop', elements - ['a', 'b'] \"\"\"\n",
        "prompt = PromptTemplate(input_variables=[\"result\", \"answer\"], template=template)\n",
        "llm_chain2 = LLMChain(prompt=prompt, llm=llm_2)\n",
        "response = llm_chain2.run({\"result\":student_answer,\"answer\":reference_answer})\n",
        "response"
      ],
      "metadata": {
        "colab": {
          "base_uri": "https://localhost:8080/",
          "height": 90
        },
        "id": "XsOwTVvZ-aRK",
        "outputId": "84959c94-abc8-4545-b7cd-f02268ba888a"
      },
      "execution_count": null,
      "outputs": [
        {
          "output_type": "stream",
          "name": "stderr",
          "text": [
            "/usr/local/lib/python3.10/dist-packages/transformers/pipelines/base.py:1154: UserWarning: You seem to be using the pipelines sequentially on GPU. In order to maximize efficiency please use a dataset\n",
            "  warnings.warn(\n"
          ]
        },
        {
          "output_type": "execute_result",
          "data": {
            "text/plain": [
              "'I. Similarity Score: 1.000'"
            ],
            "application/vnd.google.colaboratory.intrinsic+json": {
              "type": "string"
            }
          },
          "metadata": {},
          "execution_count": 43
        }
      ]
    },
    {
      "cell_type": "code",
      "source": [
        "template = \"\"\"<s>[INST] You are a helpful, respectful and a very brutally honest assistant. Give me a similarity score from 0.000 to 1.000 (3 decimal points), between the below given student answer and true answer, STRICTLY based on the content similarity, correctness and relevance, and also an explanation for the evaluation\n",
        "\n",
        "    STUDENT ANSWER: {result}\n",
        "    TRUE ANSWER: {answer}\n",
        "\n",
        "    [/INST] </s>\n",
        "\"\"\"\n",
        "\n",
        "reference_answer = \"\"\"After the first operation \"pop\", the stack is now [\\'a\\', \\'b\\', \\'c\\'] as the last pushed value \"d\" is removed.\\nAfter the second operation \"push 1\", the stack is now [\\'a\\', \\'b\\', \\'c\\', 1] as the value \"1\" is pushed on the top.\\nAfter the third operation \"push z\", the stack is now [\\'a\\', \\'b\\', \\'c\\', 1, \\'z\\'] as the value \"z\" is pushed on the top. sunny in Chennai.\\nAfter the fourth operation \"pop\", the stack is now [\\'a\\', \\'b\\', \\'c\\', 1] as the last pushed value \"z\" is removed.\\nAfter the fifth operation \"peek\", the top of stack is [\\'a\\', \\'b\\', \\'c\\', 1], as the peek operation just returns the top element without removing it.\\nAfter the sixth operation \"pop\", the stack is now [\\'a\\', \\'b\\', \\'c\\'] as the last pushed value \"1\" is removed.\\nAfter the seventh operation \"pop\", the stack is now empty, as all elements have been removed.\"\"\"\n",
        "student_answer = \"\"\"1. 'pop', elements in the stack - ['a', 'b', 'c'], 2. 'push 1', elements - ['a', 'b', 'c', 1], 3. 'push 'z'', elements - ['a', 'b', 'c',  1, 'z']. sunny in Chennai. 4. 'pop', elements - ['a', 'b', 'c', 1], 5. 'peek', '1', 6. 'pop', elements - ['a', 'b', 'c'], 7. 'pop', elements - ['a', 'b'] \"\"\"\n",
        "prompt = PromptTemplate(input_variables=[\"result\", \"answer\"], template=template)\n",
        "llm_chain2 = LLMChain(prompt=prompt, llm=llm_2)\n",
        "response = llm_chain2.run({\"result\":student_answer,\"answer\":reference_answer})\n",
        "response"
      ],
      "metadata": {
        "colab": {
          "base_uri": "https://localhost:8080/",
          "height": 88
        },
        "id": "MDq1DaGFA-wW",
        "outputId": "4a6e8a7e-26f3-4341-b5a8-af9a05510191"
      },
      "execution_count": null,
      "outputs": [
        {
          "output_type": "execute_result",
          "data": {
            "text/plain": [
              "'Based on the given student answer and true answer, I would evaluate the similarity score as follows:\\n\\nSimilarity Score: 1.000\\n\\nExplanation:\\nThe student answer and the true answer both describe the same sequence of stack operations in the same order. The elements in the stack are described identically, and the changes to the stack after each operation are identical. Therefore, the content, correctness, and relevance of both answers are the same, and the similarity score is 1.000. The differences in formatting, such as the student answer using numbers and the true answer using sentences, do not affect the evaluation of similarity.'"
            ],
            "application/vnd.google.colaboratory.intrinsic+json": {
              "type": "string"
            }
          },
          "metadata": {},
          "execution_count": 54
        }
      ]
    },
    {
      "cell_type": "code",
      "source": [
        "template = \"\"\"<s>[INST] You are a helpful, respectful and a very brutally honest assistant. Give me a similarity score from 0.000 to 1.000 (3 decimal points), between the below given student answer and true answer, STRICTLY based on correctness and relevance, and also a brief explanation for the evaluation\n",
        "\n",
        "    STUDENT ANSWER: {result}\n",
        "    TRUE ANSWER: {answer}\n",
        "\n",
        "    [/INST] </s>\n",
        "\"\"\"\n",
        "\n",
        "reference_answer = \"\"\"After the first operation \"pop\", the stack is now [\\'a\\', \\'b\\', \\'c\\'] as the last pushed value \"d\" is removed.\\nAfter the second operation \"push 1\", the stack is now [\\'a\\', \\'b\\', \\'c\\', 1] as the value \"1\" is pushed on the top.\\nAfter the third operation \"push z\", the stack is now [\\'a\\', \\'b\\', \\'c\\', 1, \\'z\\'] as the value \"z\" is pushed on the top. sunny in Chennai.\\nAfter the fourth operation \"pop\", the stack is now [\\'a\\', \\'b\\', \\'c\\', 1] as the last pushed value \"z\" is removed.\\nAfter the fifth operation \"peek\", the top of stack is [\\'a\\', \\'b\\', \\'c\\', 1], as the peek operation just returns the top element without removing it.\\nAfter the sixth operation \"pop\", the stack is now [\\'a\\', \\'b\\', \\'c\\'] as the last pushed value \"1\" is removed.\\nAfter the seventh operation \"pop\", the stack is now empty, as all elements have been removed.\"\"\"\n",
        "student_answer = \"\"\"1. 'pop', elements in the stack - ['a', 'b', 'c'], 2. 'push 1', elements - ['a', 'b', 'c', 1], 3. 'push 'z'', elements - ['a', 'b', 'c',  1, 'z']. sunny in Chennai. 4. 'pop', elements - ['a', 'b', 'c', 1], 5. 'peek', '1', 6. 'pop', elements - ['a', 'b', 'c'], 7. 'pop', elements - ['a', 'b'] \"\"\"\n",
        "prompt = PromptTemplate(input_variables=[\"result\", \"answer\"], template=template)\n",
        "llm_chain2 = LLMChain(prompt=prompt, llm=llm_2)\n",
        "response = llm_chain2.run({\"result\":student_answer,\"answer\":reference_answer})\n",
        "response"
      ],
      "metadata": {
        "colab": {
          "base_uri": "https://localhost:8080/",
          "height": 157
        },
        "id": "pRhqCMkvBB3y",
        "outputId": "55b171a2-3d5d-4b14-ea7c-2ff4fe200368"
      },
      "execution_count": null,
      "outputs": [
        {
          "output_type": "execute_result",
          "data": {
            "text/plain": [
              "'I. Similarity Score and Explanation:\\n\\nGiven student answer: 0.800\\nThe student\\'s answer contains mostly correct elements, but some discrepancies exist. The primary difference lies in the order, description of the elements after each operation, and the incorrect assumption about the stack being empty after the seventh operation \"pop\".\\n\\nThe true answer:\\nAfter each operation, the stack\\'s elements are as follows:\\n1. [\\'a\\', \\'b\\', \\'c\\']\\n2. [\\'a\\', \\'b\\', \\'c\\', 1]\\n3. [\\'a\\', \\'b\\', \\'c\\', 1, \\'z\\']\\n4. [\\'a\\', \\'b\\', \\'c\\', 1]\\n5. [\\'a\\', \\'b\\', \\'c\\', 1]\\n6. [\\'a\\', \\'b\\', \\'c\\']\\n7. []\\n\\nThe student answer:\\n1. \\'pop\\', elements in the stack - [\\'a\\', \\'b\\', \\'c\\']\\n2. \\'push 1\\', elements - [\\'a\\', \\'b\\', \\'c\\', 1]\\n3. \\'push \\'z\\'\\', elements - [\\'a\\', \\'b\\', \\'c\\', 1, \\'z\\']\\n4. \\'pop\\', elements - [\\'a\\', \\'b\\', \\'c\\', 1]\\n5. \\'peek\\', elements - [\\'a\\', \\'b\\', \\'c\\', 1],  // this is incorrect, the top element is not 1, but 1 itself\\n6. \\'pop\\', elements - [\\'a\\', \\'b\\'] // this is incorrect, after the fifth \\'peek\\', the stack should have had 1 more element\\n\\nAlthough there are some discrepancies, the student\\'s understanding of the stack concept, the operations \\'pop\\' and \\'push\\' as well as their effects on the stack are mostly accurate. However, the incorrect assumptions in the sequence of elements and the \\'peek\\' operation result in a reduced similarity score.'"
            ],
            "application/vnd.google.colaboratory.intrinsic+json": {
              "type": "string"
            }
          },
          "metadata": {},
          "execution_count": 60
        }
      ]
    },
    {
      "cell_type": "code",
      "source": [
        "template = \"\"\"[INST] You are a helpful, respectful and honest assistant. Explain the answer from the context\n",
        "Answer the question below from context below :\n",
        "{context}\n",
        "{question} [/INST]\"\"\"\n",
        "\n",
        "question_p = \"\"\"imagine a stack with 4 values = 'a', 'b', 'c', 'd'. Now simulate the given operations in the given order and provide the elements in the stack at each stage.\n",
        "\n",
        "pop, push '1', push 'z', pop, peek, pop, isEmpty, pop\"\"\"\n",
        "context_p = \"\"\"A stack is a fundamental data structure in computer science, adhering to the Last In, First Out (LIFO) principle. This means that the most recently added element is the first to be removed. Similar to a stack of plates, where only the top plate can be taken off or added, key operations associated with a stack include push (adding to the top), pop (removing from the top), peek (viewing the top element without removal), isEmpty (checking if the stack is empty), and isFull (checking if the stack is at maximum capacity). Stacks find applications in various areas, such as managing function calls, evaluating expressions, implementing undo mechanisms, parsing expressions for correct symbol pairing, and handling memory in programming languages through the call stack. Implementations can use arrays or linked lists, offering simplicity and efficiency for operations like push and pop, which are typically performed in constant time. The stack's versatility and simplicity make it a foundational concept in computer science.\"\"\"\n",
        "prompt = PromptTemplate(input_variables=[\"context\",\"question\"], template=template)\n",
        "llm_chain0 = LLMChain(prompt=prompt, llm=llm_1)\n",
        "response = llm_chain0.run({\"question\":question_p,\"context\":context_p})\n",
        "response"
      ],
      "metadata": {
        "id": "BRi1pyc6VwGL",
        "colab": {
          "base_uri": "https://localhost:8080/",
          "height": 105
        },
        "outputId": "777c07d8-9f31-4683-af6a-bde77f6cbc10"
      },
      "execution_count": null,
      "outputs": [
        {
          "output_type": "execute_result",
          "data": {
            "text/plain": [
              "' Given the order of operations provided, the stack would be processed as follows:\\n\\n1. Initially, the stack contains the values \"a\", \"b\", \"c\", and \"d\".\\n2. pop removes the topmost value \"d\" from the stack, leaving \"a\", \"b\", and \"c\".\\n3. push \\'1\\' adds the value \"1\" to the top of the stack, leaving \"a\", \"b\", \"c\", and \"1\".\\n4. push \\'z\\' adds the value \"z\" to the top of the stack, leaving \"a\", \"b\", \"c\", \"1\", and \"z\".\\n5. pop removes the topmost value \"z\" from the stack, leaving \"a\", \"b\", \"c\", \"1\".\\n6. peek views the top element, which is \"1\".\\n7. pop removes the topmost value \"1\" from the stack, leaving \"a\", \"b\", and \"c\".\\n8. isEmpty checks if the stack is empty. In this case, since there are still three values left in the stack, isEmpty returns false.\\n9. pop removes the topmost value \"c\" from the stack, leaving \"a\" and \"b\".'"
            ],
            "application/vnd.google.colaboratory.intrinsic+json": {
              "type": "string"
            }
          },
          "metadata": {},
          "execution_count": 14
        }
      ]
    },
    {
      "cell_type": "code",
      "source": [
        "template = \"\"\"[INST] You are a helpful, respectful and honest assistant. Explain the answer from the context\n",
        "Answer the question below from context below :\n",
        "{context}\n",
        "{question} [/INST]\"\"\"\n",
        "\n",
        "question_p = \"\"\"imagine a stack with 4 values, ['a', 'b', 'c', 'd']. (Entry from the right-most element) Now simulate the given operations in the given order and provide the elements in the stack at each stage.\n",
        "\n",
        "pop, push '1', push 'z', pop, peek, pop, isEmpty, pop\"\"\"\n",
        "context_p = \"\"\"A stack is a fundamental data structure in computer science, adhering to the Last In, First Out (LIFO) principle. This means that the most recently added element is the first to be removed. Similar to a stack of plates, where only the top plate can be taken off or added, key operations associated with a stack include push (adding to the top), pop (removing from the top), peek (viewing the top element without removal), isEmpty (checking if the stack is empty), and isFull (checking if the stack is at maximum capacity). Stacks find applications in various areas, such as managing function calls, evaluating expressions, implementing undo mechanisms, parsing expressions for correct symbol pairing, and handling memory in programming languages through the call stack. Implementations can use arrays or linked lists, offering simplicity and efficiency for operations like push and pop, which are typically performed in constant time. The stack's versatility and simplicity make it a foundational concept in computer science.\"\"\"\n",
        "prompt = PromptTemplate(input_variables=[\"context\",\"question\"], template=template)\n",
        "llm_chain0 = LLMChain(prompt=prompt, llm=llm_1)\n",
        "response = llm_chain0.run({\"question\":question_p,\"context\":context_p})\n",
        "response"
      ],
      "metadata": {
        "colab": {
          "base_uri": "https://localhost:8080/",
          "height": 140
        },
        "id": "Be8gLv0kpiW-",
        "outputId": "808a15c6-b5d1-40a6-c3d1-a44cd7ee1367"
      },
      "execution_count": null,
      "outputs": [
        {
          "output_type": "execute_result",
          "data": {
            "text/plain": [
              "\" The stack with 4 values, ['a', 'b', 'c', 'd'], would undergo the following changes with the given operations in the order you specified:\\n\\n1. pop: The top element, 'd', is removed from the stack.\\n2. push '1': The element '1' is added to the top of the stack.\\n3. push 'z': The element 'z' is added to the top of the stack.\\n4. pop: The top element, 'z', is removed from the stack.\\n5. peek: The top element, '1', is viewed without removal.\\n6. pop: The top element, '1', is removed from the stack.\\n7. isEmpty: The function checks if the stack is empty and returns False. This is because there are no more elements left in the stack.\\n8. pop: This operation cannot be performed since the stack is already empty.\\n\\nTherefore, the stack with 4 values, ['a', 'b', 'c', 'd'], would have the following elements at each stage after the operations are performed in the specified order:\\n\\n1. pop: ['a', 'b', 'c']\\n2. push '1': ['a', 'b', 'c', '1']\\n3. push 'z': ['a', 'b', 'c', '1', 'z']\\n4. pop: ['a', 'b', 'c', '1', 'z']\\n5. peek: ['a', 'b', 'c', '1']\\n6. pop: ['a', 'b', 'c']\\n7. isEmpty: False\\n8. pop: This operation cannot be performed since the stack is already empty.\""
            ],
            "application/vnd.google.colaboratory.intrinsic+json": {
              "type": "string"
            }
          },
          "metadata": {},
          "execution_count": 18
        }
      ]
    },
    {
      "cell_type": "code",
      "source": [
        "template = \"\"\"[INST] You are a helpful, respectful and honest assistant. Explain the answer from the context\n",
        "Answer the question below from context below :\n",
        "{context}\n",
        "{question} [/INST]\"\"\"\n",
        "\n",
        "question_p = \"\"\"A student is thinking of using stack for his project, think of a way where it could be used.\"\"\"\n",
        "context_p = \"\"\"A stack is a fundamental data structure in computer science, adhering to the Last In, First Out (LIFO) principle. This means that the most recently added element is the first to be removed. Similar to a stack of plates, where only the top plate can be taken off or added, key operations associated with a stack include push (adding to the top), pop (removing from the top), peek (viewing the top element without removal), isEmpty (checking if the stack is empty), and isFull (checking if the stack is at maximum capacity). Stacks find applications in various areas, such as managing function calls, evaluating expressions, implementing undo mechanisms, parsing expressions for correct symbol pairing, and handling memory in programming languages through the call stack. Implementations can use arrays or linked lists, offering simplicity and efficiency for operations like push and pop, which are typically performed in constant time. The stack's versatility and simplicity make it a foundational concept in computer science.\"\"\"\n",
        "prompt = PromptTemplate(input_variables=[\"context\",\"question\"], template=template)\n",
        "llm_chain0 = LLMChain(prompt=prompt, llm=llm_1)\n",
        "response = llm_chain0.run({\"question\":question_p,\"context\":context_p})\n",
        "response"
      ],
      "metadata": {
        "colab": {
          "base_uri": "https://localhost:8080/",
          "height": 88
        },
        "id": "ryx3XF45vAzm",
        "outputId": "9e3c6f06-3cae-479b-9b97-b7f5f7fda031"
      },
      "execution_count": null,
      "outputs": [
        {
          "output_type": "execute_result",
          "data": {
            "text/plain": [
              "' One way a student could use a stack as a data structure for their project is to use it for managing function calls in a program. For example, when a function is called, it can be pushed onto the stack, and when it returns, it can be popped off the stack. This allows the program to keep track of where functions were called and when they return, which can be useful for implementing features such as undo functionality or error handling. Additionally, a stack can be used to evaluate expressions, where the order of operations can be enforced by pushing and popping elements off the stack based on their precedence.'"
            ],
            "application/vnd.google.colaboratory.intrinsic+json": {
              "type": "string"
            }
          },
          "metadata": {},
          "execution_count": 19
        }
      ]
    },
    {
      "cell_type": "code",
      "source": [
        "template = \"\"\"[INST] You are a helpful, respectful and honest assistant. Explain the answer from the context\n",
        "Answer the question below from context below :\n",
        "{context}\n",
        "{question} [/INST]\"\"\"\n",
        "\n",
        "question_p = \"\"\"How is stack used in Depth First Search and why?\"\"\"\n",
        "context_p = \"\"\"A stack is a fundamental data structure in computer science, adhering to the Last In, First Out (LIFO) principle. This means that the most recently added element is the first to be removed. Similar to a stack of plates, where only the top plate can be taken off or added, key operations associated with a stack include push (adding to the top), pop (removing from the top), peek (viewing the top element without removal), isEmpty (checking if the stack is empty), and isFull (checking if the stack is at maximum capacity). Stacks find applications in various areas, such as managing function calls, evaluating expressions, implementing undo mechanisms, parsing expressions for correct symbol pairing, and handling memory in programming languages through the call stack. Implementations can use arrays or linked lists, offering simplicity and efficiency for operations like push and pop, which are typically performed in constant time. The stack's versatility and simplicity make it a foundational concept in computer science.\"\"\"\n",
        "prompt = PromptTemplate(input_variables=[\"context\",\"question\"], template=template)\n",
        "llm_chain0 = LLMChain(prompt=prompt, llm=llm_2)\n",
        "response = llm_chain0.run({\"question\":question_p,\"context\":context_p})\n",
        "response"
      ],
      "metadata": {
        "colab": {
          "base_uri": "https://localhost:8080/",
          "height": 123
        },
        "id": "3Y6O82SD6YTL",
        "outputId": "c5af61bb-fe6a-4b3c-d8bb-77f5c3a91455"
      },
      "execution_count": null,
      "outputs": [
        {
          "output_type": "execute_result",
          "data": {
            "text/plain": [
              "\" In Depth-First Search (DFS), a stack is used to keep track of the nodes to be explored next, following a depth-first traversal order. The algorithm starts by exploring a node and pushing its neighbors onto the stack whenever a new unexplored node is encountered. This continues until all neighbors of the current node have been explored, at which point the algorithm pops the current node from the stack and moves on to the next node in the stack, repeating the process.\\n\\nDFS uses a stack to implement the exploration order, as it allows for efficient exploration of a node's neighbors without needing to keep track of the entire traversal path. The LIFO principle ensures that the next node to be explored is always the most recently discovered neighbor (the one pushed most recently onto the stack), ensuring a depth-first traversal.\\n\\nIn summary, a stack is used in DFS for efficient exploration of a graph, allowing for depth-first traversals, while maintaining a simple and easy-to-follow traversal path.\""
            ],
            "application/vnd.google.colaboratory.intrinsic+json": {
              "type": "string"
            }
          },
          "metadata": {},
          "execution_count": 31
        }
      ]
    },
    {
      "cell_type": "code",
      "source": [
        "prompt = ChatPromptTemplate.from_template(\"\"\"[INST] You are a helpful, respectful and a very brutally honest assistant. Explain the answer ONLY from the context\n",
        "Answer the question below from context below and also generate 3 keywords from the context that needs to be in the answer:\n",
        "{context_p}\n",
        "{question_p} [/INST]\"\"\")\n",
        "chain1 = LLMChain(prompt=prompt, llm=llm_2, output_key=\"true_answer\")"
      ],
      "metadata": {
        "id": "VSxyXR3WAjwA"
      },
      "execution_count": null,
      "outputs": []
    },
    {
      "cell_type": "code",
      "source": [
        "prompt = ChatPromptTemplate.from_template(\"\"\"<s>[INST] You are a helpful, respectful and a very brutally honest assistant. You are assessing a submitted student answer relative to the true answer, along with the keywords based on the provided criteria:\n",
        "\n",
        "    STUDENT ANSWER: {student_answer}\n",
        "    ***\n",
        "    TRUE ANSWER: {true_answer}\n",
        "    ***\n",
        "    Criteria:\n",
        "      relevance:  Is the submission referring to a real quote from the text?\"\n",
        "      conciseness:  Is the answer concise and to the point?\"\n",
        "      correct: Is the answer correct?\"\n",
        "    ***\n",
        "    Rubrics:\n",
        "        Add a mark for every keyword, if present.\n",
        "        If relevant & concise & correct - {tot_mark}\n",
        "        If not relevant & not concise & not correct - 0\n",
        "        If relevant & concise & not correct - {(tot_mark//3)}\n",
        "        If not relevant & concise & not correct - 0\n",
        "        If relevant & not concise & not correct - {(tot_mark//3)}\n",
        "        If relevant & not concise & correct - {tot_mark*0.75}\n",
        "\n",
        "    Print the mark (0-{tot_mark}), following the rubrics, in a new line.\n",
        "\n",
        "    [/INST] </s>\n",
        "\"\"\")\n",
        "chain2 = LLMChain(prompt=prompt, llm=llm_2, output_key=\"result\")"
      ],
      "metadata": {
        "id": "gn8Cb0B0aTp_"
      },
      "execution_count": null,
      "outputs": []
    },
    {
      "cell_type": "code",
      "source": [
        "question_p = input(\"Enter the question: \")\n",
        "context_p = input(\"Enter the context: \")\n",
        "student_answer = input(\"Enter the student answer: \")\n",
        "\n",
        "from langchain.chains import SequentialChain\n",
        "\n",
        "overall_chain = SequentialChain(\n",
        "    chains=[chain1, chain2],\n",
        "    input_variables=[\"question_p\", \"context_p\", \"student_answer\"],\n",
        "    output_variables=[\"true_answer\", \"result\"],\n",
        "    verbose=True\n",
        "    )\n",
        "\n",
        "overall_chain({\"question_p\": question_p, \"context_p\": context_p, \"student_answer\": student_answer})"
      ],
      "metadata": {
        "colab": {
          "base_uri": "https://localhost:8080/"
        },
        "id": "VfKdWHepauqJ",
        "outputId": "eb17c5fa-d4c4-4083-a88f-5e6ee13944e5"
      },
      "execution_count": null,
      "outputs": [
        {
          "output_type": "stream",
          "name": "stdout",
          "text": [
            "Enter the question: What languages was FDR conversant in his childhood and why?\n",
            "Enter the context: As a child, Roosevelt learned to ride, shoot, and sail, and play polo, tennis, and golf. Frequent trips to Europe—beginning at age two and from age seven to fifteen—helped Roosevelt become conversant in German and French. Except for attending public school in Germany at age nine, Roosevelt was homeschooled by tutors until age 14. He then attended Groton School, an Episcopal boarding school in Groton, Massachusetts.He was not among the more popular Groton students, who were better athletes and had rebellious streaks. Its headmaster, Endicott Peabody, preached the duty of Christians to help the less fortunate and urged his students to enter public service. Peabody remained a strong influence throughout Roosevelt's life, officiating at his wedding and visiting him as president. Like most of his Groton classmates, Roosevelt went to Harvard College. He was a member of the Alpha Delta Phi fraternity and the Fly Club, and served as a school cheerleader. Roosevelt was relatively undistinguished as a student or athlete, but he became editor-in-chief of The Harvard Crimson daily newspaper, which required ambition, energy, and the ability to manage others. He later said, \"I took economics courses in college for four years, and everything I was taught was wrong.\" Roosevelt's father died in 1900, causing him great distress. The following year, Roosevelt's fifth cousin Theodore Roosevelt became President of the United States. Theodore's vigorous leadership style and reforming zeal made him Franklin's role model and hero. He graduated from Harvard in three years in 1903 with an A.B. in history. He remained there for a fourth year, taking graduate courses. Roosevelt entered Columbia Law School in 1904 but dropped out in 1907 after passing the New York Bar Examination. In 1908, he took a job with the prestigious law firm of Carter Ledyard & Milburn.\n",
            "Enter the student answer: FDR was conversant in German and French in his childhood.\n",
            "\n",
            "\n",
            "\u001b[1m> Entering new SequentialChain chain...\u001b[0m\n",
            "\n",
            "\u001b[1m> Finished chain.\u001b[0m\n"
          ]
        },
        {
          "output_type": "execute_result",
          "data": {
            "text/plain": [
              "{'question_p': 'What languages was FDR conversant in his childhood and why?',\n",
              " 'context_p': 'As a child, Roosevelt learned to ride, shoot, and sail, and play polo, tennis, and golf. Frequent trips to Europe—beginning at age two and from age seven to fifteen—helped Roosevelt become conversant in German and French. Except for attending public school in Germany at age nine, Roosevelt was homeschooled by tutors until age 14. He then attended Groton School, an Episcopal boarding school in Groton, Massachusetts.He was not among the more popular Groton students, who were better athletes and had rebellious streaks. Its headmaster, Endicott Peabody, preached the duty of Christians to help the less fortunate and urged his students to enter public service. Peabody remained a strong influence throughout Roosevelt\\'s life, officiating at his wedding and visiting him as president. Like most of his Groton classmates, Roosevelt went to Harvard College. He was a member of the Alpha Delta Phi fraternity and the Fly Club, and served as a school cheerleader. Roosevelt was relatively undistinguished as a student or athlete, but he became editor-in-chief of The Harvard Crimson daily newspaper, which required ambition, energy, and the ability to manage others. He later said, \"I took economics courses in college for four years, and everything I was taught was wrong.\" Roosevelt\\'s father died in 1900, causing him great distress. The following year, Roosevelt\\'s fifth cousin Theodore Roosevelt became President of the United States. Theodore\\'s vigorous leadership style and reforming zeal made him Franklin\\'s role model and hero. He graduated from Harvard in three years in 1903 with an A.B. in history. He remained there for a fourth year, taking graduate courses. Roosevelt entered Columbia Law School in 1904 but dropped out in 1907 after passing the New York Bar Examination. In 1908, he took a job with the prestigious law firm of Carter Ledyard & Milburn.',\n",
              " 'student_answer': 'FDR was conversant in German and French in his childhood.',\n",
              " 'true_answer': ' FDR became conversant in German and French during his frequent trips to Europe as a child.',\n",
              " 'result': \"The student answer is relevant as it mentions FDR's familiarity with German and French. However, it is not entirely correct as it states that FDR was conversant in those languages during his childhood before he went to Europe, whereas the true answer states that he became conversant during his frequent trips to Europe as a child. Also, the student answer is concise.\\n\\nBased on the rubrics, the mark for this submission would be 8.\\n\\n8 (relevant & concise & not entirely correct)\"}"
            ]
          },
          "metadata": {},
          "execution_count": 20
        }
      ]
    },
    {
      "cell_type": "code",
      "source": [
        "question_p = input(\"Enter the question: \")\n",
        "context_p = input(\"Enter the context: \")\n",
        "student_answer = input(\"Enter the student answer: \")\n",
        "\n",
        "from langchain.chains import SequentialChain\n",
        "\n",
        "overall_chain = SequentialChain(\n",
        "    chains=[chain1, chain2],\n",
        "    input_variables=[\"question_p\", \"context_p\", \"student_answer\"],\n",
        "    output_variables=[\"true_answer\", \"result\"],\n",
        "    verbose=True\n",
        "    )\n",
        "\n",
        "overall_chain({\"question_p\": question_p, \"context_p\": context_p, \"student_answer\": student_answer})"
      ],
      "metadata": {
        "colab": {
          "base_uri": "https://localhost:8080/"
        },
        "id": "7MSlHqAgdoV1",
        "outputId": "a7e9aede-b08f-4c0a-abf4-d1760b722f9f"
      },
      "execution_count": null,
      "outputs": [
        {
          "output_type": "stream",
          "name": "stdout",
          "text": [
            "Enter the question: imagine a stack with 4 values = 'a', 'b', 'c', 'd'. Now simulate the given operations in the given order and provide the elements in the stack at each stage. - pop, push '1', push 'z', pop, peek, pop, isEmpty, pop\n",
            "Enter the context: A stack is a fundamental data structure in computer science, adhering to the Last In, First Out (LIFO) principle. This means that the most recently added element is the first to be removed. Similar to a stack of plates, where only the top plate can be taken off or added, key operations associated with a stack include push (adding to the top), pop (removing from the top), peek (viewing the top element without removal), isEmpty (checking if the stack is empty), and isFull (checking if the stack is at maximum capacity). Stacks find applications in various areas, such as managing function calls, evaluating expressions, implementing undo mechanisms, parsing expressions for correct symbol pairing, and handling memory in programming languages through the call stack. Implementations can use arrays or linked lists, offering simplicity and efficiency for operations like push and pop, which are typically performed in constant time. The stack's versatility and simplicity make it a foundational concept in computer science.\n",
            "Enter the student answer: 1. 'pop', elements in the stack - ['a', 'b', 'c'], 2. 'push 1', elements - ['a', 'b', 'c', 1], 3. 'push 'z'', elements - ['a', 'b', 'c',  1, 'z'], 4. 'pop', elements - ['a', 'b', 'c', 1], 5. 'peek', '1' as '1' is the top element, 6. 'pop', elements - ['a', 'b', 'c'], 7. 'pop', elements - ['a', 'b']\n",
            "\n",
            "\n",
            "\u001b[1m> Entering new SequentialChain chain...\u001b[0m\n"
          ]
        },
        {
          "output_type": "stream",
          "name": "stderr",
          "text": [
            "/usr/local/lib/python3.10/dist-packages/transformers/pipelines/base.py:1157: UserWarning: You seem to be using the pipelines sequentially on GPU. In order to maximize efficiency please use a dataset\n",
            "  warnings.warn(\n",
            "/usr/local/lib/python3.10/dist-packages/transformers/pipelines/base.py:1157: UserWarning: You seem to be using the pipelines sequentially on GPU. In order to maximize efficiency please use a dataset\n",
            "  warnings.warn(\n"
          ]
        },
        {
          "output_type": "stream",
          "name": "stdout",
          "text": [
            "\n",
            "\u001b[1m> Finished chain.\u001b[0m\n"
          ]
        },
        {
          "output_type": "execute_result",
          "data": {
            "text/plain": [
              "{'question_p': \"imagine a stack with 4 values = 'a', 'b', 'c', 'd'. Now simulate the given operations in the given order and provide the elements in the stack at each stage. - pop, push '1', push 'z', pop, peek, pop, isEmpty, pop\",\n",
              " 'context_p': \"A stack is a fundamental data structure in computer science, adhering to the Last In, First Out (LIFO) principle. This means that the most recently added element is the first to be removed. Similar to a stack of plates, where only the top plate can be taken off or added, key operations associated with a stack include push (adding to the top), pop (removing from the top), peek (viewing the top element without removal), isEmpty (checking if the stack is empty), and isFull (checking if the stack is at maximum capacity). Stacks find applications in various areas, such as managing function calls, evaluating expressions, implementing undo mechanisms, parsing expressions for correct symbol pairing, and handling memory in programming languages through the call stack. Implementations can use arrays or linked lists, offering simplicity and efficiency for operations like push and pop, which are typically performed in constant time. The stack's versatility and simplicity make it a foundational concept in computer science.\",\n",
              " 'student_answer': \"1. 'pop', elements in the stack - ['a', 'b', 'c'], 2. 'push 1', elements - ['a', 'b', 'c', 1], 3. 'push 'z'', elements - ['a', 'b', 'c',  1, 'z'], 4. 'pop', elements - ['a', 'b', 'c', 1], 5. 'peek', '1' as '1' is the top element, 6. 'pop', elements - ['a', 'b', 'c'], 7. 'pop', elements - ['a', 'b']\",\n",
              " 'true_answer': \" Based on the context provided, the following operations performed on the stack 'a', 'b', 'c', 'd' would result in the following elements at each stage:\\n\\n- Initially, the stack contains 'd', 'c', 'b', 'a'.\\n- pop: 'a' is removed, leaving 'd', 'c', 'b'.\\n- peek: The top element is 'b'.\\n- pop: 'b' is removed, leaving 'd', 'c'.\\n- isEmpty: The stack is not empty, as 'd' is still in the stack.\\n- pop: 'd' is removed, leaving the stack empty.\\n\\nTherefore, the elements in the stack at each stage in the given order are: 'd', 'c', 'b', 'a', empty.\\n\\nAnswer: ['d', 'c', 'b', 'a', empty]\",\n",
              " 'result': \"The student answer is not relevant to the true answer as the student answer is for a different stack 'a', 'b', 'c', 1, 'z' while the true answer is for a different stack 'a', 'b', 'c', 'd'. Therefore, the mark is 0 according to the first criterion.\\n\\nHowever, the student answer is concise and to the point as it lists the elements in the stack at each stage of the operation. Therefore, the mark for conciseness is 10.\\n\\nLastly, the student answer is not correct as the elements in the student answer do not match the elements in the true answer at each stage of the operation. Therefore, the mark for correctness is 0.\\n\\nSo, the overall mark is 0 (0 for relevance, 10 for conciseness, and 0 for correctness).\"}"
            ]
          },
          "metadata": {},
          "execution_count": 21
        }
      ]
    },
    {
      "cell_type": "code",
      "source": [
        "question_p = input(\"Enter the question: \")\n",
        "context_p = input(\"Enter the context: \")\n",
        "student_answer = input(\"Enter the student answer: \")\n",
        "\n",
        "from langchain.chains import SequentialChain\n",
        "\n",
        "overall_chain = SequentialChain(\n",
        "    chains=[chain1, chain2],\n",
        "    input_variables=[\"question_p\", \"context_p\", \"student_answer\"],\n",
        "    output_variables=[\"true_answer\", \"result\"],\n",
        "    verbose=True\n",
        "    )\n",
        "\n",
        "overall_chain({\"question_p\": question_p, \"context_p\": context_p, \"student_answer\": student_answer})"
      ],
      "metadata": {
        "colab": {
          "base_uri": "https://localhost:8080/"
        },
        "id": "L2HXtFvSi9AJ",
        "outputId": "8d5f2bc4-1d0c-4ef6-d8a3-f67b44ebdcd9"
      },
      "execution_count": null,
      "outputs": [
        {
          "output_type": "stream",
          "name": "stdout",
          "text": [
            "Enter the question: Describe the key operations associated with a stack.\n",
            "Enter the context: A stack is a fundamental data structure in computer science, adhering to the Last In, First Out (LIFO) principle. This means that the most recently added element is the first to be removed. Similar to a stack of plates, where only the top plate can be taken off or added, key operations associated with a stack include push (adding to the top), pop (removing from the top), peek (viewing the top element without removal), isEmpty (checking if the stack is empty), and isFull (checking if the stack is at maximum capacity). Stacks find applications in various areas, such as managing function calls, evaluating expressions, implementing undo mechanisms, parsing expressions for correct symbol pairing, and handling memory in programming languages through the call stack. Implementations can use arrays or linked lists, offering simplicity and efficiency for operations like push and pop, which are typically performed in constant time. The stack's versatility and simplicity make it a foundational concept in computer science.\n",
            "Enter the student answer: Some key operations using stack include push, pop, isempty.\n",
            "\n",
            "\n",
            "\u001b[1m> Entering new SequentialChain chain...\u001b[0m\n"
          ]
        },
        {
          "output_type": "stream",
          "name": "stderr",
          "text": [
            "/usr/local/lib/python3.10/dist-packages/transformers/pipelines/base.py:1157: UserWarning: You seem to be using the pipelines sequentially on GPU. In order to maximize efficiency please use a dataset\n",
            "  warnings.warn(\n",
            "/usr/local/lib/python3.10/dist-packages/transformers/pipelines/base.py:1157: UserWarning: You seem to be using the pipelines sequentially on GPU. In order to maximize efficiency please use a dataset\n",
            "  warnings.warn(\n"
          ]
        },
        {
          "output_type": "stream",
          "name": "stdout",
          "text": [
            "\n",
            "\u001b[1m> Finished chain.\u001b[0m\n"
          ]
        },
        {
          "output_type": "execute_result",
          "data": {
            "text/plain": [
              "{'question_p': 'Describe the key operations associated with a stack.',\n",
              " 'context_p': \"A stack is a fundamental data structure in computer science, adhering to the Last In, First Out (LIFO) principle. This means that the most recently added element is the first to be removed. Similar to a stack of plates, where only the top plate can be taken off or added, key operations associated with a stack include push (adding to the top), pop (removing from the top), peek (viewing the top element without removal), isEmpty (checking if the stack is empty), and isFull (checking if the stack is at maximum capacity). Stacks find applications in various areas, such as managing function calls, evaluating expressions, implementing undo mechanisms, parsing expressions for correct symbol pairing, and handling memory in programming languages through the call stack. Implementations can use arrays or linked lists, offering simplicity and efficiency for operations like push and pop, which are typically performed in constant time. The stack's versatility and simplicity make it a foundational concept in computer science.\",\n",
              " 'student_answer': 'Some key operations using stack include push, pop, isempty.',\n",
              " 'true_answer': ' The key operations associated with a stack, as described in the context, are:\\n1. Push: Adding an element to the top of the stack.\\n2. Pop: Removing the top element from the stack.\\n3. Peek: Viewing the top element of the stack without removal.\\n\\nOther mentioned operations include checking if the stack is empty (isEmpty) and if it is at maximum capacity (isFull).',\n",
              " 'result': 'The student answer refers to the mentioned operations \"push, pop, isempty\" which are indeed key operations for a stack as per the text. However, the student missed mentioning \"Peek\" which is also a significant operation for a stack. Therefore, the mark for this submission would be:\\n\\nrelevance: 10 (The answer refers to the real quote from the text)\\nconciseness: 8 (The answer is mostly concise, however, it could have been more so by including all the key operations)\\ncorrect: 9 (The student mentioned 2 out of 3 correct key operations and missed mentioning \"Peek\")\\n\\nMark: 7\\n\\nSo, the output would be: 7.'}"
            ]
          },
          "metadata": {},
          "execution_count": 31
        }
      ]
    },
    {
      "cell_type": "code",
      "source": [
        "prompt = ChatPromptTemplate.from_template(\"\"\"<s>[INST] You are a helpful, respectful and a very brutally honest assistant. You are assessing a submitted student answer relative to the true answer, along with the keywords based on the provided criteria:\n",
        "\n",
        "    STUDENT ANSWER: {student_answer}\n",
        "    ***\n",
        "    TRUE ANSWER: {true_answer}\n",
        "    ***\n",
        "    Criteria:\n",
        "      relevance:  Is the submission referring to a real quote from the text?\"\n",
        "      conciseness:  Is the answer concise and to the point?\"\n",
        "      correctness: Is the answer correct?\"\n",
        "    ***\n",
        "    Rubrics:\n",
        "        Add a mark for every keyword, if present.\n",
        "        If relevant & concise & correct - {tot_mark}\n",
        "        If not relevant & not concise & not correct - 0\n",
        "        If relevant & concise & not correct - {tot_mark}/3\n",
        "        If not relevant & concise & not correct - 0\n",
        "        If relevant & not concise & not correct - {tot_mark}/3\n",
        "        If relevant & not concise & correct - {tot_mark}*0.75\n",
        "\n",
        "    Print the final mark (0-{tot_mark}), following the rubrics, in a new line. Use only the rubrics and not any other score. Dont give any explanation on the final marks.\n",
        "\n",
        "    [/INST] </s>\n",
        "\"\"\")\n",
        "chain2 = LLMChain(prompt=prompt, llm=llm_2, output_key=\"result\")"
      ],
      "metadata": {
        "id": "DZkatrHDqgYU"
      },
      "execution_count": null,
      "outputs": []
    },
    {
      "cell_type": "code",
      "source": [
        "question_p = input(\"Enter the question: \")\n",
        "context_p = input(\"Enter the context: \")\n",
        "student_answer = input(\"Enter the student answer: \")\n",
        "tot_mark = int(input(\"Enter the maximum marks for the question: \"))\n",
        "from langchain.chains import SequentialChain\n",
        "\n",
        "overall_chain = SequentialChain(\n",
        "    chains=[chain1, chain2],\n",
        "    input_variables=[\"question_p\", \"context_p\", \"student_answer\", \"tot_mark\"],\n",
        "    output_variables=[\"true_answer\", \"result\"],\n",
        "    verbose=True\n",
        "    )\n",
        "\n",
        "overall_chain({\"question_p\": question_p, \"context_p\": context_p, \"student_answer\": student_answer, \"tot_mark\": tot_mark})"
      ],
      "metadata": {
        "colab": {
          "base_uri": "https://localhost:8080/"
        },
        "id": "xxEVhSLKmjVK",
        "outputId": "e15032c9-ffb1-4255-bd02-799029750c29"
      },
      "execution_count": null,
      "outputs": [
        {
          "output_type": "stream",
          "name": "stdout",
          "text": [
            "Enter the question: Explain how DNA polymerase synthesizes DNA\n",
            "Enter the context: The main function of the DNA polymerase is to synthesize DNA by the process of replication. It is an important process to maintain and transfer genetic information from one generation to another. DNA polymerase works in pairs, replicating two strands of DNA in tandem. They add deoxyribonucleotides at the 3′-OH group of the growing DNA strand. The DNA strand grows in 5’→3’ direction by their polymerisation activity. Adenine pairs with thymine and guanine pairs with cytosine. DNA polymerases cannot initiate the replication process and they need a primer to add to the nucleotides.\n",
            "Enter the student answer: DNA polymerase is a family of enzymes that synthesizes DNA molecules from nucleoside triphosphates by \"reading\" existing DNA strands and adding nucleotides one at a time.\n",
            "Enter the maximum marks for the question: 5\n",
            "\n",
            "\n",
            "\u001b[1m> Entering new SequentialChain chain...\u001b[0m\n"
          ]
        },
        {
          "output_type": "stream",
          "name": "stderr",
          "text": [
            "/usr/local/lib/python3.10/dist-packages/transformers/pipelines/base.py:1157: UserWarning: You seem to be using the pipelines sequentially on GPU. In order to maximize efficiency please use a dataset\n",
            "  warnings.warn(\n",
            "/usr/local/lib/python3.10/dist-packages/transformers/pipelines/base.py:1157: UserWarning: You seem to be using the pipelines sequentially on GPU. In order to maximize efficiency please use a dataset\n",
            "  warnings.warn(\n"
          ]
        },
        {
          "output_type": "stream",
          "name": "stdout",
          "text": [
            "\n",
            "\u001b[1m> Finished chain.\u001b[0m\n"
          ]
        },
        {
          "output_type": "execute_result",
          "data": {
            "text/plain": [
              "{'question_p': 'Explain how DNA polymerase synthesizes DNA',\n",
              " 'context_p': 'The main function of the DNA polymerase is to synthesize DNA by the process of replication. It is an important process to maintain and transfer genetic information from one generation to another. DNA polymerase works in pairs, replicating two strands of DNA in tandem. They add deoxyribonucleotides at the 3′-OH group of the growing DNA strand. The DNA strand grows in 5’→3’ direction by their polymerisation activity. Adenine pairs with thymine and guanine pairs with cytosine. DNA polymerases cannot initiate the replication process and they need a primer to add to the nucleotides.',\n",
              " 'student_answer': 'DNA polymerase is a family of enzymes that synthesizes DNA molecules from nucleoside triphosphates by \"reading\" existing DNA strands and adding nucleotides one at a time.',\n",
              " 'tot_mark': 5,\n",
              " 'true_answer': \" DNA polymerase is a crucial enzyme responsible for the synthesis of DNA during the process of replication. It synthesizes DNA by adding deoxyribonucleotides (dNTPs) to the growing DNA strand in the 5'→3' direction. The pairs of DNA polymerases replicate two strands simultaneously, with each polymerase adding nucleotides to the 3'-OH end of the growing strand. The base pairing follows the rules of complementarity: adenine (A) pairs with thymine (T), and guanine (G) pairs with cytosine (C). DNA polymerase cannot initiate replication on its own and needs a primer to begin the synthesis process.\\n\\nKeywords: DNA polymerase, replication, base pairing, nucleotides, growing DNA strand.\",\n",
              " 'result': \"relevance: 5 (student answer directly refers to DNA polymerase and its role in DNA synthesis during replication)\\n\\nconciseness: 3 (student answer is somewhat concise but could be more succinct by specifically mentioning that DNA polymerase synthesizes DNA by adding nucleotides in the 5'→3' direction, and that it follows base pairing rules)\\n\\ncorrect: 4 (student answer mentions that DNA polymerase synthesizes DNA and adds nucleotides one at a time based on existing strands, but it does not mention that it needs a primer and cannot initiate replication on its own)\\n\\nTherefore, the mark is: 5 + 3 + 4 = 12 // 3 = 4.\\n\\nSo the mark is: 4.\"}"
            ]
          },
          "metadata": {},
          "execution_count": 57
        }
      ]
    },
    {
      "cell_type": "code",
      "source": [
        "question_p = input(\"Enter the question: \")\n",
        "context_p = input(\"Enter the context: \")\n",
        "student_answer = input(\"Enter the student answer: \")\n",
        "tot_mark = int(input(\"Enter the maximum marks for the question: \"))\n",
        "from langchain.chains import SequentialChain\n",
        "\n",
        "overall_chain = SequentialChain(\n",
        "    chains=[chain1, chain2],\n",
        "    input_variables=[\"question_p\", \"context_p\", \"student_answer\", \"tot_mark\"],\n",
        "    output_variables=[\"true_answer\", \"result\"],\n",
        "    verbose=True\n",
        "    )\n",
        "\n",
        "overall_chain({\"question_p\": question_p, \"context_p\": context_p, \"student_answer\": student_answer, \"tot_mark\": tot_mark})"
      ],
      "metadata": {
        "colab": {
          "base_uri": "https://localhost:8080/"
        },
        "id": "mHtN6p3GtR5g",
        "outputId": "19a59f7c-20dc-4681-c925-adbe30ed6880"
      },
      "execution_count": null,
      "outputs": [
        {
          "output_type": "stream",
          "name": "stdout",
          "text": [
            "Enter the question: Explain how DNA polymerase synthesizes DNA\n",
            "Enter the context: The main function of the DNA polymerase is to synthesize DNA by the process of replication. It is an important process to maintain and transfer genetic information from one generation to another. DNA polymerase works in pairs, replicating two strands of DNA in tandem. They add deoxyribonucleotides at the 3′-OH group of the growing DNA strand. The DNA strand grows in 5’→3’ direction by their polymerisation activity. Adenine pairs with thymine and guanine pairs with cytosine. DNA polymerases cannot initiate the replication process and they need a primer to add to the nucleotides.\n",
            "Enter the student answer: DNA polymerase is a family of enzymes that synthesizes DNA molecules from nucleoside triphosphates by \"reading\" existing DNA strands and adding nucleotides one at a time.\n",
            "Enter the maximum marks for the question: 2\n",
            "\n",
            "\n",
            "\u001b[1m> Entering new SequentialChain chain...\u001b[0m\n"
          ]
        },
        {
          "output_type": "stream",
          "name": "stderr",
          "text": [
            "/usr/local/lib/python3.10/dist-packages/transformers/pipelines/base.py:1157: UserWarning: You seem to be using the pipelines sequentially on GPU. In order to maximize efficiency please use a dataset\n",
            "  warnings.warn(\n",
            "/usr/local/lib/python3.10/dist-packages/transformers/pipelines/base.py:1157: UserWarning: You seem to be using the pipelines sequentially on GPU. In order to maximize efficiency please use a dataset\n",
            "  warnings.warn(\n"
          ]
        },
        {
          "output_type": "stream",
          "name": "stdout",
          "text": [
            "\n",
            "\u001b[1m> Finished chain.\u001b[0m\n"
          ]
        },
        {
          "output_type": "execute_result",
          "data": {
            "text/plain": [
              "{'question_p': 'Explain how DNA polymerase synthesizes DNA',\n",
              " 'context_p': 'The main function of the DNA polymerase is to synthesize DNA by the process of replication. It is an important process to maintain and transfer genetic information from one generation to another. DNA polymerase works in pairs, replicating two strands of DNA in tandem. They add deoxyribonucleotides at the 3′-OH group of the growing DNA strand. The DNA strand grows in 5’→3’ direction by their polymerisation activity. Adenine pairs with thymine and guanine pairs with cytosine. DNA polymerases cannot initiate the replication process and they need a primer to add to the nucleotides.',\n",
              " 'student_answer': 'DNA polymerase is a family of enzymes that synthesizes DNA molecules from nucleoside triphosphates by \"reading\" existing DNA strands and adding nucleotides one at a time.',\n",
              " 'tot_mark': 2,\n",
              " 'true_answer': \" DNA polymerase is a crucial enzyme responsible for the synthesis of DNA during the process of replication. It functions in pairs, facilitating the replication of two strands of DNA simultaneously. These enzymes add deoxyribonucleotides to the 3'-OH group of the growing DNA strand, which grows in the 5'→3' direction. DNA polymerase pairs rely on the base pairing rule, where adenine (A) binds with thymine (T), and guanine (G) pairs with cytosine (C). To begin the replication process, DNA polymerases require a primer, as they cannot initiate the synthesis of DNA from scratch. (Keywords: DNA polymerase, replication, base pairing, primer)\",\n",
              " 'result': \"Relevance: 2 (Student answer refers to DNA polymerase being involved in DNA synthesis and base pairing being important, which are both relevant to the true answer)\\nConciseness: 1.5 (Student answer is missing some important details about the function and mechanism of DNA polymerase, but it is not overly long)\\nCorrectness: 1.5 (Student answer mentions the 3'-OH group and the 5'→3' direction correctly, but incorrectly states that DNA polymerase synthesizes DNA from existing strands rather than adding nucleotides to the growing end and omits the requirement for a primer and the importance of base pairing in specifying the addition of correct nucleotides)\\n\\nMark: 1.5\\n\\n---\\n\\nTotal mark: 1.5\"}"
            ]
          },
          "metadata": {},
          "execution_count": 64
        }
      ]
    },
    {
      "cell_type": "code",
      "source": [
        "question_p = input(\"Enter the question: \")\n",
        "context_p = input(\"Enter the context: \")\n",
        "student_answer = input(\"Enter the student answer: \")\n",
        "tot_mark = int(input(\"Enter the maximum marks for the question: \"))\n",
        "from langchain.chains import SequentialChain\n",
        "\n",
        "overall_chain = SequentialChain(\n",
        "    chains=[chain1, chain2],\n",
        "    input_variables=[\"question_p\", \"context_p\", \"student_answer\", \"tot_mark\"],\n",
        "    output_variables=[\"true_answer\", \"result\"],\n",
        "    verbose=True\n",
        "    )\n",
        "\n",
        "overall_chain({\"question_p\": question_p, \"context_p\": context_p, \"student_answer\": student_answer, \"tot_mark\": tot_mark})"
      ],
      "metadata": {
        "colab": {
          "base_uri": "https://localhost:8080/"
        },
        "id": "9oWRgYGzt3no",
        "outputId": "5084cf34-10dc-45ed-af11-f27f3b005dd8"
      },
      "execution_count": null,
      "outputs": [
        {
          "output_type": "stream",
          "name": "stdout",
          "text": [
            "Enter the question: Explain how DNA polymerase synthesizes DNA\n",
            "Enter the context: The main function of the DNA polymerase is to synthesize DNA by the process of replication. It is an important process to maintain and transfer genetic information from one generation to another. DNA polymerase works in pairs, replicating two strands of DNA in tandem. They add deoxyribonucleotides at the 3′-OH group of the growing DNA strand. The DNA strand grows in 5’→3’ direction by their polymerisation activity. Adenine pairs with thymine and guanine pairs with cytosine. DNA polymerases cannot initiate the replication process and they need a primer to add to the nucleotides.\n",
            "Enter the student answer: DNA polymerase is a family of enzymes that synthesizes DNA molecules from nucleoside triphosphates by \"reading\" existing DNA strands and adding nucleotides one at a time.\n",
            "Enter the maximum marks for the question: 5\n",
            "\n",
            "\n",
            "\u001b[1m> Entering new SequentialChain chain...\u001b[0m\n"
          ]
        },
        {
          "output_type": "stream",
          "name": "stderr",
          "text": [
            "/usr/local/lib/python3.10/dist-packages/transformers/pipelines/base.py:1157: UserWarning: You seem to be using the pipelines sequentially on GPU. In order to maximize efficiency please use a dataset\n",
            "  warnings.warn(\n",
            "/usr/local/lib/python3.10/dist-packages/transformers/pipelines/base.py:1157: UserWarning: You seem to be using the pipelines sequentially on GPU. In order to maximize efficiency please use a dataset\n",
            "  warnings.warn(\n"
          ]
        },
        {
          "output_type": "stream",
          "name": "stdout",
          "text": [
            "\n",
            "\u001b[1m> Finished chain.\u001b[0m\n"
          ]
        },
        {
          "output_type": "execute_result",
          "data": {
            "text/plain": [
              "{'question_p': 'Explain how DNA polymerase synthesizes DNA',\n",
              " 'context_p': 'The main function of the DNA polymerase is to synthesize DNA by the process of replication. It is an important process to maintain and transfer genetic information from one generation to another. DNA polymerase works in pairs, replicating two strands of DNA in tandem. They add deoxyribonucleotides at the 3′-OH group of the growing DNA strand. The DNA strand grows in 5’→3’ direction by their polymerisation activity. Adenine pairs with thymine and guanine pairs with cytosine. DNA polymerases cannot initiate the replication process and they need a primer to add to the nucleotides.',\n",
              " 'student_answer': 'DNA polymerase is a family of enzymes that synthesizes DNA molecules from nucleoside triphosphates by \"reading\" existing DNA strands and adding nucleotides one at a time.',\n",
              " 'tot_mark': 5,\n",
              " 'true_answer': ' DNA polymerase is an enzyme responsible for synthesizing DNA during the process of replication. It works in pairs, replicating two strands of DNA simultaneously. These enzymes add deoxyribonucleotides to the 3′-OH group of the growing DNA strand in the 5’→3’ direction. Adenine pairs with thymine, and guanine pairs with cytosine. However, DNA polymerases cannot initiate the replication process independently; they require a primer to begin adding nucleotides to the DNA strand. (Keywords: DNA polymerase, replication, nucleotides, primer)',\n",
              " 'result': 'Relevance: 5 (Student answer refers to DNA polymerase and its function in replication)\\n\\nConciseness: 3 (Student answer mentions synthesizing DNA molecules but leaves out important details about DNA pairs and direction of replication)\\n\\nCorrectness: 3 (Student answer mentions \"nucleoside triphosphates\" but does not mention deoxyribonucleotides or the correct base pairing)\\n\\nFinal mark: 3 (3 points for relevance, but deducted for conciseness and correctness)'}"
            ]
          },
          "metadata": {},
          "execution_count": 75
        }
      ]
    },
    {
      "cell_type": "code",
      "source": [
        "question_p = input(\"Enter the question: \")\n",
        "context_p = input(\"Enter the context: \")\n",
        "student_answer = input(\"Enter the student answer: \")\n",
        "tot_mark = int(input(\"Enter the maximum marks for the question: \"))\n",
        "from langchain.chains import SequentialChain\n",
        "\n",
        "overall_chain = SequentialChain(\n",
        "    chains=[chain1, chain2],\n",
        "    input_variables=[\"question_p\", \"context_p\", \"student_answer\", \"tot_mark\"],\n",
        "    output_variables=[\"true_answer\", \"result\"],\n",
        "    verbose=True\n",
        "    )\n",
        "\n",
        "overall_chain({\"question_p\": question_p, \"context_p\": context_p, \"student_answer\": student_answer, \"tot_mark\": tot_mark})"
      ],
      "metadata": {
        "colab": {
          "base_uri": "https://localhost:8080/"
        },
        "id": "1fXKAuCBzs5F",
        "outputId": "b6baef37-9629-4cf6-a66d-4c72146b0db6"
      },
      "execution_count": null,
      "outputs": [
        {
          "output_type": "stream",
          "name": "stdout",
          "text": [
            "Enter the question: Explain how DNA polymerase synthesizes DNA\n",
            "Enter the context: The main function of the DNA polymerase is to synthesize DNA by the process of replication. It is an important process to maintain and transfer genetic information from one generation to another. DNA polymerase works in pairs, replicating two strands of DNA in tandem. They add deoxyribonucleotides at the 3′-OH group of the growing DNA strand. The DNA strand grows in 5’→3’ direction by their polymerisation activity. Adenine pairs with thymine and guanine pairs with cytosine. DNA polymerases cannot initiate the replication process and they need a primer to add to the nucleotides.\n",
            "Enter the student answer: DNA polymerase is a family of enzymes that synthesizes DNA molecules from nucleoside triphosphates by \"reading\" existing DNA strands and adding nucleotides one at a time.\n",
            "Enter the maximum marks for the question: 2\n",
            "\n",
            "\n",
            "\u001b[1m> Entering new SequentialChain chain...\u001b[0m\n"
          ]
        },
        {
          "output_type": "stream",
          "name": "stderr",
          "text": [
            "/usr/local/lib/python3.10/dist-packages/transformers/pipelines/base.py:1157: UserWarning: You seem to be using the pipelines sequentially on GPU. In order to maximize efficiency please use a dataset\n",
            "  warnings.warn(\n",
            "/usr/local/lib/python3.10/dist-packages/transformers/pipelines/base.py:1157: UserWarning: You seem to be using the pipelines sequentially on GPU. In order to maximize efficiency please use a dataset\n",
            "  warnings.warn(\n"
          ]
        },
        {
          "output_type": "stream",
          "name": "stdout",
          "text": [
            "\n",
            "\u001b[1m> Finished chain.\u001b[0m\n"
          ]
        },
        {
          "output_type": "execute_result",
          "data": {
            "text/plain": [
              "{'question_p': 'Explain how DNA polymerase synthesizes DNA',\n",
              " 'context_p': 'The main function of the DNA polymerase is to synthesize DNA by the process of replication. It is an important process to maintain and transfer genetic information from one generation to another. DNA polymerase works in pairs, replicating two strands of DNA in tandem. They add deoxyribonucleotides at the 3′-OH group of the growing DNA strand. The DNA strand grows in 5’→3’ direction by their polymerisation activity. Adenine pairs with thymine and guanine pairs with cytosine. DNA polymerases cannot initiate the replication process and they need a primer to add to the nucleotides.',\n",
              " 'student_answer': 'DNA polymerase is a family of enzymes that synthesizes DNA molecules from nucleoside triphosphates by \"reading\" existing DNA strands and adding nucleotides one at a time.',\n",
              " 'tot_mark': 2,\n",
              " 'true_answer': ' DNA polymerase is an enzyme responsible for synthesizing DNA during the process of replication. It functions in pairs, working on two strands simultaneously to maintain and transfer genetic information. These enzymes add deoxyribonucleotides by bonding with the 3′-OH group on the growing DNA strand, and the synthesis occurs in the 5’→3’ direction. Pairing rules for DNA include: adenine (A) binds with thymine (T), and guanine (G) binds with cytosine (C). However, these polymerases cannot initiate the replication process and require a primer to begin adding nucleotides.\\n\\nThree keywords: DNA polymerase, replication, nucleotides.',\n",
              " 'result': 'The student answer is relevant as it mentions \"DNA polymerase\" and \"synthesizes DNA,\" which are present in the true answer. The answer is also concise as it briefly explains the function of DNA polymerase. However, the student answer is not completely correct as it does not mention the direction of DNA synthesis, the role of pairing rules, or the requirement for a primer. Therefore, the final mark would be 1.5 according to the provided rubrics.'}"
            ]
          },
          "metadata": {},
          "execution_count": 78
        }
      ]
    },
    {
      "cell_type": "code",
      "source": [
        "question_p = input(\"Enter the question: \")\n",
        "context_p = input(\"Enter the context: \")\n",
        "student_answer = input(\"Enter the student answer: \")\n",
        "tot_mark = int(input(\"Enter the maximum marks for the question: \"))\n",
        "from langchain.chains import SequentialChain\n",
        "\n",
        "overall_chain = SequentialChain(\n",
        "    chains=[chain1, chain2],\n",
        "    input_variables=[\"question_p\", \"context_p\", \"student_answer\", \"tot_mark\"],\n",
        "    output_variables=[\"true_answer\", \"result\"],\n",
        "    verbose=True\n",
        "    )\n",
        "\n",
        "overall_chain({\"question_p\": question_p, \"context_p\": context_p, \"student_answer\": student_answer, \"tot_mark\": tot_mark})"
      ],
      "metadata": {
        "colab": {
          "base_uri": "https://localhost:8080/"
        },
        "id": "_L2wwE7v27LB",
        "outputId": "09c3ce38-577e-4900-a5ed-5031361862c1"
      },
      "execution_count": null,
      "outputs": [
        {
          "output_type": "stream",
          "name": "stdout",
          "text": [
            "Enter the question: Explain how DNA polymerase synthesizes DNA\n",
            "Enter the context: DNA polymerase, a key enzyme in DNA replication, operates in pairs to synthesize two complementary DNA strands concurrently. The process commences with the binding of DNA polymerase to a primer, typically a short RNA or DNA fragment, which provides the starting point for replication. As DNA polymerase progresses along the template strand, it adds deoxyribonucleotides to the 3′-OH group of the growing DNA strand, facilitating elongation in the 5’→3’ direction, mirroring DNA synthesis. Importantly, DNA polymerase exhibits proofreading capability, with inherent exonuclease activity, to detect and rectify errors in base pairing, ensuring fidelity in genetic information transfer. Furthermore, DNA polymerase coordinates with an array of proteins and enzymes involved in DNA replication, contributing to the precision and efficiency of the process. This meticulous orchestration by DNA polymerase ensures accurate duplication of genetic material, paramount for cellular integrity and inheritance mechanisms.\n",
            "Enter the student answer: DNA polymerase is a family of enzymes that synthesizes DNA molecules from nucleoside triphosphates by \"reading\" existing DNA strands and adding nucleotides one at a time.\n",
            "Enter the maximum marks for the question: 10\n",
            "\n",
            "\n",
            "\u001b[1m> Entering new SequentialChain chain...\u001b[0m\n"
          ]
        },
        {
          "output_type": "stream",
          "name": "stderr",
          "text": [
            "/usr/local/lib/python3.10/dist-packages/transformers/pipelines/base.py:1157: UserWarning: You seem to be using the pipelines sequentially on GPU. In order to maximize efficiency please use a dataset\n",
            "  warnings.warn(\n",
            "/usr/local/lib/python3.10/dist-packages/transformers/pipelines/base.py:1157: UserWarning: You seem to be using the pipelines sequentially on GPU. In order to maximize efficiency please use a dataset\n",
            "  warnings.warn(\n"
          ]
        },
        {
          "output_type": "stream",
          "name": "stdout",
          "text": [
            "\n",
            "\u001b[1m> Finished chain.\u001b[0m\n"
          ]
        },
        {
          "output_type": "execute_result",
          "data": {
            "text/plain": [
              "{'question_p': 'Explain how DNA polymerase synthesizes DNA',\n",
              " 'context_p': 'DNA polymerase, a key enzyme in DNA replication, operates in pairs to synthesize two complementary DNA strands concurrently. The process commences with the binding of DNA polymerase to a primer, typically a short RNA or DNA fragment, which provides the starting point for replication. As DNA polymerase progresses along the template strand, it adds deoxyribonucleotides to the 3′-OH group of the growing DNA strand, facilitating elongation in the 5’→3’ direction, mirroring DNA synthesis. Importantly, DNA polymerase exhibits proofreading capability, with inherent exonuclease activity, to detect and rectify errors in base pairing, ensuring fidelity in genetic information transfer. Furthermore, DNA polymerase coordinates with an array of proteins and enzymes involved in DNA replication, contributing to the precision and efficiency of the process. This meticulous orchestration by DNA polymerase ensures accurate duplication of genetic material, paramount for cellular integrity and inheritance mechanisms.',\n",
              " 'student_answer': 'DNA polymerase is a family of enzymes that synthesizes DNA molecules from nucleoside triphosphates by \"reading\" existing DNA strands and adding nucleotides one at a time.',\n",
              " 'tot_mark': 10,\n",
              " 'true_answer': \" DNA polymerase is an essential enzyme involved in DNA replication, which synthesizes two complementary DNA strands simultaneously. Here's a 100-word explanation from the context:\\n\\nDNA polymerase functions in pairs to synthesize DNA strands. It binds to a primer, an RNA or DNA fragment, that initiates the replication process. As DNA polymerase advances along the template strand, it adds deoxyribonucleotides to the 3'-OH group of the growing DNA strand, leading to elongation in the 5′→3’ direction. DNA polymerase also has proofreading capability, enabling it to detect and correct errors, ensuring genetic information transfer's accuracy. Additionally, DNA polymerase collaborates with various proteins and enzymes, optimizing DNA replication's precision and efficiency.\\n\\nThree keywords from the context: DNA polymerase, replication, proofreading.\",\n",
              " 'result': 'The student answer refers to DNA polymerase synthesizing DNA molecules from nucleoside triphospates and adding nucleotides one at a time. While the student answer mentions DNA polymerase and the general process of DNA synthesis, it does not explicitly mention replication or the fact that DNA polymerase functions in pairs to synthesize two complementary strands. Additionally, it does not mention the proofreading capability of DNA polymerase.\\n\\nBased on the provided criteria and the given rubrics, the mark for the student answer would be:\\n\\nrelevance: 1 (for mentioning DNA polymerase)\\nconciseness: 10 (the length is similar to the true answer)\\ncorrectness: 2 (for incomplete information on the roles of DNA polymerase and lack of mention of replication and proofreading)\\n\\nFinal mark: 2\\n\\nThe final mark is calculated by taking the lowest mark among the three categories (2 points for correctness, in this case).'}"
            ]
          },
          "metadata": {},
          "execution_count": 88
        }
      ]
    },
    {
      "cell_type": "code",
      "source": [
        "prompt = ChatPromptTemplate.from_template(\"\"\"[INST] You are a helpful, respectful and a very brutally honest assistant. Explain the answer ONLY from the context\n",
        "Answer the question below from context below, also generate 3 keywords from the context that needs to be in the answer.\n",
        "\n",
        "marks = {tot_mark}\n",
        "if marks = 2, answer in 25 words\n",
        "if marks = 5, answer in 50 words\n",
        "if marks = 10, answer in 100 words\n",
        "\n",
        "You must follow the word limit, given based on the marks and generate only ONE answer.\n",
        "\n",
        "{context_p}\n",
        "{question_p} [/INST]\"\"\")\n",
        "chain1 = LLMChain(prompt=prompt, llm=llm_2, output_key=\"true_answer\")"
      ],
      "metadata": {
        "id": "XdytYn1uqgmR"
      },
      "execution_count": null,
      "outputs": []
    },
    {
      "cell_type": "code",
      "source": [
        "prompt = ChatPromptTemplate.from_template(\"\"\"<s>[INST] You are a helpful, respectful and a very brutally honest assistant. You are assessing a submitted student answer relative to the true answer, along with the keywords based on the provided criteria:\n",
        "\n",
        "    STUDENT ANSWER: {student_answer}\n",
        "    ***\n",
        "    TRUE ANSWER: {true_answer}\n",
        "    ***\n",
        "    Criteria:\n",
        "      relevance:  Is the student answer referring to a real quote from the text?\"\n",
        "      conciseness:  Is the student answer concise and to the point and is of the same length to the true answer?\"\n",
        "      correctness: Is the student answer correct?\"\n",
        "    ***\n",
        "    Rubrics:\n",
        "        Add a mark for every keyword, if present.\n",
        "        If the student answer is relevant & concise & correct - {tot_mark}\n",
        "        If the student answer is not relevant & not concise & not correct - 0\n",
        "        If the student answer is relevant & concise & not correct - {tot_mark}/3\n",
        "        If the student answer is not relevant & concise & not correct - 0\n",
        "        If the student answer is relevant & not concise & not correct - {tot_mark}/3\n",
        "        If the student answer is relevant & not concise & correct - {tot_mark}*0.75\n",
        "\n",
        "    Print the final mark (0-{tot_mark}), following the rubrics, in a new line. Use only the rubrics and not any other score. Dont give any explanation on the final marks.\n",
        "\n",
        "    [/INST] </s>\n",
        "\"\"\")\n",
        "chain2 = LLMChain(prompt=prompt, llm=llm_2, output_key=\"result\")"
      ],
      "metadata": {
        "id": "TV6Jl3gX542i"
      },
      "execution_count": null,
      "outputs": []
    },
    {
      "cell_type": "code",
      "source": [
        "question_p = input(\"Enter the question: \")\n",
        "context_p = input(\"Enter the context: \")\n",
        "student_answer = input(\"Enter the student answer: \")\n",
        "tot_mark = int(input(\"Enter the maximum marks for the question: \"))\n",
        "from langchain.chains import SequentialChain\n",
        "\n",
        "overall_chain = SequentialChain(\n",
        "    chains=[chain1, chain2],\n",
        "    input_variables=[\"question_p\", \"context_p\", \"student_answer\", \"tot_mark\"],\n",
        "    output_variables=[\"true_answer\", \"result\"],\n",
        "    verbose=True\n",
        "    )\n",
        "\n",
        "overall_chain({\"question_p\": question_p, \"context_p\": context_p, \"student_answer\": student_answer, \"tot_mark\": tot_mark})"
      ],
      "metadata": {
        "id": "iIec1Hi3623X",
        "colab": {
          "base_uri": "https://localhost:8080/"
        },
        "outputId": "33f9945f-8e5d-4c61-8015-4f61207f11b6"
      },
      "execution_count": null,
      "outputs": [
        {
          "name": "stdout",
          "output_type": "stream",
          "text": [
            "Enter the question: How is stack used in Depth First Search and why?\n",
            "Enter the context: Depth-First Search (DFS) is a graph traversal algorithm that systematically explores nodes in a depthward manner, prioritizing deep exploration of a branch before backtracking. Utilizing a stack to manage its traversal path, DFS starts at a chosen node, marking it as visited and pushing it onto the stack. It then iteratively explores unvisited adjacent nodes, marking and pushing them onto the stack until it reaches a node with no unexplored neighbors. At this point, DFS backtracks by popping nodes off the stack, continuing exploration from the most recently visited unexplored node until all nodes are visited. DFS's stack-based approach enables it to efficiently navigate through graphs and is instrumental in various applications such as maze-solving, network analysis, and artificial intelligence algorithms.\n",
            "Enter the student answer: In Depth-First Search (DFS), a stack is used to keep track of the nodes to be explored next, following a depth-first traversal order. The algorithm starts by exploring a node and pushing its neighbors onto the stack whenever a new unexplored node is encountered.\n",
            "Enter the maximum marks for the question: 5\n"
          ]
        },
        {
          "output_type": "stream",
          "name": "stderr",
          "text": [
            "/usr/local/lib/python3.10/dist-packages/langchain_core/_api/deprecation.py:117: LangChainDeprecationWarning: The function `__call__` was deprecated in LangChain 0.1.0 and will be removed in 0.2.0. Use invoke instead.\n",
            "  warn_deprecated(\n"
          ]
        },
        {
          "output_type": "stream",
          "name": "stdout",
          "text": [
            "\n",
            "\n",
            "\u001b[1m> Entering new SequentialChain chain...\u001b[0m\n",
            "\n",
            "\u001b[1m> Finished chain.\u001b[0m\n"
          ]
        },
        {
          "output_type": "execute_result",
          "data": {
            "text/plain": [
              "{'question_p': 'How is stack used in Depth First Search and why?',\n",
              " 'context_p': \"Depth-First Search (DFS) is a graph traversal algorithm that systematically explores nodes in a depthward manner, prioritizing deep exploration of a branch before backtracking. Utilizing a stack to manage its traversal path, DFS starts at a chosen node, marking it as visited and pushing it onto the stack. It then iteratively explores unvisited adjacent nodes, marking and pushing them onto the stack until it reaches a node with no unexplored neighbors. At this point, DFS backtracks by popping nodes off the stack, continuing exploration from the most recently visited unexplored node until all nodes are visited. DFS's stack-based approach enables it to efficiently navigate through graphs and is instrumental in various applications such as maze-solving, network analysis, and artificial intelligence algorithms.\",\n",
              " 'student_answer': 'In Depth-First Search (DFS), a stack is used to keep track of the nodes to be explored next, following a depth-first traversal order. The algorithm starts by exploring a node and pushing its neighbors onto the stack whenever a new unexplored node is encountered.',\n",
              " 'tot_mark': 5,\n",
              " 'true_answer': ' In Depth-First Search (DFS), a stack is used to keep track of the nodes to be explored next. This is known as the \"depth\" or \"exploration\" order. DFS starts by visiting a node, marking it as visited, and pushing it onto the stack. Then, it explores unvisited adjacent nodes, marking and pushing them onto the stack as well. This process continues until a node with no unexplored neighbors is reached. At this point, DFS backtracks by popping nodes off the stack and visiting the next unexplored node from the previously visited node. The stack allows DFS to maintain the depth-first traversal order and ensures that all nodes reachable from a starting node are explored before moving on to other branches in the graph.\\n\\nKeywords: Depth-First Search, stack, exploration order, backtracking.',\n",
              " 'result': '4.5\\n\\n(Note: I cannot give a perfect score due to the slight difference in the level of detail and the use of \"following a depth-first traversal order\" instead of \"maintains the depth-first traversal order\" in the student answer.)'}"
            ]
          },
          "metadata": {},
          "execution_count": 11
        }
      ]
    },
    {
      "cell_type": "code",
      "source": [
        "question_p = input(\"Enter the question: \")\n",
        "context_p = input(\"Enter the context: \")\n",
        "student_answer = input(\"Enter the student answer: \")\n",
        "tot_mark = int(input(\"Enter the maximum marks for the question: \"))\n",
        "from langchain.chains import SequentialChain\n",
        "\n",
        "overall_chain = SequentialChain(\n",
        "    chains=[chain1, chain2],\n",
        "    input_variables=[\"question_p\", \"context_p\", \"student_answer\", \"tot_mark\"],\n",
        "    output_variables=[\"true_answer\", \"result\"],\n",
        "    verbose=True\n",
        "    )\n",
        "\n",
        "overall_chain({\"question_p\": question_p, \"context_p\": context_p, \"student_answer\": student_answer, \"tot_mark\": tot_mark})"
      ],
      "metadata": {
        "colab": {
          "base_uri": "https://localhost:8080/"
        },
        "id": "UTf0cZTwKQrZ",
        "outputId": "16c44678-f799-4e26-ad24-fa82768fa391"
      },
      "execution_count": null,
      "outputs": [
        {
          "output_type": "stream",
          "name": "stdout",
          "text": [
            "Enter the question: How is stack used in Depth First Search and why?\n",
            "Enter the context: Depth-First Search (DFS) is a graph traversal algorithm that systematically explores nodes in a depthward manner, prioritizing deep exploration of a branch before backtracking. Utilizing a stack to manage its traversal path, DFS starts at a chosen node, marking it as visited and pushing it onto the stack. It then iteratively explores unvisited adjacent nodes, marking and pushing them onto the stack until it reaches a node with no unexplored neighbors. At this point, DFS backtracks by popping nodes off the stack, continuing exploration from the most recently visited unexplored node until all nodes are visited. DFS's stack-based approach enables it to efficiently navigate through graphs and is instrumental in various applications such as maze-solving, network analysis, and artificial intelligence algorithms.\n",
            "Enter the student answer: In Depth-First Search (DFS), a stack is used to keep track of the nodes to be explored next, following a depth-first traversal order. The algorithm starts by exploring a node and pushing its neighbors onto the stack whenever a new unexplored node is encountered.\n",
            "Enter the maximum marks for the question: 2\n",
            "\n",
            "\n",
            "\u001b[1m> Entering new SequentialChain chain...\u001b[0m\n",
            "\n",
            "\u001b[1m> Finished chain.\u001b[0m\n"
          ]
        },
        {
          "output_type": "execute_result",
          "data": {
            "text/plain": [
              "{'question_p': 'How is stack used in Depth First Search and why?',\n",
              " 'context_p': \"Depth-First Search (DFS) is a graph traversal algorithm that systematically explores nodes in a depthward manner, prioritizing deep exploration of a branch before backtracking. Utilizing a stack to manage its traversal path, DFS starts at a chosen node, marking it as visited and pushing it onto the stack. It then iteratively explores unvisited adjacent nodes, marking and pushing them onto the stack until it reaches a node with no unexplored neighbors. At this point, DFS backtracks by popping nodes off the stack, continuing exploration from the most recently visited unexplored node until all nodes are visited. DFS's stack-based approach enables it to efficiently navigate through graphs and is instrumental in various applications such as maze-solving, network analysis, and artificial intelligence algorithms.\",\n",
              " 'student_answer': 'In Depth-First Search (DFS), a stack is used to keep track of the nodes to be explored next, following a depth-first traversal order. The algorithm starts by exploring a node and pushing its neighbors onto the stack whenever a new unexplored node is encountered.',\n",
              " 'tot_mark': 2,\n",
              " 'true_answer': ' In Depth-First Search (DFS), a stack is used to manage the traversal path. DFS follows a depth-first approach, which prioritizes exploring deep into a branch before backtracking. When starting at a chosen node, DFS marks it as visited and pushes it onto the stack. The algorithm then iteratively explores unvisited adjacent nodes, marking and pushing them onto the stack as well until it reaches a node with no unexplored neighbors. At this point, DFS backtracks by popping nodes off the stack and continues exploration from the most recently visited unexplored node. The use of a stack allows DFS to efficiently navigate through graphs by remembering the last explored node when backtracking, ensuring a depth-first exploration.\\n\\nKeywords: Depth-First Search, stack, traversal path, exploration, backtracking.',\n",
              " 'result': \"The student answer is relevant (Keywords: Depth-First Search, stack), and concise, but not completely correct. The student correctly mentions the use of a stack in DFS, but the explanation of the algorithm's behavior and the reason for using a stack could be clearer. The final mark will be 1.5 (2*0.75) based on the rubrics.\"}"
            ]
          },
          "metadata": {},
          "execution_count": 12
        }
      ]
    },
    {
      "cell_type": "code",
      "source": [
        "template = \"\"\"[INST] You are a helpful, respectful and honest assistant. Explain the answer from the context, following the rubrics and the word limit.\n",
        "\n",
        "marks = {tot_mark}\n",
        "if marks = 2, answer in 25 words\n",
        "if marks = 5, answer in 50 words\n",
        "if marks = 10, answer in 100 words\n",
        "\n",
        "Rubrics:\n",
        "{rubrics}\n",
        "\n",
        "Answer the question below from context below :\n",
        "{context}\n",
        "{question} [/INST]\"\"\"\n",
        "\n",
        "question_p = \"\"\"Describe the key operations associated with a stack.\"\"\"\n",
        "context_p = \"\"\"A stack is a fundamental data structure in computer science, adhering to the Last In, First Out (LIFO) principle. This means that the most recently added element is the first to be removed. Similar to a stack of plates, where only the top plate can be taken off or added, key operations associated with a stack include push (adding to the top), pop (removing from the top), peek (viewing the top element without removal), isEmpty (checking if the stack is empty), and isFull (checking if the stack is at maximum capacity). Stacks find applications in various areas, such as managing function calls, evaluating expressions, implementing undo mechanisms, parsing expressions for correct symbol pairing, and handling memory in programming languages through the call stack. Implementations can use arrays or linked lists, offering simplicity and efficiency for operations like push and pop, which are typically performed in constant time. The stack's versatility and simplicity make it a foundational concept in computer science.\"\"\"\n",
        "tot_mark = 10\n",
        "rubrics = \"\"\"Clarity of Explanation (3 marks): Evaluate the clarity of explanations for key stack operations like push, pop, peek, isEmpty, and isFull, ensuring they are easy to understand and follow. Relevance to Stack Concept (3 marks): Assess how well the descriptions connect each operation to the stack's Last In, First Out (LIFO) principle, emphasizing their relationship to stack structure and its fundamental concept. Understanding of Practical Applications (2 marks): Look for evidence of understanding regarding the practical applications and importance of each operation within stack usage, particularly in real-world scenarios, allocating marks based on depth of insight. Technical Accuracy (2 marks): Ensure the technical descriptions are accurate and aligned with standard definitions of stack operations, considering variations in implementations using arrays or linked lists, with marks allocated for precision and correctness.\"\"\"\n",
        "prompt = PromptTemplate(input_variables=[\"context\",\"question\"], template=template)\n",
        "llm_chain0 = LLMChain(prompt=prompt, llm=llm_2)\n",
        "response = llm_chain0.run({\"question\":question_p,\"context\":context_p, \"rubrics\":rubrics, \"tot_mark\": tot_mark})\n",
        "response"
      ],
      "metadata": {
        "id": "yKV7Ok7KLdLl",
        "colab": {
          "base_uri": "https://localhost:8080/",
          "height": 175
        },
        "outputId": "c4e48247-91d5-4862-ec19-8f7b0bbe0365"
      },
      "execution_count": null,
      "outputs": [
        {
          "output_type": "execute_result",
          "data": {
            "text/plain": [
              "' A stack is a fundamental data structure in computer science that follows the Last In, First Out (LIFO) principle. Key operations associated with a stack include:\\n\\n1. Push: Adding an element onto the top of the stack. It follows the LIFO principle, as the most recently added element is the first one to be removed.\\n2. Pop: Removal of the top element from the stack. This operation is also known as \"dequeue\" or \"depop.\" It returns the removed element, allowing us to access or process it.\\n3. Peek: Viewing the top element of the stack without removing it. This operation is useful in examining the topmost item without altering the stack.\\n4. isEmpty: Checking whether a stack is empty or not. This operation returns a boolean value, either \"true\" or \"false.\"\\n5. isFull: Determining if a stack is at its maximum capacity. Similar to isEmpty, this operation returns a boolean value indicating whether the stack can accept new elements. In stack implementations using arrays, this operation checks the limit of the array, while in linked lists, it checks for the null pointer.\\n\\nThese stack operations are essential for managing function calls, evaluating expressions, implementing undo mechanisms, parsing expressions for correct symbol pairing, and handling memory in programming languages through the call stack. The simplicity and efficiency of stack operations contribute significantly to the importance and versatility of this fundamental data structure in computer science.'"
            ],
            "application/vnd.google.colaboratory.intrinsic+json": {
              "type": "string"
            }
          },
          "metadata": {},
          "execution_count": 8
        }
      ]
    },
    {
      "cell_type": "code",
      "source": [
        "template = \"\"\"[INST] You are a helpful, respectful and honest assistant. Explain the answer from the context, following the rubrics and the word limit.\n",
        "\n",
        "\n",
        "\n",
        "Rubrics:\n",
        "{rubrics}\n",
        "\n",
        "Answer the question below from context below, and you MUST follow the word limit strictly:\n",
        "\n",
        "marks = {tot_mark}\n",
        "if marks = 2, answer in 25 words\n",
        "if marks = 5, answer in 50 words\n",
        "if marks = 10, answer in 100 words\n",
        "\n",
        "{context}\n",
        "{question} [/INST]\"\"\"\n",
        "\n",
        "question_p = \"\"\"Describe the key operations associated with a stack.\"\"\"\n",
        "context_p = \"\"\"A stack is a fundamental data structure in computer science, adhering to the Last In, First Out (LIFO) principle. This means that the most recently added element is the first to be removed. Similar to a stack of plates, where only the top plate can be taken off or added, key operations associated with a stack include push (adding to the top), pop (removing from the top), peek (viewing the top element without removal), isEmpty (checking if the stack is empty), and isFull (checking if the stack is at maximum capacity). Stacks find applications in various areas, such as managing function calls, evaluating expressions, implementing undo mechanisms, parsing expressions for correct symbol pairing, and handling memory in programming languages through the call stack. Implementations can use arrays or linked lists, offering simplicity and efficiency for operations like push and pop, which are typically performed in constant time. The stack's versatility and simplicity make it a foundational concept in computer science.\"\"\"\n",
        "tot_mark = 5\n",
        "rubrics = \"\"\"Clarity of Explanation (2 marks): Evaluate the clarity of explanations for key stack operations like push, pop, peek, isEmpty, and isFull, ensuring they are easy to understand and follow. Relevance to Stack Concept (1 marks): Assess how well the descriptions connect each operation to the stack's Last In, First Out (LIFO) principle, emphasizing their relationship to stack structure and its fundamental concept. Understanding of Practical Applications (1 marks): Look for evidence of understanding regarding the practical applications and importance of each operation within stack usage, particularly in real-world scenarios, allocating marks based on depth of insight. Technical Accuracy (1 marks): Ensure the technical descriptions are accurate and aligned with standard definitions of stack operations, considering variations in implementations using arrays or linked lists, with marks allocated for precision and correctness.\"\"\"\n",
        "prompt = PromptTemplate(input_variables=[\"context\",\"question\"], template=template)\n",
        "llm_chain0 = LLMChain(prompt=prompt, llm=llm_2)\n",
        "response = llm_chain0.run({\"question\":question_p,\"context\":context_p, \"rubrics\":rubrics, \"tot_mark\": tot_mark})\n",
        "response"
      ],
      "metadata": {
        "colab": {
          "base_uri": "https://localhost:8080/",
          "height": 88
        },
        "id": "WgKs2CiAPtJ-",
        "outputId": "d3a4dab0-8729-458a-ced1-c161663f63fe"
      },
      "execution_count": null,
      "outputs": [
        {
          "output_type": "execute_result",
          "data": {
            "text/plain": [
              "\" A stack is a data structure following the Last In, First Out (LIFO) principle. Its key operations are push, pop, peek, isEmpty, and isFull. These functions adhere to the stack's structure, ensuring the most recently added element is the first to be removed. Push operation adds an element to the top, while pop removes the top element. Peek lets users view the top element without removing it. isEmpty checks if the stack is empty, and isFull determines if it's at maximum capacity. Applications include managing function calls, evaluating expressions, and implementing undo mechanisms. The efficiency and simplicity of these operations make stacks a cornerstone concept in computer science. (50 words)\""
            ],
            "application/vnd.google.colaboratory.intrinsic+json": {
              "type": "string"
            }
          },
          "metadata": {},
          "execution_count": 11
        }
      ]
    },
    {
      "cell_type": "code",
      "source": [
        "template = \"\"\"[INST] You are a helpful, respectful and honest assistant. Explain the answer from the context, following the rubrics and the word limit.\n",
        "\n",
        "Rubrics:\n",
        "{rubrics}\n",
        "\n",
        "Answer the question below from context below, and also generate 3 keywords from the context that needs to be in the answer, and you MUST follow the word limit strictly:\n",
        "\n",
        "If 2 Marks, answer in 25 words\n",
        "If 5 Marks, answer in 50 words\n",
        "If 10 Marks, answer in 100 words\n",
        "\n",
        "{context}\n",
        "{question} [/INST]\"\"\"\n",
        "\n",
        "question_p = \"\"\"Describe the key operations associated with a stack. (2 Marks)\"\"\"\n",
        "context_p = \"\"\"A stack is a fundamental data structure in computer science, adhering to the Last In, First Out (LIFO) principle. This means that the most recently added element is the first to be removed. Similar to a stack of plates, where only the top plate can be taken off or added, key operations associated with a stack include push (adding to the top), pop (removing from the top), peek (viewing the top element without removal), isEmpty (checking if the stack is empty), and isFull (checking if the stack is at maximum capacity). Stacks find applications in various areas, such as managing function calls, evaluating expressions, implementing undo mechanisms, parsing expressions for correct symbol pairing, and handling memory in programming languages through the call stack. Implementations can use arrays or linked lists, offering simplicity and efficiency for operations like push and pop, which are typically performed in constant time. The stack's versatility and simplicity make it a foundational concept in computer science.\"\"\"\n",
        "#tot_mark = 2\n",
        "rubrics = \"\"\"Clarity of Explanation (0.5 marks): Evaluate the clarity of explanations for key stack operations like push, pop, peek, isEmpty, and isFull, ensuring they are easy to understand and follow. Relevance to Stack Concept (0.5 marks): Assess how well the descriptions connect each operation to the stack's Last In, First Out (LIFO) principle, emphasizing their relationship to stack structure and its fundamental concept. Understanding of Practical Applications (0.5 marks): Look for evidence of understanding regarding the practical applications and importance of each operation within stack usage, particularly in real-world scenarios, allocating marks based on depth of insight. Technical Accuracy (0.5 marks): Ensure the technical descriptions are accurate and aligned with standard definitions of stack operations, considering variations in implementations using arrays or linked lists, with marks allocated for precision and correctness.\"\"\"\n",
        "prompt = PromptTemplate(input_variables=[\"context\",\"question\",\"rubrics\"], template=template)\n",
        "llm_chain0 = LLMChain(prompt=prompt, llm=llm_2)\n",
        "response = llm_chain0.run({\"question\":question_p,\"context\":context_p, \"rubrics\":rubrics})\n",
        "response"
      ],
      "metadata": {
        "colab": {
          "base_uri": "https://localhost:8080/",
          "height": 88
        },
        "id": "amdKcUCeQHOK",
        "outputId": "896eeac5-7a89-4034-aebd-73b727b4eed4"
      },
      "execution_count": null,
      "outputs": [
        {
          "output_type": "execute_result",
          "data": {
            "text/plain": [
              "\" The key operations for a stack, which follows the Last In, First Out (LIFO) principle in computer science, are push, pop, peek, isEmpty, and isFull. Push involves adding an element to the top of the stack, while pop removes the top element. Peek allows viewing the top element without removal. IsEmpty checks if the stack is empty, and isFull determines if the stack is at maximum capacity. Stacks have applications in function calls, expression evaluation, undo mechanisms, symbol pairing, and programming languages' memory management, making these operations essential in various scenarios. (25 words)\\n\\nKeywords: stack, LIFO, operations, push, pop, peek, isEmpty, isFull.\""
            ],
            "application/vnd.google.colaboratory.intrinsic+json": {
              "type": "string"
            }
          },
          "metadata": {},
          "execution_count": 17
        }
      ]
    },
    {
      "cell_type": "code",
      "source": [
        "template = \"\"\"[INST] You are a helpful, respectful and a very brutally honest assistant. You are assessing a submitted student answer relative to the true answer, along with the keywords based on the provided rubrics:\n",
        "\n",
        "Rubrics:\n",
        "{rubrics}\n",
        "\n",
        "\n",
        "Student answer: {student_answer}\n",
        "True answer: {true_answer}\n",
        "\n",
        "Print the final mark following the rubrics, in a new line. Explain the marking.\n",
        "[/INST]\"\"\"\n",
        "\n",
        "student_answer = \"Some key operations using stack include push, pop, isempty.\"\n",
        "true_answer = response\n",
        "rubrics = \"\"\"Clarity of Explanation (0.5 marks): Evaluate the clarity of explanations for key stack operations like push, pop, peek, isEmpty, and isFull, ensuring they are easy to understand and follow. Relevance to Stack Concept (0.5 marks): Assess how well the descriptions connect each operation to the stack's Last In, First Out (LIFO) principle, emphasizing their relationship to stack structure and its fundamental concept. Understanding of Practical Applications (0.5 marks): Look for evidence of understanding regarding the practical applications and importance of each operation within stack usage, particularly in real-world scenarios, allocating marks based on depth of insight. Technical Accuracy (0.5 marks): Ensure the technical descriptions are accurate and aligned with standard definitions of stack operations, considering variations in implementations using arrays or linked lists, with marks allocated for precision and correctness.\"\"\"\n",
        "prompt = PromptTemplate(input_variables=[\"rubrics\", \"student_answer\", \"true_answer\"], template=template)\n",
        "llm_chain0 = LLMChain(prompt=prompt, llm=llm_2)\n",
        "response1 = llm_chain0.run({\"rubrics\":rubrics, \"student_answer\":student_answer, \"true_answer\":true_answer})\n",
        "response1"
      ],
      "metadata": {
        "colab": {
          "base_uri": "https://localhost:8080/",
          "height": 140
        },
        "id": "pVd6OEN3RgCM",
        "outputId": "fcc12028-f711-4348-d824-dc7c44ba225b"
      },
      "execution_count": null,
      "outputs": [
        {
          "output_type": "execute_result",
          "data": {
            "text/plain": [
              "' The student answer correctly identified some key stack operations but missed mentioning the operation \"peek\" and did not provide clear explanations or connections to the LIFO principle. Additionally, they did not fully explain the practical applications, limiting the insights provided.\\n\\nClarity of Explanation (0.25 marks): The student identified some operations but lacked the necessary explanations and connections to the LIFO property.\\n\\nRelevance to Stack Concept (0.3 marks): The student mentioned operations but didn\\'t emphasize the LIFO principle or its connection to the stack\\'s structure.\\n\\nUnderstanding of Practical Applications (0.3 marks): Limited practical insights were provided regarding the applications of stack operations.\\n\\nTechnical Accuracy (0.45 marks): The student mentioned some operations, but their technical descriptions were incomplete.\\n\\nTotal Marks: 1.3\\n\\nExplanation: The student\\'s answer received a total of 1.3 marks due to the lack of clarity in explanations, insufficient connections to the LIFO principle, and limited understanding of practical applications.'"
            ],
            "application/vnd.google.colaboratory.intrinsic+json": {
              "type": "string"
            }
          },
          "metadata": {},
          "execution_count": 18
        }
      ]
    },
    {
      "cell_type": "code",
      "source": [
        "template = \"\"\"[INST] You are a helpful, respectful and honest assistant. Explain the answer from the context, following the rubrics and the word limit.\n",
        "\n",
        "Rubrics:\n",
        "{rubrics}\n",
        "\n",
        "Answer the question below from context below, and also generate 3 keywords from the context that needs to be in the answer, and you MUST follow the word limit strictly:\n",
        "\n",
        "If 2 Marks, answer in 25 words\n",
        "If 5 Marks, answer in 50 words\n",
        "If 10 Marks, answer in 100 words\n",
        "\n",
        "{context}\n",
        "{question} [/INST]\"\"\"\n",
        "\n",
        "question_p = \"\"\"Describe the key operations associated with a stack. (10 Marks)\"\"\"\n",
        "context_p = \"\"\"A stack is a fundamental data structure in computer science, adhering to the Last In, First Out (LIFO) principle. This means that the most recently added element is the first to be removed. Similar to a stack of plates, where only the top plate can be taken off or added, key operations associated with a stack include push (adding to the top), pop (removing from the top), peek (viewing the top element without removal), isEmpty (checking if the stack is empty), and isFull (checking if the stack is at maximum capacity). Stacks find applications in various areas, such as managing function calls, evaluating expressions, implementing undo mechanisms, parsing expressions for correct symbol pairing, and handling memory in programming languages through the call stack. Implementations can use arrays or linked lists, offering simplicity and efficiency for operations like push and pop, which are typically performed in constant time. The stack's versatility and simplicity make it a foundational concept in computer science.\"\"\"\n",
        "rubrics = \"\"\"Clarity of Explanation (3 marks): Evaluate the clarity of explanations for key stack operations like push, pop, peek, isEmpty, and isFull, ensuring they are easy to understand and follow. Relevance to Stack Concept (3 marks): Assess how well the descriptions connect each operation to the stack's Last In, First Out (LIFO) principle, emphasizing their relationship to stack structure and its fundamental concept. Understanding of Practical Applications (2 marks): Look for evidence of understanding regarding the practical applications and importance of each operation within stack usage, particularly in real-world scenarios, allocating marks based on depth of insight. Technical Accuracy (2 marks): Ensure the technical descriptions are accurate and aligned with standard definitions of stack operations, considering variations in implementations using arrays or linked lists, with marks allocated for precision and correctness.\"\"\"\n",
        "prompt = PromptTemplate(input_variables=[\"context\",\"question\",\"rubrics\"], template=template)\n",
        "llm_chain0 = LLMChain(prompt=prompt, llm=llm_2)\n",
        "response = llm_chain0.run({\"question\":question_p,\"context\":context_p, \"rubrics\":rubrics})\n",
        "response"
      ],
      "metadata": {
        "id": "ibxNWsiBYi_b",
        "colab": {
          "base_uri": "https://localhost:8080/",
          "height": 247
        },
        "outputId": "fdf55f27-e3d4-47ba-c9c2-4820ab707171"
      },
      "execution_count": null,
      "outputs": [
        {
          "output_type": "stream",
          "name": "stderr",
          "text": [
            "/usr/local/lib/python3.10/dist-packages/langchain_core/_api/deprecation.py:117: LangChainDeprecationWarning: The function `run` was deprecated in LangChain 0.1.0 and will be removed in 0.2.0. Use invoke instead.\n",
            "  warn_deprecated(\n"
          ]
        },
        {
          "output_type": "execute_result",
          "data": {
            "text/plain": [
              "\" A stack is a fundamental data structure in computer science, adhering to the Last In, First Out (LIFO) principle. This principle states that the most recently added element is the first to be removed. The following are the key operations associated with a stack:\\n\\n1. Push: Adding an element to the top of the stack. This operation increases the size of the stack.\\n2. Pop: Removing the top element from the stack. This operation decreases the size of the stack.\\n3. Peek: Viewing the top element of the stack without removing it. This operation allows you to inspect the top element without altering the stack's contents.\\n4. isEmpty: Checking if the stack is empty. This operation returns a boolean value indicating whether the stack is empty or not.\\n5. isFull: Checking if the stack is at maximum capacity. This operation returns a boolean value indicating whether the stack can accept more elements or not.\\n\\nStacks find applications in various areas, such as managing function calls, evaluating expressions, implementing undo mechanisms, parsing expressions for correct symbol pairing, and handling memory in programming languages through the call stack. The versatility and simplicity of stacks make them a foundational concept in computer science.\\n\\nThree important keywords from this context are: Last In, First Out (LIFO), Push, and Pop.\\n\\nThe stack's LIFO principle ensures that the most recently added element is the first to be removed. The Push operation is used to add an element to the stack, while Pop is used to remove an element from the stack. These operations maintain the LIFO order, making the stack an essential data structure for managing data flow and maintaining the state of computational processes.\""
            ],
            "application/vnd.google.colaboratory.intrinsic+json": {
              "type": "string"
            }
          },
          "metadata": {},
          "execution_count": 11
        }
      ]
    },
    {
      "cell_type": "code",
      "source": [
        "template = \"\"\"[INST] You are a helpful, respectful and a very brutally honest assistant. You are assessing a submitted student answer relative to the true answer, along with the keywords based on the provided rubrics:\n",
        "\n",
        "Rubrics:\n",
        "{rubrics}\n",
        "\n",
        "\n",
        "Student answer: {student_answer}\n",
        "True answer: {true_answer}\n",
        "\n",
        "Find the total marks from the rubrics.\n",
        "If 2 Marks, Check if the student answer is in 25 words\n",
        "If 5 Marks, Check if the student answer is in 50 words\n",
        "If 10 Marks, Check if the student answer is in 100 words\n",
        "\n",
        "Print the final mark for the student answer following the rubrics, in a new line. Explain the marking. Make sure that the student answer is also of similar size to the true answer and award the marks for the student answer accordingly.\n",
        "[/INST]\"\"\"\n",
        "\n",
        "student_answer = \"Some key operations using stack include push, pop, isempty.\"\n",
        "true_answer = response\n",
        "rubrics = \"\"\"Marks-10. Clarity of Explanation (3 marks): Evaluate the clarity of explanations for key stack operations like push, pop, peek, isEmpty, and isFull, ensuring they are easy to understand and follow. Relevance to Stack Concept (3 marks): Assess how well the descriptions connect each operation to the stack's Last In, First Out (LIFO) principle, emphasizing their relationship to stack structure and its fundamental concept. Understanding of Practical Applications (2 marks): Look for evidence of understanding regarding the practical applications and importance of each operation within stack usage, particularly in real-world scenarios, allocating marks based on depth of insight. Technical Accuracy (2 marks): Ensure the technical descriptions are accurate and aligned with standard definitions of stack operations, considering variations in implementations using arrays or linked lists, with marks allocated for precision and correctness.\"\"\"\n",
        "prompt = PromptTemplate(input_variables=[\"rubrics\", \"student_answer\", \"true_answer\"], template=template)\n",
        "llm_chain0 = LLMChain(prompt=prompt, llm=llm_2)\n",
        "response1 = llm_chain0.run({\"rubrics\":rubrics, \"student_answer\":student_answer, \"true_answer\":true_answer})\n",
        "response1"
      ],
      "metadata": {
        "colab": {
          "base_uri": "https://localhost:8080/",
          "height": 157
        },
        "id": "lFHtnyimc1uz",
        "outputId": "26888378-1f9f-41c7-d75e-190b2cd62207"
      },
      "execution_count": null,
      "outputs": [
        {
          "output_type": "execute_result",
          "data": {
            "text/plain": [
              "' The student answer correctly mentions some key operations using a stack but lacks clarity and detail in explaining each operation. The student answer does not explicitly state the Last In, First Out (LIFO) principle and does not provide examples of practical applications, making it challenging to evaluate the connection to the stack concept (3 marks: 0/3).\\n\\nThe student answer does list the three main operations: push, pop, and isEmpty, which are technically accurate according to the true answer (Technical Accuracy: 2 marks: 2/2).\\n\\nGiven the limitations of the student answer, I will award marks based on its accuracy and the mention of the correct stack operations.\\n\\nTotal marks for the student answer: 2 marks\\n\\nHowever, since the student answer is not in the given word limit, I will not be able to award marks for the relevance to Stack Concept, Understanding of Practical Applications, and Clarity of Explanation categories. These marks are dependent on the depth of insight and explanation provided by the student in their response.\\n\\nIf the student answer were to be expanded to include a more detailed explanation, connections to the Last In, First Out (LIFO) principle, practical applications, and clarity of explanations, additional marks could be awarded accordingly.'"
            ],
            "application/vnd.google.colaboratory.intrinsic+json": {
              "type": "string"
            }
          },
          "metadata": {},
          "execution_count": 16
        }
      ]
    },
    {
      "cell_type": "code",
      "source": [],
      "metadata": {
        "id": "hCM2jzOMdDgd"
      },
      "execution_count": null,
      "outputs": []
    }
  ]
}